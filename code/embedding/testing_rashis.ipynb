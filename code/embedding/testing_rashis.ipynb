{
 "cells": [
  {
   "cell_type": "code",
   "execution_count": 1,
   "outputs": [],
   "source": [
    "import json\n",
    "import pandas as pd"
   ],
   "metadata": {
    "collapsed": false,
    "ExecuteTime": {
     "end_time": "2024-01-08T20:30:43.399558Z",
     "start_time": "2024-01-08T20:30:37.392730Z"
    }
   }
  },
  {
   "cell_type": "code",
   "execution_count": 2,
   "metadata": {
    "collapsed": true,
    "ExecuteTime": {
     "end_time": "2024-01-08T20:30:43.411986Z",
     "start_time": "2024-01-08T20:30:43.384396Z"
    }
   },
   "outputs": [],
   "source": [
    "ber_path= \"Rashi plaintext/json undisputed/Rashi on Berakhot - he - Vilna Edition.json\""
   ]
  },
  {
   "cell_type": "code",
   "execution_count": 3,
   "outputs": [],
   "source": [
    "# Load the JSON data\n",
    "with open(ber_path, 'r', encoding='utf-8') as file:\n",
    "    rashi_data = json.load(file)\n",
    "\n",
    "    # Extract the Tractate name (assuming filename without extension for this example)\n",
    "tractate_name = rashi_data['title'].split()[-1]  # Modify as needed"
   ],
   "metadata": {
    "collapsed": false,
    "ExecuteTime": {
     "end_time": "2024-01-08T20:30:43.412412Z",
     "start_time": "2024-01-08T20:30:43.388761Z"
    }
   }
  },
  {
   "cell_type": "code",
   "execution_count": 4,
   "outputs": [
    {
     "data": {
      "text/plain": "'Berakhot'"
     },
     "execution_count": 4,
     "metadata": {},
     "output_type": "execute_result"
    }
   ],
   "source": [
    "tractate_name"
   ],
   "metadata": {
    "collapsed": false,
    "ExecuteTime": {
     "end_time": "2024-01-08T20:30:43.438149Z",
     "start_time": "2024-01-08T20:30:43.398783Z"
    }
   }
  },
  {
   "cell_type": "code",
   "execution_count": 5,
   "outputs": [],
   "source": [
    "# Extract comments with detailed references (page, line, comment number)\n",
    "comments_with_detailed_references = [(comment, daf_num, line_num, comment_num)\n",
    "                                     for daf_num, daf in enumerate(rashi_data[\"text\"])\n",
    "                                     for line_num, line in enumerate(daf)\n",
    "                                     for comment_num, comment in enumerate(line)]"
   ],
   "metadata": {
    "collapsed": false,
    "ExecuteTime": {
     "end_time": "2024-01-08T20:30:43.439482Z",
     "start_time": "2024-01-08T20:30:43.411090Z"
    }
   }
  },
  {
   "cell_type": "code",
   "execution_count": 6,
   "outputs": [
    {
     "data": {
      "text/plain": "('מאימתי קורין את שמע בערבין. משעה שהכהנים נכנסים לאכול בתרומתן – כהנים שנטמאו וטבלו והעריב שמשן והגיע עתם לאכול בתרומה:',\n 2,\n 0,\n 0)"
     },
     "execution_count": 6,
     "metadata": {},
     "output_type": "execute_result"
    }
   ],
   "source": [
    "comments_with_detailed_references[0]"
   ],
   "metadata": {
    "collapsed": false,
    "ExecuteTime": {
     "end_time": "2024-01-08T20:30:43.491655Z",
     "start_time": "2024-01-08T20:30:43.411811Z"
    }
   }
  },
  {
   "cell_type": "code",
   "execution_count": 7,
   "outputs": [
    {
     "data": {
      "text/plain": "   Tractate   Location                                     Starting Verse  \\\n0  Berakhot  (2, 0, 0)  מאימתי קורין את שמע בערבין. משעה שהכהנים נכנסי...   \n1  Berakhot  (2, 0, 1)                            עד סוף האשמורה הראשונה    \n2  Berakhot  (2, 2, 0)                                עד שיעלה עמוד השחר    \n3  Berakhot  (2, 4, 0)                                 הקטר חלבים ואברים    \n4  Berakhot  (2, 4, 1)                                             מצותן    \n\n                                             Comment  \n0  מאימתי קורין את שמע בערבין. משעה שהכהנים נכנסי...  \n1  עד סוף האשמורה הראשונה – שליש הלילה כדמפרש בגמ...  \n2     עד שיעלה עמוד השחר – שכל הלילה קרוי זמן שכיבה:  \n3      הקטר חלבים ואברים – של קרבנות שנזרק דמן ביום:  \n4  מצותן – להעלות כל הלילה ואינן נפסלים בלינה עד ...  ",
      "text/html": "<div>\n<style scoped>\n    .dataframe tbody tr th:only-of-type {\n        vertical-align: middle;\n    }\n\n    .dataframe tbody tr th {\n        vertical-align: top;\n    }\n\n    .dataframe thead th {\n        text-align: right;\n    }\n</style>\n<table border=\"1\" class=\"dataframe\">\n  <thead>\n    <tr style=\"text-align: right;\">\n      <th></th>\n      <th>Tractate</th>\n      <th>Location</th>\n      <th>Starting Verse</th>\n      <th>Comment</th>\n    </tr>\n  </thead>\n  <tbody>\n    <tr>\n      <th>0</th>\n      <td>Berakhot</td>\n      <td>(2, 0, 0)</td>\n      <td>מאימתי קורין את שמע בערבין. משעה שהכהנים נכנסי...</td>\n      <td>מאימתי קורין את שמע בערבין. משעה שהכהנים נכנסי...</td>\n    </tr>\n    <tr>\n      <th>1</th>\n      <td>Berakhot</td>\n      <td>(2, 0, 1)</td>\n      <td>עד סוף האשמורה הראשונה</td>\n      <td>עד סוף האשמורה הראשונה – שליש הלילה כדמפרש בגמ...</td>\n    </tr>\n    <tr>\n      <th>2</th>\n      <td>Berakhot</td>\n      <td>(2, 2, 0)</td>\n      <td>עד שיעלה עמוד השחר</td>\n      <td>עד שיעלה עמוד השחר – שכל הלילה קרוי זמן שכיבה:</td>\n    </tr>\n    <tr>\n      <th>3</th>\n      <td>Berakhot</td>\n      <td>(2, 4, 0)</td>\n      <td>הקטר חלבים ואברים</td>\n      <td>הקטר חלבים ואברים – של קרבנות שנזרק דמן ביום:</td>\n    </tr>\n    <tr>\n      <th>4</th>\n      <td>Berakhot</td>\n      <td>(2, 4, 1)</td>\n      <td>מצותן</td>\n      <td>מצותן – להעלות כל הלילה ואינן נפסלים בלינה עד ...</td>\n    </tr>\n  </tbody>\n</table>\n</div>"
     },
     "execution_count": 7,
     "metadata": {},
     "output_type": "execute_result"
    }
   ],
   "source": [
    "# Process the data and store in lists\n",
    "tractate_data = []\n",
    "location_data = []\n",
    "verse_data = []\n",
    "comment_data = []\n",
    "\n",
    "for comment, daf_num, line_num, comment_num in comments_with_detailed_references:\n",
    "    tractate_data.append(tractate_name)\n",
    "    location_data.append((daf_num, line_num, comment_num))\n",
    "    verse_data.append(comment.split(\"–\")[0] if \"–\" in comment else \"\")\n",
    "    comment_data.append(comment)\n",
    "\n",
    "# Create a DataFrame\n",
    "df = pd.DataFrame({\n",
    "    'Tractate': tractate_data,\n",
    "    'Location': location_data,\n",
    "    'Starting Verse': verse_data,\n",
    "    'Comment': comment_data\n",
    "})\n",
    "\n",
    "df.head()"
   ],
   "metadata": {
    "collapsed": false,
    "ExecuteTime": {
     "end_time": "2024-01-08T20:30:43.495285Z",
     "start_time": "2024-01-08T20:30:43.437685Z"
    }
   }
  },
  {
   "cell_type": "code",
   "execution_count": 8,
   "outputs": [
    {
     "data": {
      "text/plain": "'מאימתי קורין את שמע בערבין. משעה שהכהנים נכנסים לאכול בתרומתן – כהנים שנטמאו וטבלו והעריב שמשן והגיע עתם לאכול בתרומה:'"
     },
     "execution_count": 8,
     "metadata": {},
     "output_type": "execute_result"
    }
   ],
   "source": [
    "df['Comment'][0]"
   ],
   "metadata": {
    "collapsed": false,
    "ExecuteTime": {
     "end_time": "2024-01-08T20:30:43.496996Z",
     "start_time": "2024-01-08T20:30:43.441135Z"
    }
   }
  },
  {
   "cell_type": "code",
   "execution_count": 9,
   "outputs": [
    {
     "name": "stdout",
     "output_type": "stream",
     "text": [
      "2 9 עד שיעלה עמוד השחר  (2, 2, 0) (2, 4, 6)\n",
      "עד שיעלה עמוד השחר – שכל הלילה קרוי זמן שכיבה:\n",
      "עד שיעלה עמוד השחר – והוא מביאן להיות נותר דכתיב בתודה לא יניח ממנו עד בקר (ויקרא ז׳:ט״ו) וכלם מתודה ילמדו:\n",
      "4 8 מצותן  (2, 4, 1) (2, 4, 5)\n",
      "מצותן – להעלות כל הלילה ואינן נפסלים בלינה עד שיעלה עמוד השחר והן למטה מן המזבח דכתיב ולא ילין לבקר (שמות ל״ד:כ״ה):\n",
      "מצותן – זמן אכילתן:\n",
      "6 1224 אברים  (2, 4, 3) (51, 9, 0)\n",
      "אברים – של עולה:\n",
      "אברים – של עולות:\n",
      "18 2705 אם כן  (3, 1, 0) (111, 5, 0)\n",
      "אם כן – דהאי קרא וטהר לשון צווי הוא נימא קרא ויטהר מאי וטהר:\n",
      "אם כן – דלית לך התם נכסי ואבוך לא שכיב התם:\n",
      "87 253 מאי קרא  (6, 2, 0) (12, 14, 0)\n",
      "מאי קרא – דכנור היה תלוי למעלה ממטתו ומעוררו\n",
      "מאי קרא – דאף הוי כרגע דכתיב כי רגע באפו חיים ברצונו:\n",
      "91 976 דאמר מר  (6, 5, 1) (43, 3, 0)\n",
      "דאמר מר – במסכת דרך ארץ:\n",
      "דאמר מר – גבי עשר תקנות בב\"ק בפרק מרובה:\n",
      "91 2174 דאמר מר  (6, 5, 1) (90, 10, 1)\n",
      "דאמר מר – במסכת דרך ארץ:\n",
      "דאמר מר – לעיל בפרק שני (ברכות דף טז.):\n",
      "142 378 מאי משמע  (8, 3, 1) (18, 19, 0)\n",
      "מאי משמע – דבקריאת שמע:\n",
      "מאי משמע – דעל יום המיתה נאמר:\n",
      "142 413 מאי משמע  (8, 3, 1) (20, 4, 0)\n",
      "מאי משמע – דבקריאת שמע:\n",
      "מאי משמע – פרט לעוסק במצוה:\n",
      "165 2086 הא לן והא להו  (9, 6, 0) (86, 15, 0)\n",
      "הא לן והא להו – בא\"י שערי חומה מקודשות בה ומצורע טעון שילוח חוצה להן אינן יסורין של אהבה. בבל שאין טעונין שילוח והן מזבח כפרה הוו יסורין של אהבה:\n",
      "הא לן והא להו – רב חסדא מבבל ובבבל חתמי על הארץ ועל פירותיה ור' יוחנן מארץ ישראל והתם חתמי על הפירות:\n",
      "283 1534 בתחלה  (13, 24, 0) (64, 25, 0)\n",
      "בתחלה – כשנבנה הבית נבנה על מנת שלא לענות עוד אויבים לישראל:\n",
      "בתחלה – כשעלו מן הגולה והיו דחוקים:\n",
      "283 1585 בתחלה  (13, 24, 0) (67, 5, 0)\n",
      "בתחלה – כשנבנה הבית נבנה על מנת שלא לענות עוד אויבים לישראל:\n",
      "בתחלה – כורע:\n",
      "283 2488 בתחלה  (13, 24, 0) (104, 15, 0)\n",
      "בתחלה – כשנבנה הבית נבנה על מנת שלא לענות עוד אויבים לישראל:\n",
      "בתחלה – בתחלת שרפת אבנים אין האור להאיר:\n",
      "356 1521 ערוד  (17, 11, 0) (64, 7, 0)\n",
      "ערוד – חמור הבר:\n",
      "ערוד – מן הנחש והצב בא שנזקקין זה עם זה ויוצא משניהם ערוד:\n",
      "363 1367 ולפני ירח  (17, 14, 3) (57, 8, 3)\n",
      "ולפני ירח – אף תפלת המנחה מצותה עם דמדומי חמה:\n",
      "ולפני ירח – זו מנחה:\n",
      "364 2796 שאם יזכה  (17, 16, 0) (114, 8, 0)\n",
      "שאם יזכה – לעוה\"ב לראות גדולתן של ישראל:\n",
      "שאם יזכה – לעולם הבא ויראה בכבוד מלך המשיח:\n",
      "365 2797 יבחין  (17, 16, 1) (114, 8, 1)\n",
      "יבחין – כמה הרבה גדולתן יותר על האומות עכשיו:\n",
      "יבחין – כמה יתר כבוד נוטלי שכר מצות יותר ממה שהיה כבוד האומות בעוה\"ז:\n",
      "438 587 ומברך  (21, 14, 0) (27, 20, 1)\n",
      "ומברך – ברכת התורה:\n",
      "ומברך – על התורה:\n",
      "468 1609 מאי איכא למימר  (22, 16, 0) (68, 3, 1)\n",
      "מאי איכא למימר – היכי נפיק משום חתימתה הא אין מלכות בחתימתה:\n",
      "מאי איכא למימר – הא מיבעי ליה למדרש שאין חלול אלא במקום הלול:\n",
      "480 481 המלך המשפט  (23, 1, 1) (23, 4, 0)\n",
      "המלך המשפט – כמו מלך המשפט. כמו נושאי הארון הברית (יהושע ג׳:י״ד) כמו ארון הברית. וכן המסגרות המכונות (מלכים ב ט״ז:י״ז) שהוא כמו מסגרות המכונות. וכן העמק הפגרים (ירמיהו ל״א:מ׳) כמו עמק הפגרים:\n",
      "המלך המשפט – כמו מלך המשפט. כמו נושאי הארון הברית (יהושע ג) כמו ארון הברית וכן המסגרות המכונות (מלכים ב טז) שהוא כמו מסגרות המכונות וכן העמק הפגרים (ירמיהו לא) כמו עמק הפגרים:\n",
      "493 584 עול מצות  (23, 19, 0) (27, 18, 1)\n",
      "עול מצות – ועשיתם את כל מצותי:\n",
      "עול מצות – דהנחת תפילין עול מצוה הוא:\n",
      "508 558 שואל מפני הכבוד  (24, 16, 1) (26, 12, 0)\n",
      "שואל מפני הכבוד – שואל בשלום אדם נכבד שראוי להקדים לו שלום:\n",
      "שואל מפני הכבוד – והא ק\"ש קודם תפלה הוא וקתני שואל:\n",
      "524 533 עד כאן  (24, 35, 0) (25, 12, 0)\n",
      "עד כאן – עד על לבבך:\n",
      "עד כאן – פסוק ראשון לבדו:\n",
      "524 1315 עד כאן  (24, 35, 0) (55, 9, 0)\n",
      "עד כאן – עד על לבבך:\n",
      "עד כאן – בתמיה כלומר ולא יותר ממורא בשר ודם:\n",
      "524 1487 עד כאן  (24, 35, 0) (62, 25, 0)\n",
      "עד כאן – עד על לבבך:\n",
      "עד כאן – עד ככוכבי השמים:\n",
      "524 2998 עד כאן  (24, 35, 0) (122, 0, 1)\n",
      "עד כאן – עד על לבבך:\n",
      "עד כאן – כלומר כל זה העזת פניך בפני רבך שנסתכלת בכל אלו:\n",
      "577 637 וכתבתם  (27, 12, 1) (29, 22, 0)\n",
      "וכתבתם – דמזוזה עשייה היא:\n",
      "וכתבתם – שתהא כתיבה תמה ושלימה:\n",
      "581 760 פטור מק\"ש  (27, 15, 3) (34, 7, 0)\n",
      "פטור מק\"ש – דהעוסק במצוה פטור מן המצוה כדאמרינן בפ\"ק (ד' יא.) בשבתך בביתך פרט לעוסק במצוה:\n",
      "פטור מק\"ש – משום דעוסק במצוה:\n",
      "610 624 השתא דאתית להכי  (28, 22, 0) (29, 10, 0)\n",
      "השתא דאתית להכי – דאשמעת לן פלוגתא דר\"מ:\n",
      "השתא דאתית להכי – דאשמעתן הא פלוגתא דר\"מ:\n",
      "618 1747 במאי אוקימתא  (29, 5, 0) (73, 1, 0)\n",
      "במאי אוקימתא – למתניתין דמגילה:\n",
      "במאי אוקימתא – לההוא דלעיל דקתני ולבסוף ברכה אחת מעין שלש:\n",
      "651 2469 וא\"ר יוחנן  (30, 4, 0) (103, 25, 0)\n",
      "וא\"ר יוחנן – לתנא וכו':\n",
      "וא\"ר יוחנן – גרסי':\n",
      "656 662 תנן האומנין קורין בראש האילן  (30, 6, 3) (30, 9, 1)\n",
      "תנן האומנין קורין בראש האילן – אפי' בזמן שהן עסוקין אלמא לא בעי כוונה:\n",
      "תנן האומנין קורין בראש האילן – אפ' בזמן שהן עסוקין אלמא לא בעי כוונה:\n",
      "658 2905 בין כך ובין כך  (30, 8, 1) (118, 2, 0)\n",
      "בין כך ובין כך – כלומר בין מתאנה בין משאר אילנות:\n",
      "בין כך ובין כך – בין שיש לו בין שאין לו הואיל ולא קנה הראשונים ועכשיו קנה צריך לברך:\n",
      "670 2370 והתניא  (30, 17, 0) (100, 5, 2)\n",
      "והתניא – בניחותא דיש חלוק בין עושין בשכרן לעושין בסעודתן:\n",
      "והתניא – לקמן לרמ\"ת קשה אספרגוס של יין וסימן רמ\"ת ראש מעים תחתוניות:\n",
      "670 2897 והתניא  (30, 17, 0) (117, 12, 0)\n",
      "והתניא – בניחותא דיש חלוק בין עושין בשכרן לעושין בסעודתן:\n",
      "והתניא – בניחותא:\n",
      "732 1900 גובאי  (33, 3, 1) (79, 11, 1)\n",
      "גובאי – שם אומה היא בבבל ובמסכת קדושין (פ\"ד דף ע:) אמרינן שהיו מן הנתינים:\n",
      "גובאי – חגבים טהורים:\n",
      "737 746 מי שמתו כו' פטור מלקרות ק\"ש  (33, 11, 0) (33, 16, 0)\n",
      "מי שמתו כו' פטור מלקרות ק\"ש – לפי שהוא טרוד במחשבת קבורתו והויא דומיא דחתן דפטור משום טירדא דמצוה:  \n",
      "מי שמתו כו' פטור מלקרות ק\"ש – לפי שהוא טרוד במחשבת קבורתו והויא דומיא דחתן דפטור משום טירדא דמצוה:\n",
      "740 742 ושלאחר המטה  (33, 12, 2) (33, 12, 4)\n",
      "ושלאחר המטה – שנשאוהו כבר:\n",
      "ושלאחר המטה – אף אם צורך בהם חייבים הואיל שכבר יצאו ידי חובתן מן המת:\n",
      "749 893 ואינו מברך  (33, 16, 3) (39, 15, 2)\n",
      "ואינו מברך – ואינו צריך לברך ברכת המוציא:\n",
      "ואינו מברך – אפילו בהרהור:\n",
      "785 791 אלמא ידעי  (35, 9, 0) (35, 11, 5)\n",
      "אלמא ידעי – דברים האמורים בין החיים:\n",
      "אלמא ידעי – מה שעושין שידעה זו שזו גוססת ונטויה למות:\n",
      "785 800 אלמא ידעי  (35, 9, 0) (35, 15, 1)\n",
      "אלמא ידעי – דברים האמורים בין החיים:\n",
      "אלמא ידעי – מי חשוב בין החיים:\n",
      "794 1787 א\"ל  (35, 13, 1) (74, 5, 2)\n",
      "א\"ל – המתים נגלו לו כאילו הם חוץ מקבריהם ויושבים בעגולה:\n",
      "א\"ל – רבינא לההוא מרבנן איזו טרימא אתה שואל:\n",
      "794 2188 א\"ל  (35, 13, 1) (91, 6, 0)\n",
      "א\"ל – המתים נגלו לו כאילו הם חוץ מקבריהם ויושבים בעגולה:\n",
      "א\"ל – רב ששת לריש גלותא:\n",
      "795 797 חזייה  (35, 13, 2) (35, 14, 0)\n",
      "חזייה – שמואל ללוי חברו שהיה יושב חוץ לישיבה של שאר מתים:\n",
      "חזייה – שמואל לאבוה דקא בכי וחייך:\n",
      "795 2007 חזייה  (35, 13, 2) (84, 11, 1)\n",
      "חזייה – שמואל ללוי חברו שהיה יושב חוץ לישיבה של שאר מתים:\n",
      "חזייה – רבי חייא לרב:\n",
      "805 2250 טללא  (36, 2, 1) (94, 2, 0)\n",
      "טללא – גג:\n",
      "טללא – גג:\n",
      "928 1206 ורבי יהודה פוטר  (41, 15, 2) (50, 6, 2)\n",
      "ורבי יהודה פוטר – קס\"ד דאין טבילה זו מטהרתו מכל וכל:\n",
      "ורבי יהודה פוטר – קא סלקא דעתך השתא הואיל וטומאת זיבה קודמת והרי הוא טמא טומאה חמורה ואינו אוסרתו בדברי תורה כדאמרינן בפרקין הזבים והמצורעים מותרים תו לא אתיא טומאת קרי דקילא ואסרה ליה:\n",
      "950 969 נראה בעיני דה\"ג א\"ר אלעאי הלכה כו'  (42, 8, 0) (42, 22, 1)\n",
      "נראה בעיני דה\"ג א\"ר אלעאי הלכה כו' –  ולא גרסינן מסייע ליה: \n",
      "נראה בעיני דה\"ג א\"ר אלעאי הלכה כו' – ולא גרסינן מסייע ליה:\n",
      "951 1411 משום רבינו  (42, 8, 1) (59, 4, 0)\n",
      "משום רבינו – רב:\n",
      "משום רבינו – רב:\n",
      "951 1813 משום רבינו  (42, 8, 1) (75, 3, 1)\n",
      "משום רבינו – רב:\n",
      "משום רבינו – רב:\n",
      "951 1820 משום רבינו  (42, 8, 1) (75, 5, 1)\n",
      "משום רבינו – רב:\n",
      "משום רבינו – שמואל:\n",
      "971 1021 לא שנו  (42, 23, 1) (44, 18, 0)\n",
      "לא שנו – דסגי בנתינה אלא בחולה שראה קרי לאונסו:\n",
      "לא שנו – דבעי טפח אלא בכלי שהוא כליין. כיס העשוי לצרכן דכליין קרוב להיות בטל אצלם הילכך בעינן דבר הניכר שיהא חוצץ בפניהם:\n",
      "971 1337 לא שנו  (42, 23, 1) (56, 8, 1)\n",
      "לא שנו – דסגי בנתינה אלא בחולה שראה קרי לאונסו:\n",
      "לא שנו – הא דאמר רב יהודה מעלין אותו:\n",
      "1028 1138 לית הלכתא כי הא מתניתא  (45, 2, 0) (48, 6, 0)\n",
      "לית הלכתא כי הא מתניתא – דקתני לא ישתין בתפילין:\n",
      "לית הלכתא כי הא מתניתא – דלעיל דאסר צואת כלבים וחזירים בשאין בהם עורות:\n",
      "1031 1046 בית הכסא עראי  (45, 2, 3) (45, 10, 1)\n",
      "בית הכסא עראי – כגון להשתין שאין אדם הולך בשבילם לבית הכסא והפעם הזאת נעשה המקום הזה בית הכסא תחלה:\n",
      "בית הכסא עראי – לקטנים:\n",
      "1036 2371 כי תניא ההיא  (45, 4, 0) (100, 6, 0)\n",
      "כי תניא ההיא – לאו לענין תפילין תניא אלא לענין גלוי טפח וטפחיים דלגדולים אינו מגלה אלא טפח ולקטנים מגלה טפחיים ועלה קאי גלוי טפחיים שהתרתי לך כאן אסרתי לך כאן:\n",
      "כי תניא ההיא – דקתני וכ\"ש לבני מעים:\n",
      "1041 1640 אי הכי  (45, 7, 0) (69, 19, 0)\n",
      "אי הכי – דלענין טפח וטפחיים קתני דברים שהתרתי לך כאן אסרתי לך כאן:\n",
      "אי הכי – דזיין וסעיד מזון הוא ולבריך עליה שלש ברכות לאחריו ואנן אמרינן לקמן בפרקין (ברכות דף לז.) כל שהוא משבעת המינין ולא מין דגן חכמים אומרים ברכה אחת:\n",
      "1101 1119 ונתעטש  (46, 22, 2) (47, 8, 0)\n",
      "ונתעטש – שטרנוד\"ר בלע\"ז ויש שדורשים גיהק נוטריקון גו הקים שטריליי\"ר פיהק פיו הקים:\n",
      "ונתעטש – מלמטה:\n",
      "1129 3052 הדרוקן  (48, 1, 0) (123, 4, 1)\n",
      "הדרוקן – חולי המצבה את הכרס:\n",
      "הדרוקן – כרסו צבה:\n",
      "1150 2237 פשיטא  (48, 11, 0) (93, 8, 1)\n",
      "פשיטא – דפי חזיר אינו בלא צואה:\n",
      "פשיטא – דאין מזמנין דהיינו טבל:\n",
      "1150 3088 פשיטא  (48, 11, 0) (124, 11, 0)\n",
      "פשיטא – דפי חזיר אינו בלא צואה:\n",
      "פשיטא – הא דאביי למה לי פשיטא שלא יורה אדם הלכה בפני רבו למה ליה לאביי למשמע מכללא:\n",
      "1154 1383 עד כמה  (48, 16, 0) (58, 1, 0)\n",
      "עד כמה – ישהו על גבי קרקע ויהא אסור:\n",
      "עד כמה – זמנה להתפלל:\n",
      "1217 1986 אם תימצי לומר  (50, 16, 0) (83, 5, 1)\n",
      "אם תימצי לומר – כלומר אם תשיבני בשאלתי ממה שאמרנו טעה ולא התפלל ערבית וכו':\n",
      "אם תימצי לומר – להביא ראיה ממשנתנו דקתני דיין שלפני המזון פוטר את שלאחר המזון אינה ראיה דהתם זה לשתות וזה לשתות אבל שבתוך המזון לשרות אכילה שבמעיו הוא בא ולא היו רגילין לשתות בתוך הסעודה אלא מעט לשרות:\n",
      "1242 1247 בארבע שעות  (52, 5, 4) (52, 9, 2)\n",
      "בארבע שעות – ותו לא אלמא כרבי יהודה ס\"ל וקאמר בארבע שעות אלמא לרבי יהודה עד ועד בכלל:\n",
      "בארבע שעות – דאילו קודם ארבע שעות אף השמש צונן:\n",
      "1279 1428 כסא דמוקרא  (54, 0, 2) (60, 0, 0)\n",
      "כסא דמוקרא – כוס זכוכית יקרה שקורין לה בלשון ישמעאל ערקי\"א ואומרים בני אדם במשל הדיוט יום אחד ישתמש בו בעליו ויתכבד בו ואם ישבר ישבר:\n",
      "כסא דמוקרא – כוס של זכוכית לבנה:\n",
      "1304 1413 בצבור שנו  (55, 0, 1) (59, 6, 0)\n",
      "בצבור שנו – אם הוא בבהכ\"נ עם הצבור לא יקדים להתפלל:\n",
      "בצבור שנו – דאין מחזירין משום דשמע ליה מש\"צ ואיכא מקצת הזכרה אבל ביחיד צריך לחזור ובה\"ג מפרש לה בש\"צ משום טירחא דצבורא אבל יחיד הדר:\n",
      "1403 1744 משמו  (58, 16, 1) (72, 14, 0)\n",
      "משמו – של ראב\"ע:\n",
      "משמו – של ר\"ג:\n",
      "1462 2819 גיחור  (61, 17, 2) (115, 7, 2)\n",
      "גיחור – שהוא לבן יותר מדאי:\n",
      "גיחור – אדום הרבה רו\"ש בלע\"ז:\n",
      "1496 2605 תוחלת  (63, 8, 1) (108, 0, 2)\n",
      "תוחלת – לשון חלוי ותחנה:\n",
      "תוחלת – לשון תפלה כמו ויחל משה (שמות לב):\n",
      "1520 1630 ביומי ניסן  (64, 6, 2) (69, 8, 0)\n",
      "ביומי ניסן – מתוך שעברו ימי הסתיו שהארץ יבשה ועכשיו רואה אותה מלאה דשאים זחה דעתו עליו ונכנס בו יצר הרע:\n",
      "ביומי ניסן – ימי הקציר:\n",
      "1539 2181 חוזר לראש  (64, 36, 0) (91, 4, 1)\n",
      "חוזר לראש – לתפלה ולכוס:\n",
      "חוזר לראש – לתחלת הזן שהרי נתחייב בזימון שבתחלה הוקבע בג':\n",
      "1565 1575 מתחלת הברכה שטעה זה  (66, 1, 1) (66, 7, 0)\n",
      "מתחלת הברכה שטעה זה – אם דלג אחת מן הברכות ואמר אחרת ואינו יודע לשוב ולאחוז סדרו יתחיל העובר תחתיו אותה ברכה שדלג זה ואומר משם ולהלן:\n",
      "מתחלת הברכה שטעה זה – וממילא משתמע דגומר ממנה והלאה אלמא על סדרה צריך לחזור ולאומרה:\n",
      "1579 2278 תחלה וסוף  (66, 13, 0) (96, 1, 0)\n",
      "תחלה וסוף – במודים ולך נאה להודות:\n",
      "תחלה וסוף – נודה ה' אלהינו ועל כולם ה' אלהינו אנו מודים לך:\n",
      "1649 1848 מיא דסלקא  (69, 22, 3) (76, 10, 0)\n",
      "מיא דסלקא – מים ששלקו בהן תרדין:\n",
      "מיא דסלקא – תבשיל של תרדין:\n",
      "1666 2035 קורא  (70, 12, 0) (85, 5, 0)\n",
      "קורא – רך של דקל כשענפיו גדלים בכל שנה ושנה כדרך כל האילנות הנוסף בשנה זו רך ובשנה שניה מתקשה ונעשה עץ:\n",
      "קורא – רך הגדל בדקל תלה אותו לחזיר והוא יגלגלנו באשפה שזו היא אומנתו:\n",
      "1666 2713 קורא  (70, 12, 0) (111, 13, 2)\n",
      "קורא – רך של דקל כשענפיו גדלים בכל שנה ושנה כדרך כל האילנות הנוסף בשנה זו רך ובשנה שניה מתקשה ונעשה עץ:\n",
      "קורא – רך הגדל בענפי הדקל בכל שנה כדרך שאר אילנות ולשנה שניה הוא מתקשה ונעשה עץ:\n",
      "1725 1738 ברכה אחת מעין ג'  (72, 1, 1) (72, 5, 4)\n",
      "ברכה אחת מעין ג' – בשלהי פרקין (דף מד.) מפ' לה על המחיה כו':\n",
      "ברכה אחת מעין ג' – על המחיה ועל הכלכלה ובשלהי פרקין (דף מד.) מפרש לה:\n",
      "1739 1752 אלא לאו רבנן היא  (72, 8, 0) (73, 2, 0)\n",
      "אלא לאו רבנן היא – וקתני במ\"מ ותיובתא דרב ושמואל:\n",
      "אלא לאו רבנן היא – דאמרי גבי דייסא ברכה אחת והאי נמי משנמוח לאו פת הוא והוי כדייסא:\n",
      "1793 1801 והלכתא  (74, 6, 2) (74, 12, 2)\n",
      "והלכתא – ל\"ג ומהלכות גדולות הוא:\n",
      "והלכתא – ל״ג ומהלכות גדולות הוא:\n",
      "1816 2499 כל  (75, 3, 4) (104, 26, 0)\n",
      "כל – ירק הנאכל חי שתחלתו ב\"פ האדמה שלקו אפקיה ממלתיה לגריעותא ומברך שהכל ולקמן מוקי לה בתומי וכרתי:\n",
      "כל – מת שהוא חשוב להוציא לפניו נר ביום אם הוציאו בלילה במוצאי שבת לקבורה אין מברכין על אותו נר דלכבוד עבידא ולא להאיר:\n",
      "1817 2500 וכל  (75, 3, 5) (104, 26, 1)\n",
      "וכל – ירק שאין דרכו ליאכל חי שמתחלתו אם אכלו חי שהכל הוא מברך:\n",
      "וכל – מת שאינו חשוב להוציא נר לפניו ביום אלא בלילה מברכין עליו אם הוציאוהו במוצאי שבת לקבורה:\n",
      "2043 2754 ולא היא  (85, 9, 0) (112, 19, 3)\n",
      "ולא היא – לא אמר רבא הלכתא כב\"ה אלא רב פפא אכסיף לפי שטעה והשמיט עצמו בכך:\n",
      "ולא היא – אלא רב ששת דורש להנאתו לפתור חלומו לטובה:\n",
      "2057 2950 אפי' היא אשתו  (85, 15, 0) (120, 19, 2)\n",
      "אפי' היא אשתו – שאין הכל מכירין בה וחושדין אותו:\n",
      "אפי' היא אשתו – גנאי הדבר:\n",
      "2072 3002 שריף  (86, 6, 0) (122, 2, 3)\n",
      "שריף – תבשיל לח שיש בו מרק כמו שורפה חיה:\n",
      "שריף – הומי\"ר בלע\"ז:\n",
      "2119 2779 והרת  (87, 19, 1) (113, 14, 2)\n",
      "והרת – ולדיר\"א שהולד נוצר בו:\n",
      "והרת – וידלייר\"א שהשליל בתוכה:\n",
      "2120 2780 יותרת הכבד  (87, 19, 2) (113, 14, 3)\n",
      "יותרת הכבד – טרפשא דכבדא שקורין אייבר\"ש:\n",
      "יותרת הכבד – אייבר\"ש של בהמה:\n"
     ]
    },
    {
     "ename": "KeyboardInterrupt",
     "evalue": "",
     "output_type": "error",
     "traceback": [
      "\u001B[0;31m---------------------------------------------------------------------------\u001B[0m",
      "\u001B[0;31mKeyboardInterrupt\u001B[0m                         Traceback (most recent call last)",
      "Cell \u001B[0;32mIn[9], line 5\u001B[0m\n\u001B[1;32m      3\u001B[0m \u001B[38;5;28;01mif\u001B[39;00m(\u001B[38;5;129;01mnot\u001B[39;00m dedup\u001B[38;5;241m.\u001B[39m\u001B[38;5;21m__contains__\u001B[39m(i)):\n\u001B[1;32m      4\u001B[0m     \u001B[38;5;28;01mfor\u001B[39;00m j,rowj \u001B[38;5;129;01min\u001B[39;00m df\u001B[38;5;241m.\u001B[39miterrows():\n\u001B[0;32m----> 5\u001B[0m         \u001B[38;5;28;01mif\u001B[39;00m i \u001B[38;5;241m!=\u001B[39m j \u001B[38;5;129;01mand\u001B[39;00m rowi[\u001B[38;5;124m'\u001B[39m\u001B[38;5;124mStarting Verse\u001B[39m\u001B[38;5;124m'\u001B[39m]\u001B[38;5;241m==\u001B[39m\u001B[43mrowj\u001B[49m\u001B[43m[\u001B[49m\u001B[38;5;124;43m'\u001B[39;49m\u001B[38;5;124;43mStarting Verse\u001B[39;49m\u001B[38;5;124;43m'\u001B[39;49m\u001B[43m]\u001B[49m \u001B[38;5;129;01mand\u001B[39;00m \u001B[38;5;129;01mnot\u001B[39;00m rowi[\u001B[38;5;124m'\u001B[39m\u001B[38;5;124mStarting Verse\u001B[39m\u001B[38;5;124m'\u001B[39m]\u001B[38;5;241m==\u001B[39m\u001B[38;5;124m\"\u001B[39m\u001B[38;5;124m\"\u001B[39m:\n\u001B[1;32m      6\u001B[0m             dedup\u001B[38;5;241m.\u001B[39mappend(j)\n\u001B[1;32m      7\u001B[0m             \u001B[38;5;28mprint\u001B[39m(i,j,rowi[\u001B[38;5;124m'\u001B[39m\u001B[38;5;124mStarting Verse\u001B[39m\u001B[38;5;124m'\u001B[39m],rowi[\u001B[38;5;124m'\u001B[39m\u001B[38;5;124mLocation\u001B[39m\u001B[38;5;124m'\u001B[39m],rowj[\u001B[38;5;124m'\u001B[39m\u001B[38;5;124mLocation\u001B[39m\u001B[38;5;124m'\u001B[39m])\n",
      "File \u001B[0;32m~/miniconda3/envs/Rashi Thesis work/lib/python3.10/site-packages/pandas/core/series.py:1007\u001B[0m, in \u001B[0;36mSeries.__getitem__\u001B[0;34m(self, key)\u001B[0m\n\u001B[1;32m   1004\u001B[0m     \u001B[38;5;28;01mreturn\u001B[39;00m \u001B[38;5;28mself\u001B[39m\u001B[38;5;241m.\u001B[39m_values[key]\n\u001B[1;32m   1006\u001B[0m \u001B[38;5;28;01melif\u001B[39;00m key_is_scalar:\n\u001B[0;32m-> 1007\u001B[0m     \u001B[38;5;28;01mreturn\u001B[39;00m \u001B[38;5;28;43mself\u001B[39;49m\u001B[38;5;241;43m.\u001B[39;49m\u001B[43m_get_value\u001B[49m\u001B[43m(\u001B[49m\u001B[43mkey\u001B[49m\u001B[43m)\u001B[49m\n\u001B[1;32m   1009\u001B[0m \u001B[38;5;28;01mif\u001B[39;00m is_hashable(key):\n\u001B[1;32m   1010\u001B[0m     \u001B[38;5;66;03m# Otherwise index.get_value will raise InvalidIndexError\u001B[39;00m\n\u001B[1;32m   1011\u001B[0m     \u001B[38;5;28;01mtry\u001B[39;00m:\n\u001B[1;32m   1012\u001B[0m         \u001B[38;5;66;03m# For labels that don't resolve as scalars like tuples and frozensets\u001B[39;00m\n",
      "File \u001B[0;32m~/miniconda3/envs/Rashi Thesis work/lib/python3.10/site-packages/pandas/core/series.py:1119\u001B[0m, in \u001B[0;36mSeries._get_value\u001B[0;34m(self, label, takeable)\u001B[0m\n\u001B[1;32m   1116\u001B[0m loc \u001B[38;5;241m=\u001B[39m \u001B[38;5;28mself\u001B[39m\u001B[38;5;241m.\u001B[39mindex\u001B[38;5;241m.\u001B[39mget_loc(label)\n\u001B[1;32m   1118\u001B[0m \u001B[38;5;28;01mif\u001B[39;00m is_integer(loc):\n\u001B[0;32m-> 1119\u001B[0m     \u001B[38;5;28;01mreturn\u001B[39;00m \u001B[38;5;28;43mself\u001B[39;49m\u001B[38;5;241;43m.\u001B[39;49m\u001B[43m_values\u001B[49m[loc]\n\u001B[1;32m   1121\u001B[0m \u001B[38;5;28;01mif\u001B[39;00m \u001B[38;5;28misinstance\u001B[39m(\u001B[38;5;28mself\u001B[39m\u001B[38;5;241m.\u001B[39mindex, MultiIndex):\n\u001B[1;32m   1122\u001B[0m     mi \u001B[38;5;241m=\u001B[39m \u001B[38;5;28mself\u001B[39m\u001B[38;5;241m.\u001B[39mindex\n",
      "File \u001B[0;32m~/miniconda3/envs/Rashi Thesis work/lib/python3.10/site-packages/pandas/core/series.py:750\u001B[0m, in \u001B[0;36mSeries._values\u001B[0;34m(self)\u001B[0m\n\u001B[1;32m    718\u001B[0m \u001B[38;5;129m@property\u001B[39m\n\u001B[1;32m    719\u001B[0m \u001B[38;5;28;01mdef\u001B[39;00m \u001B[38;5;21m_values\u001B[39m(\u001B[38;5;28mself\u001B[39m):\n\u001B[1;32m    720\u001B[0m \u001B[38;5;250m    \u001B[39m\u001B[38;5;124;03m\"\"\"\u001B[39;00m\n\u001B[1;32m    721\u001B[0m \u001B[38;5;124;03m    Return the internal repr of this data (defined by Block.interval_values).\u001B[39;00m\n\u001B[1;32m    722\u001B[0m \u001B[38;5;124;03m    This are the values as stored in the Block (ndarray or ExtensionArray\u001B[39;00m\n\u001B[0;32m   (...)\u001B[0m\n\u001B[1;32m    748\u001B[0m \n\u001B[1;32m    749\u001B[0m \u001B[38;5;124;03m    \"\"\"\u001B[39;00m\n\u001B[0;32m--> 750\u001B[0m     \u001B[38;5;28;01mreturn\u001B[39;00m \u001B[38;5;28;43mself\u001B[39;49m\u001B[38;5;241;43m.\u001B[39;49m\u001B[43m_mgr\u001B[49m\u001B[38;5;241;43m.\u001B[39;49m\u001B[43minternal_values\u001B[49m\u001B[43m(\u001B[49m\u001B[43m)\u001B[49m\n",
      "File \u001B[0;32m~/miniconda3/envs/Rashi Thesis work/lib/python3.10/site-packages/pandas/core/internals/managers.py:2011\u001B[0m, in \u001B[0;36mSingleBlockManager.internal_values\u001B[0;34m(self)\u001B[0m\n\u001B[1;32m   2008\u001B[0m \u001B[38;5;250m    \u001B[39m\u001B[38;5;124;03m\"\"\"The array that Series.values returns\"\"\"\u001B[39;00m\n\u001B[1;32m   2009\u001B[0m     \u001B[38;5;28;01mreturn\u001B[39;00m \u001B[38;5;28mself\u001B[39m\u001B[38;5;241m.\u001B[39m_block\u001B[38;5;241m.\u001B[39mexternal_values()\n\u001B[0;32m-> 2011\u001B[0m \u001B[38;5;28;01mdef\u001B[39;00m \u001B[38;5;21minternal_values\u001B[39m(\u001B[38;5;28mself\u001B[39m):\n\u001B[1;32m   2012\u001B[0m \u001B[38;5;250m    \u001B[39m\u001B[38;5;124;03m\"\"\"The array that Series._values returns\"\"\"\u001B[39;00m\n\u001B[1;32m   2013\u001B[0m     \u001B[38;5;28;01mreturn\u001B[39;00m \u001B[38;5;28mself\u001B[39m\u001B[38;5;241m.\u001B[39m_block\u001B[38;5;241m.\u001B[39mvalues\n",
      "\u001B[0;31mKeyboardInterrupt\u001B[0m: "
     ]
    }
   ],
   "source": [
    "dedup= []\n",
    "for i,rowi in df.iterrows():\n",
    "    if(not dedup.__contains__(i)):\n",
    "        for j,rowj in df.iterrows():\n",
    "            if i != j and rowi['Starting Verse']==rowj['Starting Verse'] and not rowi['Starting Verse']==\"\":\n",
    "                dedup.append(j)\n",
    "                print(i,j,rowi['Starting Verse'],rowi['Location'],rowj['Location'])\n",
    "                print(rowi['Comment'])\n",
    "                print(rowj['Comment'])\n"
   ],
   "metadata": {
    "collapsed": false,
    "ExecuteTime": {
     "end_time": "2024-01-08T20:34:39.682362Z",
     "start_time": "2024-01-08T20:30:43.553322Z"
    }
   }
  },
  {
   "cell_type": "code",
   "execution_count": 10,
   "outputs": [
    {
     "name": "stderr",
     "output_type": "stream",
     "text": [
      "/Users/ephraimmeiri/miniconda3/envs/Rashi Thesis work/lib/python3.10/site-packages/transformers/tokenization_utils_base.py:1756: FutureWarning: Calling BertTokenizer.from_pretrained() with the path to a single file or url is deprecated and won't be possible anymore in v5. Use a model identifier or the path to a directory instead.\n",
      "  warnings.warn(\n"
     ]
    }
   ],
   "source": [
    "import torch\n",
    "import os\n",
    "import sys\n",
    "\n",
    "from transformers import BertTokenizer, BertForMaskedLM\n",
    "sys.path.append('./BEREL_2.0_PyTorch_Model_')\n",
    "from rabtokenizer import RabbinicTokenizer\n",
    "bert_path= \"BEREL_2.0_PyTorch_Model_\"\n",
    "tokenizer = RabbinicTokenizer(BertTokenizer.from_pretrained(os.path.join(bert_path, 'vocab.txt')))\n",
    "model = BertForMaskedLM.from_pretrained(bert_path)"
   ],
   "metadata": {
    "collapsed": false,
    "ExecuteTime": {
     "end_time": "2024-01-08T21:16:19.391570Z",
     "start_time": "2024-01-08T21:16:13.717015Z"
    }
   }
  },
  {
   "cell_type": "code",
   "execution_count": 11,
   "outputs": [
    {
     "name": "stdout",
     "output_type": "stream",
     "text": [
      "BertForMaskedLM(\n",
      "  (bert): BertModel(\n",
      "    (embeddings): BertEmbeddings(\n",
      "      (word_embeddings): Embedding(128000, 768, padding_idx=0)\n",
      "      (position_embeddings): Embedding(512, 768)\n",
      "      (token_type_embeddings): Embedding(2, 768)\n",
      "      (LayerNorm): LayerNorm((768,), eps=1e-12, elementwise_affine=True)\n",
      "      (dropout): Dropout(p=0.1, inplace=False)\n",
      "    )\n",
      "    (encoder): BertEncoder(\n",
      "      (layer): ModuleList(\n",
      "        (0-11): 12 x BertLayer(\n",
      "          (attention): BertAttention(\n",
      "            (self): BertSelfAttention(\n",
      "              (query): Linear(in_features=768, out_features=768, bias=True)\n",
      "              (key): Linear(in_features=768, out_features=768, bias=True)\n",
      "              (value): Linear(in_features=768, out_features=768, bias=True)\n",
      "              (dropout): Dropout(p=0.1, inplace=False)\n",
      "            )\n",
      "            (output): BertSelfOutput(\n",
      "              (dense): Linear(in_features=768, out_features=768, bias=True)\n",
      "              (LayerNorm): LayerNorm((768,), eps=1e-12, elementwise_affine=True)\n",
      "              (dropout): Dropout(p=0.1, inplace=False)\n",
      "            )\n",
      "          )\n",
      "          (intermediate): BertIntermediate(\n",
      "            (dense): Linear(in_features=768, out_features=3072, bias=True)\n",
      "            (intermediate_act_fn): GELUActivation()\n",
      "          )\n",
      "          (output): BertOutput(\n",
      "            (dense): Linear(in_features=3072, out_features=768, bias=True)\n",
      "            (LayerNorm): LayerNorm((768,), eps=1e-12, elementwise_affine=True)\n",
      "            (dropout): Dropout(p=0.1, inplace=False)\n",
      "          )\n",
      "        )\n",
      "      )\n",
      "    )\n",
      "  )\n",
      "  (cls): BertOnlyMLMHead(\n",
      "    (predictions): BertLMPredictionHead(\n",
      "      (transform): BertPredictionHeadTransform(\n",
      "        (dense): Linear(in_features=768, out_features=768, bias=True)\n",
      "        (transform_act_fn): GELUActivation()\n",
      "        (LayerNorm): LayerNorm((768,), eps=1e-12, elementwise_affine=True)\n",
      "      )\n",
      "      (decoder): Linear(in_features=768, out_features=128000, bias=True)\n",
      "    )\n",
      "  )\n",
      ")\n"
     ]
    }
   ],
   "source": [
    "print(model)"
   ],
   "metadata": {
    "collapsed": false,
    "ExecuteTime": {
     "end_time": "2024-01-08T21:16:27.649905Z",
     "start_time": "2024-01-08T21:16:27.637847Z"
    }
   }
  },
  {
   "cell_type": "code",
   "execution_count": 22,
   "outputs": [],
   "source": [
    "from sklearn.metrics.pairwise import cosine_similarity\n",
    "text = \"בראשית ברא אלהים את השמים ואת הארץ\" \n",
    "inputs = tokenizer(text, return_tensors='pt', padding=True, truncation=True, max_length=512)\n",
    "embed1 = model(**inputs)"
   ],
   "metadata": {
    "collapsed": false,
    "ExecuteTime": {
     "end_time": "2024-01-08T21:48:32.621241Z",
     "start_time": "2024-01-08T21:48:32.517893Z"
    }
   }
  },
  {
   "cell_type": "code",
   "execution_count": 26,
   "outputs": [
    {
     "data": {
      "text/plain": "transformers.modeling_outputs.MaskedLMOutput"
     },
     "execution_count": 26,
     "metadata": {},
     "output_type": "execute_result"
    }
   ],
   "source": [
    "type(embed1)"
   ],
   "metadata": {
    "collapsed": false,
    "ExecuteTime": {
     "end_time": "2024-01-08T21:49:01.067024Z",
     "start_time": "2024-01-08T21:49:01.063463Z"
    }
   }
  },
  {
   "cell_type": "code",
   "execution_count": null,
   "outputs": [],
   "source": [
    "text = \"בראשונה ברא אלהים את הרקיע ואת הארץ\"\n",
    "inputs = tokenizer(text, return_tensors='pt', padding=True, truncation=True, max_length=512)\n",
    "embed2= model(**inputs)\n",
    "cosine_similarity(embed1.last_hidden_state.mean(dim=1).squeeze().detach().numpy(),embed2.last_hidden_state.mean(dim=1).squeeze().detach().numpy())"
   ],
   "metadata": {
    "collapsed": false
   }
  },
  {
   "cell_type": "code",
   "execution_count": null,
   "outputs": [],
   "source": [
    "def embed_text(text):\n",
    "    \"\"\"\n",
    "    Convert text into embeddings using Berel model.\n",
    "    \"\"\"\n",
    "    # Tokenize input text\n",
    "    inputs = tokenizer(text, return_tensors='pt', padding=True, truncation=True, max_length=512)\n",
    "\n",
    "    # # Get embeddings\n",
    "    # with torch.no_grad():\n",
    "    #     outputs = model(**inputs)\n",
    "    # embeddings = outputs.last_hidden_state.mean(dim=1).squeeze().numpy()\n",
    "\n",
    "    # Pass text through model\n",
    "    output = model.encode(**inputs)\n",
    "    \n",
    "    # Get predictions\n",
    "    predictions = output.logits.argmax(-1)\n",
    "    \n",
    "    return embeddings"
   ],
   "metadata": {
    "collapsed": false,
    "ExecuteTime": {
     "start_time": "2024-01-08T20:34:39.688720Z"
    }
   }
  },
  {
   "cell_type": "code",
   "execution_count": null,
   "outputs": [],
   "source": [],
   "metadata": {
    "collapsed": false
   }
  },
  {
   "cell_type": "code",
   "execution_count": null,
   "outputs": [],
   "source": [
    "# Convert each comment to embeddings\n",
    "embedded_comments = [(embed_text(comment), daf_num, line_num,comment_num) for comment, daf_num, line_num, comment_num in comments_with_detailed_references]"
   ],
   "metadata": {
    "collapsed": false,
    "ExecuteTime": {
     "start_time": "2024-01-08T20:34:39.691394Z"
    }
   }
  },
  {
   "cell_type": "code",
   "execution_count": null,
   "outputs": [],
   "source": [],
   "metadata": {
    "collapsed": false,
    "ExecuteTime": {
     "start_time": "2024-01-08T20:34:39.692351Z"
    }
   }
  }
 ],
 "metadata": {
  "kernelspec": {
   "display_name": "Python 3",
   "language": "python",
   "name": "python3"
  },
  "language_info": {
   "codemirror_mode": {
    "name": "ipython",
    "version": 2
   },
   "file_extension": ".py",
   "mimetype": "text/x-python",
   "name": "python",
   "nbconvert_exporter": "python",
   "pygments_lexer": "ipython2",
   "version": "2.7.6"
  }
 },
 "nbformat": 4,
 "nbformat_minor": 0
}
