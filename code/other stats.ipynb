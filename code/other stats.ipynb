{
 "cells": [
  {
   "cell_type": "code",
   "execution_count": 2,
   "id": "initial_id",
   "metadata": {
    "collapsed": true,
    "ExecuteTime": {
     "end_time": "2024-06-11T17:06:22.361559Z",
     "start_time": "2024-06-11T17:06:21.034625Z"
    }
   },
   "outputs": [],
   "source": [
    "import rashi_functions as rfn\n",
    "import pandas as pd\n",
    "import numpy as np\n",
    "import os"
   ]
  },
  {
   "cell_type": "markdown",
   "source": [
    "# Length\n",
    "We can consider the length of the text in terms of \n",
    "1. the number of words\n",
    "2. number of characters\n",
    "3. number of comments\n",
    "4. Avg. number of words per comment"
   ],
   "metadata": {
    "collapsed": false,
    "ExecuteTime": {
     "end_time": "2024-06-10T23:44:11.331580Z",
     "start_time": "2024-06-10T23:44:11.269507Z"
    }
   },
   "id": "f9afc3e147a5045e"
  },
  {
   "cell_type": "code",
   "execution_count": 8,
   "outputs": [],
   "source": [
    "lengths = []\n",
    "for mas in rfn.rashi_masechtot:\n",
    "    file = rfn.get_rashi_file(mas)\n",
    "    mas_chars = 0\n",
    "    mas_words = 0\n",
    "    mas_comms = 0\n",
    "    for d in range(len(file['text'])):\n",
    "        for l in range(len(file['text'][d])):\n",
    "            mas_comms += len(file['text'][d][l])\n",
    "            for c in range(len(file['text'][d][l])):\n",
    "                mas_chars += len(file['text'][d][l][c])\n",
    "                comm_len = len(file['text'][d][l][c].split())\n",
    "                mas_words += comm_len\n",
    "    lengths.append([mas, mas_chars, mas_words, mas_comms])\n",
    "lengths_df = pd.DataFrame(lengths, columns = ['Masechet', 'Chars', 'Words', 'Comments'])"
   ],
   "metadata": {
    "collapsed": false,
    "ExecuteTime": {
     "end_time": "2024-05-28T20:45:17.499617Z",
     "start_time": "2024-05-28T20:45:17.282346Z"
    }
   },
   "id": "8cc26bef86b2fade"
  },
  {
   "cell_type": "code",
   "execution_count": 9,
   "outputs": [
    {
     "data": {
      "text/plain": "         Masechet    Chars   Words  Comments\n0         Arakhin   146949   29555      1415\n1        Bekhorot   249315   49937      2758\n2         Chullin   735719  146999      7509\n3         Keritot   140630   28271      1343\n4        Menachot   614085   71716      3952\n5         Temurah   174874   34720      1390\n6        Zevachim   699455  119587      5426\n7         Beitzah   209181   40380      2059\n8        Chagigah    87271   17457       983\n9          Eruvin  1266290  107825      4871\n10       Pesachim   542376  108427      5058\n11       Megillah   122432   24401      1408\n12  Rosh Hashanah   122266   24337      1298\n13        Shabbat   739540  140178      8734\n14         Sukkah   277235   52979      2644\n15           Yoma   318279   63697      3304\n16         Gittin   419340   77894      4651\n17        Ketubot   420706   84635      4954\n18      Kiddushin   384583   77274      4103\n19          Sotah   227121   45114      2421\n20        Yevamot   521490  104846      5105\n21     Bava Batra   125875   20202      1215\n22     Bava Kamma   447770   87137      4776\n23    Bava Metzia   515591  103191      5863\n24   Avodah Zarah   280318   55433      3308\n25         Makkot    72522   14641       657\n26      Sanhedrin   463338   93064      4617\n27        Shevuot   199529   40117      1832\n28         Niddah   320108   64540      3357\n29       Berakhot   224310   45257      3152",
      "text/html": "<div>\n<style scoped>\n    .dataframe tbody tr th:only-of-type {\n        vertical-align: middle;\n    }\n\n    .dataframe tbody tr th {\n        vertical-align: top;\n    }\n\n    .dataframe thead th {\n        text-align: right;\n    }\n</style>\n<table border=\"1\" class=\"dataframe\">\n  <thead>\n    <tr style=\"text-align: right;\">\n      <th></th>\n      <th>Masechet</th>\n      <th>Chars</th>\n      <th>Words</th>\n      <th>Comments</th>\n    </tr>\n  </thead>\n  <tbody>\n    <tr>\n      <th>0</th>\n      <td>Arakhin</td>\n      <td>146949</td>\n      <td>29555</td>\n      <td>1415</td>\n    </tr>\n    <tr>\n      <th>1</th>\n      <td>Bekhorot</td>\n      <td>249315</td>\n      <td>49937</td>\n      <td>2758</td>\n    </tr>\n    <tr>\n      <th>2</th>\n      <td>Chullin</td>\n      <td>735719</td>\n      <td>146999</td>\n      <td>7509</td>\n    </tr>\n    <tr>\n      <th>3</th>\n      <td>Keritot</td>\n      <td>140630</td>\n      <td>28271</td>\n      <td>1343</td>\n    </tr>\n    <tr>\n      <th>4</th>\n      <td>Menachot</td>\n      <td>614085</td>\n      <td>71716</td>\n      <td>3952</td>\n    </tr>\n    <tr>\n      <th>5</th>\n      <td>Temurah</td>\n      <td>174874</td>\n      <td>34720</td>\n      <td>1390</td>\n    </tr>\n    <tr>\n      <th>6</th>\n      <td>Zevachim</td>\n      <td>699455</td>\n      <td>119587</td>\n      <td>5426</td>\n    </tr>\n    <tr>\n      <th>7</th>\n      <td>Beitzah</td>\n      <td>209181</td>\n      <td>40380</td>\n      <td>2059</td>\n    </tr>\n    <tr>\n      <th>8</th>\n      <td>Chagigah</td>\n      <td>87271</td>\n      <td>17457</td>\n      <td>983</td>\n    </tr>\n    <tr>\n      <th>9</th>\n      <td>Eruvin</td>\n      <td>1266290</td>\n      <td>107825</td>\n      <td>4871</td>\n    </tr>\n    <tr>\n      <th>10</th>\n      <td>Pesachim</td>\n      <td>542376</td>\n      <td>108427</td>\n      <td>5058</td>\n    </tr>\n    <tr>\n      <th>11</th>\n      <td>Megillah</td>\n      <td>122432</td>\n      <td>24401</td>\n      <td>1408</td>\n    </tr>\n    <tr>\n      <th>12</th>\n      <td>Rosh Hashanah</td>\n      <td>122266</td>\n      <td>24337</td>\n      <td>1298</td>\n    </tr>\n    <tr>\n      <th>13</th>\n      <td>Shabbat</td>\n      <td>739540</td>\n      <td>140178</td>\n      <td>8734</td>\n    </tr>\n    <tr>\n      <th>14</th>\n      <td>Sukkah</td>\n      <td>277235</td>\n      <td>52979</td>\n      <td>2644</td>\n    </tr>\n    <tr>\n      <th>15</th>\n      <td>Yoma</td>\n      <td>318279</td>\n      <td>63697</td>\n      <td>3304</td>\n    </tr>\n    <tr>\n      <th>16</th>\n      <td>Gittin</td>\n      <td>419340</td>\n      <td>77894</td>\n      <td>4651</td>\n    </tr>\n    <tr>\n      <th>17</th>\n      <td>Ketubot</td>\n      <td>420706</td>\n      <td>84635</td>\n      <td>4954</td>\n    </tr>\n    <tr>\n      <th>18</th>\n      <td>Kiddushin</td>\n      <td>384583</td>\n      <td>77274</td>\n      <td>4103</td>\n    </tr>\n    <tr>\n      <th>19</th>\n      <td>Sotah</td>\n      <td>227121</td>\n      <td>45114</td>\n      <td>2421</td>\n    </tr>\n    <tr>\n      <th>20</th>\n      <td>Yevamot</td>\n      <td>521490</td>\n      <td>104846</td>\n      <td>5105</td>\n    </tr>\n    <tr>\n      <th>21</th>\n      <td>Bava Batra</td>\n      <td>125875</td>\n      <td>20202</td>\n      <td>1215</td>\n    </tr>\n    <tr>\n      <th>22</th>\n      <td>Bava Kamma</td>\n      <td>447770</td>\n      <td>87137</td>\n      <td>4776</td>\n    </tr>\n    <tr>\n      <th>23</th>\n      <td>Bava Metzia</td>\n      <td>515591</td>\n      <td>103191</td>\n      <td>5863</td>\n    </tr>\n    <tr>\n      <th>24</th>\n      <td>Avodah Zarah</td>\n      <td>280318</td>\n      <td>55433</td>\n      <td>3308</td>\n    </tr>\n    <tr>\n      <th>25</th>\n      <td>Makkot</td>\n      <td>72522</td>\n      <td>14641</td>\n      <td>657</td>\n    </tr>\n    <tr>\n      <th>26</th>\n      <td>Sanhedrin</td>\n      <td>463338</td>\n      <td>93064</td>\n      <td>4617</td>\n    </tr>\n    <tr>\n      <th>27</th>\n      <td>Shevuot</td>\n      <td>199529</td>\n      <td>40117</td>\n      <td>1832</td>\n    </tr>\n    <tr>\n      <th>28</th>\n      <td>Niddah</td>\n      <td>320108</td>\n      <td>64540</td>\n      <td>3357</td>\n    </tr>\n    <tr>\n      <th>29</th>\n      <td>Berakhot</td>\n      <td>224310</td>\n      <td>45257</td>\n      <td>3152</td>\n    </tr>\n  </tbody>\n</table>\n</div>"
     },
     "execution_count": 9,
     "metadata": {},
     "output_type": "execute_result"
    }
   ],
   "source": [
    "lengths_df"
   ],
   "metadata": {
    "collapsed": false,
    "ExecuteTime": {
     "end_time": "2024-05-28T20:45:17.606957Z",
     "start_time": "2024-05-28T20:45:17.587251Z"
    }
   },
   "id": "5619ada7e9a27fc7"
  },
  {
   "cell_type": "markdown",
   "source": [
    "How does this compare to the length of the text in the gemara?"
   ],
   "metadata": {
    "collapsed": false
   },
   "id": "7a420437d1705aa9"
  },
  {
   "cell_type": "code",
   "execution_count": 32,
   "outputs": [],
   "source": [
    "tal_lens = []\n",
    "for mas in rfn.rashi_masechtot:\n",
    "    file = rfn.get_talmud_file(mas)\n",
    "    mas_chars = 0\n",
    "    mas_words = 0\n",
    "    for d in range(len(file['text'])):\n",
    "        for l in range(len(file['text'][d])):\n",
    "            mas_chars += len(file['text'][d][l])\n",
    "            comm_len = len(file['text'][d][l].split())\n",
    "            mas_words += comm_len\n",
    "    dappim = len(file['text'])\n",
    "    tal_lens.append([mas, mas_chars, mas_words, dappim])\n",
    "tal_lens_df = pd.DataFrame(tal_lens, columns = ['Masechet', 'Chars', 'Words', 'Dappim'])"
   ],
   "metadata": {
    "collapsed": false,
    "ExecuteTime": {
     "end_time": "2024-05-28T20:01:07.993541Z",
     "start_time": "2024-05-28T20:01:07.836392Z"
    }
   },
   "id": "d042e96a5390acdc"
  },
  {
   "cell_type": "code",
   "execution_count": 33,
   "outputs": [],
   "source": [
    "tal_lens_df['Words per Daf'] = tal_lens_df['Words'] / tal_lens_df['Dappim']"
   ],
   "metadata": {
    "collapsed": false,
    "ExecuteTime": {
     "end_time": "2024-05-28T20:01:07.993882Z",
     "start_time": "2024-05-28T20:01:07.982186Z"
    }
   },
   "id": "1c15147d648002f9"
  },
  {
   "cell_type": "code",
   "execution_count": 34,
   "outputs": [
    {
     "data": {
      "text/plain": "         Masechet   Chars   Words  Dappim  Words per Daf\n0         Arakhin  123108   24906      67     371.731343\n1        Bekhorot  204296   41279     121     341.148760\n2         Chullin  444599   90354     283     319.272085\n3         Keritot  132072   26845      56     479.375000\n4        Menachot  363627   73466     219     335.461187\n5         Temurah  117303   23608      67     352.358209\n6        Zevachim  344819   69715     240     290.479167\n7         Beitzah  129184   25682      80     321.025000\n8        Chagigah   93793   18626      53     351.433962\n9          Eruvin  344445   68755     209     328.971292\n10       Pesachim  415543   82991     242     342.938017\n11       Megillah  147366   29022      63     460.666667\n12  Rosh Hashanah  120287   23748      69     344.173913\n13        Shabbat  585459  116306     314     370.401274\n14         Sukkah  166227   32865     112     293.437500\n15           Yoma  285430   57019     175     325.822857\n16         Gittin  305209   62217     180     345.650000\n17        Ketubot  373599   74642     224     333.223214\n18      Kiddushin  296072   59794     164     364.597561\n19          Sotah  194160   39007      98     398.030612\n20        Yevamot  426576   85734     244     351.368852\n21     Bava Batra  444653   89892     352     255.375000\n22     Bava Kamma  419750   85766     238     360.361345\n23    Bava Metzia  419965   85713     237     361.658228\n24   Avodah Zarah  255131   51501     152     338.822368\n25         Makkot   85389   17572      48     366.083333\n26      Sanhedrin  504224  102530     226     453.672566\n27        Shevuot  162896   33210      98     338.877551\n28         Niddah  254155   51570     145     355.655172\n29       Berakhot  351109   71038     127     559.354331",
      "text/html": "<div>\n<style scoped>\n    .dataframe tbody tr th:only-of-type {\n        vertical-align: middle;\n    }\n\n    .dataframe tbody tr th {\n        vertical-align: top;\n    }\n\n    .dataframe thead th {\n        text-align: right;\n    }\n</style>\n<table border=\"1\" class=\"dataframe\">\n  <thead>\n    <tr style=\"text-align: right;\">\n      <th></th>\n      <th>Masechet</th>\n      <th>Chars</th>\n      <th>Words</th>\n      <th>Dappim</th>\n      <th>Words per Daf</th>\n    </tr>\n  </thead>\n  <tbody>\n    <tr>\n      <th>0</th>\n      <td>Arakhin</td>\n      <td>123108</td>\n      <td>24906</td>\n      <td>67</td>\n      <td>371.731343</td>\n    </tr>\n    <tr>\n      <th>1</th>\n      <td>Bekhorot</td>\n      <td>204296</td>\n      <td>41279</td>\n      <td>121</td>\n      <td>341.148760</td>\n    </tr>\n    <tr>\n      <th>2</th>\n      <td>Chullin</td>\n      <td>444599</td>\n      <td>90354</td>\n      <td>283</td>\n      <td>319.272085</td>\n    </tr>\n    <tr>\n      <th>3</th>\n      <td>Keritot</td>\n      <td>132072</td>\n      <td>26845</td>\n      <td>56</td>\n      <td>479.375000</td>\n    </tr>\n    <tr>\n      <th>4</th>\n      <td>Menachot</td>\n      <td>363627</td>\n      <td>73466</td>\n      <td>219</td>\n      <td>335.461187</td>\n    </tr>\n    <tr>\n      <th>5</th>\n      <td>Temurah</td>\n      <td>117303</td>\n      <td>23608</td>\n      <td>67</td>\n      <td>352.358209</td>\n    </tr>\n    <tr>\n      <th>6</th>\n      <td>Zevachim</td>\n      <td>344819</td>\n      <td>69715</td>\n      <td>240</td>\n      <td>290.479167</td>\n    </tr>\n    <tr>\n      <th>7</th>\n      <td>Beitzah</td>\n      <td>129184</td>\n      <td>25682</td>\n      <td>80</td>\n      <td>321.025000</td>\n    </tr>\n    <tr>\n      <th>8</th>\n      <td>Chagigah</td>\n      <td>93793</td>\n      <td>18626</td>\n      <td>53</td>\n      <td>351.433962</td>\n    </tr>\n    <tr>\n      <th>9</th>\n      <td>Eruvin</td>\n      <td>344445</td>\n      <td>68755</td>\n      <td>209</td>\n      <td>328.971292</td>\n    </tr>\n    <tr>\n      <th>10</th>\n      <td>Pesachim</td>\n      <td>415543</td>\n      <td>82991</td>\n      <td>242</td>\n      <td>342.938017</td>\n    </tr>\n    <tr>\n      <th>11</th>\n      <td>Megillah</td>\n      <td>147366</td>\n      <td>29022</td>\n      <td>63</td>\n      <td>460.666667</td>\n    </tr>\n    <tr>\n      <th>12</th>\n      <td>Rosh Hashanah</td>\n      <td>120287</td>\n      <td>23748</td>\n      <td>69</td>\n      <td>344.173913</td>\n    </tr>\n    <tr>\n      <th>13</th>\n      <td>Shabbat</td>\n      <td>585459</td>\n      <td>116306</td>\n      <td>314</td>\n      <td>370.401274</td>\n    </tr>\n    <tr>\n      <th>14</th>\n      <td>Sukkah</td>\n      <td>166227</td>\n      <td>32865</td>\n      <td>112</td>\n      <td>293.437500</td>\n    </tr>\n    <tr>\n      <th>15</th>\n      <td>Yoma</td>\n      <td>285430</td>\n      <td>57019</td>\n      <td>175</td>\n      <td>325.822857</td>\n    </tr>\n    <tr>\n      <th>16</th>\n      <td>Gittin</td>\n      <td>305209</td>\n      <td>62217</td>\n      <td>180</td>\n      <td>345.650000</td>\n    </tr>\n    <tr>\n      <th>17</th>\n      <td>Ketubot</td>\n      <td>373599</td>\n      <td>74642</td>\n      <td>224</td>\n      <td>333.223214</td>\n    </tr>\n    <tr>\n      <th>18</th>\n      <td>Kiddushin</td>\n      <td>296072</td>\n      <td>59794</td>\n      <td>164</td>\n      <td>364.597561</td>\n    </tr>\n    <tr>\n      <th>19</th>\n      <td>Sotah</td>\n      <td>194160</td>\n      <td>39007</td>\n      <td>98</td>\n      <td>398.030612</td>\n    </tr>\n    <tr>\n      <th>20</th>\n      <td>Yevamot</td>\n      <td>426576</td>\n      <td>85734</td>\n      <td>244</td>\n      <td>351.368852</td>\n    </tr>\n    <tr>\n      <th>21</th>\n      <td>Bava Batra</td>\n      <td>444653</td>\n      <td>89892</td>\n      <td>352</td>\n      <td>255.375000</td>\n    </tr>\n    <tr>\n      <th>22</th>\n      <td>Bava Kamma</td>\n      <td>419750</td>\n      <td>85766</td>\n      <td>238</td>\n      <td>360.361345</td>\n    </tr>\n    <tr>\n      <th>23</th>\n      <td>Bava Metzia</td>\n      <td>419965</td>\n      <td>85713</td>\n      <td>237</td>\n      <td>361.658228</td>\n    </tr>\n    <tr>\n      <th>24</th>\n      <td>Avodah Zarah</td>\n      <td>255131</td>\n      <td>51501</td>\n      <td>152</td>\n      <td>338.822368</td>\n    </tr>\n    <tr>\n      <th>25</th>\n      <td>Makkot</td>\n      <td>85389</td>\n      <td>17572</td>\n      <td>48</td>\n      <td>366.083333</td>\n    </tr>\n    <tr>\n      <th>26</th>\n      <td>Sanhedrin</td>\n      <td>504224</td>\n      <td>102530</td>\n      <td>226</td>\n      <td>453.672566</td>\n    </tr>\n    <tr>\n      <th>27</th>\n      <td>Shevuot</td>\n      <td>162896</td>\n      <td>33210</td>\n      <td>98</td>\n      <td>338.877551</td>\n    </tr>\n    <tr>\n      <th>28</th>\n      <td>Niddah</td>\n      <td>254155</td>\n      <td>51570</td>\n      <td>145</td>\n      <td>355.655172</td>\n    </tr>\n    <tr>\n      <th>29</th>\n      <td>Berakhot</td>\n      <td>351109</td>\n      <td>71038</td>\n      <td>127</td>\n      <td>559.354331</td>\n    </tr>\n  </tbody>\n</table>\n</div>"
     },
     "execution_count": 34,
     "metadata": {},
     "output_type": "execute_result"
    }
   ],
   "source": [
    "tal_lens_df"
   ],
   "metadata": {
    "collapsed": false,
    "ExecuteTime": {
     "end_time": "2024-05-28T20:01:07.994431Z",
     "start_time": "2024-05-28T20:01:07.988821Z"
    }
   },
   "id": "543ffb99cf3c39fb"
  },
  {
   "cell_type": "code",
   "execution_count": 35,
   "outputs": [],
   "source": [
    "rel_rashi_lens = lengths_df.merge(tal_lens_df, on = 'Masechet', suffixes = ('_rashi', '_talmud'))"
   ],
   "metadata": {
    "collapsed": false,
    "ExecuteTime": {
     "end_time": "2024-05-28T20:01:08.015555Z",
     "start_time": "2024-05-28T20:01:07.995169Z"
    }
   },
   "id": "9bbc97e8e3eca9ad"
  },
  {
   "cell_type": "code",
   "execution_count": 36,
   "outputs": [
    {
     "data": {
      "text/plain": "         Masechet  Chars_rashi  Words_rashi  Comments  Chars_talmud  \\\n0         Arakhin       146949        29555      1415        123108   \n1        Bekhorot       269113        53838      2911        204296   \n2         Chullin       735719       146999      7509        444599   \n3         Keritot       140630        28271      1343        132072   \n4        Menachot       719927        92070      5006        363627   \n5         Temurah       174874        34720      1390        117303   \n6        Zevachim       699455       119587      5426        344819   \n7         Beitzah       209181        40380      2059        129184   \n8        Chagigah        87271        17457       983         93793   \n9          Eruvin      1266290       107825      4871        344445   \n10       Pesachim       542376       108427      5058        415543   \n11       Megillah       122432        24401      1408        147366   \n12  Rosh Hashanah       122266        24337      1298        120287   \n13        Shabbat       739540       140178      8734        585459   \n14         Sukkah       277235        52979      2644        166227   \n15           Yoma       318279        63697      3304        285430   \n16         Gittin       419340        77894      4651        305209   \n17        Ketubot       420706        84635      4954        373599   \n18      Kiddushin       384583        77274      4103        296072   \n19          Sotah       227121        45114      2421        194160   \n20        Yevamot       521490       104846      5105        426576   \n21     Bava Batra       125875        20202      1215        444653   \n22     Bava Kamma       447770        87137      4776        419750   \n23    Bava Metzia       515591       103191      5863        419965   \n24   Avodah Zarah       280318        55433      3308        255131   \n25         Makkot        72817        14701       657         85389   \n26      Sanhedrin       594576       119550      6192        504224   \n27        Shevuot       199529        40117      1832        162896   \n28         Niddah       320108        64540      3357        254155   \n29       Berakhot       224310        45257      3152        351109   \n\n    Words_talmud  Dappim  Words per Daf  \n0          24906      67     371.731343  \n1          41279     121     341.148760  \n2          90354     283     319.272085  \n3          26845      56     479.375000  \n4          73466     219     335.461187  \n5          23608      67     352.358209  \n6          69715     240     290.479167  \n7          25682      80     321.025000  \n8          18626      53     351.433962  \n9          68755     209     328.971292  \n10         82991     242     342.938017  \n11         29022      63     460.666667  \n12         23748      69     344.173913  \n13        116306     314     370.401274  \n14         32865     112     293.437500  \n15         57019     175     325.822857  \n16         62217     180     345.650000  \n17         74642     224     333.223214  \n18         59794     164     364.597561  \n19         39007      98     398.030612  \n20         85734     244     351.368852  \n21         89892     352     255.375000  \n22         85766     238     360.361345  \n23         85713     237     361.658228  \n24         51501     152     338.822368  \n25         17572      48     366.083333  \n26        102530     226     453.672566  \n27         33210      98     338.877551  \n28         51570     145     355.655172  \n29         71038     127     559.354331  ",
      "text/html": "<div>\n<style scoped>\n    .dataframe tbody tr th:only-of-type {\n        vertical-align: middle;\n    }\n\n    .dataframe tbody tr th {\n        vertical-align: top;\n    }\n\n    .dataframe thead th {\n        text-align: right;\n    }\n</style>\n<table border=\"1\" class=\"dataframe\">\n  <thead>\n    <tr style=\"text-align: right;\">\n      <th></th>\n      <th>Masechet</th>\n      <th>Chars_rashi</th>\n      <th>Words_rashi</th>\n      <th>Comments</th>\n      <th>Chars_talmud</th>\n      <th>Words_talmud</th>\n      <th>Dappim</th>\n      <th>Words per Daf</th>\n    </tr>\n  </thead>\n  <tbody>\n    <tr>\n      <th>0</th>\n      <td>Arakhin</td>\n      <td>146949</td>\n      <td>29555</td>\n      <td>1415</td>\n      <td>123108</td>\n      <td>24906</td>\n      <td>67</td>\n      <td>371.731343</td>\n    </tr>\n    <tr>\n      <th>1</th>\n      <td>Bekhorot</td>\n      <td>269113</td>\n      <td>53838</td>\n      <td>2911</td>\n      <td>204296</td>\n      <td>41279</td>\n      <td>121</td>\n      <td>341.148760</td>\n    </tr>\n    <tr>\n      <th>2</th>\n      <td>Chullin</td>\n      <td>735719</td>\n      <td>146999</td>\n      <td>7509</td>\n      <td>444599</td>\n      <td>90354</td>\n      <td>283</td>\n      <td>319.272085</td>\n    </tr>\n    <tr>\n      <th>3</th>\n      <td>Keritot</td>\n      <td>140630</td>\n      <td>28271</td>\n      <td>1343</td>\n      <td>132072</td>\n      <td>26845</td>\n      <td>56</td>\n      <td>479.375000</td>\n    </tr>\n    <tr>\n      <th>4</th>\n      <td>Menachot</td>\n      <td>719927</td>\n      <td>92070</td>\n      <td>5006</td>\n      <td>363627</td>\n      <td>73466</td>\n      <td>219</td>\n      <td>335.461187</td>\n    </tr>\n    <tr>\n      <th>5</th>\n      <td>Temurah</td>\n      <td>174874</td>\n      <td>34720</td>\n      <td>1390</td>\n      <td>117303</td>\n      <td>23608</td>\n      <td>67</td>\n      <td>352.358209</td>\n    </tr>\n    <tr>\n      <th>6</th>\n      <td>Zevachim</td>\n      <td>699455</td>\n      <td>119587</td>\n      <td>5426</td>\n      <td>344819</td>\n      <td>69715</td>\n      <td>240</td>\n      <td>290.479167</td>\n    </tr>\n    <tr>\n      <th>7</th>\n      <td>Beitzah</td>\n      <td>209181</td>\n      <td>40380</td>\n      <td>2059</td>\n      <td>129184</td>\n      <td>25682</td>\n      <td>80</td>\n      <td>321.025000</td>\n    </tr>\n    <tr>\n      <th>8</th>\n      <td>Chagigah</td>\n      <td>87271</td>\n      <td>17457</td>\n      <td>983</td>\n      <td>93793</td>\n      <td>18626</td>\n      <td>53</td>\n      <td>351.433962</td>\n    </tr>\n    <tr>\n      <th>9</th>\n      <td>Eruvin</td>\n      <td>1266290</td>\n      <td>107825</td>\n      <td>4871</td>\n      <td>344445</td>\n      <td>68755</td>\n      <td>209</td>\n      <td>328.971292</td>\n    </tr>\n    <tr>\n      <th>10</th>\n      <td>Pesachim</td>\n      <td>542376</td>\n      <td>108427</td>\n      <td>5058</td>\n      <td>415543</td>\n      <td>82991</td>\n      <td>242</td>\n      <td>342.938017</td>\n    </tr>\n    <tr>\n      <th>11</th>\n      <td>Megillah</td>\n      <td>122432</td>\n      <td>24401</td>\n      <td>1408</td>\n      <td>147366</td>\n      <td>29022</td>\n      <td>63</td>\n      <td>460.666667</td>\n    </tr>\n    <tr>\n      <th>12</th>\n      <td>Rosh Hashanah</td>\n      <td>122266</td>\n      <td>24337</td>\n      <td>1298</td>\n      <td>120287</td>\n      <td>23748</td>\n      <td>69</td>\n      <td>344.173913</td>\n    </tr>\n    <tr>\n      <th>13</th>\n      <td>Shabbat</td>\n      <td>739540</td>\n      <td>140178</td>\n      <td>8734</td>\n      <td>585459</td>\n      <td>116306</td>\n      <td>314</td>\n      <td>370.401274</td>\n    </tr>\n    <tr>\n      <th>14</th>\n      <td>Sukkah</td>\n      <td>277235</td>\n      <td>52979</td>\n      <td>2644</td>\n      <td>166227</td>\n      <td>32865</td>\n      <td>112</td>\n      <td>293.437500</td>\n    </tr>\n    <tr>\n      <th>15</th>\n      <td>Yoma</td>\n      <td>318279</td>\n      <td>63697</td>\n      <td>3304</td>\n      <td>285430</td>\n      <td>57019</td>\n      <td>175</td>\n      <td>325.822857</td>\n    </tr>\n    <tr>\n      <th>16</th>\n      <td>Gittin</td>\n      <td>419340</td>\n      <td>77894</td>\n      <td>4651</td>\n      <td>305209</td>\n      <td>62217</td>\n      <td>180</td>\n      <td>345.650000</td>\n    </tr>\n    <tr>\n      <th>17</th>\n      <td>Ketubot</td>\n      <td>420706</td>\n      <td>84635</td>\n      <td>4954</td>\n      <td>373599</td>\n      <td>74642</td>\n      <td>224</td>\n      <td>333.223214</td>\n    </tr>\n    <tr>\n      <th>18</th>\n      <td>Kiddushin</td>\n      <td>384583</td>\n      <td>77274</td>\n      <td>4103</td>\n      <td>296072</td>\n      <td>59794</td>\n      <td>164</td>\n      <td>364.597561</td>\n    </tr>\n    <tr>\n      <th>19</th>\n      <td>Sotah</td>\n      <td>227121</td>\n      <td>45114</td>\n      <td>2421</td>\n      <td>194160</td>\n      <td>39007</td>\n      <td>98</td>\n      <td>398.030612</td>\n    </tr>\n    <tr>\n      <th>20</th>\n      <td>Yevamot</td>\n      <td>521490</td>\n      <td>104846</td>\n      <td>5105</td>\n      <td>426576</td>\n      <td>85734</td>\n      <td>244</td>\n      <td>351.368852</td>\n    </tr>\n    <tr>\n      <th>21</th>\n      <td>Bava Batra</td>\n      <td>125875</td>\n      <td>20202</td>\n      <td>1215</td>\n      <td>444653</td>\n      <td>89892</td>\n      <td>352</td>\n      <td>255.375000</td>\n    </tr>\n    <tr>\n      <th>22</th>\n      <td>Bava Kamma</td>\n      <td>447770</td>\n      <td>87137</td>\n      <td>4776</td>\n      <td>419750</td>\n      <td>85766</td>\n      <td>238</td>\n      <td>360.361345</td>\n    </tr>\n    <tr>\n      <th>23</th>\n      <td>Bava Metzia</td>\n      <td>515591</td>\n      <td>103191</td>\n      <td>5863</td>\n      <td>419965</td>\n      <td>85713</td>\n      <td>237</td>\n      <td>361.658228</td>\n    </tr>\n    <tr>\n      <th>24</th>\n      <td>Avodah Zarah</td>\n      <td>280318</td>\n      <td>55433</td>\n      <td>3308</td>\n      <td>255131</td>\n      <td>51501</td>\n      <td>152</td>\n      <td>338.822368</td>\n    </tr>\n    <tr>\n      <th>25</th>\n      <td>Makkot</td>\n      <td>72817</td>\n      <td>14701</td>\n      <td>657</td>\n      <td>85389</td>\n      <td>17572</td>\n      <td>48</td>\n      <td>366.083333</td>\n    </tr>\n    <tr>\n      <th>26</th>\n      <td>Sanhedrin</td>\n      <td>594576</td>\n      <td>119550</td>\n      <td>6192</td>\n      <td>504224</td>\n      <td>102530</td>\n      <td>226</td>\n      <td>453.672566</td>\n    </tr>\n    <tr>\n      <th>27</th>\n      <td>Shevuot</td>\n      <td>199529</td>\n      <td>40117</td>\n      <td>1832</td>\n      <td>162896</td>\n      <td>33210</td>\n      <td>98</td>\n      <td>338.877551</td>\n    </tr>\n    <tr>\n      <th>28</th>\n      <td>Niddah</td>\n      <td>320108</td>\n      <td>64540</td>\n      <td>3357</td>\n      <td>254155</td>\n      <td>51570</td>\n      <td>145</td>\n      <td>355.655172</td>\n    </tr>\n    <tr>\n      <th>29</th>\n      <td>Berakhot</td>\n      <td>224310</td>\n      <td>45257</td>\n      <td>3152</td>\n      <td>351109</td>\n      <td>71038</td>\n      <td>127</td>\n      <td>559.354331</td>\n    </tr>\n  </tbody>\n</table>\n</div>"
     },
     "execution_count": 36,
     "metadata": {},
     "output_type": "execute_result"
    }
   ],
   "source": [
    "rel_rashi_lens"
   ],
   "metadata": {
    "collapsed": false,
    "ExecuteTime": {
     "end_time": "2024-05-28T20:01:08.016422Z",
     "start_time": "2024-05-28T20:01:08.002126Z"
    }
   },
   "id": "efb332bf66c81dc3"
  },
  {
   "cell_type": "code",
   "execution_count": 37,
   "outputs": [],
   "source": [
    "rel_rashi_lens['rashi_word/tal_word'] = rel_rashi_lens['Words_rashi'] / rel_rashi_lens['Words_talmud']"
   ],
   "metadata": {
    "collapsed": false,
    "ExecuteTime": {
     "end_time": "2024-05-28T20:01:08.016477Z",
     "start_time": "2024-05-28T20:01:08.006894Z"
    }
   },
   "id": "b6cb5f474f23b451"
  },
  {
   "cell_type": "code",
   "execution_count": 38,
   "outputs": [
    {
     "data": {
      "text/plain": "         Masechet  rashi_word/tal_word\n0         Arakhin             1.186662\n1        Bekhorot             1.304247\n2         Chullin             1.626923\n3         Keritot             1.053120\n4        Menachot             1.253233\n5         Temurah             1.470688\n6        Zevachim             1.715370\n7         Beitzah             1.572307\n8        Chagigah             0.937238\n9          Eruvin             1.568250\n10       Pesachim             1.306491\n11       Megillah             0.840776\n12  Rosh Hashanah             1.024802\n13        Shabbat             1.205252\n14         Sukkah             1.612019\n15           Yoma             1.117119\n16         Gittin             1.251973\n17        Ketubot             1.133879\n18      Kiddushin             1.292337\n19          Sotah             1.156562\n20        Yevamot             1.222922\n21     Bava Batra             0.224736\n22     Bava Kamma             1.015985\n23    Bava Metzia             1.203913\n24   Avodah Zarah             1.076348\n25         Makkot             0.836615\n26      Sanhedrin             1.166000\n27        Shevuot             1.207980\n28         Niddah             1.251503\n29       Berakhot             0.637082",
      "text/html": "<div>\n<style scoped>\n    .dataframe tbody tr th:only-of-type {\n        vertical-align: middle;\n    }\n\n    .dataframe tbody tr th {\n        vertical-align: top;\n    }\n\n    .dataframe thead th {\n        text-align: right;\n    }\n</style>\n<table border=\"1\" class=\"dataframe\">\n  <thead>\n    <tr style=\"text-align: right;\">\n      <th></th>\n      <th>Masechet</th>\n      <th>rashi_word/tal_word</th>\n    </tr>\n  </thead>\n  <tbody>\n    <tr>\n      <th>0</th>\n      <td>Arakhin</td>\n      <td>1.186662</td>\n    </tr>\n    <tr>\n      <th>1</th>\n      <td>Bekhorot</td>\n      <td>1.304247</td>\n    </tr>\n    <tr>\n      <th>2</th>\n      <td>Chullin</td>\n      <td>1.626923</td>\n    </tr>\n    <tr>\n      <th>3</th>\n      <td>Keritot</td>\n      <td>1.053120</td>\n    </tr>\n    <tr>\n      <th>4</th>\n      <td>Menachot</td>\n      <td>1.253233</td>\n    </tr>\n    <tr>\n      <th>5</th>\n      <td>Temurah</td>\n      <td>1.470688</td>\n    </tr>\n    <tr>\n      <th>6</th>\n      <td>Zevachim</td>\n      <td>1.715370</td>\n    </tr>\n    <tr>\n      <th>7</th>\n      <td>Beitzah</td>\n      <td>1.572307</td>\n    </tr>\n    <tr>\n      <th>8</th>\n      <td>Chagigah</td>\n      <td>0.937238</td>\n    </tr>\n    <tr>\n      <th>9</th>\n      <td>Eruvin</td>\n      <td>1.568250</td>\n    </tr>\n    <tr>\n      <th>10</th>\n      <td>Pesachim</td>\n      <td>1.306491</td>\n    </tr>\n    <tr>\n      <th>11</th>\n      <td>Megillah</td>\n      <td>0.840776</td>\n    </tr>\n    <tr>\n      <th>12</th>\n      <td>Rosh Hashanah</td>\n      <td>1.024802</td>\n    </tr>\n    <tr>\n      <th>13</th>\n      <td>Shabbat</td>\n      <td>1.205252</td>\n    </tr>\n    <tr>\n      <th>14</th>\n      <td>Sukkah</td>\n      <td>1.612019</td>\n    </tr>\n    <tr>\n      <th>15</th>\n      <td>Yoma</td>\n      <td>1.117119</td>\n    </tr>\n    <tr>\n      <th>16</th>\n      <td>Gittin</td>\n      <td>1.251973</td>\n    </tr>\n    <tr>\n      <th>17</th>\n      <td>Ketubot</td>\n      <td>1.133879</td>\n    </tr>\n    <tr>\n      <th>18</th>\n      <td>Kiddushin</td>\n      <td>1.292337</td>\n    </tr>\n    <tr>\n      <th>19</th>\n      <td>Sotah</td>\n      <td>1.156562</td>\n    </tr>\n    <tr>\n      <th>20</th>\n      <td>Yevamot</td>\n      <td>1.222922</td>\n    </tr>\n    <tr>\n      <th>21</th>\n      <td>Bava Batra</td>\n      <td>0.224736</td>\n    </tr>\n    <tr>\n      <th>22</th>\n      <td>Bava Kamma</td>\n      <td>1.015985</td>\n    </tr>\n    <tr>\n      <th>23</th>\n      <td>Bava Metzia</td>\n      <td>1.203913</td>\n    </tr>\n    <tr>\n      <th>24</th>\n      <td>Avodah Zarah</td>\n      <td>1.076348</td>\n    </tr>\n    <tr>\n      <th>25</th>\n      <td>Makkot</td>\n      <td>0.836615</td>\n    </tr>\n    <tr>\n      <th>26</th>\n      <td>Sanhedrin</td>\n      <td>1.166000</td>\n    </tr>\n    <tr>\n      <th>27</th>\n      <td>Shevuot</td>\n      <td>1.207980</td>\n    </tr>\n    <tr>\n      <th>28</th>\n      <td>Niddah</td>\n      <td>1.251503</td>\n    </tr>\n    <tr>\n      <th>29</th>\n      <td>Berakhot</td>\n      <td>0.637082</td>\n    </tr>\n  </tbody>\n</table>\n</div>"
     },
     "execution_count": 38,
     "metadata": {},
     "output_type": "execute_result"
    }
   ],
   "source": [
    "# just display the ratio of rashi words to talmud words and the masechet name\n",
    "rel_rashi_lens[['Masechet', 'rashi_word/tal_word']]"
   ],
   "metadata": {
    "collapsed": false,
    "ExecuteTime": {
     "end_time": "2024-05-28T20:01:08.028927Z",
     "start_time": "2024-05-28T20:01:08.012796Z"
    }
   },
   "id": "e7c656a8cc4f6fcd"
  },
  {
   "cell_type": "markdown",
   "source": [
    "Oh I should probably exclude dappim with no rashi"
   ],
   "metadata": {
    "collapsed": false
   },
   "id": "ac0e535a40692bb8"
  },
  {
   "cell_type": "code",
   "execution_count": 39,
   "outputs": [],
   "source": [
    "new_ratios = []\n",
    "for mas in rfn.rashi_masechtot:\n",
    "    rashi_file = rfn.get_rashi_file(mas)\n",
    "    talmud_file = rfn.get_talmud_file(mas)\n",
    "    rashi_words = 0\n",
    "    talmud_words = 0\n",
    "    for d in range(len(rashi_file['text'])):\n",
    "        for l in range(len(rashi_file['text'][d])):\n",
    "            if talmud_file['text'][d] and talmud_file['text'][d][l]:\n",
    "                talmud_words += len(talmud_file['text'][d][l].split())\n",
    "            for c in range(len(rashi_file['text'][d][l])):\n",
    "                rashi_words += len(rashi_file['text'][d][l][c].split())\n",
    "    new_ratios.append([mas, rashi_words, talmud_words, rashi_words/talmud_words])\n",
    "new_ratios_df = pd.DataFrame(new_ratios, columns = ['Masechet', 'Rashi Words', 'Talmud Words', 'Rashi/Talmud'])"
   ],
   "metadata": {
    "collapsed": false,
    "ExecuteTime": {
     "end_time": "2024-05-28T20:01:08.411093Z",
     "start_time": "2024-05-28T20:01:08.019960Z"
    }
   },
   "id": "f4fc23aa158ff510"
  },
  {
   "cell_type": "code",
   "execution_count": 40,
   "outputs": [
    {
     "data": {
      "text/plain": "         Masechet  Rashi Words  Talmud Words  Rashi/Talmud\n0         Arakhin        29555         24906      1.186662\n1        Bekhorot        53838         41279      1.304247\n2         Chullin       146999         90354      1.626923\n3         Keritot        28271         26845      1.053120\n4        Menachot        92070         72070      1.277508\n5         Temurah        34720         23608      1.470688\n6        Zevachim       119587         68293      1.751087\n7         Beitzah        40380         25246      1.599461\n8        Chagigah        17457         17869      0.976943\n9          Eruvin       107825         66964      1.610194\n10       Pesachim       108427         79879      1.357391\n11       Megillah        24401         28430      0.858284\n12  Rosh Hashanah        24337         22885      1.063448\n13        Shabbat       140178        114250      1.226941\n14         Sukkah        52979         32384      1.635962\n15           Yoma        63697         54774      1.162906\n16         Gittin        77894         60691      1.283452\n17        Ketubot        84635         72913      1.160767\n18      Kiddushin        77274         58831      1.313491\n19          Sotah        45114         38388      1.175211\n20        Yevamot       104846         83583      1.254394\n21     Bava Batra        20202         20500      0.985463\n22     Bava Kamma        87137         81947      1.063334\n23    Bava Metzia       103191         83786      1.231602\n24   Avodah Zarah        55433         49932      1.110170\n25         Makkot        14701         13070      1.124790\n26      Sanhedrin       119550        100096      1.194353\n27        Shevuot        40117         32181      1.246605\n28         Niddah        64540         51570      1.251503\n29       Berakhot        45257         68431      0.661352",
      "text/html": "<div>\n<style scoped>\n    .dataframe tbody tr th:only-of-type {\n        vertical-align: middle;\n    }\n\n    .dataframe tbody tr th {\n        vertical-align: top;\n    }\n\n    .dataframe thead th {\n        text-align: right;\n    }\n</style>\n<table border=\"1\" class=\"dataframe\">\n  <thead>\n    <tr style=\"text-align: right;\">\n      <th></th>\n      <th>Masechet</th>\n      <th>Rashi Words</th>\n      <th>Talmud Words</th>\n      <th>Rashi/Talmud</th>\n    </tr>\n  </thead>\n  <tbody>\n    <tr>\n      <th>0</th>\n      <td>Arakhin</td>\n      <td>29555</td>\n      <td>24906</td>\n      <td>1.186662</td>\n    </tr>\n    <tr>\n      <th>1</th>\n      <td>Bekhorot</td>\n      <td>53838</td>\n      <td>41279</td>\n      <td>1.304247</td>\n    </tr>\n    <tr>\n      <th>2</th>\n      <td>Chullin</td>\n      <td>146999</td>\n      <td>90354</td>\n      <td>1.626923</td>\n    </tr>\n    <tr>\n      <th>3</th>\n      <td>Keritot</td>\n      <td>28271</td>\n      <td>26845</td>\n      <td>1.053120</td>\n    </tr>\n    <tr>\n      <th>4</th>\n      <td>Menachot</td>\n      <td>92070</td>\n      <td>72070</td>\n      <td>1.277508</td>\n    </tr>\n    <tr>\n      <th>5</th>\n      <td>Temurah</td>\n      <td>34720</td>\n      <td>23608</td>\n      <td>1.470688</td>\n    </tr>\n    <tr>\n      <th>6</th>\n      <td>Zevachim</td>\n      <td>119587</td>\n      <td>68293</td>\n      <td>1.751087</td>\n    </tr>\n    <tr>\n      <th>7</th>\n      <td>Beitzah</td>\n      <td>40380</td>\n      <td>25246</td>\n      <td>1.599461</td>\n    </tr>\n    <tr>\n      <th>8</th>\n      <td>Chagigah</td>\n      <td>17457</td>\n      <td>17869</td>\n      <td>0.976943</td>\n    </tr>\n    <tr>\n      <th>9</th>\n      <td>Eruvin</td>\n      <td>107825</td>\n      <td>66964</td>\n      <td>1.610194</td>\n    </tr>\n    <tr>\n      <th>10</th>\n      <td>Pesachim</td>\n      <td>108427</td>\n      <td>79879</td>\n      <td>1.357391</td>\n    </tr>\n    <tr>\n      <th>11</th>\n      <td>Megillah</td>\n      <td>24401</td>\n      <td>28430</td>\n      <td>0.858284</td>\n    </tr>\n    <tr>\n      <th>12</th>\n      <td>Rosh Hashanah</td>\n      <td>24337</td>\n      <td>22885</td>\n      <td>1.063448</td>\n    </tr>\n    <tr>\n      <th>13</th>\n      <td>Shabbat</td>\n      <td>140178</td>\n      <td>114250</td>\n      <td>1.226941</td>\n    </tr>\n    <tr>\n      <th>14</th>\n      <td>Sukkah</td>\n      <td>52979</td>\n      <td>32384</td>\n      <td>1.635962</td>\n    </tr>\n    <tr>\n      <th>15</th>\n      <td>Yoma</td>\n      <td>63697</td>\n      <td>54774</td>\n      <td>1.162906</td>\n    </tr>\n    <tr>\n      <th>16</th>\n      <td>Gittin</td>\n      <td>77894</td>\n      <td>60691</td>\n      <td>1.283452</td>\n    </tr>\n    <tr>\n      <th>17</th>\n      <td>Ketubot</td>\n      <td>84635</td>\n      <td>72913</td>\n      <td>1.160767</td>\n    </tr>\n    <tr>\n      <th>18</th>\n      <td>Kiddushin</td>\n      <td>77274</td>\n      <td>58831</td>\n      <td>1.313491</td>\n    </tr>\n    <tr>\n      <th>19</th>\n      <td>Sotah</td>\n      <td>45114</td>\n      <td>38388</td>\n      <td>1.175211</td>\n    </tr>\n    <tr>\n      <th>20</th>\n      <td>Yevamot</td>\n      <td>104846</td>\n      <td>83583</td>\n      <td>1.254394</td>\n    </tr>\n    <tr>\n      <th>21</th>\n      <td>Bava Batra</td>\n      <td>20202</td>\n      <td>20500</td>\n      <td>0.985463</td>\n    </tr>\n    <tr>\n      <th>22</th>\n      <td>Bava Kamma</td>\n      <td>87137</td>\n      <td>81947</td>\n      <td>1.063334</td>\n    </tr>\n    <tr>\n      <th>23</th>\n      <td>Bava Metzia</td>\n      <td>103191</td>\n      <td>83786</td>\n      <td>1.231602</td>\n    </tr>\n    <tr>\n      <th>24</th>\n      <td>Avodah Zarah</td>\n      <td>55433</td>\n      <td>49932</td>\n      <td>1.110170</td>\n    </tr>\n    <tr>\n      <th>25</th>\n      <td>Makkot</td>\n      <td>14701</td>\n      <td>13070</td>\n      <td>1.124790</td>\n    </tr>\n    <tr>\n      <th>26</th>\n      <td>Sanhedrin</td>\n      <td>119550</td>\n      <td>100096</td>\n      <td>1.194353</td>\n    </tr>\n    <tr>\n      <th>27</th>\n      <td>Shevuot</td>\n      <td>40117</td>\n      <td>32181</td>\n      <td>1.246605</td>\n    </tr>\n    <tr>\n      <th>28</th>\n      <td>Niddah</td>\n      <td>64540</td>\n      <td>51570</td>\n      <td>1.251503</td>\n    </tr>\n    <tr>\n      <th>29</th>\n      <td>Berakhot</td>\n      <td>45257</td>\n      <td>68431</td>\n      <td>0.661352</td>\n    </tr>\n  </tbody>\n</table>\n</div>"
     },
     "execution_count": 40,
     "metadata": {},
     "output_type": "execute_result"
    }
   ],
   "source": [
    "new_ratios_df"
   ],
   "metadata": {
    "collapsed": false,
    "ExecuteTime": {
     "end_time": "2024-05-28T20:01:08.416825Z",
     "start_time": "2024-05-28T20:01:08.413613Z"
    }
   },
   "id": "1bb7971a6751f2e"
  },
  {
   "cell_type": "markdown",
   "source": [
    "## Summary: It does not seem that differences in length track with other style data."
   ],
   "metadata": {
    "collapsed": false
   },
   "id": "ce7da9eff6583097"
  },
  {
   "cell_type": "markdown",
   "source": [
    "# Statistics of term frequencies"
   ],
   "metadata": {
    "collapsed": false
   },
   "id": "16ec475fc1fa4a6c"
  },
  {
   "cell_type": "markdown",
   "source": [
    "## Lishna Aharina"
   ],
   "metadata": {
    "collapsed": false
   },
   "id": "d51269b5f42aaed0"
  },
  {
   "cell_type": "code",
   "execution_count": 5,
   "outputs": [],
   "source": [
    "laharina = []\n",
    "for mas in rfn.rashi_masechtot:\n",
    "    file = rfn.get_rashi_file(mas)\n",
    "    mas_laharina = 0\n",
    "    for d in range(len(file['text'])):\n",
    "        for l in range(len(file['text'][d])):\n",
    "            for c in range(len(file['text'][d][l])):\n",
    "                mas_laharina += file['text'][d][l][c].count('לשינא אחרינא')\n",
    "                mas_laharina += file['text'][d][l][c].count('ל\"א')\n",
    "    laharina.append([mas, mas_laharina])\n",
    "laharina_df = pd.DataFrame(laharina, columns = ['Masechet', 'Lishna Aharina'])"
   ],
   "metadata": {
    "collapsed": false,
    "ExecuteTime": {
     "end_time": "2024-06-10T23:37:03.315378Z",
     "start_time": "2024-06-10T23:37:03.044366Z"
    }
   },
   "id": "d0a8b8a1a3d24e7c"
  },
  {
   "cell_type": "code",
   "execution_count": 6,
   "outputs": [
    {
     "data": {
      "text/plain": "         Masechet  Lishna Aharina\n0         Arakhin              16\n1        Bekhorot              25\n2         Chullin              12\n3         Keritot               6\n4        Menachot              58\n5         Temurah              14\n6        Zevachim               5\n7         Beitzah               5\n8        Chagigah               0\n9          Eruvin              37\n10       Pesachim              19\n11       Megillah               2\n12  Rosh Hashanah               5\n13        Shabbat              27\n14         Sukkah               1\n15           Yoma               4\n16         Gittin               3\n17        Ketubot               4\n18      Kiddushin              13\n19          Sotah               1\n20        Yevamot              14\n21     Bava Batra               1\n22     Bava Kamma              37\n23    Bava Metzia              10\n24   Avodah Zarah              15\n25         Makkot               1\n26      Sanhedrin              13\n27        Shevuot               0\n28         Niddah              18\n29       Berakhot              13",
      "text/html": "<div>\n<style scoped>\n    .dataframe tbody tr th:only-of-type {\n        vertical-align: middle;\n    }\n\n    .dataframe tbody tr th {\n        vertical-align: top;\n    }\n\n    .dataframe thead th {\n        text-align: right;\n    }\n</style>\n<table border=\"1\" class=\"dataframe\">\n  <thead>\n    <tr style=\"text-align: right;\">\n      <th></th>\n      <th>Masechet</th>\n      <th>Lishna Aharina</th>\n    </tr>\n  </thead>\n  <tbody>\n    <tr>\n      <th>0</th>\n      <td>Arakhin</td>\n      <td>16</td>\n    </tr>\n    <tr>\n      <th>1</th>\n      <td>Bekhorot</td>\n      <td>25</td>\n    </tr>\n    <tr>\n      <th>2</th>\n      <td>Chullin</td>\n      <td>12</td>\n    </tr>\n    <tr>\n      <th>3</th>\n      <td>Keritot</td>\n      <td>6</td>\n    </tr>\n    <tr>\n      <th>4</th>\n      <td>Menachot</td>\n      <td>58</td>\n    </tr>\n    <tr>\n      <th>5</th>\n      <td>Temurah</td>\n      <td>14</td>\n    </tr>\n    <tr>\n      <th>6</th>\n      <td>Zevachim</td>\n      <td>5</td>\n    </tr>\n    <tr>\n      <th>7</th>\n      <td>Beitzah</td>\n      <td>5</td>\n    </tr>\n    <tr>\n      <th>8</th>\n      <td>Chagigah</td>\n      <td>0</td>\n    </tr>\n    <tr>\n      <th>9</th>\n      <td>Eruvin</td>\n      <td>37</td>\n    </tr>\n    <tr>\n      <th>10</th>\n      <td>Pesachim</td>\n      <td>19</td>\n    </tr>\n    <tr>\n      <th>11</th>\n      <td>Megillah</td>\n      <td>2</td>\n    </tr>\n    <tr>\n      <th>12</th>\n      <td>Rosh Hashanah</td>\n      <td>5</td>\n    </tr>\n    <tr>\n      <th>13</th>\n      <td>Shabbat</td>\n      <td>27</td>\n    </tr>\n    <tr>\n      <th>14</th>\n      <td>Sukkah</td>\n      <td>1</td>\n    </tr>\n    <tr>\n      <th>15</th>\n      <td>Yoma</td>\n      <td>4</td>\n    </tr>\n    <tr>\n      <th>16</th>\n      <td>Gittin</td>\n      <td>3</td>\n    </tr>\n    <tr>\n      <th>17</th>\n      <td>Ketubot</td>\n      <td>4</td>\n    </tr>\n    <tr>\n      <th>18</th>\n      <td>Kiddushin</td>\n      <td>13</td>\n    </tr>\n    <tr>\n      <th>19</th>\n      <td>Sotah</td>\n      <td>1</td>\n    </tr>\n    <tr>\n      <th>20</th>\n      <td>Yevamot</td>\n      <td>14</td>\n    </tr>\n    <tr>\n      <th>21</th>\n      <td>Bava Batra</td>\n      <td>1</td>\n    </tr>\n    <tr>\n      <th>22</th>\n      <td>Bava Kamma</td>\n      <td>37</td>\n    </tr>\n    <tr>\n      <th>23</th>\n      <td>Bava Metzia</td>\n      <td>10</td>\n    </tr>\n    <tr>\n      <th>24</th>\n      <td>Avodah Zarah</td>\n      <td>15</td>\n    </tr>\n    <tr>\n      <th>25</th>\n      <td>Makkot</td>\n      <td>1</td>\n    </tr>\n    <tr>\n      <th>26</th>\n      <td>Sanhedrin</td>\n      <td>13</td>\n    </tr>\n    <tr>\n      <th>27</th>\n      <td>Shevuot</td>\n      <td>0</td>\n    </tr>\n    <tr>\n      <th>28</th>\n      <td>Niddah</td>\n      <td>18</td>\n    </tr>\n    <tr>\n      <th>29</th>\n      <td>Berakhot</td>\n      <td>13</td>\n    </tr>\n  </tbody>\n</table>\n</div>"
     },
     "execution_count": 6,
     "metadata": {},
     "output_type": "execute_result"
    }
   ],
   "source": [
    "laharina_df"
   ],
   "metadata": {
    "collapsed": false,
    "ExecuteTime": {
     "end_time": "2024-06-10T23:37:03.467405Z",
     "start_time": "2024-06-10T23:37:03.437881Z"
    }
   },
   "id": "f6cf7ed1db1caa5b"
  },
  {
   "cell_type": "code",
   "execution_count": 45,
   "outputs": [
    {
     "data": {
      "text/plain": "         Masechet  Lishna Aharina   La/comm  comments\n0         Arakhin              20  0.014134      1415\n1        Bekhorot              33  0.011336      2911\n2         Chullin              25  0.003329      7509\n3         Keritot               8  0.005957      1343\n4        Menachot              61  0.012185      5006\n5         Temurah              29  0.020863      1390\n6        Zevachim               5  0.000921      5426\n7         Beitzah               4  0.001943      2059\n8        Chagigah               1  0.001017       983\n9          Eruvin              32  0.006569      4871\n10       Pesachim              16  0.003163      5058\n11       Megillah               0  0.000000      1408\n12  Rosh Hashanah               5  0.003852      1298\n13        Shabbat              49  0.005610      8734\n14         Sukkah               5  0.001891      2644\n15           Yoma               0  0.000000      3304\n16         Gittin               7  0.001505      4651\n17        Ketubot               4  0.000807      4954\n18      Kiddushin               6  0.001462      4103\n19          Sotah               5  0.002065      2421\n20        Yevamot              17  0.003330      5105\n21     Bava Batra               5  0.004115      1215\n22     Bava Kamma              30  0.006281      4776\n23    Bava Metzia               8  0.001364      5863\n24   Avodah Zarah              23  0.006953      3308\n25         Makkot               1  0.001522       657\n26      Sanhedrin              73  0.011789      6192\n27        Shevuot               0  0.000000      1832\n28         Niddah              15  0.004468      3357\n29       Berakhot               4  0.001269      3152",
      "text/html": "<div>\n<style scoped>\n    .dataframe tbody tr th:only-of-type {\n        vertical-align: middle;\n    }\n\n    .dataframe tbody tr th {\n        vertical-align: top;\n    }\n\n    .dataframe thead th {\n        text-align: right;\n    }\n</style>\n<table border=\"1\" class=\"dataframe\">\n  <thead>\n    <tr style=\"text-align: right;\">\n      <th></th>\n      <th>Masechet</th>\n      <th>Lishna Aharina</th>\n      <th>La/comm</th>\n      <th>comments</th>\n    </tr>\n  </thead>\n  <tbody>\n    <tr>\n      <th>0</th>\n      <td>Arakhin</td>\n      <td>20</td>\n      <td>0.014134</td>\n      <td>1415</td>\n    </tr>\n    <tr>\n      <th>1</th>\n      <td>Bekhorot</td>\n      <td>33</td>\n      <td>0.011336</td>\n      <td>2911</td>\n    </tr>\n    <tr>\n      <th>2</th>\n      <td>Chullin</td>\n      <td>25</td>\n      <td>0.003329</td>\n      <td>7509</td>\n    </tr>\n    <tr>\n      <th>3</th>\n      <td>Keritot</td>\n      <td>8</td>\n      <td>0.005957</td>\n      <td>1343</td>\n    </tr>\n    <tr>\n      <th>4</th>\n      <td>Menachot</td>\n      <td>61</td>\n      <td>0.012185</td>\n      <td>5006</td>\n    </tr>\n    <tr>\n      <th>5</th>\n      <td>Temurah</td>\n      <td>29</td>\n      <td>0.020863</td>\n      <td>1390</td>\n    </tr>\n    <tr>\n      <th>6</th>\n      <td>Zevachim</td>\n      <td>5</td>\n      <td>0.000921</td>\n      <td>5426</td>\n    </tr>\n    <tr>\n      <th>7</th>\n      <td>Beitzah</td>\n      <td>4</td>\n      <td>0.001943</td>\n      <td>2059</td>\n    </tr>\n    <tr>\n      <th>8</th>\n      <td>Chagigah</td>\n      <td>1</td>\n      <td>0.001017</td>\n      <td>983</td>\n    </tr>\n    <tr>\n      <th>9</th>\n      <td>Eruvin</td>\n      <td>32</td>\n      <td>0.006569</td>\n      <td>4871</td>\n    </tr>\n    <tr>\n      <th>10</th>\n      <td>Pesachim</td>\n      <td>16</td>\n      <td>0.003163</td>\n      <td>5058</td>\n    </tr>\n    <tr>\n      <th>11</th>\n      <td>Megillah</td>\n      <td>0</td>\n      <td>0.000000</td>\n      <td>1408</td>\n    </tr>\n    <tr>\n      <th>12</th>\n      <td>Rosh Hashanah</td>\n      <td>5</td>\n      <td>0.003852</td>\n      <td>1298</td>\n    </tr>\n    <tr>\n      <th>13</th>\n      <td>Shabbat</td>\n      <td>49</td>\n      <td>0.005610</td>\n      <td>8734</td>\n    </tr>\n    <tr>\n      <th>14</th>\n      <td>Sukkah</td>\n      <td>5</td>\n      <td>0.001891</td>\n      <td>2644</td>\n    </tr>\n    <tr>\n      <th>15</th>\n      <td>Yoma</td>\n      <td>0</td>\n      <td>0.000000</td>\n      <td>3304</td>\n    </tr>\n    <tr>\n      <th>16</th>\n      <td>Gittin</td>\n      <td>7</td>\n      <td>0.001505</td>\n      <td>4651</td>\n    </tr>\n    <tr>\n      <th>17</th>\n      <td>Ketubot</td>\n      <td>4</td>\n      <td>0.000807</td>\n      <td>4954</td>\n    </tr>\n    <tr>\n      <th>18</th>\n      <td>Kiddushin</td>\n      <td>6</td>\n      <td>0.001462</td>\n      <td>4103</td>\n    </tr>\n    <tr>\n      <th>19</th>\n      <td>Sotah</td>\n      <td>5</td>\n      <td>0.002065</td>\n      <td>2421</td>\n    </tr>\n    <tr>\n      <th>20</th>\n      <td>Yevamot</td>\n      <td>17</td>\n      <td>0.003330</td>\n      <td>5105</td>\n    </tr>\n    <tr>\n      <th>21</th>\n      <td>Bava Batra</td>\n      <td>5</td>\n      <td>0.004115</td>\n      <td>1215</td>\n    </tr>\n    <tr>\n      <th>22</th>\n      <td>Bava Kamma</td>\n      <td>30</td>\n      <td>0.006281</td>\n      <td>4776</td>\n    </tr>\n    <tr>\n      <th>23</th>\n      <td>Bava Metzia</td>\n      <td>8</td>\n      <td>0.001364</td>\n      <td>5863</td>\n    </tr>\n    <tr>\n      <th>24</th>\n      <td>Avodah Zarah</td>\n      <td>23</td>\n      <td>0.006953</td>\n      <td>3308</td>\n    </tr>\n    <tr>\n      <th>25</th>\n      <td>Makkot</td>\n      <td>1</td>\n      <td>0.001522</td>\n      <td>657</td>\n    </tr>\n    <tr>\n      <th>26</th>\n      <td>Sanhedrin</td>\n      <td>73</td>\n      <td>0.011789</td>\n      <td>6192</td>\n    </tr>\n    <tr>\n      <th>27</th>\n      <td>Shevuot</td>\n      <td>0</td>\n      <td>0.000000</td>\n      <td>1832</td>\n    </tr>\n    <tr>\n      <th>28</th>\n      <td>Niddah</td>\n      <td>15</td>\n      <td>0.004468</td>\n      <td>3357</td>\n    </tr>\n    <tr>\n      <th>29</th>\n      <td>Berakhot</td>\n      <td>4</td>\n      <td>0.001269</td>\n      <td>3152</td>\n    </tr>\n  </tbody>\n</table>\n</div>"
     },
     "execution_count": 45,
     "metadata": {},
     "output_type": "execute_result"
    }
   ],
   "source": [
    "laharina_df[\"comments\"] = lengths_df['Comments']\n",
    "laharina_df['La/comm'] = laharina_df['Lishna Aharina'] / lengths_df['Comments']\n",
    "laharina_df"
   ],
   "metadata": {
    "collapsed": false,
    "ExecuteTime": {
     "end_time": "2024-05-28T20:03:30.292319Z",
     "start_time": "2024-05-28T20:03:30.250611Z"
    }
   },
   "id": "b5fb15a468f15898"
  },
  {
   "cell_type": "markdown",
   "source": [
    "# Processing the quotation data"
   ],
   "metadata": {
    "collapsed": false
   },
   "id": "b01f9377669b7d08"
  },
  {
   "cell_type": "markdown",
   "source": [
    "## Shamati"
   ],
   "metadata": {
    "collapsed": false
   },
   "id": "f0b19cb34a0f9f0d"
  },
  {
   "cell_type": "code",
   "execution_count": 38,
   "outputs": [],
   "source": [
    "shamati = pd.read_csv('other data/shmati.csv')\n",
    "shamati = shamati.dropna()"
   ],
   "metadata": {
    "collapsed": false,
    "ExecuteTime": {
     "end_time": "2024-05-28T21:16:52.009746Z",
     "start_time": "2024-05-28T21:16:51.959297Z"
    }
   },
   "id": "3568ac09d8af7036"
  },
  {
   "cell_type": "code",
   "execution_count": 37,
   "outputs": [],
   "source": [
    "def get_masechet(text):\n",
    "    spl1= text.split('רש\"י מסכת ')\n",
    "    splt2= spl1[1].split(' דף')\n",
    "    return rfn.heb_to_mas(splt2[0])"
   ],
   "metadata": {
    "collapsed": false,
    "ExecuteTime": {
     "end_time": "2024-06-11T01:44:37.722779Z",
     "start_time": "2024-06-11T01:44:37.688345Z"
    }
   },
   "id": "4bca06b07f081d80"
  },
  {
   "cell_type": "code",
   "execution_count": 59,
   "outputs": [],
   "source": [
    "shamati['Masechet'] = shamati['החיפוש : #שמעתי '].apply(get_masechet)\n",
    "shamati.columns = ['src','Text','tags', 'Masechet']"
   ],
   "metadata": {
    "collapsed": false,
    "ExecuteTime": {
     "end_time": "2024-06-11T02:05:14.213747Z",
     "start_time": "2024-06-11T02:05:14.178892Z"
    }
   },
   "id": "58fd6e52f2f963b4"
  },
  {
   "cell_type": "code",
   "execution_count": 39,
   "outputs": [],
   "source": [
    "shamati"
   ],
   "metadata": {
    "collapsed": false,
    "ExecuteTime": {
     "end_time": "2024-06-11T01:44:55.111165Z",
     "start_time": "2024-06-11T01:44:55.060140Z"
    }
   },
   "id": "8dc9d10106eee023"
  },
  {
   "cell_type": "code",
   "execution_count": 43,
   "outputs": [
    {
     "data": {
      "text/plain": "                                                   src  \\\n0     2.  רש\"י מסכת ברכות דף לט עמוד א ד\"ה דורמסקין...   \n1              3.  רש\"י מסכת ברכות דף מ עמוד א ד\"ה קצח   \n2          4.  רש\"י מסכת שבת דף יט עמוד א ד\"ה מפליגין    \n3          7.  רש\"י מסכת שבת דף סה עמוד ב ד\"ה אלא פרת    \n4       8.  רש\"י מסכת שבת דף פה עמוד ב ד\"ה בנוטה שורה    \n..                                                 ...   \n161   313.  רש\"י מסכת ערכין דף לג עמוד ב ד\"ה מוכרין...   \n163   316.  רש\"י מסכת כריתות דף ח עמוד ב ד\"ה ורבי ע...   \n164    319.  רש\"י מסכת נדה דף ו עמוד ב ד\"ה חבריא מדכן    \n165     320.  רש\"י מסכת נדה דף יט עמוד א ד\"ה כהה טהור    \n166      322.  רש\"י מסכת נדה דף כד עמוד א ד\"ה שימי את    \n\n                                                  Text        tags  Masechet  \n0    דורמסקין - אף הן שלקות מעשב שקורין אקדלשי\"ט בל...  מסכת, מקשה  Berakhot  \n1    קצח - רבותינו מפרשים נייל\"א בלע\"ז, אבל אני שמע...        מאחר  Berakhot  \n2    מפליגין - מפרישין מן היבשה לים וזהו לשון [הפלג...    מסכת, שם   Shabbat  \n3    אלא פרת ביומי תשרי - שחדלו הגשמים, ורבו הזוחלי...        מסכת   Shabbat  \n4    ושורה לכאן - ממשיך של רוח זו בצד קרן מזרחית צפ...        מקשה   Shabbat  \n..                                                 ...         ...       ...  \n161  מוכרין לעולם - אפילו בשנת היובל עצמה כך שמעתי ...        מקשה   Arakhin  \n163  חוששין לפשיעה - אם לא הצריכוה לומר על האחרונה ...        מקשה   Keritot  \n164  חבריא מדכן בגלילא - חבירים שבגליל מטהרים יינם ...        מסכת    Niddah  \n165  כהה טהור - הרי הוא כנגע שכהה מראיתו בשבוע של ה...          שם    Niddah  \n166  שימי את - בכמה דוכתין אשכחן דמהדר ליה רב הכי ש...        מקשה    Niddah  \n\n[90 rows x 4 columns]",
      "text/html": "<div>\n<style scoped>\n    .dataframe tbody tr th:only-of-type {\n        vertical-align: middle;\n    }\n\n    .dataframe tbody tr th {\n        vertical-align: top;\n    }\n\n    .dataframe thead th {\n        text-align: right;\n    }\n</style>\n<table border=\"1\" class=\"dataframe\">\n  <thead>\n    <tr style=\"text-align: right;\">\n      <th></th>\n      <th>src</th>\n      <th>Text</th>\n      <th>tags</th>\n      <th>Masechet</th>\n    </tr>\n  </thead>\n  <tbody>\n    <tr>\n      <th>0</th>\n      <td>2.  רש\"י מסכת ברכות דף לט עמוד א ד\"ה דורמסקין...</td>\n      <td>דורמסקין - אף הן שלקות מעשב שקורין אקדלשי\"ט בל...</td>\n      <td>מסכת, מקשה</td>\n      <td>Berakhot</td>\n    </tr>\n    <tr>\n      <th>1</th>\n      <td>3.  רש\"י מסכת ברכות דף מ עמוד א ד\"ה קצח</td>\n      <td>קצח - רבותינו מפרשים נייל\"א בלע\"ז, אבל אני שמע...</td>\n      <td>מאחר</td>\n      <td>Berakhot</td>\n    </tr>\n    <tr>\n      <th>2</th>\n      <td>4.  רש\"י מסכת שבת דף יט עמוד א ד\"ה מפליגין</td>\n      <td>מפליגין - מפרישין מן היבשה לים וזהו לשון [הפלג...</td>\n      <td>מסכת, שם</td>\n      <td>Shabbat</td>\n    </tr>\n    <tr>\n      <th>3</th>\n      <td>7.  רש\"י מסכת שבת דף סה עמוד ב ד\"ה אלא פרת</td>\n      <td>אלא פרת ביומי תשרי - שחדלו הגשמים, ורבו הזוחלי...</td>\n      <td>מסכת</td>\n      <td>Shabbat</td>\n    </tr>\n    <tr>\n      <th>4</th>\n      <td>8.  רש\"י מסכת שבת דף פה עמוד ב ד\"ה בנוטה שורה</td>\n      <td>ושורה לכאן - ממשיך של רוח זו בצד קרן מזרחית צפ...</td>\n      <td>מקשה</td>\n      <td>Shabbat</td>\n    </tr>\n    <tr>\n      <th>...</th>\n      <td>...</td>\n      <td>...</td>\n      <td>...</td>\n      <td>...</td>\n    </tr>\n    <tr>\n      <th>161</th>\n      <td>313.  רש\"י מסכת ערכין דף לג עמוד ב ד\"ה מוכרין...</td>\n      <td>מוכרין לעולם - אפילו בשנת היובל עצמה כך שמעתי ...</td>\n      <td>מקשה</td>\n      <td>Arakhin</td>\n    </tr>\n    <tr>\n      <th>163</th>\n      <td>316.  רש\"י מסכת כריתות דף ח עמוד ב ד\"ה ורבי ע...</td>\n      <td>חוששין לפשיעה - אם לא הצריכוה לומר על האחרונה ...</td>\n      <td>מקשה</td>\n      <td>Keritot</td>\n    </tr>\n    <tr>\n      <th>164</th>\n      <td>319.  רש\"י מסכת נדה דף ו עמוד ב ד\"ה חבריא מדכן</td>\n      <td>חבריא מדכן בגלילא - חבירים שבגליל מטהרים יינם ...</td>\n      <td>מסכת</td>\n      <td>Niddah</td>\n    </tr>\n    <tr>\n      <th>165</th>\n      <td>320.  רש\"י מסכת נדה דף יט עמוד א ד\"ה כהה טהור</td>\n      <td>כהה טהור - הרי הוא כנגע שכהה מראיתו בשבוע של ה...</td>\n      <td>שם</td>\n      <td>Niddah</td>\n    </tr>\n    <tr>\n      <th>166</th>\n      <td>322.  רש\"י מסכת נדה דף כד עמוד א ד\"ה שימי את</td>\n      <td>שימי את - בכמה דוכתין אשכחן דמהדר ליה רב הכי ש...</td>\n      <td>מקשה</td>\n      <td>Niddah</td>\n    </tr>\n  </tbody>\n</table>\n<p>90 rows × 4 columns</p>\n</div>"
     },
     "execution_count": 43,
     "metadata": {},
     "output_type": "execute_result"
    }
   ],
   "source": [
    "shamati['Masechet'].value_counts()"
   ],
   "metadata": {
    "collapsed": false,
    "ExecuteTime": {
     "end_time": "2024-06-11T01:45:23.003793Z",
     "start_time": "2024-06-11T01:45:22.977172Z"
    }
   },
   "id": "c5c313c706cac08b"
  },
  {
   "cell_type": "markdown",
   "source": [
    "Lets look at the number of quotations relative to the number of comments per masechet"
   ],
   "metadata": {
    "collapsed": false,
    "ExecuteTime": {
     "end_time": "2024-06-11T01:45:44.515954Z",
     "start_time": "2024-06-11T01:45:44.484583Z"
    }
   },
   "id": "19aa7e8031659772"
  },
  {
   "cell_type": "code",
   "execution_count": 71,
   "outputs": [
    {
     "name": "stdout",
     "output_type": "stream",
     "text": [
      "ברכות\n",
      "ברכות\n",
      "שבת\n",
      "שבת\n",
      "שבת\n",
      "עירובין\n",
      "עירובין\n",
      "עירובין\n",
      "עירובין\n",
      "עירובין\n",
      "עירובין\n",
      "עירובין\n",
      "עירובין\n",
      "עירובין\n",
      "עירובין\n",
      "עירובין\n",
      "עירובין\n",
      "עירובין\n",
      "עירובין\n",
      "פסחים\n",
      "פסחים\n",
      "פסחים\n",
      "פסחים\n",
      "פסחים\n",
      "פסחים\n",
      "פסחים\n",
      "פסחים\n",
      "פסחים\n",
      "פסחים\n",
      "פסחים\n",
      "ראש השנה\n",
      "ראש השנה\n",
      "ראש השנה\n",
      "יומא\n",
      "יומא\n",
      "יומא\n",
      "יומא\n",
      "יומא\n",
      "יומא\n",
      "יומא\n",
      "יומא\n",
      "יומא\n",
      "יומא\n",
      "יומא\n",
      "יומא\n",
      "סוכה\n",
      "סוכה\n",
      "סוכה\n",
      "סוכה\n",
      "סוכה\n",
      "ביצה\n",
      "ביצה\n",
      "ביצה\n",
      "ביצה\n",
      "מגילה\n",
      "חגיגה\n",
      "יבמות\n",
      "יבמות\n",
      "יבמות\n",
      "יבמות\n",
      "יבמות\n",
      "כתובות\n",
      "כתובות\n",
      "כתובות\n",
      "כתובות\n",
      "כתובות\n",
      "כתובות\n",
      "כתובות\n",
      "כתובות\n",
      "סוטה\n",
      "גיטין\n",
      "גיטין\n",
      "גיטין\n",
      "גיטין\n",
      "גיטין\n",
      "קידושין\n",
      "בבא קמא\n",
      "בבא קמא\n",
      "בבא קמא\n",
      "בבא קמא\n",
      "בבא קמא\n",
      "בבא קמא\n",
      "בבא קמא\n",
      "בבא קמא\n",
      "בבא קמא\n",
      "בבא קמא\n",
      "בבא קמא\n",
      "בבא קמא\n",
      "בבא קמא\n",
      "בבא קמא\n",
      "בבא קמא\n",
      "בבא מציעא\n",
      "בבא מציעא\n",
      "בבא מציעא\n",
      "בבא מציעא\n",
      "בבא מציעא\n",
      "בבא מציעא\n",
      "בבא מציעא\n",
      "בבא מציעא\n",
      "בבא בתרא\n",
      "סנהדרין\n",
      "סנהדרין\n",
      "מכות\n",
      "שבועות\n",
      "זבחים\n",
      "זבחים\n",
      "זבחים\n",
      "זבחים\n",
      "זבחים\n",
      "זבחים\n",
      "זבחים\n",
      "זבחים\n",
      "זבחים\n",
      "זבחים\n",
      "מנחות\n",
      "מנחות\n",
      "מנחות\n",
      "חולין\n",
      "חולין\n",
      "חולין\n",
      "חולין\n",
      "חולין\n",
      "חולין\n",
      "חולין\n",
      "חולין\n",
      "חולין\n",
      "חולין\n",
      "חולין\n",
      "חולין\n",
      "חולין\n",
      "חולין\n",
      "חולין\n",
      "חולין\n",
      "חולין\n",
      "חולין\n",
      "חולין\n",
      "חולין\n",
      "חולין\n",
      "חולין\n",
      "חולין\n",
      "חולין\n",
      "חולין\n",
      "חולין\n",
      "חולין\n",
      "חולין\n",
      "בכורות\n",
      "בכורות\n",
      "בכורות\n",
      "ערכין\n",
      "ערכין\n",
      "ערכין\n",
      "ערכין\n",
      "ערכין\n",
      "ערכין\n",
      "ערכין\n",
      "תמורה\n",
      "כריתות\n",
      "נדה\n",
      "נדה\n",
      "נדה\n",
      "נדה\n",
      "נדה\n"
     ]
    }
   ],
   "source": [
    "shamati['Masechet'].value_counts() / lengths_df['Comments']"
   ],
   "metadata": {
    "collapsed": false,
    "ExecuteTime": {
     "end_time": "2024-06-11T02:16:01.094073Z",
     "start_time": "2024-06-11T02:16:00.482439Z"
    }
   },
   "id": "8b70d3eae3870505"
  },
  {
   "cell_type": "code",
   "execution_count": 76,
   "outputs": [
    {
     "data": {
      "text/plain": "                                                   src  \\\n2          4.  רש\"י מסכת שבת דף יט עמוד א ד\"ה מפליגין    \n32   76.  רש\"י מסכת ראש השנה דף כח עמוד א ד\"ה התוקע...   \n37       83.  רש\"י מסכת יומא דף לט עמוד א ד\"ה למה סגן    \n53      109.  רש\"י מסכת ביצה דף לג עמוד א ד\"ה מן המים    \n54    111.  רש\"י מסכת מגילה דף כב עמוד ב ד\"ה ראשי ח...   \n57    125.  רש\"י מסכת יבמות דף עא עמוד ב ד\"ה הזאה א...   \n66    138.  רש\"י מסכת כתובות דף עה עמוד ב ד\"ה כהה ט...   \n69   143.  רש\"י מסכת סוטה דף לה עמוד ב ד\"ה ולבסוף -...   \n72    149.  רש\"י מסכת גיטין דף נט עמוד ב ד\"ה נתפרדה...   \n91    173.  רש\"י מסכת בבא מציעא דף ז עמוד ב ד\"ה מחל...   \n97    188.  רש\"י מסכת בבא מציעא דף צא עמוד א ד\"ה רב...   \n107   231.  רש\"י מסכת זבחים דף מה עמוד ב ד\"ה ה\"ג - ...   \n132   277.  רש\"י מסכת חולין דף מז עמוד א ד\"ה אפילו ...   \n158     320.  רש\"י מסכת נדה דף יט עמוד א ד\"ה כהה טהור    \n\n                                                  Text     tags       Masechet  \n2    מפליגין - מפרישין מן היבשה לים וזהו לשון [הפלג...  מסכת שם        Shabbat  \n32   התוקע לשיר - לשורר ולזמר כך שמעתי מפי מורי הזק...       שם  Rosh Hashanah  \n37   למה סגן מימינו כו' - שהולך תמיד לימינו כך אמרו...       שם           Yoma  \n53   מן המים - נותנים מים בכלי זכוכית לבנה ונותנו ב...       שם        Beitzah  \n54   כגון תענית צבור - שמותר במלאכה רוב תענית צבור ...       שם       Megillah  \n57   ימים כמשפט בין הזאה להזאה דאם לא היו מזין עד י...       שם        Yevamot  \n66   רבי יהושע אומר כהה - כדמפרש רבה. כהה טהור - הר...       שם        Ketubot  \n69   ולבסוף - לאחר שנשתהה שם ששה חדשים בבית עובד אד...       שם          Sotah  \n72   נתפרדה חבילה - נפסק הקשר איבד הלוי את כבודו בש...       שם         Gittin  \n91   מחלוקת - האי יחלוקו דקאמר ר' שמעון [בן גמליאל]...       שם    Bava Metzia  \n97   רבא אמר אתנן אסרה תורה אפילו בא על אמו[10] - ו...       שם    Bava Metzia  \n107  ה\"ג - נומי ר\"ש בדבר שדרכו לאכול חייב וכך שמעתי...       שם       Zevachim  \n132  אפילו כטרפא דאסא - קטנה כעלה של הדס ומדסבר רב ...       שם        Chullin  \n158  כהה טהור - הרי הוא כנגע שכהה מראיתו בשבוע של ה...       שם         Niddah  ",
      "text/html": "<div>\n<style scoped>\n    .dataframe tbody tr th:only-of-type {\n        vertical-align: middle;\n    }\n\n    .dataframe tbody tr th {\n        vertical-align: top;\n    }\n\n    .dataframe thead th {\n        text-align: right;\n    }\n</style>\n<table border=\"1\" class=\"dataframe\">\n  <thead>\n    <tr style=\"text-align: right;\">\n      <th></th>\n      <th>src</th>\n      <th>Text</th>\n      <th>tags</th>\n      <th>Masechet</th>\n    </tr>\n  </thead>\n  <tbody>\n    <tr>\n      <th>2</th>\n      <td>4.  רש\"י מסכת שבת דף יט עמוד א ד\"ה מפליגין</td>\n      <td>מפליגין - מפרישין מן היבשה לים וזהו לשון [הפלג...</td>\n      <td>מסכת שם</td>\n      <td>Shabbat</td>\n    </tr>\n    <tr>\n      <th>32</th>\n      <td>76.  רש\"י מסכת ראש השנה דף כח עמוד א ד\"ה התוקע...</td>\n      <td>התוקע לשיר - לשורר ולזמר כך שמעתי מפי מורי הזק...</td>\n      <td>שם</td>\n      <td>Rosh Hashanah</td>\n    </tr>\n    <tr>\n      <th>37</th>\n      <td>83.  רש\"י מסכת יומא דף לט עמוד א ד\"ה למה סגן</td>\n      <td>למה סגן מימינו כו' - שהולך תמיד לימינו כך אמרו...</td>\n      <td>שם</td>\n      <td>Yoma</td>\n    </tr>\n    <tr>\n      <th>53</th>\n      <td>109.  רש\"י מסכת ביצה דף לג עמוד א ד\"ה מן המים</td>\n      <td>מן המים - נותנים מים בכלי זכוכית לבנה ונותנו ב...</td>\n      <td>שם</td>\n      <td>Beitzah</td>\n    </tr>\n    <tr>\n      <th>54</th>\n      <td>111.  רש\"י מסכת מגילה דף כב עמוד ב ד\"ה ראשי ח...</td>\n      <td>כגון תענית צבור - שמותר במלאכה רוב תענית צבור ...</td>\n      <td>שם</td>\n      <td>Megillah</td>\n    </tr>\n    <tr>\n      <th>57</th>\n      <td>125.  רש\"י מסכת יבמות דף עא עמוד ב ד\"ה הזאה א...</td>\n      <td>ימים כמשפט בין הזאה להזאה דאם לא היו מזין עד י...</td>\n      <td>שם</td>\n      <td>Yevamot</td>\n    </tr>\n    <tr>\n      <th>66</th>\n      <td>138.  רש\"י מסכת כתובות דף עה עמוד ב ד\"ה כהה ט...</td>\n      <td>רבי יהושע אומר כהה - כדמפרש רבה. כהה טהור - הר...</td>\n      <td>שם</td>\n      <td>Ketubot</td>\n    </tr>\n    <tr>\n      <th>69</th>\n      <td>143.  רש\"י מסכת סוטה דף לה עמוד ב ד\"ה ולבסוף -...</td>\n      <td>ולבסוף - לאחר שנשתהה שם ששה חדשים בבית עובד אד...</td>\n      <td>שם</td>\n      <td>Sotah</td>\n    </tr>\n    <tr>\n      <th>72</th>\n      <td>149.  רש\"י מסכת גיטין דף נט עמוד ב ד\"ה נתפרדה...</td>\n      <td>נתפרדה חבילה - נפסק הקשר איבד הלוי את כבודו בש...</td>\n      <td>שם</td>\n      <td>Gittin</td>\n    </tr>\n    <tr>\n      <th>91</th>\n      <td>173.  רש\"י מסכת בבא מציעא דף ז עמוד ב ד\"ה מחל...</td>\n      <td>מחלוקת - האי יחלוקו דקאמר ר' שמעון [בן גמליאל]...</td>\n      <td>שם</td>\n      <td>Bava Metzia</td>\n    </tr>\n    <tr>\n      <th>97</th>\n      <td>188.  רש\"י מסכת בבא מציעא דף צא עמוד א ד\"ה רב...</td>\n      <td>רבא אמר אתנן אסרה תורה אפילו בא על אמו[10] - ו...</td>\n      <td>שם</td>\n      <td>Bava Metzia</td>\n    </tr>\n    <tr>\n      <th>107</th>\n      <td>231.  רש\"י מסכת זבחים דף מה עמוד ב ד\"ה ה\"ג - ...</td>\n      <td>ה\"ג - נומי ר\"ש בדבר שדרכו לאכול חייב וכך שמעתי...</td>\n      <td>שם</td>\n      <td>Zevachim</td>\n    </tr>\n    <tr>\n      <th>132</th>\n      <td>277.  רש\"י מסכת חולין דף מז עמוד א ד\"ה אפילו ...</td>\n      <td>אפילו כטרפא דאסא - קטנה כעלה של הדס ומדסבר רב ...</td>\n      <td>שם</td>\n      <td>Chullin</td>\n    </tr>\n    <tr>\n      <th>158</th>\n      <td>320.  רש\"י מסכת נדה דף יט עמוד א ד\"ה כהה טהור</td>\n      <td>כהה טהור - הרי הוא כנגע שכהה מראיתו בשבוע של ה...</td>\n      <td>שם</td>\n      <td>Niddah</td>\n    </tr>\n  </tbody>\n</table>\n</div>"
     },
     "execution_count": 76,
     "metadata": {},
     "output_type": "execute_result"
    }
   ],
   "source": [
    "shamati.groupby('eng_masechet').size()"
   ],
   "metadata": {
    "collapsed": false,
    "ExecuteTime": {
     "end_time": "2024-06-11T02:20:27.715736Z",
     "start_time": "2024-06-11T02:20:27.665188Z"
    }
   },
   "id": "4225066abf1e2424"
  },
  {
   "cell_type": "code",
   "execution_count": 78,
   "outputs": [],
   "source": [
    "lengths_df.drop('shamatis', axis = 1, inplace = True)\n",
    "lengths_df.drop('shamatis/comm', axis = 1, inplace = True)"
   ],
   "metadata": {
    "collapsed": false,
    "ExecuteTime": {
     "end_time": "2024-06-11T02:23:26.718812Z",
     "start_time": "2024-06-11T02:23:26.667599Z"
    }
   },
   "id": "a45de59d843c4189"
  },
  {
   "cell_type": "code",
   "execution_count": 79,
   "outputs": [
    {
     "data": {
      "text/plain": "Masechet\nChullin          27\nBava Kamma       15\nEruvin           14\nPesachim         11\nYoma             11\nZevachim          9\nArakhin           7\nKetubot           7\nBava Metzia       6\nSukkah            5\nGittin            4\nNiddah            4\nYevamot           4\nMenachot          3\nBeitzah           3\nBekhorot          3\nShabbat           2\nSanhedrin         2\nRosh Hashanah     2\nBerakhot          2\nKiddushin         1\nBava Batra        1\nMakkot            1\nShevuot           1\nChagigah          1\nTemurah           1\nKeritot           1\nName: count, dtype: int64"
     },
     "execution_count": 79,
     "metadata": {},
     "output_type": "execute_result"
    }
   ],
   "source": [
    "# shamati.set_index('eng_masechet', inplace = True)\n",
    "# lengths_df['shamatis'] = shamati.groupby('eng_masechet').size()\n",
    "# lengths_df['shamatis/comm'] = lengths_df['shamatis'] / lengths_df['Comments']\n",
    "# lengths_df\n",
    "for mas in rfn.rashi_masechtot:\n",
    "    print(lengths_df[lengths_df['Masechet']]+\"\\t\",shamati[[shamati['Masechet'] == mas]]['Masechet'].value_counts())"
   ],
   "metadata": {
    "collapsed": false,
    "ExecuteTime": {
     "end_time": "2024-06-11T02:23:27.629835Z",
     "start_time": "2024-06-11T02:23:27.599874Z"
    }
   },
   "id": "99932330173d3b9b"
  },
  {
   "cell_type": "markdown",
   "source": [
    "### Was the tagging useful?"
   ],
   "metadata": {
    "collapsed": false
   },
   "id": "82afeef333d0a357"
  },
  {
   "cell_type": "code",
   "execution_count": 56,
   "outputs": [
    {
     "data": {
      "text/plain": "tags\nמקשה                 45\nדוחה                 12\nמסכת                 11\nשם                    9\nמסכת, מקשה            2\nשמעתי= גירסא          2\nסתם                   2\nמאחר                  1\nמסכת, שם              1\nמשקה                  1\nשמעתי מציין גרסה.     1\nגרסא?                 1\nגרסא                  1\nגרסה                  1\nName: count, dtype: int64"
     },
     "execution_count": 56,
     "metadata": {},
     "output_type": "execute_result"
    }
   ],
   "source": [
    "shamati['tags'].value_counts()"
   ],
   "metadata": {
    "collapsed": false,
    "ExecuteTime": {
     "end_time": "2024-05-28T20:21:39.374693Z",
     "start_time": "2024-05-28T20:21:39.339071Z"
    }
   },
   "id": "c01efd1cb8424952"
  },
  {
   "cell_type": "code",
   "execution_count": 57,
   "outputs": [
    {
     "data": {
      "text/plain": "Masechet   tags             \nבבא מציעא  מקשה                  3\n           שם                    2\nבבא קמא    מסכת                  2\n           מקשה                  1\nביצה       שם                    1\nבכורות     מקשה                  1\nברכות      מאחר                  1\n           מסכת, מקשה            1\nגיטין      מקשה                  2\nזבחים      דוחה                  1\n           מסכת                  7\n           סתם                   1\n           שם                    1\nחגיגה      דוחה                  1\nחולין      גרסא                  1\n           גרסא?                 1\n           גרסה                  1\n           דוחה                  2\n           מסכת, מקשה            1\n           מקשה                 11\n           סתם                   1\nיבמות      דוחה                  1\n           שם                    1\nיומא       דוחה                  3\n           מקשה                  3\n           שמעתי= גירסא          1\nכריתות     מקשה                  1\nכתובות     מקשה                  4\n           שם                    1\nמכות       מקשה                  1\nמנחות      מקשה                  1\nנדה        מסכת                  1\n           מקשה                  1\n           שם                    1\nסוטה       שם                    1\nסוכה       מקשה                  2\n           שמעתי= גירסא          1\nסנהדרין    דוחה                  1\nעירובין    מקשה                  6\n           משקה                  1\nערכין      דוחה                  1\n           מקשה                  2\nפסחים      דוחה                  2\n           מקשה                  4\nראש השנה   שם                    1\n           שמעתי מציין גרסה.     1\nשבועות     מקשה                  1\nשבת        מסכת                  1\n           מסכת, שם              1\n           מקשה                  1\ndtype: int64"
     },
     "execution_count": 57,
     "metadata": {},
     "output_type": "execute_result"
    }
   ],
   "source": [
    "# I want to see the distribution of the tags by masechet\n",
    "shamati.groupby(['Masechet', 'tags']).size()"
   ],
   "metadata": {
    "collapsed": false,
    "ExecuteTime": {
     "end_time": "2024-05-28T20:25:43.384334Z",
     "start_time": "2024-05-28T20:25:43.352974Z"
    }
   },
   "id": "8c4932006a2af151"
  },
  {
   "cell_type": "code",
   "execution_count": 58,
   "outputs": [
    {
     "data": {
      "text/plain": "Masechet   tags             \nבבא מציעא  מקשה                 0.600000\n           שם                   0.400000\nבבא קמא    מסכת                 0.666667\n           מקשה                 0.333333\nביצה       שם                   1.000000\nבכורות     מקשה                 1.000000\nברכות      מאחר                 0.500000\n           מסכת, מקשה           0.500000\nגיטין      מקשה                 1.000000\nזבחים      דוחה                 0.100000\n           מסכת                 0.700000\n           סתם                  0.100000\n           שם                   0.100000\nחגיגה      דוחה                 1.000000\nחולין      גרסא                 0.055556\n           גרסא?                0.055556\n           גרסה                 0.055556\n           דוחה                 0.111111\n           מסכת, מקשה           0.055556\n           מקשה                 0.611111\n           סתם                  0.055556\nיבמות      דוחה                 0.500000\n           שם                   0.500000\nיומא       דוחה                 0.428571\n           מקשה                 0.428571\n           שמעתי= גירסא         0.142857\nכריתות     מקשה                 1.000000\nכתובות     מקשה                 0.800000\n           שם                   0.200000\nמכות       מקשה                 1.000000\nמנחות      מקשה                 1.000000\nנדה        מסכת                 0.333333\n           מקשה                 0.333333\n           שם                   0.333333\nסוטה       שם                   1.000000\nסוכה       מקשה                 0.666667\n           שמעתי= גירסא         0.333333\nסנהדרין    דוחה                 1.000000\nעירובין    מקשה                 0.857143\n           משקה                 0.142857\nערכין      דוחה                 0.333333\n           מקשה                 0.666667\nפסחים      דוחה                 0.333333\n           מקשה                 0.666667\nראש השנה   שם                   0.500000\n           שמעתי מציין גרסה.    0.500000\nשבועות     מקשה                 1.000000\nשבת        מסכת                 0.333333\n           מסכת, שם             0.333333\n           מקשה                 0.333333\ndtype: float64"
     },
     "execution_count": 58,
     "metadata": {},
     "output_type": "execute_result"
    }
   ],
   "source": [
    "# Ratio of tags all comments by masechet\n",
    "shamati.groupby(['Masechet', 'tags']).size() / shamati.groupby(['Masechet']).size()"
   ],
   "metadata": {
    "collapsed": false,
    "ExecuteTime": {
     "end_time": "2024-05-28T20:26:58.464971Z",
     "start_time": "2024-05-28T20:26:58.424777Z"
    }
   },
   "id": "99510d51b342e036"
  },
  {
   "cell_type": "code",
   "execution_count": 2,
   "outputs": [
    {
     "data": {
      "text/plain": "'ברכות'"
     },
     "execution_count": 2,
     "metadata": {},
     "output_type": "execute_result"
    }
   ],
   "source": [
    "rfn.mas_to_heb('Berakhot')"
   ],
   "metadata": {
    "collapsed": false,
    "ExecuteTime": {
     "end_time": "2024-05-28T20:34:05.767929Z",
     "start_time": "2024-05-28T20:34:05.744557Z"
    }
   },
   "id": "a27ff531abdf0c83"
  },
  {
   "cell_type": "code",
   "execution_count": 2,
   "outputs": [
    {
     "data": {
      "text/plain": "'עבודה זרה'"
     },
     "execution_count": 2,
     "metadata": {},
     "output_type": "execute_result"
    }
   ],
   "source": [
    "rfn.mas_to_heb('Avodah Zarah')"
   ],
   "metadata": {
    "collapsed": false,
    "ExecuteTime": {
     "end_time": "2024-05-28T20:35:38.983748Z",
     "start_time": "2024-05-28T20:35:38.959037Z"
    }
   },
   "id": "e2fa412941540b2e"
  },
  {
   "cell_type": "code",
   "execution_count": 2,
   "outputs": [
    {
     "data": {
      "text/plain": "'Zevachim'"
     },
     "execution_count": 2,
     "metadata": {},
     "output_type": "execute_result"
    }
   ],
   "source": [
    "rfn.heb_to_mas('ע\"א')"
   ],
   "metadata": {
    "collapsed": false,
    "ExecuteTime": {
     "end_time": "2024-05-28T20:38:54.327879Z",
     "start_time": "2024-05-28T20:38:54.309619Z"
    }
   },
   "id": "f97c5627941a42ff"
  },
  {
   "cell_type": "markdown",
   "source": [
    "# Named quotations"
   ],
   "metadata": {
    "collapsed": false
   },
   "id": "b479a062bcb59b39"
  },
  {
   "cell_type": "code",
   "execution_count": 19,
   "outputs": [],
   "source": [
    "named = pd.read_csv('other data/AllNamed2.csv')\n",
    "named.columns = ['Mas','Daf','Text', 'Search']\n",
    "# Drop if Mas is NaN\n",
    "named = named.dropna(subset = ['Mas'])\n",
    "for i,row in named.iterrows():\n",
    "    if 'רש\"י מסכת' in row['Mas']:\n",
    "        row['Mas'] = row['Mas'].split('רש\"י מסכת ')[1]\n",
    "    row['Mas'] = row['Mas'].strip()"
   ],
   "metadata": {
    "collapsed": false,
    "ExecuteTime": {
     "end_time": "2024-06-11T17:34:44.244590Z",
     "start_time": "2024-06-11T17:34:44.226057Z"
    }
   },
   "id": "ed5177737fb4d3d6"
  },
  {
   "cell_type": "code",
   "execution_count": 20,
   "outputs": [
    {
     "data": {
      "text/plain": "Mas\nשבת          26\nחולין        22\nבבא קמא      13\nגיטין        10\nסוכה          9\nיבמות         7\nבכורות        7\nקידושין       5\nראש השנה      5\nבבא מציעא     5\nעירובין       5\nכתובות        4\nזבחים         4\nביצה          4\nיומא          4\nמגילה         3\nתמורה         2\nכריתות        2\nנדה           2\nברכות         2\nפסחים         1\nחגיגה         1\nשבועות        1\nעבודה זרה     1\nמנחות         1\nName: count, dtype: int64"
     },
     "execution_count": 20,
     "metadata": {},
     "output_type": "execute_result"
    }
   ],
   "source": [
    "named['Mas'].value_counts()"
   ],
   "metadata": {
    "collapsed": false,
    "ExecuteTime": {
     "end_time": "2024-06-11T17:34:44.695835Z",
     "start_time": "2024-06-11T17:34:44.682040Z"
    }
   },
   "id": "64fd8d3a2e4cb16a"
  },
  {
   "cell_type": "code",
   "execution_count": 21,
   "outputs": [
    {
     "data": {
      "text/plain": "Mas        Search               \nבבא מציעא  #מורי                    1\n           #מורי [1:3] הזק(ן/ם)     1\n           החיפוש : #גאו(ן/ם)       1\n           יצחק בר' מנחם            1\n           רבינו משולם              1\n                                   ..\nשבת        החיפוש : #גאו(ן/ם)       1\n           יצחק בר' מנחם            1\n           ‫#רבינו [1:3] יעקב       3\nתמורה      #מורי                    1\n           יצחק בר' מנחם            1\nLength: 80, dtype: int64"
     },
     "execution_count": 21,
     "metadata": {},
     "output_type": "execute_result"
    }
   ],
   "source": [
    "named.groupby(['Mas','Search']).size()"
   ],
   "metadata": {
    "collapsed": false,
    "ExecuteTime": {
     "end_time": "2024-06-11T17:34:46.092586Z",
     "start_time": "2024-06-11T17:34:46.057839Z"
    }
   },
   "id": "f5b3eed4095bf643"
  },
  {
   "cell_type": "code",
   "execution_count": 27,
   "outputs": [
    {
     "data": {
      "text/plain": "     Mas                                  Daf  \\\n0    שבת             דף כ עמוד א ד\"ה תני רבי    \n10   שבת      דף כג עמוד א ד\"ה הרואה - העובר    \n11   שבת         דף פה עמוד ב ד\"ה בנוטה שורה    \n12   שבת          דף צב עמוד א ד\"ה משנה. שכן    \n13   שבת     דף קיט עמוד א ד\"ה סייניה - כובע    \n19   שבת        דף יב עמוד ב ד\"ה סועד - סומך    \n20   שבת  דף יט עמוד א ד\"ה מפליגין - מפרישין    \n21   שבת      דף כג עמוד א ד\"ה הרואה - העובר    \n101  שבת               דף סז עמוד א ד\"ה לכיפה   \n112  שבת              דף פ עמוד ב ד\"ה עד כאן    \n125  שבת       דף עג עמוד ב ד\"ה מפרק - תולדה    \n136  שבת         דף נט עמוד ב ד\"ה תרי המייני    \n137  שבת           דף סג עמוד ב ד\"ה יו\"ד ה\"א    \n138  שבת          דף סה עמוד א ד\"ה הא דמיהדק    \n139  שבת           דף סה עמוד ב ד\"ה וסבר שמא    \n140  שבת          דף סו עמוד ב ד\"ה בחללא דבי    \n141  שבת       דף סח עמוד א ד\"ה למעוטי ספיחי    \n142  שבת       דף עד עמוד ב ד\"ה מסרח - והלכך    \n143  שבת          דף קטו עמוד א ד\"ה בין שאין    \n144  שבת     דף קיט עמוד א ד\"ה סייניה - כובע    \n145  שבת      דף קיט עמוד א ד\"ה תריסר עיליתי    \n146  שבת       דף קכג עמוד א ד\"ה בסיכי זיירי    \n147  שבת       דף קכט עמוד א ד\"ה פתורא דיונה    \n148  שבת      דף קלט עמוד ב ד\"ה ונותנין ביצה    \n149  שבת      דף קנו עמוד ב ד\"ה במערב - שהוא    \n152  שבת        דף קלה עמוד ב ד\"ה כתנאי - הא    \n\n                                                  Text  \\\n0    כל אחד ואחד - כל עץ ועץ ולא תימא כיון שאחזה בר...   \n10   הרואה - העובר בשוק ורואה באחד החצרות דולק ומצא...   \n11   דרומית וכן כולן להרחיקן שלא יהיו זה כנגד זה כמ...   \n12   משנה. שכן משא בני קהת - בכתף ישאו (במדבר ז) וי...   \n13   סייניה - כובע ורבינו הלוי גרס: בסדיניה - בסודר...   \n19   סועד - סומך בתשות כחו ומשום רבינו יעקב: סוער ת...   \n20   מפליגין - מפרישין מן היבשה לים וזהו לשון [הפלג...   \n21   הרואה - העובר בשוק ורואה באחד החצרות דולק ומצא...   \n101  לכיפה - אונפול\"ש +ומשמעו - בועה נפיחה תחת העור...   \n112  אנדיפא - כלי חרס ולו שני דדין אחת למעלה ואחת ל...   \n125  ואתר תמרי - השיר התמרים. תולש - תולדה דקוצר. מ...   \n136  מידי דהוה אטלית מוזהבת - דהוי תכשיט ושריא ולמי...   \n137  מציץ - שהוא דבר מועט ומנאו עם תכשיטי כהן. יו\"ד...   \n138  הא דמיהדק - דר' יוחנן היה תוחב באזנו יפה ומהדק...   \n139  בזוחלין אף מקוה מטהר בזוחלין - תלמוד לומר אך מ...   \n140  זוזא חיוורא - צרוף וחדש. למלחתא - למקום שריפת ...   \n141  איתיה בתאנה וירק - מדרבנן. כל שהוא אוכל כו' - ...   \n142  רך ונימוק על ידי שנשלק הרבה. מסרח - והלכך אוכל...   \n143  מצילין אותן - כדקתני לקמן: למבוי שאינו מפולש ו...   \n144  אכיל להו - סופך ליפול בידו. אותבה בסייניה - עש...   \n145  אותבה בסייניה - עשה לו כובע של לבד ושבצו במשבצ...   \n146  שאסור לטלטלו - דהאי דקשרו בית הלל משום שמחת יו...   \n147  הקיז דם - וכל שכן חולה. צלחו ליה תכתקא דשאגא -...   \n148  בסודרין ובכפיפה מצרית - העשויה מצורי דקל. כפיפ...   \n149  צא מאיצטגנינותך - היינו דכתיב ויוצא אותו החוצה...   \n152  כתנאי - הא דרב אסי הכי גרסינן הא מילתא בשאלתות...   \n\n                       Search  \n0            #יצחק [1:3] הלוי  \n10   #!יצחק [1:3] !יהוד(ה/א)   \n11   #!יצחק [1:3] !יהוד(ה/א)   \n12   #!יצחק [1:3] !יהוד(ה/א)   \n13   #!יצחק [1:3] !יהוד(ה/א)   \n19        ‫#רבינו [1:3] יעקב   \n20        ‫#רבינו [1:3] יעקב   \n21        ‫#רבינו [1:3] יעקב   \n101             יצחק בר' מנחם  \n112     #מורי [1:3] הזק(ן/ם)   \n125       החיפוש : #גאו(ן/ם)   \n136              #רבינו הלוי   \n137              #רבינו הלוי   \n138              #רבינו הלוי   \n139              #רבינו הלוי   \n140              #רבינו הלוי   \n141              #רבינו הלוי   \n142              #רבינו הלוי   \n143              #רבינו הלוי   \n144              #רבינו הלוי   \n145              #רבינו הלוי   \n146              #רבינו הלוי   \n147              #רבינו הלוי   \n148              #רבינו הלוי   \n149              #רבינו הלוי   \n152        החיפוש : #!שאלתות   ",
      "text/html": "<div>\n<style scoped>\n    .dataframe tbody tr th:only-of-type {\n        vertical-align: middle;\n    }\n\n    .dataframe tbody tr th {\n        vertical-align: top;\n    }\n\n    .dataframe thead th {\n        text-align: right;\n    }\n</style>\n<table border=\"1\" class=\"dataframe\">\n  <thead>\n    <tr style=\"text-align: right;\">\n      <th></th>\n      <th>Mas</th>\n      <th>Daf</th>\n      <th>Text</th>\n      <th>Search</th>\n    </tr>\n  </thead>\n  <tbody>\n    <tr>\n      <th>0</th>\n      <td>שבת</td>\n      <td>דף כ עמוד א ד\"ה תני רבי</td>\n      <td>כל אחד ואחד - כל עץ ועץ ולא תימא כיון שאחזה בר...</td>\n      <td>#יצחק [1:3] הלוי</td>\n    </tr>\n    <tr>\n      <th>10</th>\n      <td>שבת</td>\n      <td>דף כג עמוד א ד\"ה הרואה - העובר</td>\n      <td>הרואה - העובר בשוק ורואה באחד החצרות דולק ומצא...</td>\n      <td>#!יצחק [1:3] !יהוד(ה/א)</td>\n    </tr>\n    <tr>\n      <th>11</th>\n      <td>שבת</td>\n      <td>דף פה עמוד ב ד\"ה בנוטה שורה</td>\n      <td>דרומית וכן כולן להרחיקן שלא יהיו זה כנגד זה כמ...</td>\n      <td>#!יצחק [1:3] !יהוד(ה/א)</td>\n    </tr>\n    <tr>\n      <th>12</th>\n      <td>שבת</td>\n      <td>דף צב עמוד א ד\"ה משנה. שכן</td>\n      <td>משנה. שכן משא בני קהת - בכתף ישאו (במדבר ז) וי...</td>\n      <td>#!יצחק [1:3] !יהוד(ה/א)</td>\n    </tr>\n    <tr>\n      <th>13</th>\n      <td>שבת</td>\n      <td>דף קיט עמוד א ד\"ה סייניה - כובע</td>\n      <td>סייניה - כובע ורבינו הלוי גרס: בסדיניה - בסודר...</td>\n      <td>#!יצחק [1:3] !יהוד(ה/א)</td>\n    </tr>\n    <tr>\n      <th>19</th>\n      <td>שבת</td>\n      <td>דף יב עמוד ב ד\"ה סועד - סומך</td>\n      <td>סועד - סומך בתשות כחו ומשום רבינו יעקב: סוער ת...</td>\n      <td>‫#רבינו [1:3] יעקב</td>\n    </tr>\n    <tr>\n      <th>20</th>\n      <td>שבת</td>\n      <td>דף יט עמוד א ד\"ה מפליגין - מפרישין</td>\n      <td>מפליגין - מפרישין מן היבשה לים וזהו לשון [הפלג...</td>\n      <td>‫#רבינו [1:3] יעקב</td>\n    </tr>\n    <tr>\n      <th>21</th>\n      <td>שבת</td>\n      <td>דף כג עמוד א ד\"ה הרואה - העובר</td>\n      <td>הרואה - העובר בשוק ורואה באחד החצרות דולק ומצא...</td>\n      <td>‫#רבינו [1:3] יעקב</td>\n    </tr>\n    <tr>\n      <th>101</th>\n      <td>שבת</td>\n      <td>דף סז עמוד א ד\"ה לכיפה</td>\n      <td>לכיפה - אונפול\"ש +ומשמעו - בועה נפיחה תחת העור...</td>\n      <td>יצחק בר' מנחם</td>\n    </tr>\n    <tr>\n      <th>112</th>\n      <td>שבת</td>\n      <td>דף פ עמוד ב ד\"ה עד כאן</td>\n      <td>אנדיפא - כלי חרס ולו שני דדין אחת למעלה ואחת ל...</td>\n      <td>#מורי [1:3] הזק(ן/ם)</td>\n    </tr>\n    <tr>\n      <th>125</th>\n      <td>שבת</td>\n      <td>דף עג עמוד ב ד\"ה מפרק - תולדה</td>\n      <td>ואתר תמרי - השיר התמרים. תולש - תולדה דקוצר. מ...</td>\n      <td>החיפוש : #גאו(ן/ם)</td>\n    </tr>\n    <tr>\n      <th>136</th>\n      <td>שבת</td>\n      <td>דף נט עמוד ב ד\"ה תרי המייני</td>\n      <td>מידי דהוה אטלית מוזהבת - דהוי תכשיט ושריא ולמי...</td>\n      <td>#רבינו הלוי</td>\n    </tr>\n    <tr>\n      <th>137</th>\n      <td>שבת</td>\n      <td>דף סג עמוד ב ד\"ה יו\"ד ה\"א</td>\n      <td>מציץ - שהוא דבר מועט ומנאו עם תכשיטי כהן. יו\"ד...</td>\n      <td>#רבינו הלוי</td>\n    </tr>\n    <tr>\n      <th>138</th>\n      <td>שבת</td>\n      <td>דף סה עמוד א ד\"ה הא דמיהדק</td>\n      <td>הא דמיהדק - דר' יוחנן היה תוחב באזנו יפה ומהדק...</td>\n      <td>#רבינו הלוי</td>\n    </tr>\n    <tr>\n      <th>139</th>\n      <td>שבת</td>\n      <td>דף סה עמוד ב ד\"ה וסבר שמא</td>\n      <td>בזוחלין אף מקוה מטהר בזוחלין - תלמוד לומר אך מ...</td>\n      <td>#רבינו הלוי</td>\n    </tr>\n    <tr>\n      <th>140</th>\n      <td>שבת</td>\n      <td>דף סו עמוד ב ד\"ה בחללא דבי</td>\n      <td>זוזא חיוורא - צרוף וחדש. למלחתא - למקום שריפת ...</td>\n      <td>#רבינו הלוי</td>\n    </tr>\n    <tr>\n      <th>141</th>\n      <td>שבת</td>\n      <td>דף סח עמוד א ד\"ה למעוטי ספיחי</td>\n      <td>איתיה בתאנה וירק - מדרבנן. כל שהוא אוכל כו' - ...</td>\n      <td>#רבינו הלוי</td>\n    </tr>\n    <tr>\n      <th>142</th>\n      <td>שבת</td>\n      <td>דף עד עמוד ב ד\"ה מסרח - והלכך</td>\n      <td>רך ונימוק על ידי שנשלק הרבה. מסרח - והלכך אוכל...</td>\n      <td>#רבינו הלוי</td>\n    </tr>\n    <tr>\n      <th>143</th>\n      <td>שבת</td>\n      <td>דף קטו עמוד א ד\"ה בין שאין</td>\n      <td>מצילין אותן - כדקתני לקמן: למבוי שאינו מפולש ו...</td>\n      <td>#רבינו הלוי</td>\n    </tr>\n    <tr>\n      <th>144</th>\n      <td>שבת</td>\n      <td>דף קיט עמוד א ד\"ה סייניה - כובע</td>\n      <td>אכיל להו - סופך ליפול בידו. אותבה בסייניה - עש...</td>\n      <td>#רבינו הלוי</td>\n    </tr>\n    <tr>\n      <th>145</th>\n      <td>שבת</td>\n      <td>דף קיט עמוד א ד\"ה תריסר עיליתי</td>\n      <td>אותבה בסייניה - עשה לו כובע של לבד ושבצו במשבצ...</td>\n      <td>#רבינו הלוי</td>\n    </tr>\n    <tr>\n      <th>146</th>\n      <td>שבת</td>\n      <td>דף קכג עמוד א ד\"ה בסיכי זיירי</td>\n      <td>שאסור לטלטלו - דהאי דקשרו בית הלל משום שמחת יו...</td>\n      <td>#רבינו הלוי</td>\n    </tr>\n    <tr>\n      <th>147</th>\n      <td>שבת</td>\n      <td>דף קכט עמוד א ד\"ה פתורא דיונה</td>\n      <td>הקיז דם - וכל שכן חולה. צלחו ליה תכתקא דשאגא -...</td>\n      <td>#רבינו הלוי</td>\n    </tr>\n    <tr>\n      <th>148</th>\n      <td>שבת</td>\n      <td>דף קלט עמוד ב ד\"ה ונותנין ביצה</td>\n      <td>בסודרין ובכפיפה מצרית - העשויה מצורי דקל. כפיפ...</td>\n      <td>#רבינו הלוי</td>\n    </tr>\n    <tr>\n      <th>149</th>\n      <td>שבת</td>\n      <td>דף קנו עמוד ב ד\"ה במערב - שהוא</td>\n      <td>צא מאיצטגנינותך - היינו דכתיב ויוצא אותו החוצה...</td>\n      <td>#רבינו הלוי</td>\n    </tr>\n    <tr>\n      <th>152</th>\n      <td>שבת</td>\n      <td>דף קלה עמוד ב ד\"ה כתנאי - הא</td>\n      <td>כתנאי - הא דרב אסי הכי גרסינן הא מילתא בשאלתות...</td>\n      <td>החיפוש : #!שאלתות</td>\n    </tr>\n  </tbody>\n</table>\n</div>"
     },
     "execution_count": 27,
     "metadata": {},
     "output_type": "execute_result"
    }
   ],
   "source": [
    "named[named['Mas']==\"שבת\"]"
   ],
   "metadata": {
    "collapsed": false,
    "ExecuteTime": {
     "end_time": "2024-06-11T17:51:29.448949Z",
     "start_time": "2024-06-11T17:51:29.424824Z"
    }
   },
   "id": "2c6458db7ae2dbf5"
  },
  {
   "cell_type": "code",
   "execution_count": 122,
   "outputs": [
    {
     "data": {
      "text/plain": "Search\n#מורי                                                      46\n#רבינו הלוי                                                16\n‫#רבינו [1:3] יעקב                                         14\n#מורי [1:3] הזק(ן/ם)                                       13\nהחיפוש : #גאו(ן/ם)                                         11\n#!יצחק [1:3] !יהוד(ה/א)                                    10\n#יצחק [1:3] הלוי                                            9\nהחיפוש : #!שאלתות                                           9\nיצחק בר' מנחם                                               3\nרבינו (סתם)                                                 2\nיוסף טוב עלם                                                2\nרבינו משולם                                                 1\nרבינו גרשום                                                 1\nרבינו גרשם בר' יהודה                                        1\nרבי אליעזר                                                  1\n??                                                          1\nאבא מורי                                                    1\nרבי שמואל מן ברבשטרא                                        1\nרבינו האי                                                   1\nרבינו הזקן                                                  1\nרבינו יצחק בר מנחם בספר כתב ידו של רבינו גרשום בן יהודה     1\nרבינו יצחק                                                  1\nName: count, dtype: int64"
     },
     "execution_count": 122,
     "metadata": {},
     "output_type": "execute_result"
    }
   ],
   "source": [
    "named['Search'].value_counts()"
   ],
   "metadata": {
    "collapsed": false,
    "ExecuteTime": {
     "start_time": "2024-06-19T23:54:57.120548Z"
    }
   },
   "id": "69f28b124f6e1636"
  },
  {
   "cell_type": "markdown",
   "source": [
    "## Answer: I think the missing value is just because the 1st line was mistakenly read as a heading row."
   ],
   "metadata": {
    "collapsed": false
   },
   "id": "e844bd905db070a4"
  },
  {
   "cell_type": "code",
   "execution_count": 124,
   "outputs": [
    {
     "data": {
      "text/plain": "Mas\nשבת         4\nראש השנה    2\nיומא        2\nברכות       1\nגיטין       1\nName: count, dtype: int64"
     },
     "execution_count": 124,
     "metadata": {},
     "output_type": "execute_result"
    }
   ],
   "source": [
    "named[named['Search']==\"#!יצחק [1:3] !יהוד(ה/א) \"]['Mas'].value_counts()"
   ],
   "metadata": {
    "collapsed": false,
    "ExecuteTime": {
     "end_time": "2024-06-19T23:59:57.342763Z",
     "start_time": "2024-06-19T23:59:57.313397Z"
    }
   },
   "id": "110655a52bf541f0"
  },
  {
   "cell_type": "code",
   "execution_count": 23,
   "outputs": [],
   "source": [
    "grouped = named.groupby(['Mas','Search']).size()\n",
    "# Save the grouped data\n",
    "grouped.to_excel('AllNamedCounts.xlsx')"
   ],
   "metadata": {
    "collapsed": false,
    "ExecuteTime": {
     "end_time": "2024-06-11T17:35:05.003517Z",
     "start_time": "2024-06-11T17:35:04.303628Z"
    }
   },
   "id": "723ed905e9cd0371"
  },
  {
   "cell_type": "markdown",
   "source": [
    "# Comparing Parallels"
   ],
   "metadata": {
    "collapsed": false
   },
   "id": "b8dba67333b743ba"
  },
  {
   "cell_type": "code",
   "execution_count": 3,
   "outputs": [],
   "source": [
    "paralells = pd.read_csv('/Users/ephraimmeiri/gitEtc/Rashi Thesis work/rashi_conservative_output1.csv')"
   ],
   "metadata": {
    "collapsed": false,
    "ExecuteTime": {
     "end_time": "2024-06-11T17:06:27.204365Z",
     "start_time": "2024-06-11T17:06:27.166787Z"
    }
   },
   "id": "6a0c4e999627ad1"
  },
  {
   "cell_type": "code",
   "execution_count": 28,
   "outputs": [
    {
     "data": {
      "text/plain": "Empty DataFrame\nColumns: [Unnamed: 0, masechet1, masechet2, loc1, loc2, txt1, txt2]\nIndex: []",
      "text/html": "<div>\n<style scoped>\n    .dataframe tbody tr th:only-of-type {\n        vertical-align: middle;\n    }\n\n    .dataframe tbody tr th {\n        vertical-align: top;\n    }\n\n    .dataframe thead th {\n        text-align: right;\n    }\n</style>\n<table border=\"1\" class=\"dataframe\">\n  <thead>\n    <tr style=\"text-align: right;\">\n      <th></th>\n      <th>Unnamed: 0</th>\n      <th>masechet1</th>\n      <th>masechet2</th>\n      <th>loc1</th>\n      <th>loc2</th>\n      <th>txt1</th>\n      <th>txt2</th>\n    </tr>\n  </thead>\n  <tbody>\n  </tbody>\n</table>\n</div>"
     },
     "execution_count": 28,
     "metadata": {},
     "output_type": "execute_result"
    }
   ],
   "source": [
    "paralells[paralells[\"masechet1\"]==\"Rosh Hashanah\"]"
   ],
   "metadata": {
    "collapsed": false,
    "ExecuteTime": {
     "end_time": "2024-06-11T18:02:00.727954Z",
     "start_time": "2024-06-11T18:02:00.695359Z"
    }
   },
   "id": "9cb54e0e54ab3c62"
  },
  {
   "cell_type": "code",
   "execution_count": 4,
   "outputs": [
    {
     "data": {
      "text/plain": "masechet1  masechet2\nArakhin    Arakhin       1\n           Bekhorot      1\n           Chullin       3\n           Eruvin        1\n           Gittin        2\n                        ..\nYevamot    Yoma          7\n           Zevachim      4\nYoma       Yoma         13\n           Zevachim     30\nZevachim   Zevachim     34\nLength: 282, dtype: int64"
     },
     "execution_count": 4,
     "metadata": {},
     "output_type": "execute_result"
    }
   ],
   "source": [
    "paralells.groupby(['masechet1','masechet2']).size()"
   ],
   "metadata": {
    "collapsed": false,
    "ExecuteTime": {
     "end_time": "2024-06-11T17:06:28.417394Z",
     "start_time": "2024-06-11T17:06:28.401348Z"
    }
   },
   "id": "96ce8aaa53f17768"
  },
  {
   "cell_type": "code",
   "execution_count": 5,
   "outputs": [
    {
     "data": {
      "text/plain": "1954"
     },
     "execution_count": 5,
     "metadata": {},
     "output_type": "execute_result"
    }
   ],
   "source": [
    "len(paralells)"
   ],
   "metadata": {
    "collapsed": false,
    "ExecuteTime": {
     "end_time": "2024-06-11T17:16:02.033659Z",
     "start_time": "2024-06-11T17:16:01.987335Z"
    }
   },
   "id": "4ea8c2ce6851bc42"
  },
  {
   "cell_type": "code",
   "execution_count": 6,
   "outputs": [],
   "source": [
    "parallels_by_masechet = dict()\n",
    "for mas in rfn.rashi_masechtot:\n",
    "    for mas2 in rfn.rashi_masechtot:\n",
    "        if mas != mas2:\n",
    "            if (mas,mas2) not in parallels_by_masechet:\n",
    "                parallels_by_masechet[(mas,mas2)]= paralells[\n",
    "                    ((paralells['masechet1'] == mas) & (paralells['masechet2']==mas2)) \n",
    "                  | ((paralells['masechet2'] == mas) & (paralells['masechet1'] == mas2))\n",
    "                ]\n"
   ],
   "metadata": {
    "collapsed": false,
    "ExecuteTime": {
     "end_time": "2024-06-11T17:16:04.976573Z",
     "start_time": "2024-06-11T17:16:04.199460Z"
    }
   },
   "id": "551e451547f9bff5"
  },
  {
   "cell_type": "code",
   "execution_count": 7,
   "outputs": [
    {
     "data": {
      "text/plain": "870"
     },
     "execution_count": 7,
     "metadata": {},
     "output_type": "execute_result"
    }
   ],
   "source": [
    "len(parallels_by_masechet)"
   ],
   "metadata": {
    "collapsed": false,
    "ExecuteTime": {
     "end_time": "2024-06-11T17:16:15.919785Z",
     "start_time": "2024-06-11T17:16:15.892124Z"
    }
   },
   "id": "add6f702716fe33c"
  },
  {
   "cell_type": "code",
   "execution_count": 9,
   "outputs": [
    {
     "data": {
      "text/plain": "      Unnamed: 0 masechet1 masechet2     loc1    loc2  \\\n18            18   Yevamot      Yoma    37b:6   18b:2   \n684          684   Yevamot      Yoma   78a:16   65a:2   \n939          939   Yevamot      Yoma    61a:8  18a:10   \n1200        1200   Yevamot      Yoma  111a:14  27b:10   \n1303        1303   Yevamot      Yoma    17b:5  2b:3-4   \n1801        1801   Yevamot      Yoma    73a:1   43b:3   \n1831        1831   Yevamot      Yoma    46b:2   32a:8   \n\n                                                   txt1  \\\n18    ['מאן הויא ליומי - מי חפצה לינשא לימים שאתעכב ...   \n684   ['והשניה תרעה - וכי אמרינן (תמורה דף טז.) חטאת...   \n939   ['מינהו אין - כלומר המלך מינהו אבל אחיו הכהנים...   \n1200  ['דלית לה תקנתא דהיתירא - דקתני בה וחרשת אסורה...   \n1303  ['זו היא שיבה כו\\' - דאע\"ג דלא דמו קראי להדדי ...   \n1801  ['הטהור - שטהרתי לך כאן מכלל שהוא טמא לדבר אחר...   \n1831  ['במקום שאין טעון כיבוס - כגון בעל קרי בעלמא ד...   \n\n                                                   txt2  \n18    ['מאן הויא ליומא - יש אשה שתנשא לי ליומא שאתעכ...  \n684   [\"ואמר ר' אושעיא - שני ירעה אפי' לרבי שהרי לא ...  \n939   ['מרתא בת בייתוס - אלמנה עשירה היתה וקידשה יהו...  \n1200  ['דלית ליה תקנתא - אם נשחט בלילה:', 'דאית ליה ...  \n1303  ['זו היא שיבה וזו היא ביאה - לדון גזירה שוה זה...  \n1801  ['והזה הטהור - האי טהור יתירא הוא דהא בטהור קא...  \n1831  ['מה מקום שאין טעון טבילה - כל ימות השנה הבא ל...  ",
      "text/html": "<div>\n<style scoped>\n    .dataframe tbody tr th:only-of-type {\n        vertical-align: middle;\n    }\n\n    .dataframe tbody tr th {\n        vertical-align: top;\n    }\n\n    .dataframe thead th {\n        text-align: right;\n    }\n</style>\n<table border=\"1\" class=\"dataframe\">\n  <thead>\n    <tr style=\"text-align: right;\">\n      <th></th>\n      <th>Unnamed: 0</th>\n      <th>masechet1</th>\n      <th>masechet2</th>\n      <th>loc1</th>\n      <th>loc2</th>\n      <th>txt1</th>\n      <th>txt2</th>\n    </tr>\n  </thead>\n  <tbody>\n    <tr>\n      <th>18</th>\n      <td>18</td>\n      <td>Yevamot</td>\n      <td>Yoma</td>\n      <td>37b:6</td>\n      <td>18b:2</td>\n      <td>['מאן הויא ליומי - מי חפצה לינשא לימים שאתעכב ...</td>\n      <td>['מאן הויא ליומא - יש אשה שתנשא לי ליומא שאתעכ...</td>\n    </tr>\n    <tr>\n      <th>684</th>\n      <td>684</td>\n      <td>Yevamot</td>\n      <td>Yoma</td>\n      <td>78a:16</td>\n      <td>65a:2</td>\n      <td>['והשניה תרעה - וכי אמרינן (תמורה דף טז.) חטאת...</td>\n      <td>[\"ואמר ר' אושעיא - שני ירעה אפי' לרבי שהרי לא ...</td>\n    </tr>\n    <tr>\n      <th>939</th>\n      <td>939</td>\n      <td>Yevamot</td>\n      <td>Yoma</td>\n      <td>61a:8</td>\n      <td>18a:10</td>\n      <td>['מינהו אין - כלומר המלך מינהו אבל אחיו הכהנים...</td>\n      <td>['מרתא בת בייתוס - אלמנה עשירה היתה וקידשה יהו...</td>\n    </tr>\n    <tr>\n      <th>1200</th>\n      <td>1200</td>\n      <td>Yevamot</td>\n      <td>Yoma</td>\n      <td>111a:14</td>\n      <td>27b:10</td>\n      <td>['דלית לה תקנתא דהיתירא - דקתני בה וחרשת אסורה...</td>\n      <td>['דלית ליה תקנתא - אם נשחט בלילה:', 'דאית ליה ...</td>\n    </tr>\n    <tr>\n      <th>1303</th>\n      <td>1303</td>\n      <td>Yevamot</td>\n      <td>Yoma</td>\n      <td>17b:5</td>\n      <td>2b:3-4</td>\n      <td>['זו היא שיבה כו\\' - דאע\"ג דלא דמו קראי להדדי ...</td>\n      <td>['זו היא שיבה וזו היא ביאה - לדון גזירה שוה זה...</td>\n    </tr>\n    <tr>\n      <th>1801</th>\n      <td>1801</td>\n      <td>Yevamot</td>\n      <td>Yoma</td>\n      <td>73a:1</td>\n      <td>43b:3</td>\n      <td>['הטהור - שטהרתי לך כאן מכלל שהוא טמא לדבר אחר...</td>\n      <td>['והזה הטהור - האי טהור יתירא הוא דהא בטהור קא...</td>\n    </tr>\n    <tr>\n      <th>1831</th>\n      <td>1831</td>\n      <td>Yevamot</td>\n      <td>Yoma</td>\n      <td>46b:2</td>\n      <td>32a:8</td>\n      <td>['במקום שאין טעון כיבוס - כגון בעל קרי בעלמא ד...</td>\n      <td>['מה מקום שאין טעון טבילה - כל ימות השנה הבא ל...</td>\n    </tr>\n  </tbody>\n</table>\n</div>"
     },
     "execution_count": 9,
     "metadata": {},
     "output_type": "execute_result"
    }
   ],
   "source": [
    "parallels_by_masechet[(\"Yevamot\",\"Yoma\")]"
   ],
   "metadata": {
    "collapsed": false,
    "ExecuteTime": {
     "end_time": "2024-06-11T17:18:35.031078Z",
     "start_time": "2024-06-11T17:18:34.992763Z"
    }
   },
   "id": "650ee0e5d33b61ef"
  },
  {
   "cell_type": "code",
   "execution_count": 10,
   "outputs": [
    {
     "data": {
      "text/plain": "      Unnamed: 0 masechet1 masechet2     loc1    loc2  \\\n18            18   Yevamot      Yoma    37b:6   18b:2   \n684          684   Yevamot      Yoma   78a:16   65a:2   \n939          939   Yevamot      Yoma    61a:8  18a:10   \n1200        1200   Yevamot      Yoma  111a:14  27b:10   \n1303        1303   Yevamot      Yoma    17b:5  2b:3-4   \n1801        1801   Yevamot      Yoma    73a:1   43b:3   \n1831        1831   Yevamot      Yoma    46b:2   32a:8   \n\n                                                   txt1  \\\n18    ['מאן הויא ליומי - מי חפצה לינשא לימים שאתעכב ...   \n684   ['והשניה תרעה - וכי אמרינן (תמורה דף טז.) חטאת...   \n939   ['מינהו אין - כלומר המלך מינהו אבל אחיו הכהנים...   \n1200  ['דלית לה תקנתא דהיתירא - דקתני בה וחרשת אסורה...   \n1303  ['זו היא שיבה כו\\' - דאע\"ג דלא דמו קראי להדדי ...   \n1801  ['הטהור - שטהרתי לך כאן מכלל שהוא טמא לדבר אחר...   \n1831  ['במקום שאין טעון כיבוס - כגון בעל קרי בעלמא ד...   \n\n                                                   txt2  \n18    ['מאן הויא ליומא - יש אשה שתנשא לי ליומא שאתעכ...  \n684   [\"ואמר ר' אושעיא - שני ירעה אפי' לרבי שהרי לא ...  \n939   ['מרתא בת בייתוס - אלמנה עשירה היתה וקידשה יהו...  \n1200  ['דלית ליה תקנתא - אם נשחט בלילה:', 'דאית ליה ...  \n1303  ['זו היא שיבה וזו היא ביאה - לדון גזירה שוה זה...  \n1801  ['והזה הטהור - האי טהור יתירא הוא דהא בטהור קא...  \n1831  ['מה מקום שאין טעון טבילה - כל ימות השנה הבא ל...  ",
      "text/html": "<div>\n<style scoped>\n    .dataframe tbody tr th:only-of-type {\n        vertical-align: middle;\n    }\n\n    .dataframe tbody tr th {\n        vertical-align: top;\n    }\n\n    .dataframe thead th {\n        text-align: right;\n    }\n</style>\n<table border=\"1\" class=\"dataframe\">\n  <thead>\n    <tr style=\"text-align: right;\">\n      <th></th>\n      <th>Unnamed: 0</th>\n      <th>masechet1</th>\n      <th>masechet2</th>\n      <th>loc1</th>\n      <th>loc2</th>\n      <th>txt1</th>\n      <th>txt2</th>\n    </tr>\n  </thead>\n  <tbody>\n    <tr>\n      <th>18</th>\n      <td>18</td>\n      <td>Yevamot</td>\n      <td>Yoma</td>\n      <td>37b:6</td>\n      <td>18b:2</td>\n      <td>['מאן הויא ליומי - מי חפצה לינשא לימים שאתעכב ...</td>\n      <td>['מאן הויא ליומא - יש אשה שתנשא לי ליומא שאתעכ...</td>\n    </tr>\n    <tr>\n      <th>684</th>\n      <td>684</td>\n      <td>Yevamot</td>\n      <td>Yoma</td>\n      <td>78a:16</td>\n      <td>65a:2</td>\n      <td>['והשניה תרעה - וכי אמרינן (תמורה דף טז.) חטאת...</td>\n      <td>[\"ואמר ר' אושעיא - שני ירעה אפי' לרבי שהרי לא ...</td>\n    </tr>\n    <tr>\n      <th>939</th>\n      <td>939</td>\n      <td>Yevamot</td>\n      <td>Yoma</td>\n      <td>61a:8</td>\n      <td>18a:10</td>\n      <td>['מינהו אין - כלומר המלך מינהו אבל אחיו הכהנים...</td>\n      <td>['מרתא בת בייתוס - אלמנה עשירה היתה וקידשה יהו...</td>\n    </tr>\n    <tr>\n      <th>1200</th>\n      <td>1200</td>\n      <td>Yevamot</td>\n      <td>Yoma</td>\n      <td>111a:14</td>\n      <td>27b:10</td>\n      <td>['דלית לה תקנתא דהיתירא - דקתני בה וחרשת אסורה...</td>\n      <td>['דלית ליה תקנתא - אם נשחט בלילה:', 'דאית ליה ...</td>\n    </tr>\n    <tr>\n      <th>1303</th>\n      <td>1303</td>\n      <td>Yevamot</td>\n      <td>Yoma</td>\n      <td>17b:5</td>\n      <td>2b:3-4</td>\n      <td>['זו היא שיבה כו\\' - דאע\"ג דלא דמו קראי להדדי ...</td>\n      <td>['זו היא שיבה וזו היא ביאה - לדון גזירה שוה זה...</td>\n    </tr>\n    <tr>\n      <th>1801</th>\n      <td>1801</td>\n      <td>Yevamot</td>\n      <td>Yoma</td>\n      <td>73a:1</td>\n      <td>43b:3</td>\n      <td>['הטהור - שטהרתי לך כאן מכלל שהוא טמא לדבר אחר...</td>\n      <td>['והזה הטהור - האי טהור יתירא הוא דהא בטהור קא...</td>\n    </tr>\n    <tr>\n      <th>1831</th>\n      <td>1831</td>\n      <td>Yevamot</td>\n      <td>Yoma</td>\n      <td>46b:2</td>\n      <td>32a:8</td>\n      <td>['במקום שאין טעון כיבוס - כגון בעל קרי בעלמא ד...</td>\n      <td>['מה מקום שאין טעון טבילה - כל ימות השנה הבא ל...</td>\n    </tr>\n  </tbody>\n</table>\n</div>"
     },
     "execution_count": 10,
     "metadata": {},
     "output_type": "execute_result"
    }
   ],
   "source": [
    "parallels_by_masechet[(\"Yoma\",\"Yevamot\")]"
   ],
   "metadata": {
    "collapsed": false,
    "ExecuteTime": {
     "end_time": "2024-06-11T17:19:27.454540Z",
     "start_time": "2024-06-11T17:19:27.429663Z"
    }
   },
   "id": "7d9858e11eefd3c4"
  },
  {
   "cell_type": "code",
   "execution_count": 12,
   "outputs": [
    {
     "ename": "KeyError",
     "evalue": "('Yevamot', 'Yevamot')",
     "output_type": "error",
     "traceback": [
      "\u001B[0;31m---------------------------------------------------------------------------\u001B[0m",
      "\u001B[0;31mKeyError\u001B[0m                                  Traceback (most recent call last)",
      "Cell \u001B[0;32mIn[12], line 1\u001B[0m\n\u001B[0;32m----> 1\u001B[0m \u001B[43mparallels_by_masechet\u001B[49m\u001B[43m[\u001B[49m\u001B[43m(\u001B[49m\u001B[38;5;124;43m\"\u001B[39;49m\u001B[38;5;124;43mYevamot\u001B[39;49m\u001B[38;5;124;43m\"\u001B[39;49m\u001B[43m,\u001B[49m\u001B[38;5;124;43m\"\u001B[39;49m\u001B[38;5;124;43mYevamot\u001B[39;49m\u001B[38;5;124;43m\"\u001B[39;49m\u001B[43m)\u001B[49m\u001B[43m]\u001B[49m\n",
      "\u001B[0;31mKeyError\u001B[0m: ('Yevamot', 'Yevamot')"
     ]
    }
   ],
   "source": [],
   "metadata": {
    "collapsed": false,
    "ExecuteTime": {
     "end_time": "2024-06-11T17:19:53.588949Z",
     "start_time": "2024-06-11T17:19:53.562449Z"
    }
   },
   "id": "266e0fafe2378ef5"
  },
  {
   "cell_type": "code",
   "execution_count": 26,
   "outputs": [
    {
     "ename": "KeyError",
     "evalue": "0",
     "output_type": "error",
     "traceback": [
      "\u001B[0;31m---------------------------------------------------------------------------\u001B[0m",
      "\u001B[0;31mKeyError\u001B[0m                                  Traceback (most recent call last)",
      "File \u001B[0;32m~/miniconda3/envs/Rashi Thesis work/lib/python3.10/site-packages/pandas/core/indexes/base.py:3653\u001B[0m, in \u001B[0;36mIndex.get_loc\u001B[0;34m(self, key)\u001B[0m\n\u001B[1;32m   3652\u001B[0m \u001B[38;5;28;01mtry\u001B[39;00m:\n\u001B[0;32m-> 3653\u001B[0m     \u001B[38;5;28;01mreturn\u001B[39;00m \u001B[38;5;28;43mself\u001B[39;49m\u001B[38;5;241;43m.\u001B[39;49m\u001B[43m_engine\u001B[49m\u001B[38;5;241;43m.\u001B[39;49m\u001B[43mget_loc\u001B[49m\u001B[43m(\u001B[49m\u001B[43mcasted_key\u001B[49m\u001B[43m)\u001B[49m\n\u001B[1;32m   3654\u001B[0m \u001B[38;5;28;01mexcept\u001B[39;00m \u001B[38;5;167;01mKeyError\u001B[39;00m \u001B[38;5;28;01mas\u001B[39;00m err:\n",
      "File \u001B[0;32m~/miniconda3/envs/Rashi Thesis work/lib/python3.10/site-packages/pandas/_libs/index.pyx:147\u001B[0m, in \u001B[0;36mpandas._libs.index.IndexEngine.get_loc\u001B[0;34m()\u001B[0m\n",
      "File \u001B[0;32m~/miniconda3/envs/Rashi Thesis work/lib/python3.10/site-packages/pandas/_libs/index.pyx:176\u001B[0m, in \u001B[0;36mpandas._libs.index.IndexEngine.get_loc\u001B[0;34m()\u001B[0m\n",
      "File \u001B[0;32mpandas/_libs/hashtable_class_helper.pxi:7080\u001B[0m, in \u001B[0;36mpandas._libs.hashtable.PyObjectHashTable.get_item\u001B[0;34m()\u001B[0m\n",
      "File \u001B[0;32mpandas/_libs/hashtable_class_helper.pxi:7088\u001B[0m, in \u001B[0;36mpandas._libs.hashtable.PyObjectHashTable.get_item\u001B[0;34m()\u001B[0m\n",
      "\u001B[0;31mKeyError\u001B[0m: 0",
      "\nThe above exception was the direct cause of the following exception:\n",
      "\u001B[0;31mKeyError\u001B[0m                                  Traceback (most recent call last)",
      "Cell \u001B[0;32mIn[26], line 2\u001B[0m\n\u001B[1;32m      1\u001B[0m \u001B[38;5;28;01mfor\u001B[39;00m k \u001B[38;5;129;01min\u001B[39;00m parallels_by_masechet:\n\u001B[0;32m----> 2\u001B[0m     parallels_by_masechet[k] \u001B[38;5;241m=\u001B[39m \u001B[43mparallels_by_masechet\u001B[49m\u001B[43m[\u001B[49m\u001B[43mk\u001B[49m\u001B[43m]\u001B[49m\u001B[43m[\u001B[49m\u001B[38;5;241;43m0\u001B[39;49m\u001B[43m]\u001B[49m\n",
      "File \u001B[0;32m~/miniconda3/envs/Rashi Thesis work/lib/python3.10/site-packages/pandas/core/frame.py:3761\u001B[0m, in \u001B[0;36mDataFrame.__getitem__\u001B[0;34m(self, key)\u001B[0m\n\u001B[1;32m   3759\u001B[0m \u001B[38;5;28;01mif\u001B[39;00m \u001B[38;5;28mself\u001B[39m\u001B[38;5;241m.\u001B[39mcolumns\u001B[38;5;241m.\u001B[39mnlevels \u001B[38;5;241m>\u001B[39m \u001B[38;5;241m1\u001B[39m:\n\u001B[1;32m   3760\u001B[0m     \u001B[38;5;28;01mreturn\u001B[39;00m \u001B[38;5;28mself\u001B[39m\u001B[38;5;241m.\u001B[39m_getitem_multilevel(key)\n\u001B[0;32m-> 3761\u001B[0m indexer \u001B[38;5;241m=\u001B[39m \u001B[38;5;28;43mself\u001B[39;49m\u001B[38;5;241;43m.\u001B[39;49m\u001B[43mcolumns\u001B[49m\u001B[38;5;241;43m.\u001B[39;49m\u001B[43mget_loc\u001B[49m\u001B[43m(\u001B[49m\u001B[43mkey\u001B[49m\u001B[43m)\u001B[49m\n\u001B[1;32m   3762\u001B[0m \u001B[38;5;28;01mif\u001B[39;00m is_integer(indexer):\n\u001B[1;32m   3763\u001B[0m     indexer \u001B[38;5;241m=\u001B[39m [indexer]\n",
      "File \u001B[0;32m~/miniconda3/envs/Rashi Thesis work/lib/python3.10/site-packages/pandas/core/indexes/base.py:3655\u001B[0m, in \u001B[0;36mIndex.get_loc\u001B[0;34m(self, key)\u001B[0m\n\u001B[1;32m   3653\u001B[0m     \u001B[38;5;28;01mreturn\u001B[39;00m \u001B[38;5;28mself\u001B[39m\u001B[38;5;241m.\u001B[39m_engine\u001B[38;5;241m.\u001B[39mget_loc(casted_key)\n\u001B[1;32m   3654\u001B[0m \u001B[38;5;28;01mexcept\u001B[39;00m \u001B[38;5;167;01mKeyError\u001B[39;00m \u001B[38;5;28;01mas\u001B[39;00m err:\n\u001B[0;32m-> 3655\u001B[0m     \u001B[38;5;28;01mraise\u001B[39;00m \u001B[38;5;167;01mKeyError\u001B[39;00m(key) \u001B[38;5;28;01mfrom\u001B[39;00m \u001B[38;5;21;01merr\u001B[39;00m\n\u001B[1;32m   3656\u001B[0m \u001B[38;5;28;01mexcept\u001B[39;00m \u001B[38;5;167;01mTypeError\u001B[39;00m:\n\u001B[1;32m   3657\u001B[0m     \u001B[38;5;66;03m# If we have a listlike key, _check_indexing_error will raise\u001B[39;00m\n\u001B[1;32m   3658\u001B[0m     \u001B[38;5;66;03m#  InvalidIndexError. Otherwise we fall through and re-raise\u001B[39;00m\n\u001B[1;32m   3659\u001B[0m     \u001B[38;5;66;03m#  the TypeError.\u001B[39;00m\n\u001B[1;32m   3660\u001B[0m     \u001B[38;5;28mself\u001B[39m\u001B[38;5;241m.\u001B[39m_check_indexing_error(key)\n",
      "\u001B[0;31mKeyError\u001B[0m: 0"
     ]
    }
   ],
   "source": [
    "for k in parallels_by_masechet:\n",
    "    parallels_by_masechet[k] = parallels_by_masechet[k][0]"
   ],
   "metadata": {
    "collapsed": false,
    "ExecuteTime": {
     "end_time": "2024-06-04T22:55:27.692443Z",
     "start_time": "2024-06-04T22:55:27.174080Z"
    }
   },
   "id": "39dbdc9f28efdd1a"
  },
  {
   "cell_type": "code",
   "execution_count": 27,
   "outputs": [
    {
     "data": {
      "text/plain": "      Unnamed: 0 masechet1 masechet2    loc1          loc2  \\\n125          125  Berakhot  Pesachim   49b:7  81b:23-82a:1   \n173          173  Berakhot  Pesachim  24a:13        42a:13   \n754          754  Berakhot  Pesachim   38b:7        41a:12   \n972          972  Berakhot  Pesachim   37a:5         35a:8   \n1005        1005  Berakhot  Pesachim   37a:5        114b:9   \n1212        1212  Berakhot  Pesachim  55b:12       110a:13   \n1456        1456  Berakhot  Pesachim   52a:7        105b:3   \n\n                                                   txt1  \\\n125          ['אם עבר צופים – מקום שיכול לראות בהמ\"ק:']   \n173   [\"התם אמר רבא – גבי תפילין תחת מראשותיו דקאמר ...   \n754              ['אבל לא במבושל – דתו לאו לחם איקרי:']   \n972   ['הא מני – הך מתניתא דקתני אורז כמעשה קדרה רבי...   \n1005  ['הא מני – הך מתניתא דקתני אורז כמעשה קדרה רבי...   \n1212                                   ['זקפא – גודל:']   \n1456               ['קדוש עיולי הוא והבדלה אפוקי היא:']   \n\n                                                   txt2  \n125   ['צופים - מקום שיכול לראות משם הבירה ומשם והלא...  \n173   [\"מחיתא מחיתינהו - כולם אריגה אחת אריגת' משום ...  \n754   ['יוצאין - ידי חובת מצה ברקיק השרוי בתבשיל לאח...  \n972   ['אורז ודוחן - אין עושין חמץ ואם מחמיצין אותן ...  \n1005  ['ש\"מ - מדקאמר רב הונא דמבשלין אורז בפסח ולא ח...  \n1212                                  ['זקפא - אגודל:']  \n1456  ['עיולי יומא - מחבבינא ליה ועבדינן קידוש מאורת...  ",
      "text/html": "<div>\n<style scoped>\n    .dataframe tbody tr th:only-of-type {\n        vertical-align: middle;\n    }\n\n    .dataframe tbody tr th {\n        vertical-align: top;\n    }\n\n    .dataframe thead th {\n        text-align: right;\n    }\n</style>\n<table border=\"1\" class=\"dataframe\">\n  <thead>\n    <tr style=\"text-align: right;\">\n      <th></th>\n      <th>Unnamed: 0</th>\n      <th>masechet1</th>\n      <th>masechet2</th>\n      <th>loc1</th>\n      <th>loc2</th>\n      <th>txt1</th>\n      <th>txt2</th>\n    </tr>\n  </thead>\n  <tbody>\n    <tr>\n      <th>125</th>\n      <td>125</td>\n      <td>Berakhot</td>\n      <td>Pesachim</td>\n      <td>49b:7</td>\n      <td>81b:23-82a:1</td>\n      <td>['אם עבר צופים – מקום שיכול לראות בהמ\"ק:']</td>\n      <td>['צופים - מקום שיכול לראות משם הבירה ומשם והלא...</td>\n    </tr>\n    <tr>\n      <th>173</th>\n      <td>173</td>\n      <td>Berakhot</td>\n      <td>Pesachim</td>\n      <td>24a:13</td>\n      <td>42a:13</td>\n      <td>[\"התם אמר רבא – גבי תפילין תחת מראשותיו דקאמר ...</td>\n      <td>[\"מחיתא מחיתינהו - כולם אריגה אחת אריגת' משום ...</td>\n    </tr>\n    <tr>\n      <th>754</th>\n      <td>754</td>\n      <td>Berakhot</td>\n      <td>Pesachim</td>\n      <td>38b:7</td>\n      <td>41a:12</td>\n      <td>['אבל לא במבושל – דתו לאו לחם איקרי:']</td>\n      <td>['יוצאין - ידי חובת מצה ברקיק השרוי בתבשיל לאח...</td>\n    </tr>\n    <tr>\n      <th>972</th>\n      <td>972</td>\n      <td>Berakhot</td>\n      <td>Pesachim</td>\n      <td>37a:5</td>\n      <td>35a:8</td>\n      <td>['הא מני – הך מתניתא דקתני אורז כמעשה קדרה רבי...</td>\n      <td>['אורז ודוחן - אין עושין חמץ ואם מחמיצין אותן ...</td>\n    </tr>\n    <tr>\n      <th>1005</th>\n      <td>1005</td>\n      <td>Berakhot</td>\n      <td>Pesachim</td>\n      <td>37a:5</td>\n      <td>114b:9</td>\n      <td>['הא מני – הך מתניתא דקתני אורז כמעשה קדרה רבי...</td>\n      <td>['ש\"מ - מדקאמר רב הונא דמבשלין אורז בפסח ולא ח...</td>\n    </tr>\n    <tr>\n      <th>1212</th>\n      <td>1212</td>\n      <td>Berakhot</td>\n      <td>Pesachim</td>\n      <td>55b:12</td>\n      <td>110a:13</td>\n      <td>['זקפא – גודל:']</td>\n      <td>['זקפא - אגודל:']</td>\n    </tr>\n    <tr>\n      <th>1456</th>\n      <td>1456</td>\n      <td>Berakhot</td>\n      <td>Pesachim</td>\n      <td>52a:7</td>\n      <td>105b:3</td>\n      <td>['קדוש עיולי הוא והבדלה אפוקי היא:']</td>\n      <td>['עיולי יומא - מחבבינא ליה ועבדינן קידוש מאורת...</td>\n    </tr>\n  </tbody>\n</table>\n</div>"
     },
     "execution_count": 27,
     "metadata": {},
     "output_type": "execute_result"
    }
   ],
   "source": [
    "parallels_by_masechet[('Pesachim','Berakhot')]"
   ],
   "metadata": {
    "collapsed": false,
    "ExecuteTime": {
     "end_time": "2024-06-04T22:55:34.676069Z",
     "start_time": "2024-06-04T22:55:34.658654Z"
    }
   },
   "id": "f9b2e51862564dba"
  },
  {
   "cell_type": "code",
   "execution_count": 34,
   "outputs": [
    {
     "name": "stdout",
     "output_type": "stream",
     "text": [
      "0.14814814814814814\n",
      "0.3181818181818182\n",
      "0.18604651162790697\n",
      "0.21311475409836064\n",
      "0.8125\n",
      "1.0\n",
      "0.2\n"
     ]
    }
   ],
   "source": [
    "for i,r in parallels_by_masechet[('Pesachim','Berakhot')].iterrows():\n",
    "    # print(len(r['txt1']), len(r['txt2']))\n",
    "    # print(r['txt1'])\n",
    "    # print(len(r['txt1'].split()), len(r['txt2'].split()))\n",
    "    print(len(r['txt1'].split())/len(r['txt2'].split()))"
   ],
   "metadata": {
    "collapsed": false,
    "ExecuteTime": {
     "end_time": "2024-06-04T22:59:54.757056Z",
     "start_time": "2024-06-04T22:59:54.731994Z"
    }
   },
   "id": "5c275515d3015793"
  },
  {
   "cell_type": "code",
   "execution_count": 13,
   "outputs": [
    {
     "name": "stderr",
     "output_type": "stream",
     "text": [
      "/Users/ephraimmeiri/miniconda3/envs/Rashi Thesis work/lib/python3.10/site-packages/numpy/core/fromnumeric.py:3504: RuntimeWarning: Mean of empty slice.\n",
      "  return _methods._mean(a, axis=axis, dtype=dtype,\n",
      "/Users/ephraimmeiri/miniconda3/envs/Rashi Thesis work/lib/python3.10/site-packages/numpy/core/_methods.py:129: RuntimeWarning: invalid value encountered in scalar divide\n",
      "  ret = ret.dtype.type(ret / rcount)\n"
     ]
    }
   ],
   "source": [
    "relaitve_lengths = dict()\n",
    "for k in parallels_by_masechet:\n",
    "    rel_lens=[]\n",
    "    for i,r in parallels_by_masechet[k].iterrows():\n",
    "        rel_lens.append(len(r['txt1'].split())/len(r['txt2'].split()))\n",
    "    relaitve_lengths[k]= np.mean(rel_lens)"
   ],
   "metadata": {
    "collapsed": false,
    "ExecuteTime": {
     "end_time": "2024-06-11T17:29:35.506167Z",
     "start_time": "2024-06-11T17:29:35.374332Z"
    }
   },
   "id": "c05bce5d1bc91614"
  },
  {
   "cell_type": "code",
   "execution_count": 14,
   "outputs": [
    {
     "data": {
      "text/plain": "870"
     },
     "execution_count": 14,
     "metadata": {},
     "output_type": "execute_result"
    }
   ],
   "source": [
    "len(relaitve_lengths)"
   ],
   "metadata": {
    "collapsed": false,
    "ExecuteTime": {
     "end_time": "2024-06-11T17:29:40.772880Z",
     "start_time": "2024-06-11T17:29:40.738436Z"
    }
   },
   "id": "b3a1c89c1c74cdba"
  },
  {
   "cell_type": "code",
   "execution_count": 15,
   "outputs": [
    {
     "data": {
      "text/plain": "1.233293317326931"
     },
     "execution_count": 15,
     "metadata": {},
     "output_type": "execute_result"
    }
   ],
   "source": [
    "relaitve_lengths[(\"Yevamot\",\"Yoma\")]"
   ],
   "metadata": {
    "collapsed": false,
    "ExecuteTime": {
     "end_time": "2024-06-11T17:30:09.760754Z",
     "start_time": "2024-06-11T17:30:09.731526Z"
    }
   },
   "id": "f8f60f05ee13eae8"
  },
  {
   "cell_type": "code",
   "execution_count": 16,
   "outputs": [
    {
     "data": {
      "text/plain": "1.233293317326931"
     },
     "execution_count": 16,
     "metadata": {},
     "output_type": "execute_result"
    }
   ],
   "source": [
    "relaitve_lengths[(\"Yoma\",\"Yevamot\")]"
   ],
   "metadata": {
    "collapsed": false,
    "ExecuteTime": {
     "end_time": "2024-06-11T17:30:26.659885Z",
     "start_time": "2024-06-11T17:30:26.629047Z"
    }
   },
   "id": "95e26f8018de99b5"
  },
  {
   "cell_type": "code",
   "execution_count": 17,
   "outputs": [
    {
     "data": {
      "text/plain": "                 Arakhin  Bekhorot   Chullin   Keritot  Menachot   Temurah  \\\nArakhin              NaN       2.0  0.921905  1.073232   4.27381  0.714286   \nBekhorot             2.0       NaN  1.034873  4.433712  1.913214  1.567981   \nChullin         0.921905  1.034873       NaN   1.69503  3.354327  1.995187   \nKeritot         1.073232  4.433712   1.69503       NaN       NaN  0.407143   \nMenachot         4.27381  1.913214  3.354327       NaN       NaN     1.525   \nTemurah         0.714286  1.567981  1.995187  0.407143     1.525       NaN   \nZevachim        0.713793   1.35141  1.955821    0.1614  1.600516  1.944782   \nBeitzah              NaN  2.086942  1.784443  3.666667  3.027778  0.090909   \nChagigah             NaN  0.606665  1.615288      12.8  0.949075     0.625   \nEruvin          2.333333  0.158416  1.083298   3.15625  1.864641       NaN   \nPesachim        0.209063  0.463259  0.849704  0.152778  2.096511  2.743384   \nMegillah        0.899199       NaN   1.03125       NaN  0.694989       NaN   \nRosh Hashanah        NaN       NaN       NaN       NaN       NaN       NaN   \nShabbat         0.740741  1.471921   1.77832  2.638826  0.592647       NaN   \nSukkah             0.275  3.166667     2.375  1.189655  0.830321       NaN   \nYoma            1.331395    8.0125  2.505255  0.354167  1.725547  1.228791   \nGittin           5.77027   0.37585  2.447736  1.318182  1.604329       NaN   \nKetubot         0.702759  0.921776  0.922643  0.925991  1.448387       NaN   \nKiddushin       4.774405  2.323652  1.455086       1.4  1.310765  1.334691   \nSotah           0.707143       NaN  1.148934  0.311475  1.921401       NaN   \nYevamot            1.125  2.044603  1.223127  0.916667  1.672096  0.506783   \nBava Batra           NaN       NaN       NaN       NaN       NaN       NaN   \nBava Kamma           NaN       NaN       NaN       NaN       NaN       NaN   \nBava Metzia          NaN       NaN       NaN       NaN       NaN       NaN   \nAvodah Zarah         NaN       NaN       NaN       NaN       NaN       NaN   \nMakkot               NaN       NaN  1.434459  0.533333  2.414279  1.344586   \nSanhedrin            NaN  0.733959  0.769345  2.667316  1.938504  1.305195   \nShevuot        14.285714       0.8  3.192798  0.607216  1.067801  4.189524   \nNiddah          1.105263  3.094291  1.199009  0.513889  0.875062  1.776515   \nBerakhot             NaN       NaN  0.332258       NaN       1.6       NaN   \n\n               Zevachim   Beitzah  Chagigah    Eruvin  ...   Yevamot  \\\nArakhin        0.713793       NaN       NaN  2.333333  ...     1.125   \nBekhorot        1.35141  2.086942  0.606665  0.158416  ...  2.044603   \nChullin        1.955821  1.784443  1.615288  1.083298  ...  1.223127   \nKeritot          0.1614  3.666667      12.8   3.15625  ...  0.916667   \nMenachot       1.600516  3.027778  0.949075  1.864641  ...  1.672096   \nTemurah        1.944782  0.090909     0.625       NaN  ...  0.506783   \nZevachim            NaN      3.04   2.42316   1.79326  ...  1.773641   \nBeitzah            3.04       NaN  1.051101   1.71379  ...  1.506394   \nChagigah        2.42316  1.051101       NaN  1.842105  ...  0.550067   \nEruvin          1.79326   1.71379  1.842105       NaN  ...  3.718056   \nPesachim       1.770474  2.591431  0.854971  2.859627  ...  3.467857   \nMegillah       0.553858       NaN       NaN  1.277778  ...  3.801681   \nRosh Hashanah       NaN       NaN       NaN       NaN  ...       NaN   \nShabbat        1.093466    2.3003  0.389583  1.715191  ...  2.397142   \nSukkah         7.639697  0.615385  0.990196  1.543215  ...  2.200893   \nYoma            1.69609       NaN   1.95102  2.230241  ...  1.233293   \nGittin         1.230466  0.811535       NaN  1.807959  ...   1.68255   \nKetubot             NaN  1.956522     0.375  2.115954  ...  2.088372   \nKiddushin       2.23031  3.052632       NaN    3.7687  ...   1.34567   \nSotah          5.003125       NaN  1.491216       NaN  ...  1.824904   \nYevamot        1.773641  1.506394  0.550067  3.718056  ...       NaN   \nBava Batra          NaN       NaN       NaN       NaN  ...       NaN   \nBava Kamma          NaN       NaN       NaN       NaN  ...       NaN   \nBava Metzia         NaN       NaN       NaN       NaN  ...       NaN   \nAvodah Zarah        NaN       NaN       NaN       NaN  ...       NaN   \nMakkot         1.176566       NaN      0.75  7.608333  ...  1.021361   \nSanhedrin      1.692069  0.694915  3.212481  1.711994  ...  1.361256   \nShevuot        2.579325       NaN       NaN   0.72987  ...  0.760786   \nNiddah         0.648949       NaN       NaN  3.293873  ...  1.330952   \nBerakhot            NaN      0.28  0.303571  0.375016  ...   0.46875   \n\n              Bava Batra Bava Kamma Bava Metzia Avodah Zarah    Makkot  \\\nArakhin              NaN        NaN         NaN          NaN       NaN   \nBekhorot             NaN        NaN         NaN          NaN       NaN   \nChullin              NaN        NaN         NaN          NaN  1.434459   \nKeritot              NaN        NaN         NaN          NaN  0.533333   \nMenachot             NaN        NaN         NaN          NaN  2.414279   \nTemurah              NaN        NaN         NaN          NaN  1.344586   \nZevachim             NaN        NaN         NaN          NaN  1.176566   \nBeitzah              NaN        NaN         NaN          NaN       NaN   \nChagigah             NaN        NaN         NaN          NaN      0.75   \nEruvin               NaN        NaN         NaN          NaN  7.608333   \nPesachim             NaN        NaN         NaN          NaN  1.285714   \nMegillah             NaN        NaN         NaN          NaN  1.211538   \nRosh Hashanah        NaN        NaN         NaN          NaN       NaN   \nShabbat              NaN        NaN         NaN          NaN  1.286694   \nSukkah               NaN        NaN         NaN          NaN  1.939236   \nYoma                 NaN        NaN         NaN          NaN  0.909091   \nGittin               NaN        NaN         NaN          NaN  0.836898   \nKetubot              NaN        NaN         NaN          NaN  0.555556   \nKiddushin            NaN        NaN         NaN          NaN  1.057525   \nSotah                NaN        NaN         NaN          NaN       2.0   \nYevamot              NaN        NaN         NaN          NaN  1.021361   \nBava Batra           NaN        NaN         NaN          NaN       NaN   \nBava Kamma           NaN        NaN         NaN          NaN       NaN   \nBava Metzia          NaN        NaN         NaN          NaN       NaN   \nAvodah Zarah         NaN        NaN         NaN          NaN       NaN   \nMakkot               NaN        NaN         NaN          NaN       NaN   \nSanhedrin            NaN        NaN         NaN          NaN  1.338038   \nShevuot              NaN        NaN         NaN          NaN  1.816114   \nNiddah               NaN        NaN         NaN          NaN  1.396811   \nBerakhot             NaN        NaN         NaN          NaN       NaN   \n\n              Sanhedrin    Shevuot    Niddah  Berakhot  \nArakhin             NaN  14.285714  1.105263       NaN  \nBekhorot       0.733959        0.8  3.094291       NaN  \nChullin        0.769345   3.192798  1.199009  0.332258  \nKeritot        2.667316   0.607216  0.513889       NaN  \nMenachot       1.938504   1.067801  0.875062       1.6  \nTemurah        1.305195   4.189524  1.776515       NaN  \nZevachim       1.692069   2.579325  0.648949       NaN  \nBeitzah        0.694915        NaN       NaN      0.28  \nChagigah       3.212481        NaN       NaN  0.303571  \nEruvin         1.711994    0.72987  3.293873  0.375016  \nPesachim       2.940723    1.13994  1.624433  0.411142  \nMegillah       0.905346        1.0  0.538462  0.706478  \nRosh Hashanah       NaN        NaN       NaN       NaN  \nShabbat        3.266571   4.572681  5.501877  0.715278  \nSukkah         1.110048        0.5   1.08447  0.670732  \nYoma           0.847756   1.110166  0.810359  1.014929  \nGittin         1.488921        NaN  0.307143       NaN  \nKetubot         2.55717   1.426797  1.230731       NaN  \nKiddushin      1.089315   1.366667       NaN  0.479592  \nSotah          1.125972   0.599729  0.829787  1.176471  \nYevamot        1.361256   0.760786  1.330952   0.46875  \nBava Batra          NaN        NaN       NaN       NaN  \nBava Kamma          NaN        NaN       NaN       NaN  \nBava Metzia         NaN        NaN       NaN       NaN  \nAvodah Zarah        NaN        NaN       NaN       NaN  \nMakkot         1.338038   1.816114  1.396811       NaN  \nSanhedrin           NaN   2.257424  1.020255    0.2903  \nShevuot        2.257424        NaN  1.862484  0.728501  \nNiddah         1.020255   1.862484       NaN       NaN  \nBerakhot         0.2903   0.728501       NaN       NaN  \n\n[30 rows x 30 columns]",
      "text/html": "<div>\n<style scoped>\n    .dataframe tbody tr th:only-of-type {\n        vertical-align: middle;\n    }\n\n    .dataframe tbody tr th {\n        vertical-align: top;\n    }\n\n    .dataframe thead th {\n        text-align: right;\n    }\n</style>\n<table border=\"1\" class=\"dataframe\">\n  <thead>\n    <tr style=\"text-align: right;\">\n      <th></th>\n      <th>Arakhin</th>\n      <th>Bekhorot</th>\n      <th>Chullin</th>\n      <th>Keritot</th>\n      <th>Menachot</th>\n      <th>Temurah</th>\n      <th>Zevachim</th>\n      <th>Beitzah</th>\n      <th>Chagigah</th>\n      <th>Eruvin</th>\n      <th>...</th>\n      <th>Yevamot</th>\n      <th>Bava Batra</th>\n      <th>Bava Kamma</th>\n      <th>Bava Metzia</th>\n      <th>Avodah Zarah</th>\n      <th>Makkot</th>\n      <th>Sanhedrin</th>\n      <th>Shevuot</th>\n      <th>Niddah</th>\n      <th>Berakhot</th>\n    </tr>\n  </thead>\n  <tbody>\n    <tr>\n      <th>Arakhin</th>\n      <td>NaN</td>\n      <td>2.0</td>\n      <td>0.921905</td>\n      <td>1.073232</td>\n      <td>4.27381</td>\n      <td>0.714286</td>\n      <td>0.713793</td>\n      <td>NaN</td>\n      <td>NaN</td>\n      <td>2.333333</td>\n      <td>...</td>\n      <td>1.125</td>\n      <td>NaN</td>\n      <td>NaN</td>\n      <td>NaN</td>\n      <td>NaN</td>\n      <td>NaN</td>\n      <td>NaN</td>\n      <td>14.285714</td>\n      <td>1.105263</td>\n      <td>NaN</td>\n    </tr>\n    <tr>\n      <th>Bekhorot</th>\n      <td>2.0</td>\n      <td>NaN</td>\n      <td>1.034873</td>\n      <td>4.433712</td>\n      <td>1.913214</td>\n      <td>1.567981</td>\n      <td>1.35141</td>\n      <td>2.086942</td>\n      <td>0.606665</td>\n      <td>0.158416</td>\n      <td>...</td>\n      <td>2.044603</td>\n      <td>NaN</td>\n      <td>NaN</td>\n      <td>NaN</td>\n      <td>NaN</td>\n      <td>NaN</td>\n      <td>0.733959</td>\n      <td>0.8</td>\n      <td>3.094291</td>\n      <td>NaN</td>\n    </tr>\n    <tr>\n      <th>Chullin</th>\n      <td>0.921905</td>\n      <td>1.034873</td>\n      <td>NaN</td>\n      <td>1.69503</td>\n      <td>3.354327</td>\n      <td>1.995187</td>\n      <td>1.955821</td>\n      <td>1.784443</td>\n      <td>1.615288</td>\n      <td>1.083298</td>\n      <td>...</td>\n      <td>1.223127</td>\n      <td>NaN</td>\n      <td>NaN</td>\n      <td>NaN</td>\n      <td>NaN</td>\n      <td>1.434459</td>\n      <td>0.769345</td>\n      <td>3.192798</td>\n      <td>1.199009</td>\n      <td>0.332258</td>\n    </tr>\n    <tr>\n      <th>Keritot</th>\n      <td>1.073232</td>\n      <td>4.433712</td>\n      <td>1.69503</td>\n      <td>NaN</td>\n      <td>NaN</td>\n      <td>0.407143</td>\n      <td>0.1614</td>\n      <td>3.666667</td>\n      <td>12.8</td>\n      <td>3.15625</td>\n      <td>...</td>\n      <td>0.916667</td>\n      <td>NaN</td>\n      <td>NaN</td>\n      <td>NaN</td>\n      <td>NaN</td>\n      <td>0.533333</td>\n      <td>2.667316</td>\n      <td>0.607216</td>\n      <td>0.513889</td>\n      <td>NaN</td>\n    </tr>\n    <tr>\n      <th>Menachot</th>\n      <td>4.27381</td>\n      <td>1.913214</td>\n      <td>3.354327</td>\n      <td>NaN</td>\n      <td>NaN</td>\n      <td>1.525</td>\n      <td>1.600516</td>\n      <td>3.027778</td>\n      <td>0.949075</td>\n      <td>1.864641</td>\n      <td>...</td>\n      <td>1.672096</td>\n      <td>NaN</td>\n      <td>NaN</td>\n      <td>NaN</td>\n      <td>NaN</td>\n      <td>2.414279</td>\n      <td>1.938504</td>\n      <td>1.067801</td>\n      <td>0.875062</td>\n      <td>1.6</td>\n    </tr>\n    <tr>\n      <th>Temurah</th>\n      <td>0.714286</td>\n      <td>1.567981</td>\n      <td>1.995187</td>\n      <td>0.407143</td>\n      <td>1.525</td>\n      <td>NaN</td>\n      <td>1.944782</td>\n      <td>0.090909</td>\n      <td>0.625</td>\n      <td>NaN</td>\n      <td>...</td>\n      <td>0.506783</td>\n      <td>NaN</td>\n      <td>NaN</td>\n      <td>NaN</td>\n      <td>NaN</td>\n      <td>1.344586</td>\n      <td>1.305195</td>\n      <td>4.189524</td>\n      <td>1.776515</td>\n      <td>NaN</td>\n    </tr>\n    <tr>\n      <th>Zevachim</th>\n      <td>0.713793</td>\n      <td>1.35141</td>\n      <td>1.955821</td>\n      <td>0.1614</td>\n      <td>1.600516</td>\n      <td>1.944782</td>\n      <td>NaN</td>\n      <td>3.04</td>\n      <td>2.42316</td>\n      <td>1.79326</td>\n      <td>...</td>\n      <td>1.773641</td>\n      <td>NaN</td>\n      <td>NaN</td>\n      <td>NaN</td>\n      <td>NaN</td>\n      <td>1.176566</td>\n      <td>1.692069</td>\n      <td>2.579325</td>\n      <td>0.648949</td>\n      <td>NaN</td>\n    </tr>\n    <tr>\n      <th>Beitzah</th>\n      <td>NaN</td>\n      <td>2.086942</td>\n      <td>1.784443</td>\n      <td>3.666667</td>\n      <td>3.027778</td>\n      <td>0.090909</td>\n      <td>3.04</td>\n      <td>NaN</td>\n      <td>1.051101</td>\n      <td>1.71379</td>\n      <td>...</td>\n      <td>1.506394</td>\n      <td>NaN</td>\n      <td>NaN</td>\n      <td>NaN</td>\n      <td>NaN</td>\n      <td>NaN</td>\n      <td>0.694915</td>\n      <td>NaN</td>\n      <td>NaN</td>\n      <td>0.28</td>\n    </tr>\n    <tr>\n      <th>Chagigah</th>\n      <td>NaN</td>\n      <td>0.606665</td>\n      <td>1.615288</td>\n      <td>12.8</td>\n      <td>0.949075</td>\n      <td>0.625</td>\n      <td>2.42316</td>\n      <td>1.051101</td>\n      <td>NaN</td>\n      <td>1.842105</td>\n      <td>...</td>\n      <td>0.550067</td>\n      <td>NaN</td>\n      <td>NaN</td>\n      <td>NaN</td>\n      <td>NaN</td>\n      <td>0.75</td>\n      <td>3.212481</td>\n      <td>NaN</td>\n      <td>NaN</td>\n      <td>0.303571</td>\n    </tr>\n    <tr>\n      <th>Eruvin</th>\n      <td>2.333333</td>\n      <td>0.158416</td>\n      <td>1.083298</td>\n      <td>3.15625</td>\n      <td>1.864641</td>\n      <td>NaN</td>\n      <td>1.79326</td>\n      <td>1.71379</td>\n      <td>1.842105</td>\n      <td>NaN</td>\n      <td>...</td>\n      <td>3.718056</td>\n      <td>NaN</td>\n      <td>NaN</td>\n      <td>NaN</td>\n      <td>NaN</td>\n      <td>7.608333</td>\n      <td>1.711994</td>\n      <td>0.72987</td>\n      <td>3.293873</td>\n      <td>0.375016</td>\n    </tr>\n    <tr>\n      <th>Pesachim</th>\n      <td>0.209063</td>\n      <td>0.463259</td>\n      <td>0.849704</td>\n      <td>0.152778</td>\n      <td>2.096511</td>\n      <td>2.743384</td>\n      <td>1.770474</td>\n      <td>2.591431</td>\n      <td>0.854971</td>\n      <td>2.859627</td>\n      <td>...</td>\n      <td>3.467857</td>\n      <td>NaN</td>\n      <td>NaN</td>\n      <td>NaN</td>\n      <td>NaN</td>\n      <td>1.285714</td>\n      <td>2.940723</td>\n      <td>1.13994</td>\n      <td>1.624433</td>\n      <td>0.411142</td>\n    </tr>\n    <tr>\n      <th>Megillah</th>\n      <td>0.899199</td>\n      <td>NaN</td>\n      <td>1.03125</td>\n      <td>NaN</td>\n      <td>0.694989</td>\n      <td>NaN</td>\n      <td>0.553858</td>\n      <td>NaN</td>\n      <td>NaN</td>\n      <td>1.277778</td>\n      <td>...</td>\n      <td>3.801681</td>\n      <td>NaN</td>\n      <td>NaN</td>\n      <td>NaN</td>\n      <td>NaN</td>\n      <td>1.211538</td>\n      <td>0.905346</td>\n      <td>1.0</td>\n      <td>0.538462</td>\n      <td>0.706478</td>\n    </tr>\n    <tr>\n      <th>Rosh Hashanah</th>\n      <td>NaN</td>\n      <td>NaN</td>\n      <td>NaN</td>\n      <td>NaN</td>\n      <td>NaN</td>\n      <td>NaN</td>\n      <td>NaN</td>\n      <td>NaN</td>\n      <td>NaN</td>\n      <td>NaN</td>\n      <td>...</td>\n      <td>NaN</td>\n      <td>NaN</td>\n      <td>NaN</td>\n      <td>NaN</td>\n      <td>NaN</td>\n      <td>NaN</td>\n      <td>NaN</td>\n      <td>NaN</td>\n      <td>NaN</td>\n      <td>NaN</td>\n    </tr>\n    <tr>\n      <th>Shabbat</th>\n      <td>0.740741</td>\n      <td>1.471921</td>\n      <td>1.77832</td>\n      <td>2.638826</td>\n      <td>0.592647</td>\n      <td>NaN</td>\n      <td>1.093466</td>\n      <td>2.3003</td>\n      <td>0.389583</td>\n      <td>1.715191</td>\n      <td>...</td>\n      <td>2.397142</td>\n      <td>NaN</td>\n      <td>NaN</td>\n      <td>NaN</td>\n      <td>NaN</td>\n      <td>1.286694</td>\n      <td>3.266571</td>\n      <td>4.572681</td>\n      <td>5.501877</td>\n      <td>0.715278</td>\n    </tr>\n    <tr>\n      <th>Sukkah</th>\n      <td>0.275</td>\n      <td>3.166667</td>\n      <td>2.375</td>\n      <td>1.189655</td>\n      <td>0.830321</td>\n      <td>NaN</td>\n      <td>7.639697</td>\n      <td>0.615385</td>\n      <td>0.990196</td>\n      <td>1.543215</td>\n      <td>...</td>\n      <td>2.200893</td>\n      <td>NaN</td>\n      <td>NaN</td>\n      <td>NaN</td>\n      <td>NaN</td>\n      <td>1.939236</td>\n      <td>1.110048</td>\n      <td>0.5</td>\n      <td>1.08447</td>\n      <td>0.670732</td>\n    </tr>\n    <tr>\n      <th>Yoma</th>\n      <td>1.331395</td>\n      <td>8.0125</td>\n      <td>2.505255</td>\n      <td>0.354167</td>\n      <td>1.725547</td>\n      <td>1.228791</td>\n      <td>1.69609</td>\n      <td>NaN</td>\n      <td>1.95102</td>\n      <td>2.230241</td>\n      <td>...</td>\n      <td>1.233293</td>\n      <td>NaN</td>\n      <td>NaN</td>\n      <td>NaN</td>\n      <td>NaN</td>\n      <td>0.909091</td>\n      <td>0.847756</td>\n      <td>1.110166</td>\n      <td>0.810359</td>\n      <td>1.014929</td>\n    </tr>\n    <tr>\n      <th>Gittin</th>\n      <td>5.77027</td>\n      <td>0.37585</td>\n      <td>2.447736</td>\n      <td>1.318182</td>\n      <td>1.604329</td>\n      <td>NaN</td>\n      <td>1.230466</td>\n      <td>0.811535</td>\n      <td>NaN</td>\n      <td>1.807959</td>\n      <td>...</td>\n      <td>1.68255</td>\n      <td>NaN</td>\n      <td>NaN</td>\n      <td>NaN</td>\n      <td>NaN</td>\n      <td>0.836898</td>\n      <td>1.488921</td>\n      <td>NaN</td>\n      <td>0.307143</td>\n      <td>NaN</td>\n    </tr>\n    <tr>\n      <th>Ketubot</th>\n      <td>0.702759</td>\n      <td>0.921776</td>\n      <td>0.922643</td>\n      <td>0.925991</td>\n      <td>1.448387</td>\n      <td>NaN</td>\n      <td>NaN</td>\n      <td>1.956522</td>\n      <td>0.375</td>\n      <td>2.115954</td>\n      <td>...</td>\n      <td>2.088372</td>\n      <td>NaN</td>\n      <td>NaN</td>\n      <td>NaN</td>\n      <td>NaN</td>\n      <td>0.555556</td>\n      <td>2.55717</td>\n      <td>1.426797</td>\n      <td>1.230731</td>\n      <td>NaN</td>\n    </tr>\n    <tr>\n      <th>Kiddushin</th>\n      <td>4.774405</td>\n      <td>2.323652</td>\n      <td>1.455086</td>\n      <td>1.4</td>\n      <td>1.310765</td>\n      <td>1.334691</td>\n      <td>2.23031</td>\n      <td>3.052632</td>\n      <td>NaN</td>\n      <td>3.7687</td>\n      <td>...</td>\n      <td>1.34567</td>\n      <td>NaN</td>\n      <td>NaN</td>\n      <td>NaN</td>\n      <td>NaN</td>\n      <td>1.057525</td>\n      <td>1.089315</td>\n      <td>1.366667</td>\n      <td>NaN</td>\n      <td>0.479592</td>\n    </tr>\n    <tr>\n      <th>Sotah</th>\n      <td>0.707143</td>\n      <td>NaN</td>\n      <td>1.148934</td>\n      <td>0.311475</td>\n      <td>1.921401</td>\n      <td>NaN</td>\n      <td>5.003125</td>\n      <td>NaN</td>\n      <td>1.491216</td>\n      <td>NaN</td>\n      <td>...</td>\n      <td>1.824904</td>\n      <td>NaN</td>\n      <td>NaN</td>\n      <td>NaN</td>\n      <td>NaN</td>\n      <td>2.0</td>\n      <td>1.125972</td>\n      <td>0.599729</td>\n      <td>0.829787</td>\n      <td>1.176471</td>\n    </tr>\n    <tr>\n      <th>Yevamot</th>\n      <td>1.125</td>\n      <td>2.044603</td>\n      <td>1.223127</td>\n      <td>0.916667</td>\n      <td>1.672096</td>\n      <td>0.506783</td>\n      <td>1.773641</td>\n      <td>1.506394</td>\n      <td>0.550067</td>\n      <td>3.718056</td>\n      <td>...</td>\n      <td>NaN</td>\n      <td>NaN</td>\n      <td>NaN</td>\n      <td>NaN</td>\n      <td>NaN</td>\n      <td>1.021361</td>\n      <td>1.361256</td>\n      <td>0.760786</td>\n      <td>1.330952</td>\n      <td>0.46875</td>\n    </tr>\n    <tr>\n      <th>Bava Batra</th>\n      <td>NaN</td>\n      <td>NaN</td>\n      <td>NaN</td>\n      <td>NaN</td>\n      <td>NaN</td>\n      <td>NaN</td>\n      <td>NaN</td>\n      <td>NaN</td>\n      <td>NaN</td>\n      <td>NaN</td>\n      <td>...</td>\n      <td>NaN</td>\n      <td>NaN</td>\n      <td>NaN</td>\n      <td>NaN</td>\n      <td>NaN</td>\n      <td>NaN</td>\n      <td>NaN</td>\n      <td>NaN</td>\n      <td>NaN</td>\n      <td>NaN</td>\n    </tr>\n    <tr>\n      <th>Bava Kamma</th>\n      <td>NaN</td>\n      <td>NaN</td>\n      <td>NaN</td>\n      <td>NaN</td>\n      <td>NaN</td>\n      <td>NaN</td>\n      <td>NaN</td>\n      <td>NaN</td>\n      <td>NaN</td>\n      <td>NaN</td>\n      <td>...</td>\n      <td>NaN</td>\n      <td>NaN</td>\n      <td>NaN</td>\n      <td>NaN</td>\n      <td>NaN</td>\n      <td>NaN</td>\n      <td>NaN</td>\n      <td>NaN</td>\n      <td>NaN</td>\n      <td>NaN</td>\n    </tr>\n    <tr>\n      <th>Bava Metzia</th>\n      <td>NaN</td>\n      <td>NaN</td>\n      <td>NaN</td>\n      <td>NaN</td>\n      <td>NaN</td>\n      <td>NaN</td>\n      <td>NaN</td>\n      <td>NaN</td>\n      <td>NaN</td>\n      <td>NaN</td>\n      <td>...</td>\n      <td>NaN</td>\n      <td>NaN</td>\n      <td>NaN</td>\n      <td>NaN</td>\n      <td>NaN</td>\n      <td>NaN</td>\n      <td>NaN</td>\n      <td>NaN</td>\n      <td>NaN</td>\n      <td>NaN</td>\n    </tr>\n    <tr>\n      <th>Avodah Zarah</th>\n      <td>NaN</td>\n      <td>NaN</td>\n      <td>NaN</td>\n      <td>NaN</td>\n      <td>NaN</td>\n      <td>NaN</td>\n      <td>NaN</td>\n      <td>NaN</td>\n      <td>NaN</td>\n      <td>NaN</td>\n      <td>...</td>\n      <td>NaN</td>\n      <td>NaN</td>\n      <td>NaN</td>\n      <td>NaN</td>\n      <td>NaN</td>\n      <td>NaN</td>\n      <td>NaN</td>\n      <td>NaN</td>\n      <td>NaN</td>\n      <td>NaN</td>\n    </tr>\n    <tr>\n      <th>Makkot</th>\n      <td>NaN</td>\n      <td>NaN</td>\n      <td>1.434459</td>\n      <td>0.533333</td>\n      <td>2.414279</td>\n      <td>1.344586</td>\n      <td>1.176566</td>\n      <td>NaN</td>\n      <td>0.75</td>\n      <td>7.608333</td>\n      <td>...</td>\n      <td>1.021361</td>\n      <td>NaN</td>\n      <td>NaN</td>\n      <td>NaN</td>\n      <td>NaN</td>\n      <td>NaN</td>\n      <td>1.338038</td>\n      <td>1.816114</td>\n      <td>1.396811</td>\n      <td>NaN</td>\n    </tr>\n    <tr>\n      <th>Sanhedrin</th>\n      <td>NaN</td>\n      <td>0.733959</td>\n      <td>0.769345</td>\n      <td>2.667316</td>\n      <td>1.938504</td>\n      <td>1.305195</td>\n      <td>1.692069</td>\n      <td>0.694915</td>\n      <td>3.212481</td>\n      <td>1.711994</td>\n      <td>...</td>\n      <td>1.361256</td>\n      <td>NaN</td>\n      <td>NaN</td>\n      <td>NaN</td>\n      <td>NaN</td>\n      <td>1.338038</td>\n      <td>NaN</td>\n      <td>2.257424</td>\n      <td>1.020255</td>\n      <td>0.2903</td>\n    </tr>\n    <tr>\n      <th>Shevuot</th>\n      <td>14.285714</td>\n      <td>0.8</td>\n      <td>3.192798</td>\n      <td>0.607216</td>\n      <td>1.067801</td>\n      <td>4.189524</td>\n      <td>2.579325</td>\n      <td>NaN</td>\n      <td>NaN</td>\n      <td>0.72987</td>\n      <td>...</td>\n      <td>0.760786</td>\n      <td>NaN</td>\n      <td>NaN</td>\n      <td>NaN</td>\n      <td>NaN</td>\n      <td>1.816114</td>\n      <td>2.257424</td>\n      <td>NaN</td>\n      <td>1.862484</td>\n      <td>0.728501</td>\n    </tr>\n    <tr>\n      <th>Niddah</th>\n      <td>1.105263</td>\n      <td>3.094291</td>\n      <td>1.199009</td>\n      <td>0.513889</td>\n      <td>0.875062</td>\n      <td>1.776515</td>\n      <td>0.648949</td>\n      <td>NaN</td>\n      <td>NaN</td>\n      <td>3.293873</td>\n      <td>...</td>\n      <td>1.330952</td>\n      <td>NaN</td>\n      <td>NaN</td>\n      <td>NaN</td>\n      <td>NaN</td>\n      <td>1.396811</td>\n      <td>1.020255</td>\n      <td>1.862484</td>\n      <td>NaN</td>\n      <td>NaN</td>\n    </tr>\n    <tr>\n      <th>Berakhot</th>\n      <td>NaN</td>\n      <td>NaN</td>\n      <td>0.332258</td>\n      <td>NaN</td>\n      <td>1.6</td>\n      <td>NaN</td>\n      <td>NaN</td>\n      <td>0.28</td>\n      <td>0.303571</td>\n      <td>0.375016</td>\n      <td>...</td>\n      <td>0.46875</td>\n      <td>NaN</td>\n      <td>NaN</td>\n      <td>NaN</td>\n      <td>NaN</td>\n      <td>NaN</td>\n      <td>0.2903</td>\n      <td>0.728501</td>\n      <td>NaN</td>\n      <td>NaN</td>\n    </tr>\n  </tbody>\n</table>\n<p>30 rows × 30 columns</p>\n</div>"
     },
     "execution_count": 17,
     "metadata": {},
     "output_type": "execute_result"
    }
   ],
   "source": [
    "# print as matrix\n",
    "table = pd.DataFrame(columns = rfn.rashi_masechtot, index = rfn.rashi_masechtot)\n",
    "for mas in rfn.rashi_masechtot:\n",
    "    for mas2 in rfn.rashi_masechtot:\n",
    "        if mas != mas2:\n",
    "            if (mas,mas2) in relaitve_lengths:\n",
    "                table[mas][mas2] = relaitve_lengths[(mas,mas2)]\n",
    "table"
   ],
   "metadata": {
    "collapsed": false,
    "ExecuteTime": {
     "end_time": "2024-06-11T17:31:27.485210Z",
     "start_time": "2024-06-11T17:31:27.411587Z"
    }
   },
   "id": "f1b8352cad851186"
  },
  {
   "cell_type": "code",
   "execution_count": 89,
   "outputs": [],
   "source": [
    "non_nans = {k: v for k,v in relaitve_lengths.items() if not np.isnan(v)}\n",
    "#dedup\n",
    "print(len(non_nans))\n",
    "deduped = dict()\n",
    "for k in non_nans:\n",
    "    if (k[1],k[0]) not in deduped:\n",
    "        deduped[k] = non_nans[k]"
   ],
   "metadata": {
    "collapsed": false,
    "ExecuteTime": {
     "end_time": "2024-06-11T03:12:46.182469Z",
     "start_time": "2024-06-11T03:12:46.072342Z"
    }
   },
   "id": "b1e239dd4bebf372"
  },
  {
   "cell_type": "code",
   "execution_count": 90,
   "outputs": [
    {
     "data": {
      "text/plain": "          Mas                             Daf  \\\n0         שבת        דף כ עמוד א ד\"ה תני רבי    \n1    ראש השנה    דף כט עמוד א ד\"ה הכי גרסינן    \n2        יומא       דף לט עמוד א ד\"ה למה סגן    \n3        סוכה        דף לה עמוד ב ד\"ה תני ר'    \n4        ביצה  דף כד עמוד ב ד\"ה ולערב אסורין    \n..        ...                             ...   \n156     יבמות   דף מה עמוד א ד\"ה חייבי לאוין    \n157     יבמות     דף סח עמוד ב ד\"ה עבד כנעני    \n158    כתובות       דף יז עמוד ב ד\"ה לית ליה    \n159    כתובות  דף מו עמוד ב ד\"ה יציאה דכוותה    \n160    בכורות       דף כז עמוד א ד\"ה כהן קטן    \n\n                                                  Text              Search  \n0    כל אחד ואחד - כל עץ ועץ ולא תימא כיון שאחזה בר...    #יצחק [1:3] הלוי  \n1    הכי גרסינן: כהנים ולוים מקדישין לעולם וגואלין ...    #יצחק [1:3] הלוי  \n2    ואם בימינו של סגן עלה ראש בית אב אומר לו לכהן ...    #יצחק [1:3] הלוי  \n3    תני ר' יצחק בר אלעזר נטלה בוכנתו - במתניתיה הו...    #יצחק [1:3] הלוי  \n4    אפילו לערב ראשון נמי אף על גב דליל יום טוב שני...    #יצחק [1:3] הלוי  \n..                                                 ...                 ...  \n156  לכם פה עם החמור עם הדומה לחמור ועובד כוכבים נמ...  החיפוש : #!שאלתות   \n157  דוקא בני קידושין נקט ועובד כוכבים ועבד לא פסלי...  החיפוש : #!שאלתות   \n158  [עמוד ב] אבל למאן דמתני - לאחרים. לית ליה שיעו...  החיפוש : #!שאלתות   \n159  ממעט קרא יציאתה מרשות אב בקידושין מתורת יציאתה...  החיפוש : #!שאלתות   \n160  בנגיעה לית לן בה - ואע\"ג שמטמאה לא איכפת לן דא...  החיפוש : #!שאלתות   \n\n[146 rows x 4 columns]",
      "text/html": "<div>\n<style scoped>\n    .dataframe tbody tr th:only-of-type {\n        vertical-align: middle;\n    }\n\n    .dataframe tbody tr th {\n        vertical-align: top;\n    }\n\n    .dataframe thead th {\n        text-align: right;\n    }\n</style>\n<table border=\"1\" class=\"dataframe\">\n  <thead>\n    <tr style=\"text-align: right;\">\n      <th></th>\n      <th>Mas</th>\n      <th>Daf</th>\n      <th>Text</th>\n      <th>Search</th>\n    </tr>\n  </thead>\n  <tbody>\n    <tr>\n      <th>0</th>\n      <td>שבת</td>\n      <td>דף כ עמוד א ד\"ה תני רבי</td>\n      <td>כל אחד ואחד - כל עץ ועץ ולא תימא כיון שאחזה בר...</td>\n      <td>#יצחק [1:3] הלוי</td>\n    </tr>\n    <tr>\n      <th>1</th>\n      <td>ראש השנה</td>\n      <td>דף כט עמוד א ד\"ה הכי גרסינן</td>\n      <td>הכי גרסינן: כהנים ולוים מקדישין לעולם וגואלין ...</td>\n      <td>#יצחק [1:3] הלוי</td>\n    </tr>\n    <tr>\n      <th>2</th>\n      <td>יומא</td>\n      <td>דף לט עמוד א ד\"ה למה סגן</td>\n      <td>ואם בימינו של סגן עלה ראש בית אב אומר לו לכהן ...</td>\n      <td>#יצחק [1:3] הלוי</td>\n    </tr>\n    <tr>\n      <th>3</th>\n      <td>סוכה</td>\n      <td>דף לה עמוד ב ד\"ה תני ר'</td>\n      <td>תני ר' יצחק בר אלעזר נטלה בוכנתו - במתניתיה הו...</td>\n      <td>#יצחק [1:3] הלוי</td>\n    </tr>\n    <tr>\n      <th>4</th>\n      <td>ביצה</td>\n      <td>דף כד עמוד ב ד\"ה ולערב אסורין</td>\n      <td>אפילו לערב ראשון נמי אף על גב דליל יום טוב שני...</td>\n      <td>#יצחק [1:3] הלוי</td>\n    </tr>\n    <tr>\n      <th>...</th>\n      <td>...</td>\n      <td>...</td>\n      <td>...</td>\n      <td>...</td>\n    </tr>\n    <tr>\n      <th>156</th>\n      <td>יבמות</td>\n      <td>דף מה עמוד א ד\"ה חייבי לאוין</td>\n      <td>לכם פה עם החמור עם הדומה לחמור ועובד כוכבים נמ...</td>\n      <td>החיפוש : #!שאלתות</td>\n    </tr>\n    <tr>\n      <th>157</th>\n      <td>יבמות</td>\n      <td>דף סח עמוד ב ד\"ה עבד כנעני</td>\n      <td>דוקא בני קידושין נקט ועובד כוכבים ועבד לא פסלי...</td>\n      <td>החיפוש : #!שאלתות</td>\n    </tr>\n    <tr>\n      <th>158</th>\n      <td>כתובות</td>\n      <td>דף יז עמוד ב ד\"ה לית ליה</td>\n      <td>[עמוד ב] אבל למאן דמתני - לאחרים. לית ליה שיעו...</td>\n      <td>החיפוש : #!שאלתות</td>\n    </tr>\n    <tr>\n      <th>159</th>\n      <td>כתובות</td>\n      <td>דף מו עמוד ב ד\"ה יציאה דכוותה</td>\n      <td>ממעט קרא יציאתה מרשות אב בקידושין מתורת יציאתה...</td>\n      <td>החיפוש : #!שאלתות</td>\n    </tr>\n    <tr>\n      <th>160</th>\n      <td>בכורות</td>\n      <td>דף כז עמוד א ד\"ה כהן קטן</td>\n      <td>בנגיעה לית לן בה - ואע\"ג שמטמאה לא איכפת לן דא...</td>\n      <td>החיפוש : #!שאלתות</td>\n    </tr>\n  </tbody>\n</table>\n<p>146 rows × 4 columns</p>\n</div>"
     },
     "execution_count": 90,
     "metadata": {},
     "output_type": "execute_result"
    }
   ],
   "source": [
    "print(len(deduped))\n",
    "non_nans"
   ],
   "metadata": {
    "collapsed": false,
    "ExecuteTime": {
     "end_time": "2024-06-11T03:12:48.049409Z",
     "start_time": "2024-06-11T03:12:48.012367Z"
    }
   },
   "id": "e261f6c57e72bb9d"
  },
  {
   "cell_type": "code",
   "execution_count": 91,
   "outputs": [
    {
     "data": {
      "text/plain": "Mas\nשבת          26\nחולין        22\nבבא קמא      13\nגיטין        10\nסוכה          9\nיבמות         7\nבכורות        7\nקידושין       5\nראש השנה      5\nבבא מציעא     5\nעירובין       5\nכתובות        4\nזבחים         4\nביצה          4\nיומא          4\nמגילה         3\nתמורה         2\nכריתות        2\nנדה           2\nברכות         2\nפסחים         1\nחגיגה         1\nשבועות        1\nעבודה זרה     1\nמנחות         1\nName: count, dtype: int64"
     },
     "execution_count": 91,
     "metadata": {},
     "output_type": "execute_result"
    }
   ],
   "source": [
    "sorted(deduped.items(), key = lambda x: x[1])"
   ],
   "metadata": {
    "collapsed": false,
    "ExecuteTime": {
     "end_time": "2024-06-11T03:12:59.223973Z",
     "start_time": "2024-06-11T03:12:59.182602Z"
    }
   },
   "id": "b9491a1b24995048"
  },
  {
   "cell_type": "code",
   "execution_count": 95,
   "outputs": [
    {
     "data": {
      "text/plain": "Mas        Search               \nבבא מציעא  #מורי                    1\n           #מורי [1:3] הזק(ן/ם)     1\n           החיפוש : #גאו(ן/ם)       1\n           יצחק בר' מנחם            1\n           רבינו משולם              1\n                                   ..\nשבת        החיפוש : #גאו(ן/ם)       1\n           יצחק בר' מנחם            1\n           ‫#רבינו [1:3] יעקב       3\nתמורה      #מורי                    1\n           יצחק בר' מנחם            1\nLength: 80, dtype: int64"
     },
     "execution_count": 95,
     "metadata": {},
     "output_type": "execute_result"
    }
   ],
   "source": [
    "table = pd.DataFrame(columns = rfn.rashi_masechtot, index = rfn.rashi_masechtot)\n",
    "for mas in rfn.rashi_masechtot:\n",
    "    for mas2 in rfn.rashi_masechtot:\n",
    "        if mas != mas2:\n",
    "            if (mas,mas2) in deduped:\n",
    "                table[mas][mas2] = deduped[(mas,mas2)]"
   ],
   "metadata": {
    "collapsed": false,
    "ExecuteTime": {
     "end_time": "2024-06-11T03:14:34.228572Z",
     "start_time": "2024-06-11T03:14:34.174684Z"
    }
   },
   "id": "693bf3630f6bb763"
  },
  {
   "cell_type": "code",
   "execution_count": 55,
   "outputs": [
    {
     "data": {
      "text/plain": "                 Arakhin  Bekhorot   Chullin   Keritot  Menachot   Temurah  \\\nArakhin              NaN       NaN       NaN       NaN       NaN       NaN   \nBekhorot             2.0       NaN       NaN       NaN       NaN       NaN   \nChullin         0.921905  1.034873       NaN       NaN       NaN       NaN   \nKeritot         1.073232  4.433712   1.69503       NaN       NaN       NaN   \nMenachot         4.27381  1.913214  3.354327       NaN       NaN       NaN   \nTemurah         0.714286  1.567981  1.995187  0.407143     1.525       NaN   \nZevachim        0.713793   1.35141  1.955821    0.1614  1.600516  1.944782   \nBeitzah              NaN  2.086942  1.784443  3.666667  3.027778  0.090909   \nChagigah             NaN  0.606665  1.615288      12.8  0.949075     0.625   \nEruvin          2.333333  0.158416  1.083298   3.15625  1.864641       NaN   \nPesachim        0.209063  0.463259  0.849704  0.152778  2.096511  2.743384   \nMegillah        0.899199       NaN   1.03125       NaN  0.694989       NaN   \nRosh Hashanah        NaN       NaN       NaN       NaN       NaN       NaN   \nShabbat         0.740741  1.471921   1.77832  2.638826  0.592647       NaN   \nSukkah             0.275  3.166667     2.375  1.189655  0.830321       NaN   \nYoma            1.331395    8.0125  2.505255  0.354167  1.725547  1.228791   \nGittin           5.77027   0.37585  2.447736  1.318182  1.604329       NaN   \nKetubot         0.702759  0.921776  0.922643  0.925991  1.448387       NaN   \nKiddushin       4.774405  2.323652  1.455086       1.4  1.310765  1.334691   \nSotah           0.707143       NaN  1.148934  0.311475  1.921401       NaN   \nYevamot            1.125  2.044603  1.223127  0.916667  1.672096  0.506783   \nBava Batra           NaN       NaN       NaN       NaN       NaN       NaN   \nBava Kamma           NaN       NaN       NaN       NaN       NaN       NaN   \nBava Metzia          NaN       NaN       NaN       NaN       NaN       NaN   \nAvodah Zarah         NaN       NaN       NaN       NaN       NaN       NaN   \nMakkot               NaN       NaN  1.434459  0.533333  2.414279  1.344586   \nSanhedrin            NaN  0.733959  0.769345  2.667316  1.938504  1.305195   \nShevuot        14.285714       0.8  3.192798  0.607216  1.067801  4.189524   \nNiddah          1.105263  3.094291  1.199009  0.513889  0.875062  1.776515   \nBerakhot             NaN       NaN  0.332258       NaN       1.6       NaN   \n\n               Zevachim   Beitzah  Chagigah    Eruvin  ...   Yevamot  \\\nArakhin             NaN       NaN       NaN       NaN  ...       NaN   \nBekhorot            NaN       NaN       NaN       NaN  ...       NaN   \nChullin             NaN       NaN       NaN       NaN  ...       NaN   \nKeritot             NaN       NaN       NaN       NaN  ...       NaN   \nMenachot            NaN       NaN       NaN       NaN  ...       NaN   \nTemurah             NaN       NaN       NaN       NaN  ...       NaN   \nZevachim            NaN       NaN       NaN       NaN  ...       NaN   \nBeitzah            3.04       NaN       NaN       NaN  ...       NaN   \nChagigah        2.42316  1.051101       NaN       NaN  ...       NaN   \nEruvin          1.79326   1.71379  1.842105       NaN  ...       NaN   \nPesachim       1.770474  2.591431  0.854971  2.859627  ...       NaN   \nMegillah       0.553858       NaN       NaN  1.277778  ...       NaN   \nRosh Hashanah       NaN       NaN       NaN       NaN  ...       NaN   \nShabbat        1.093466    2.3003  0.389583  1.715191  ...       NaN   \nSukkah         7.639697  0.615385  0.990196  1.543215  ...       NaN   \nYoma            1.69609       NaN   1.95102  2.230241  ...       NaN   \nGittin         1.230466  0.811535       NaN  1.807959  ...       NaN   \nKetubot             NaN  1.956522     0.375  2.115954  ...       NaN   \nKiddushin       2.23031  3.052632       NaN    3.7687  ...       NaN   \nSotah          5.003125       NaN  1.491216       NaN  ...       NaN   \nYevamot        1.773641  1.506394  0.550067  3.718056  ...       NaN   \nBava Batra          NaN       NaN       NaN       NaN  ...       NaN   \nBava Kamma          NaN       NaN       NaN       NaN  ...       NaN   \nBava Metzia         NaN       NaN       NaN       NaN  ...       NaN   \nAvodah Zarah        NaN       NaN       NaN       NaN  ...       NaN   \nMakkot         1.176566       NaN      0.75  7.608333  ...  1.021361   \nSanhedrin      1.692069  0.694915  3.212481  1.711994  ...  1.361256   \nShevuot        2.579325       NaN       NaN   0.72987  ...  0.760786   \nNiddah         0.648949       NaN       NaN  3.293873  ...  1.330952   \nBerakhot            NaN      0.28  0.303571  0.375016  ...   0.46875   \n\n              Bava Batra Bava Kamma Bava Metzia Avodah Zarah    Makkot  \\\nArakhin              NaN        NaN         NaN          NaN       NaN   \nBekhorot             NaN        NaN         NaN          NaN       NaN   \nChullin              NaN        NaN         NaN          NaN       NaN   \nKeritot              NaN        NaN         NaN          NaN       NaN   \nMenachot             NaN        NaN         NaN          NaN       NaN   \nTemurah              NaN        NaN         NaN          NaN       NaN   \nZevachim             NaN        NaN         NaN          NaN       NaN   \nBeitzah              NaN        NaN         NaN          NaN       NaN   \nChagigah             NaN        NaN         NaN          NaN       NaN   \nEruvin               NaN        NaN         NaN          NaN       NaN   \nPesachim             NaN        NaN         NaN          NaN       NaN   \nMegillah             NaN        NaN         NaN          NaN       NaN   \nRosh Hashanah        NaN        NaN         NaN          NaN       NaN   \nShabbat              NaN        NaN         NaN          NaN       NaN   \nSukkah               NaN        NaN         NaN          NaN       NaN   \nYoma                 NaN        NaN         NaN          NaN       NaN   \nGittin               NaN        NaN         NaN          NaN       NaN   \nKetubot              NaN        NaN         NaN          NaN       NaN   \nKiddushin            NaN        NaN         NaN          NaN       NaN   \nSotah                NaN        NaN         NaN          NaN       NaN   \nYevamot              NaN        NaN         NaN          NaN       NaN   \nBava Batra           NaN        NaN         NaN          NaN       NaN   \nBava Kamma           NaN        NaN         NaN          NaN       NaN   \nBava Metzia          NaN        NaN         NaN          NaN       NaN   \nAvodah Zarah         NaN        NaN         NaN          NaN       NaN   \nMakkot               NaN        NaN         NaN          NaN       NaN   \nSanhedrin            NaN        NaN         NaN          NaN  1.338038   \nShevuot              NaN        NaN         NaN          NaN  1.816114   \nNiddah               NaN        NaN         NaN          NaN  1.396811   \nBerakhot             NaN        NaN         NaN          NaN       NaN   \n\n              Sanhedrin   Shevuot Niddah Berakhot  \nArakhin             NaN       NaN    NaN      NaN  \nBekhorot            NaN       NaN    NaN      NaN  \nChullin             NaN       NaN    NaN      NaN  \nKeritot             NaN       NaN    NaN      NaN  \nMenachot            NaN       NaN    NaN      NaN  \nTemurah             NaN       NaN    NaN      NaN  \nZevachim            NaN       NaN    NaN      NaN  \nBeitzah             NaN       NaN    NaN      NaN  \nChagigah            NaN       NaN    NaN      NaN  \nEruvin              NaN       NaN    NaN      NaN  \nPesachim            NaN       NaN    NaN      NaN  \nMegillah            NaN       NaN    NaN      NaN  \nRosh Hashanah       NaN       NaN    NaN      NaN  \nShabbat             NaN       NaN    NaN      NaN  \nSukkah              NaN       NaN    NaN      NaN  \nYoma                NaN       NaN    NaN      NaN  \nGittin              NaN       NaN    NaN      NaN  \nKetubot             NaN       NaN    NaN      NaN  \nKiddushin           NaN       NaN    NaN      NaN  \nSotah               NaN       NaN    NaN      NaN  \nYevamot             NaN       NaN    NaN      NaN  \nBava Batra          NaN       NaN    NaN      NaN  \nBava Kamma          NaN       NaN    NaN      NaN  \nBava Metzia         NaN       NaN    NaN      NaN  \nAvodah Zarah        NaN       NaN    NaN      NaN  \nMakkot              NaN       NaN    NaN      NaN  \nSanhedrin           NaN       NaN    NaN      NaN  \nShevuot        2.257424       NaN    NaN      NaN  \nNiddah         1.020255  1.862484    NaN      NaN  \nBerakhot         0.2903  0.728501    NaN      NaN  \n\n[30 rows x 30 columns]",
      "text/html": "<div>\n<style scoped>\n    .dataframe tbody tr th:only-of-type {\n        vertical-align: middle;\n    }\n\n    .dataframe tbody tr th {\n        vertical-align: top;\n    }\n\n    .dataframe thead th {\n        text-align: right;\n    }\n</style>\n<table border=\"1\" class=\"dataframe\">\n  <thead>\n    <tr style=\"text-align: right;\">\n      <th></th>\n      <th>Arakhin</th>\n      <th>Bekhorot</th>\n      <th>Chullin</th>\n      <th>Keritot</th>\n      <th>Menachot</th>\n      <th>Temurah</th>\n      <th>Zevachim</th>\n      <th>Beitzah</th>\n      <th>Chagigah</th>\n      <th>Eruvin</th>\n      <th>...</th>\n      <th>Yevamot</th>\n      <th>Bava Batra</th>\n      <th>Bava Kamma</th>\n      <th>Bava Metzia</th>\n      <th>Avodah Zarah</th>\n      <th>Makkot</th>\n      <th>Sanhedrin</th>\n      <th>Shevuot</th>\n      <th>Niddah</th>\n      <th>Berakhot</th>\n    </tr>\n  </thead>\n  <tbody>\n    <tr>\n      <th>Arakhin</th>\n      <td>NaN</td>\n      <td>NaN</td>\n      <td>NaN</td>\n      <td>NaN</td>\n      <td>NaN</td>\n      <td>NaN</td>\n      <td>NaN</td>\n      <td>NaN</td>\n      <td>NaN</td>\n      <td>NaN</td>\n      <td>...</td>\n      <td>NaN</td>\n      <td>NaN</td>\n      <td>NaN</td>\n      <td>NaN</td>\n      <td>NaN</td>\n      <td>NaN</td>\n      <td>NaN</td>\n      <td>NaN</td>\n      <td>NaN</td>\n      <td>NaN</td>\n    </tr>\n    <tr>\n      <th>Bekhorot</th>\n      <td>2.0</td>\n      <td>NaN</td>\n      <td>NaN</td>\n      <td>NaN</td>\n      <td>NaN</td>\n      <td>NaN</td>\n      <td>NaN</td>\n      <td>NaN</td>\n      <td>NaN</td>\n      <td>NaN</td>\n      <td>...</td>\n      <td>NaN</td>\n      <td>NaN</td>\n      <td>NaN</td>\n      <td>NaN</td>\n      <td>NaN</td>\n      <td>NaN</td>\n      <td>NaN</td>\n      <td>NaN</td>\n      <td>NaN</td>\n      <td>NaN</td>\n    </tr>\n    <tr>\n      <th>Chullin</th>\n      <td>0.921905</td>\n      <td>1.034873</td>\n      <td>NaN</td>\n      <td>NaN</td>\n      <td>NaN</td>\n      <td>NaN</td>\n      <td>NaN</td>\n      <td>NaN</td>\n      <td>NaN</td>\n      <td>NaN</td>\n      <td>...</td>\n      <td>NaN</td>\n      <td>NaN</td>\n      <td>NaN</td>\n      <td>NaN</td>\n      <td>NaN</td>\n      <td>NaN</td>\n      <td>NaN</td>\n      <td>NaN</td>\n      <td>NaN</td>\n      <td>NaN</td>\n    </tr>\n    <tr>\n      <th>Keritot</th>\n      <td>1.073232</td>\n      <td>4.433712</td>\n      <td>1.69503</td>\n      <td>NaN</td>\n      <td>NaN</td>\n      <td>NaN</td>\n      <td>NaN</td>\n      <td>NaN</td>\n      <td>NaN</td>\n      <td>NaN</td>\n      <td>...</td>\n      <td>NaN</td>\n      <td>NaN</td>\n      <td>NaN</td>\n      <td>NaN</td>\n      <td>NaN</td>\n      <td>NaN</td>\n      <td>NaN</td>\n      <td>NaN</td>\n      <td>NaN</td>\n      <td>NaN</td>\n    </tr>\n    <tr>\n      <th>Menachot</th>\n      <td>4.27381</td>\n      <td>1.913214</td>\n      <td>3.354327</td>\n      <td>NaN</td>\n      <td>NaN</td>\n      <td>NaN</td>\n      <td>NaN</td>\n      <td>NaN</td>\n      <td>NaN</td>\n      <td>NaN</td>\n      <td>...</td>\n      <td>NaN</td>\n      <td>NaN</td>\n      <td>NaN</td>\n      <td>NaN</td>\n      <td>NaN</td>\n      <td>NaN</td>\n      <td>NaN</td>\n      <td>NaN</td>\n      <td>NaN</td>\n      <td>NaN</td>\n    </tr>\n    <tr>\n      <th>Temurah</th>\n      <td>0.714286</td>\n      <td>1.567981</td>\n      <td>1.995187</td>\n      <td>0.407143</td>\n      <td>1.525</td>\n      <td>NaN</td>\n      <td>NaN</td>\n      <td>NaN</td>\n      <td>NaN</td>\n      <td>NaN</td>\n      <td>...</td>\n      <td>NaN</td>\n      <td>NaN</td>\n      <td>NaN</td>\n      <td>NaN</td>\n      <td>NaN</td>\n      <td>NaN</td>\n      <td>NaN</td>\n      <td>NaN</td>\n      <td>NaN</td>\n      <td>NaN</td>\n    </tr>\n    <tr>\n      <th>Zevachim</th>\n      <td>0.713793</td>\n      <td>1.35141</td>\n      <td>1.955821</td>\n      <td>0.1614</td>\n      <td>1.600516</td>\n      <td>1.944782</td>\n      <td>NaN</td>\n      <td>NaN</td>\n      <td>NaN</td>\n      <td>NaN</td>\n      <td>...</td>\n      <td>NaN</td>\n      <td>NaN</td>\n      <td>NaN</td>\n      <td>NaN</td>\n      <td>NaN</td>\n      <td>NaN</td>\n      <td>NaN</td>\n      <td>NaN</td>\n      <td>NaN</td>\n      <td>NaN</td>\n    </tr>\n    <tr>\n      <th>Beitzah</th>\n      <td>NaN</td>\n      <td>2.086942</td>\n      <td>1.784443</td>\n      <td>3.666667</td>\n      <td>3.027778</td>\n      <td>0.090909</td>\n      <td>3.04</td>\n      <td>NaN</td>\n      <td>NaN</td>\n      <td>NaN</td>\n      <td>...</td>\n      <td>NaN</td>\n      <td>NaN</td>\n      <td>NaN</td>\n      <td>NaN</td>\n      <td>NaN</td>\n      <td>NaN</td>\n      <td>NaN</td>\n      <td>NaN</td>\n      <td>NaN</td>\n      <td>NaN</td>\n    </tr>\n    <tr>\n      <th>Chagigah</th>\n      <td>NaN</td>\n      <td>0.606665</td>\n      <td>1.615288</td>\n      <td>12.8</td>\n      <td>0.949075</td>\n      <td>0.625</td>\n      <td>2.42316</td>\n      <td>1.051101</td>\n      <td>NaN</td>\n      <td>NaN</td>\n      <td>...</td>\n      <td>NaN</td>\n      <td>NaN</td>\n      <td>NaN</td>\n      <td>NaN</td>\n      <td>NaN</td>\n      <td>NaN</td>\n      <td>NaN</td>\n      <td>NaN</td>\n      <td>NaN</td>\n      <td>NaN</td>\n    </tr>\n    <tr>\n      <th>Eruvin</th>\n      <td>2.333333</td>\n      <td>0.158416</td>\n      <td>1.083298</td>\n      <td>3.15625</td>\n      <td>1.864641</td>\n      <td>NaN</td>\n      <td>1.79326</td>\n      <td>1.71379</td>\n      <td>1.842105</td>\n      <td>NaN</td>\n      <td>...</td>\n      <td>NaN</td>\n      <td>NaN</td>\n      <td>NaN</td>\n      <td>NaN</td>\n      <td>NaN</td>\n      <td>NaN</td>\n      <td>NaN</td>\n      <td>NaN</td>\n      <td>NaN</td>\n      <td>NaN</td>\n    </tr>\n    <tr>\n      <th>Pesachim</th>\n      <td>0.209063</td>\n      <td>0.463259</td>\n      <td>0.849704</td>\n      <td>0.152778</td>\n      <td>2.096511</td>\n      <td>2.743384</td>\n      <td>1.770474</td>\n      <td>2.591431</td>\n      <td>0.854971</td>\n      <td>2.859627</td>\n      <td>...</td>\n      <td>NaN</td>\n      <td>NaN</td>\n      <td>NaN</td>\n      <td>NaN</td>\n      <td>NaN</td>\n      <td>NaN</td>\n      <td>NaN</td>\n      <td>NaN</td>\n      <td>NaN</td>\n      <td>NaN</td>\n    </tr>\n    <tr>\n      <th>Megillah</th>\n      <td>0.899199</td>\n      <td>NaN</td>\n      <td>1.03125</td>\n      <td>NaN</td>\n      <td>0.694989</td>\n      <td>NaN</td>\n      <td>0.553858</td>\n      <td>NaN</td>\n      <td>NaN</td>\n      <td>1.277778</td>\n      <td>...</td>\n      <td>NaN</td>\n      <td>NaN</td>\n      <td>NaN</td>\n      <td>NaN</td>\n      <td>NaN</td>\n      <td>NaN</td>\n      <td>NaN</td>\n      <td>NaN</td>\n      <td>NaN</td>\n      <td>NaN</td>\n    </tr>\n    <tr>\n      <th>Rosh Hashanah</th>\n      <td>NaN</td>\n      <td>NaN</td>\n      <td>NaN</td>\n      <td>NaN</td>\n      <td>NaN</td>\n      <td>NaN</td>\n      <td>NaN</td>\n      <td>NaN</td>\n      <td>NaN</td>\n      <td>NaN</td>\n      <td>...</td>\n      <td>NaN</td>\n      <td>NaN</td>\n      <td>NaN</td>\n      <td>NaN</td>\n      <td>NaN</td>\n      <td>NaN</td>\n      <td>NaN</td>\n      <td>NaN</td>\n      <td>NaN</td>\n      <td>NaN</td>\n    </tr>\n    <tr>\n      <th>Shabbat</th>\n      <td>0.740741</td>\n      <td>1.471921</td>\n      <td>1.77832</td>\n      <td>2.638826</td>\n      <td>0.592647</td>\n      <td>NaN</td>\n      <td>1.093466</td>\n      <td>2.3003</td>\n      <td>0.389583</td>\n      <td>1.715191</td>\n      <td>...</td>\n      <td>NaN</td>\n      <td>NaN</td>\n      <td>NaN</td>\n      <td>NaN</td>\n      <td>NaN</td>\n      <td>NaN</td>\n      <td>NaN</td>\n      <td>NaN</td>\n      <td>NaN</td>\n      <td>NaN</td>\n    </tr>\n    <tr>\n      <th>Sukkah</th>\n      <td>0.275</td>\n      <td>3.166667</td>\n      <td>2.375</td>\n      <td>1.189655</td>\n      <td>0.830321</td>\n      <td>NaN</td>\n      <td>7.639697</td>\n      <td>0.615385</td>\n      <td>0.990196</td>\n      <td>1.543215</td>\n      <td>...</td>\n      <td>NaN</td>\n      <td>NaN</td>\n      <td>NaN</td>\n      <td>NaN</td>\n      <td>NaN</td>\n      <td>NaN</td>\n      <td>NaN</td>\n      <td>NaN</td>\n      <td>NaN</td>\n      <td>NaN</td>\n    </tr>\n    <tr>\n      <th>Yoma</th>\n      <td>1.331395</td>\n      <td>8.0125</td>\n      <td>2.505255</td>\n      <td>0.354167</td>\n      <td>1.725547</td>\n      <td>1.228791</td>\n      <td>1.69609</td>\n      <td>NaN</td>\n      <td>1.95102</td>\n      <td>2.230241</td>\n      <td>...</td>\n      <td>NaN</td>\n      <td>NaN</td>\n      <td>NaN</td>\n      <td>NaN</td>\n      <td>NaN</td>\n      <td>NaN</td>\n      <td>NaN</td>\n      <td>NaN</td>\n      <td>NaN</td>\n      <td>NaN</td>\n    </tr>\n    <tr>\n      <th>Gittin</th>\n      <td>5.77027</td>\n      <td>0.37585</td>\n      <td>2.447736</td>\n      <td>1.318182</td>\n      <td>1.604329</td>\n      <td>NaN</td>\n      <td>1.230466</td>\n      <td>0.811535</td>\n      <td>NaN</td>\n      <td>1.807959</td>\n      <td>...</td>\n      <td>NaN</td>\n      <td>NaN</td>\n      <td>NaN</td>\n      <td>NaN</td>\n      <td>NaN</td>\n      <td>NaN</td>\n      <td>NaN</td>\n      <td>NaN</td>\n      <td>NaN</td>\n      <td>NaN</td>\n    </tr>\n    <tr>\n      <th>Ketubot</th>\n      <td>0.702759</td>\n      <td>0.921776</td>\n      <td>0.922643</td>\n      <td>0.925991</td>\n      <td>1.448387</td>\n      <td>NaN</td>\n      <td>NaN</td>\n      <td>1.956522</td>\n      <td>0.375</td>\n      <td>2.115954</td>\n      <td>...</td>\n      <td>NaN</td>\n      <td>NaN</td>\n      <td>NaN</td>\n      <td>NaN</td>\n      <td>NaN</td>\n      <td>NaN</td>\n      <td>NaN</td>\n      <td>NaN</td>\n      <td>NaN</td>\n      <td>NaN</td>\n    </tr>\n    <tr>\n      <th>Kiddushin</th>\n      <td>4.774405</td>\n      <td>2.323652</td>\n      <td>1.455086</td>\n      <td>1.4</td>\n      <td>1.310765</td>\n      <td>1.334691</td>\n      <td>2.23031</td>\n      <td>3.052632</td>\n      <td>NaN</td>\n      <td>3.7687</td>\n      <td>...</td>\n      <td>NaN</td>\n      <td>NaN</td>\n      <td>NaN</td>\n      <td>NaN</td>\n      <td>NaN</td>\n      <td>NaN</td>\n      <td>NaN</td>\n      <td>NaN</td>\n      <td>NaN</td>\n      <td>NaN</td>\n    </tr>\n    <tr>\n      <th>Sotah</th>\n      <td>0.707143</td>\n      <td>NaN</td>\n      <td>1.148934</td>\n      <td>0.311475</td>\n      <td>1.921401</td>\n      <td>NaN</td>\n      <td>5.003125</td>\n      <td>NaN</td>\n      <td>1.491216</td>\n      <td>NaN</td>\n      <td>...</td>\n      <td>NaN</td>\n      <td>NaN</td>\n      <td>NaN</td>\n      <td>NaN</td>\n      <td>NaN</td>\n      <td>NaN</td>\n      <td>NaN</td>\n      <td>NaN</td>\n      <td>NaN</td>\n      <td>NaN</td>\n    </tr>\n    <tr>\n      <th>Yevamot</th>\n      <td>1.125</td>\n      <td>2.044603</td>\n      <td>1.223127</td>\n      <td>0.916667</td>\n      <td>1.672096</td>\n      <td>0.506783</td>\n      <td>1.773641</td>\n      <td>1.506394</td>\n      <td>0.550067</td>\n      <td>3.718056</td>\n      <td>...</td>\n      <td>NaN</td>\n      <td>NaN</td>\n      <td>NaN</td>\n      <td>NaN</td>\n      <td>NaN</td>\n      <td>NaN</td>\n      <td>NaN</td>\n      <td>NaN</td>\n      <td>NaN</td>\n      <td>NaN</td>\n    </tr>\n    <tr>\n      <th>Bava Batra</th>\n      <td>NaN</td>\n      <td>NaN</td>\n      <td>NaN</td>\n      <td>NaN</td>\n      <td>NaN</td>\n      <td>NaN</td>\n      <td>NaN</td>\n      <td>NaN</td>\n      <td>NaN</td>\n      <td>NaN</td>\n      <td>...</td>\n      <td>NaN</td>\n      <td>NaN</td>\n      <td>NaN</td>\n      <td>NaN</td>\n      <td>NaN</td>\n      <td>NaN</td>\n      <td>NaN</td>\n      <td>NaN</td>\n      <td>NaN</td>\n      <td>NaN</td>\n    </tr>\n    <tr>\n      <th>Bava Kamma</th>\n      <td>NaN</td>\n      <td>NaN</td>\n      <td>NaN</td>\n      <td>NaN</td>\n      <td>NaN</td>\n      <td>NaN</td>\n      <td>NaN</td>\n      <td>NaN</td>\n      <td>NaN</td>\n      <td>NaN</td>\n      <td>...</td>\n      <td>NaN</td>\n      <td>NaN</td>\n      <td>NaN</td>\n      <td>NaN</td>\n      <td>NaN</td>\n      <td>NaN</td>\n      <td>NaN</td>\n      <td>NaN</td>\n      <td>NaN</td>\n      <td>NaN</td>\n    </tr>\n    <tr>\n      <th>Bava Metzia</th>\n      <td>NaN</td>\n      <td>NaN</td>\n      <td>NaN</td>\n      <td>NaN</td>\n      <td>NaN</td>\n      <td>NaN</td>\n      <td>NaN</td>\n      <td>NaN</td>\n      <td>NaN</td>\n      <td>NaN</td>\n      <td>...</td>\n      <td>NaN</td>\n      <td>NaN</td>\n      <td>NaN</td>\n      <td>NaN</td>\n      <td>NaN</td>\n      <td>NaN</td>\n      <td>NaN</td>\n      <td>NaN</td>\n      <td>NaN</td>\n      <td>NaN</td>\n    </tr>\n    <tr>\n      <th>Avodah Zarah</th>\n      <td>NaN</td>\n      <td>NaN</td>\n      <td>NaN</td>\n      <td>NaN</td>\n      <td>NaN</td>\n      <td>NaN</td>\n      <td>NaN</td>\n      <td>NaN</td>\n      <td>NaN</td>\n      <td>NaN</td>\n      <td>...</td>\n      <td>NaN</td>\n      <td>NaN</td>\n      <td>NaN</td>\n      <td>NaN</td>\n      <td>NaN</td>\n      <td>NaN</td>\n      <td>NaN</td>\n      <td>NaN</td>\n      <td>NaN</td>\n      <td>NaN</td>\n    </tr>\n    <tr>\n      <th>Makkot</th>\n      <td>NaN</td>\n      <td>NaN</td>\n      <td>1.434459</td>\n      <td>0.533333</td>\n      <td>2.414279</td>\n      <td>1.344586</td>\n      <td>1.176566</td>\n      <td>NaN</td>\n      <td>0.75</td>\n      <td>7.608333</td>\n      <td>...</td>\n      <td>1.021361</td>\n      <td>NaN</td>\n      <td>NaN</td>\n      <td>NaN</td>\n      <td>NaN</td>\n      <td>NaN</td>\n      <td>NaN</td>\n      <td>NaN</td>\n      <td>NaN</td>\n      <td>NaN</td>\n    </tr>\n    <tr>\n      <th>Sanhedrin</th>\n      <td>NaN</td>\n      <td>0.733959</td>\n      <td>0.769345</td>\n      <td>2.667316</td>\n      <td>1.938504</td>\n      <td>1.305195</td>\n      <td>1.692069</td>\n      <td>0.694915</td>\n      <td>3.212481</td>\n      <td>1.711994</td>\n      <td>...</td>\n      <td>1.361256</td>\n      <td>NaN</td>\n      <td>NaN</td>\n      <td>NaN</td>\n      <td>NaN</td>\n      <td>1.338038</td>\n      <td>NaN</td>\n      <td>NaN</td>\n      <td>NaN</td>\n      <td>NaN</td>\n    </tr>\n    <tr>\n      <th>Shevuot</th>\n      <td>14.285714</td>\n      <td>0.8</td>\n      <td>3.192798</td>\n      <td>0.607216</td>\n      <td>1.067801</td>\n      <td>4.189524</td>\n      <td>2.579325</td>\n      <td>NaN</td>\n      <td>NaN</td>\n      <td>0.72987</td>\n      <td>...</td>\n      <td>0.760786</td>\n      <td>NaN</td>\n      <td>NaN</td>\n      <td>NaN</td>\n      <td>NaN</td>\n      <td>1.816114</td>\n      <td>2.257424</td>\n      <td>NaN</td>\n      <td>NaN</td>\n      <td>NaN</td>\n    </tr>\n    <tr>\n      <th>Niddah</th>\n      <td>1.105263</td>\n      <td>3.094291</td>\n      <td>1.199009</td>\n      <td>0.513889</td>\n      <td>0.875062</td>\n      <td>1.776515</td>\n      <td>0.648949</td>\n      <td>NaN</td>\n      <td>NaN</td>\n      <td>3.293873</td>\n      <td>...</td>\n      <td>1.330952</td>\n      <td>NaN</td>\n      <td>NaN</td>\n      <td>NaN</td>\n      <td>NaN</td>\n      <td>1.396811</td>\n      <td>1.020255</td>\n      <td>1.862484</td>\n      <td>NaN</td>\n      <td>NaN</td>\n    </tr>\n    <tr>\n      <th>Berakhot</th>\n      <td>NaN</td>\n      <td>NaN</td>\n      <td>0.332258</td>\n      <td>NaN</td>\n      <td>1.6</td>\n      <td>NaN</td>\n      <td>NaN</td>\n      <td>0.28</td>\n      <td>0.303571</td>\n      <td>0.375016</td>\n      <td>...</td>\n      <td>0.46875</td>\n      <td>NaN</td>\n      <td>NaN</td>\n      <td>NaN</td>\n      <td>NaN</td>\n      <td>NaN</td>\n      <td>0.2903</td>\n      <td>0.728501</td>\n      <td>NaN</td>\n      <td>NaN</td>\n    </tr>\n  </tbody>\n</table>\n<p>30 rows × 30 columns</p>\n</div>"
     },
     "execution_count": 55,
     "metadata": {},
     "output_type": "execute_result"
    }
   ],
   "source": [
    "table"
   ],
   "metadata": {
    "collapsed": false,
    "ExecuteTime": {
     "end_time": "2024-06-04T23:15:59.887061Z",
     "start_time": "2024-06-04T23:15:59.874862Z"
    }
   },
   "id": "9a00257552077327"
  },
  {
   "cell_type": "markdown",
   "source": [
    "## Filling in the masechtot that fell out"
   ],
   "metadata": {
    "collapsed": false
   },
   "id": "d63aeac4bd3da583"
  },
  {
   "cell_type": "code",
   "execution_count": 51,
   "outputs": [
    {
     "name": "stdout",
     "output_type": "stream",
     "text": [
      "2101\n"
     ]
    }
   ],
   "source": [
    "paralells2 = pd.read_csv('/Users/ephraimmeiri/gitEtc/Rashi Thesis work/rashi_conservative_output2.csv')\n",
    "print(len(paralells2))"
   ],
   "metadata": {
    "collapsed": false,
    "ExecuteTime": {
     "end_time": "2024-06-11T23:43:35.962253Z",
     "start_time": "2024-06-11T23:43:35.899495Z"
    }
   },
   "id": "df502a15a9d4b174"
  },
  {
   "cell_type": "code",
   "execution_count": 57,
   "outputs": [
    {
     "name": "stdout",
     "output_type": "stream",
     "text": [
      "3132\n"
     ]
    },
    {
     "name": "stderr",
     "output_type": "stream",
     "text": [
      "/Users/ephraimmeiri/miniconda3/envs/Rashi Thesis work/lib/python3.10/site-packages/numpy/core/fromnumeric.py:3504: RuntimeWarning: Mean of empty slice.\n",
      "  return _methods._mean(a, axis=axis, dtype=dtype,\n",
      "/Users/ephraimmeiri/miniconda3/envs/Rashi Thesis work/lib/python3.10/site-packages/numpy/core/_methods.py:129: RuntimeWarning: invalid value encountered in scalar divide\n",
      "  ret = ret.dtype.type(ret / rcount)\n"
     ]
    }
   ],
   "source": [
    "parallels_by_masechet = dict()\n",
    "total_for_check=0\n",
    "for mas in rfn.rashi_masechtot:\n",
    "    for mas2 in rfn.rashi_masechtot:\n",
    "        if mas != mas2:\n",
    "            if (mas,mas2) not in parallels_by_masechet:\n",
    "                parallels_by_masechet[(mas,mas2)]= paralells2[\n",
    "                    ((paralells2['masechet1'] == mas) & (paralells2['masechet2']==mas2)) \n",
    "                  | ((paralells2['masechet2'] == mas) & (paralells2['masechet1'] == mas2))\n",
    "                ]\n",
    "                total_for_check+= len(parallels_by_masechet[(mas,mas2)])\n",
    "print(total_for_check)\n",
    "relaitve_lengths = dict()\n",
    "for k in parallels_by_masechet:\n",
    "    rel_lens=[]\n",
    "    for i,r in parallels_by_masechet[k].iterrows():\n",
    "        rel_lens.append(len(r['txt1'].split())/len(r['txt2'].split()))\n",
    "    relaitve_lengths[k]= np.mean(rel_lens)\n",
    "\n",
    "# non_nans = {k: v for k,v in relaitve_lengths.items() if not np.isnan(v)}\n",
    "# #dedup\n",
    "# print(len(non_nans))\n",
    "# deduped = dict()\n",
    "# for k in non_nans:\n",
    "#     if (k[1],k[0]) not in deduped:\n",
    "#         deduped[k] = non_nans[k]"
   ],
   "metadata": {
    "collapsed": false,
    "ExecuteTime": {
     "end_time": "2024-06-11T23:47:20.004202Z",
     "start_time": "2024-06-11T23:47:18.959809Z"
    }
   },
   "id": "19308a685f00f0b6"
  },
  {
   "cell_type": "code",
   "execution_count": 58,
   "outputs": [
    {
     "data": {
      "text/plain": "870"
     },
     "execution_count": 58,
     "metadata": {},
     "output_type": "execute_result"
    }
   ],
   "source": [
    "len(relaitve_lengths)"
   ],
   "metadata": {
    "collapsed": false,
    "ExecuteTime": {
     "end_time": "2024-06-11T23:47:20.965571Z",
     "start_time": "2024-06-11T23:47:20.949799Z"
    }
   },
   "id": "bc449f251effbd6"
  },
  {
   "cell_type": "code",
   "execution_count": 59,
   "outputs": [
    {
     "data": {
      "text/plain": "                 Arakhin  Bekhorot   Chullin   Keritot  Menachot   Temurah  \\\nArakhin              NaN       2.0  0.921905  1.073232   4.27381  0.714286   \nBekhorot             2.0       NaN  1.034873  4.433712  1.913214  1.567981   \nChullin         0.921905  1.034873       NaN   1.69503  3.354327  1.995187   \nKeritot         1.073232  4.433712   1.69503       NaN       NaN  0.407143   \nMenachot         4.27381  1.913214  3.354327       NaN       NaN     1.525   \nTemurah         0.714286  1.567981  1.995187  0.407143     1.525       NaN   \nZevachim        0.713793   1.35141  1.955821    0.1614  1.600516  1.944782   \nBeitzah              NaN  2.086942  1.784443  3.666667  3.027778  0.090909   \nChagigah             NaN  0.606665  1.615288      12.8  0.949075     0.625   \nEruvin          2.333333  0.158416  1.083298   3.15625  1.864641       NaN   \nPesachim        0.209063  0.463259  0.849704  0.152778  2.096511  2.743384   \nMegillah        0.899199       NaN   1.03125       NaN  0.694989       NaN   \nRosh Hashanah        NaN       NaN       NaN       NaN       NaN       NaN   \nShabbat         0.740741  1.471921   1.77832  2.638826  0.592647       NaN   \nSukkah             0.275  3.166667     2.375  1.189655  0.830321       NaN   \nYoma            1.331395    8.0125  2.505255  0.354167  1.725547  1.228791   \nGittin           5.77027   0.37585  2.447736  1.318182  1.604329       NaN   \nKetubot         0.702759  0.921776  0.922643  0.925991  1.448387       NaN   \nKiddushin       4.774405  2.323652  1.455086       1.4  1.310765  1.334691   \nSotah           0.707143       NaN  1.148934  0.311475  1.921401       NaN   \nYevamot            1.125  2.044603  1.223127  0.916667  1.672096  0.506783   \nBava Batra           NaN       NaN       NaN       NaN       NaN       NaN   \nBava Kamma           NaN       NaN       NaN       NaN       NaN       NaN   \nBava Metzia          NaN       NaN       NaN       NaN       NaN       NaN   \nAvodah Zarah         NaN       NaN       NaN       NaN       NaN       NaN   \nMakkot               NaN       NaN  1.434459  0.533333  2.414279  1.344586   \nSanhedrin            NaN  0.733959  0.769345  2.667316  1.938504  1.305195   \nShevuot        14.285714       0.8  3.192798  0.607216  1.067801  4.189524   \nNiddah          1.105263  3.094291  1.199009  0.513889  0.875062  1.776515   \nBerakhot             NaN       NaN  0.332258       NaN       1.6       NaN   \n\n               Zevachim   Beitzah  Chagigah    Eruvin  ...   Yevamot  \\\nArakhin        0.713793       NaN       NaN  2.333333  ...     1.125   \nBekhorot        1.35141  2.086942  0.606665  0.158416  ...  2.044603   \nChullin        1.955821  1.784443  1.615288  1.083298  ...  1.223127   \nKeritot          0.1614  3.666667      12.8   3.15625  ...  0.916667   \nMenachot       1.600516  3.027778  0.949075  1.864641  ...  1.672096   \nTemurah        1.944782  0.090909     0.625       NaN  ...  0.506783   \nZevachim            NaN      3.04   2.42316   1.79326  ...  1.773641   \nBeitzah            3.04       NaN  1.051101   1.71379  ...  1.506394   \nChagigah        2.42316  1.051101       NaN  1.842105  ...  0.550067   \nEruvin          1.79326   1.71379  1.842105       NaN  ...  3.718056   \nPesachim       1.770474  2.591431  0.854971  2.859627  ...  3.467857   \nMegillah       0.553858       NaN       NaN  1.277778  ...  3.801681   \nRosh Hashanah       NaN       NaN       NaN       NaN  ...       NaN   \nShabbat        1.093466    2.3003  0.389583  1.715191  ...  2.397142   \nSukkah         7.639697  0.615385  0.990196  1.543215  ...  2.200893   \nYoma            1.69609       NaN   1.95102  2.230241  ...  1.233293   \nGittin         1.230466  0.811535       NaN  1.807959  ...   1.68255   \nKetubot             NaN  1.956522     0.375  2.115954  ...  2.088372   \nKiddushin       2.23031  3.052632       NaN    3.7687  ...   1.34567   \nSotah          5.003125       NaN  1.491216       NaN  ...  1.824904   \nYevamot        1.773641  1.506394  0.550067  3.718056  ...       NaN   \nBava Batra          NaN       NaN       NaN       NaN  ...       NaN   \nBava Kamma          NaN       NaN       NaN       NaN  ...       NaN   \nBava Metzia         NaN       NaN       NaN       NaN  ...       NaN   \nAvodah Zarah        NaN       NaN       NaN       NaN  ...       NaN   \nMakkot         1.176566       NaN      0.75  7.608333  ...  1.021361   \nSanhedrin      1.692069  0.694915  3.212481  1.711994  ...  1.361256   \nShevuot        2.579325       NaN       NaN   0.72987  ...  0.760786   \nNiddah         0.648949       NaN       NaN  3.293873  ...  1.330952   \nBerakhot            NaN      0.28  0.303571  0.375016  ...   0.46875   \n\n              Bava Batra Bava Kamma Bava Metzia Avodah Zarah    Makkot  \\\nArakhin              NaN        NaN         NaN          NaN       NaN   \nBekhorot             NaN        NaN         NaN          NaN       NaN   \nChullin              NaN        NaN         NaN          NaN  1.434459   \nKeritot              NaN        NaN         NaN          NaN  0.533333   \nMenachot             NaN        NaN         NaN          NaN  2.414279   \nTemurah              NaN        NaN         NaN          NaN  1.344586   \nZevachim             NaN        NaN         NaN          NaN  1.176566   \nBeitzah              NaN        NaN         NaN          NaN       NaN   \nChagigah             NaN        NaN         NaN          NaN      0.75   \nEruvin               NaN        NaN         NaN          NaN  7.608333   \nPesachim             NaN        NaN         NaN          NaN  1.285714   \nMegillah             NaN        NaN         NaN          NaN  1.211538   \nRosh Hashanah        NaN        NaN    0.823529     0.670588       NaN   \nShabbat              NaN        NaN         NaN          NaN  1.286694   \nSukkah               NaN        NaN         NaN          NaN  1.939236   \nYoma                 NaN        NaN         NaN          NaN  0.909091   \nGittin               NaN        NaN         NaN          NaN  0.836898   \nKetubot              NaN        NaN         NaN          NaN  0.555556   \nKiddushin            NaN        NaN         NaN          NaN  1.057525   \nSotah                NaN        NaN         NaN          NaN       2.0   \nYevamot              NaN        NaN         NaN          NaN  1.021361   \nBava Batra           NaN   1.116987    2.523825          0.3       NaN   \nBava Kamma      1.116987        NaN    1.245414     0.794662       NaN   \nBava Metzia     2.523825   1.245414         NaN     3.806046       NaN   \nAvodah Zarah         0.3   0.794662    3.806046          NaN       NaN   \nMakkot               NaN        NaN         NaN          NaN       NaN   \nSanhedrin            NaN        NaN         NaN          NaN  1.338038   \nShevuot              NaN        NaN         NaN          NaN  1.816114   \nNiddah               NaN        NaN         NaN          NaN  1.396811   \nBerakhot             NaN        NaN         NaN          NaN       NaN   \n\n              Sanhedrin    Shevuot    Niddah  Berakhot  \nArakhin             NaN  14.285714  1.105263       NaN  \nBekhorot       0.733959        0.8  3.094291       NaN  \nChullin        0.769345   3.192798  1.199009  0.332258  \nKeritot        2.667316   0.607216  0.513889       NaN  \nMenachot       1.938504   1.067801  0.875062       1.6  \nTemurah        1.305195   4.189524  1.776515       NaN  \nZevachim       1.692069   2.579325  0.648949       NaN  \nBeitzah        0.694915        NaN       NaN      0.28  \nChagigah       3.212481        NaN       NaN  0.303571  \nEruvin         1.711994    0.72987  3.293873  0.375016  \nPesachim       2.940723    1.13994  1.624433  0.411142  \nMegillah       0.905346        1.0  0.538462  0.706478  \nRosh Hashanah       NaN        NaN       NaN       NaN  \nShabbat        3.266571   4.572681  5.501877  0.715278  \nSukkah         1.110048        0.5   1.08447  0.670732  \nYoma           0.847756   1.110166  0.810359  1.014929  \nGittin         1.488921        NaN  0.307143       NaN  \nKetubot         2.55717   1.426797  1.230731       NaN  \nKiddushin      1.089315   1.366667       NaN  0.479592  \nSotah          1.125972   0.599729  0.829787  1.176471  \nYevamot        1.361256   0.760786  1.330952   0.46875  \nBava Batra          NaN        NaN       NaN       NaN  \nBava Kamma          NaN        NaN       NaN       NaN  \nBava Metzia         NaN        NaN       NaN       NaN  \nAvodah Zarah        NaN        NaN       NaN       NaN  \nMakkot         1.338038   1.816114  1.396811       NaN  \nSanhedrin           NaN   2.257424  1.020255    0.2903  \nShevuot        2.257424        NaN  1.862484  0.728501  \nNiddah         1.020255   1.862484       NaN       NaN  \nBerakhot         0.2903   0.728501       NaN       NaN  \n\n[30 rows x 30 columns]",
      "text/html": "<div>\n<style scoped>\n    .dataframe tbody tr th:only-of-type {\n        vertical-align: middle;\n    }\n\n    .dataframe tbody tr th {\n        vertical-align: top;\n    }\n\n    .dataframe thead th {\n        text-align: right;\n    }\n</style>\n<table border=\"1\" class=\"dataframe\">\n  <thead>\n    <tr style=\"text-align: right;\">\n      <th></th>\n      <th>Arakhin</th>\n      <th>Bekhorot</th>\n      <th>Chullin</th>\n      <th>Keritot</th>\n      <th>Menachot</th>\n      <th>Temurah</th>\n      <th>Zevachim</th>\n      <th>Beitzah</th>\n      <th>Chagigah</th>\n      <th>Eruvin</th>\n      <th>...</th>\n      <th>Yevamot</th>\n      <th>Bava Batra</th>\n      <th>Bava Kamma</th>\n      <th>Bava Metzia</th>\n      <th>Avodah Zarah</th>\n      <th>Makkot</th>\n      <th>Sanhedrin</th>\n      <th>Shevuot</th>\n      <th>Niddah</th>\n      <th>Berakhot</th>\n    </tr>\n  </thead>\n  <tbody>\n    <tr>\n      <th>Arakhin</th>\n      <td>NaN</td>\n      <td>2.0</td>\n      <td>0.921905</td>\n      <td>1.073232</td>\n      <td>4.27381</td>\n      <td>0.714286</td>\n      <td>0.713793</td>\n      <td>NaN</td>\n      <td>NaN</td>\n      <td>2.333333</td>\n      <td>...</td>\n      <td>1.125</td>\n      <td>NaN</td>\n      <td>NaN</td>\n      <td>NaN</td>\n      <td>NaN</td>\n      <td>NaN</td>\n      <td>NaN</td>\n      <td>14.285714</td>\n      <td>1.105263</td>\n      <td>NaN</td>\n    </tr>\n    <tr>\n      <th>Bekhorot</th>\n      <td>2.0</td>\n      <td>NaN</td>\n      <td>1.034873</td>\n      <td>4.433712</td>\n      <td>1.913214</td>\n      <td>1.567981</td>\n      <td>1.35141</td>\n      <td>2.086942</td>\n      <td>0.606665</td>\n      <td>0.158416</td>\n      <td>...</td>\n      <td>2.044603</td>\n      <td>NaN</td>\n      <td>NaN</td>\n      <td>NaN</td>\n      <td>NaN</td>\n      <td>NaN</td>\n      <td>0.733959</td>\n      <td>0.8</td>\n      <td>3.094291</td>\n      <td>NaN</td>\n    </tr>\n    <tr>\n      <th>Chullin</th>\n      <td>0.921905</td>\n      <td>1.034873</td>\n      <td>NaN</td>\n      <td>1.69503</td>\n      <td>3.354327</td>\n      <td>1.995187</td>\n      <td>1.955821</td>\n      <td>1.784443</td>\n      <td>1.615288</td>\n      <td>1.083298</td>\n      <td>...</td>\n      <td>1.223127</td>\n      <td>NaN</td>\n      <td>NaN</td>\n      <td>NaN</td>\n      <td>NaN</td>\n      <td>1.434459</td>\n      <td>0.769345</td>\n      <td>3.192798</td>\n      <td>1.199009</td>\n      <td>0.332258</td>\n    </tr>\n    <tr>\n      <th>Keritot</th>\n      <td>1.073232</td>\n      <td>4.433712</td>\n      <td>1.69503</td>\n      <td>NaN</td>\n      <td>NaN</td>\n      <td>0.407143</td>\n      <td>0.1614</td>\n      <td>3.666667</td>\n      <td>12.8</td>\n      <td>3.15625</td>\n      <td>...</td>\n      <td>0.916667</td>\n      <td>NaN</td>\n      <td>NaN</td>\n      <td>NaN</td>\n      <td>NaN</td>\n      <td>0.533333</td>\n      <td>2.667316</td>\n      <td>0.607216</td>\n      <td>0.513889</td>\n      <td>NaN</td>\n    </tr>\n    <tr>\n      <th>Menachot</th>\n      <td>4.27381</td>\n      <td>1.913214</td>\n      <td>3.354327</td>\n      <td>NaN</td>\n      <td>NaN</td>\n      <td>1.525</td>\n      <td>1.600516</td>\n      <td>3.027778</td>\n      <td>0.949075</td>\n      <td>1.864641</td>\n      <td>...</td>\n      <td>1.672096</td>\n      <td>NaN</td>\n      <td>NaN</td>\n      <td>NaN</td>\n      <td>NaN</td>\n      <td>2.414279</td>\n      <td>1.938504</td>\n      <td>1.067801</td>\n      <td>0.875062</td>\n      <td>1.6</td>\n    </tr>\n    <tr>\n      <th>Temurah</th>\n      <td>0.714286</td>\n      <td>1.567981</td>\n      <td>1.995187</td>\n      <td>0.407143</td>\n      <td>1.525</td>\n      <td>NaN</td>\n      <td>1.944782</td>\n      <td>0.090909</td>\n      <td>0.625</td>\n      <td>NaN</td>\n      <td>...</td>\n      <td>0.506783</td>\n      <td>NaN</td>\n      <td>NaN</td>\n      <td>NaN</td>\n      <td>NaN</td>\n      <td>1.344586</td>\n      <td>1.305195</td>\n      <td>4.189524</td>\n      <td>1.776515</td>\n      <td>NaN</td>\n    </tr>\n    <tr>\n      <th>Zevachim</th>\n      <td>0.713793</td>\n      <td>1.35141</td>\n      <td>1.955821</td>\n      <td>0.1614</td>\n      <td>1.600516</td>\n      <td>1.944782</td>\n      <td>NaN</td>\n      <td>3.04</td>\n      <td>2.42316</td>\n      <td>1.79326</td>\n      <td>...</td>\n      <td>1.773641</td>\n      <td>NaN</td>\n      <td>NaN</td>\n      <td>NaN</td>\n      <td>NaN</td>\n      <td>1.176566</td>\n      <td>1.692069</td>\n      <td>2.579325</td>\n      <td>0.648949</td>\n      <td>NaN</td>\n    </tr>\n    <tr>\n      <th>Beitzah</th>\n      <td>NaN</td>\n      <td>2.086942</td>\n      <td>1.784443</td>\n      <td>3.666667</td>\n      <td>3.027778</td>\n      <td>0.090909</td>\n      <td>3.04</td>\n      <td>NaN</td>\n      <td>1.051101</td>\n      <td>1.71379</td>\n      <td>...</td>\n      <td>1.506394</td>\n      <td>NaN</td>\n      <td>NaN</td>\n      <td>NaN</td>\n      <td>NaN</td>\n      <td>NaN</td>\n      <td>0.694915</td>\n      <td>NaN</td>\n      <td>NaN</td>\n      <td>0.28</td>\n    </tr>\n    <tr>\n      <th>Chagigah</th>\n      <td>NaN</td>\n      <td>0.606665</td>\n      <td>1.615288</td>\n      <td>12.8</td>\n      <td>0.949075</td>\n      <td>0.625</td>\n      <td>2.42316</td>\n      <td>1.051101</td>\n      <td>NaN</td>\n      <td>1.842105</td>\n      <td>...</td>\n      <td>0.550067</td>\n      <td>NaN</td>\n      <td>NaN</td>\n      <td>NaN</td>\n      <td>NaN</td>\n      <td>0.75</td>\n      <td>3.212481</td>\n      <td>NaN</td>\n      <td>NaN</td>\n      <td>0.303571</td>\n    </tr>\n    <tr>\n      <th>Eruvin</th>\n      <td>2.333333</td>\n      <td>0.158416</td>\n      <td>1.083298</td>\n      <td>3.15625</td>\n      <td>1.864641</td>\n      <td>NaN</td>\n      <td>1.79326</td>\n      <td>1.71379</td>\n      <td>1.842105</td>\n      <td>NaN</td>\n      <td>...</td>\n      <td>3.718056</td>\n      <td>NaN</td>\n      <td>NaN</td>\n      <td>NaN</td>\n      <td>NaN</td>\n      <td>7.608333</td>\n      <td>1.711994</td>\n      <td>0.72987</td>\n      <td>3.293873</td>\n      <td>0.375016</td>\n    </tr>\n    <tr>\n      <th>Pesachim</th>\n      <td>0.209063</td>\n      <td>0.463259</td>\n      <td>0.849704</td>\n      <td>0.152778</td>\n      <td>2.096511</td>\n      <td>2.743384</td>\n      <td>1.770474</td>\n      <td>2.591431</td>\n      <td>0.854971</td>\n      <td>2.859627</td>\n      <td>...</td>\n      <td>3.467857</td>\n      <td>NaN</td>\n      <td>NaN</td>\n      <td>NaN</td>\n      <td>NaN</td>\n      <td>1.285714</td>\n      <td>2.940723</td>\n      <td>1.13994</td>\n      <td>1.624433</td>\n      <td>0.411142</td>\n    </tr>\n    <tr>\n      <th>Megillah</th>\n      <td>0.899199</td>\n      <td>NaN</td>\n      <td>1.03125</td>\n      <td>NaN</td>\n      <td>0.694989</td>\n      <td>NaN</td>\n      <td>0.553858</td>\n      <td>NaN</td>\n      <td>NaN</td>\n      <td>1.277778</td>\n      <td>...</td>\n      <td>3.801681</td>\n      <td>NaN</td>\n      <td>NaN</td>\n      <td>NaN</td>\n      <td>NaN</td>\n      <td>1.211538</td>\n      <td>0.905346</td>\n      <td>1.0</td>\n      <td>0.538462</td>\n      <td>0.706478</td>\n    </tr>\n    <tr>\n      <th>Rosh Hashanah</th>\n      <td>NaN</td>\n      <td>NaN</td>\n      <td>NaN</td>\n      <td>NaN</td>\n      <td>NaN</td>\n      <td>NaN</td>\n      <td>NaN</td>\n      <td>NaN</td>\n      <td>NaN</td>\n      <td>NaN</td>\n      <td>...</td>\n      <td>NaN</td>\n      <td>NaN</td>\n      <td>NaN</td>\n      <td>0.823529</td>\n      <td>0.670588</td>\n      <td>NaN</td>\n      <td>NaN</td>\n      <td>NaN</td>\n      <td>NaN</td>\n      <td>NaN</td>\n    </tr>\n    <tr>\n      <th>Shabbat</th>\n      <td>0.740741</td>\n      <td>1.471921</td>\n      <td>1.77832</td>\n      <td>2.638826</td>\n      <td>0.592647</td>\n      <td>NaN</td>\n      <td>1.093466</td>\n      <td>2.3003</td>\n      <td>0.389583</td>\n      <td>1.715191</td>\n      <td>...</td>\n      <td>2.397142</td>\n      <td>NaN</td>\n      <td>NaN</td>\n      <td>NaN</td>\n      <td>NaN</td>\n      <td>1.286694</td>\n      <td>3.266571</td>\n      <td>4.572681</td>\n      <td>5.501877</td>\n      <td>0.715278</td>\n    </tr>\n    <tr>\n      <th>Sukkah</th>\n      <td>0.275</td>\n      <td>3.166667</td>\n      <td>2.375</td>\n      <td>1.189655</td>\n      <td>0.830321</td>\n      <td>NaN</td>\n      <td>7.639697</td>\n      <td>0.615385</td>\n      <td>0.990196</td>\n      <td>1.543215</td>\n      <td>...</td>\n      <td>2.200893</td>\n      <td>NaN</td>\n      <td>NaN</td>\n      <td>NaN</td>\n      <td>NaN</td>\n      <td>1.939236</td>\n      <td>1.110048</td>\n      <td>0.5</td>\n      <td>1.08447</td>\n      <td>0.670732</td>\n    </tr>\n    <tr>\n      <th>Yoma</th>\n      <td>1.331395</td>\n      <td>8.0125</td>\n      <td>2.505255</td>\n      <td>0.354167</td>\n      <td>1.725547</td>\n      <td>1.228791</td>\n      <td>1.69609</td>\n      <td>NaN</td>\n      <td>1.95102</td>\n      <td>2.230241</td>\n      <td>...</td>\n      <td>1.233293</td>\n      <td>NaN</td>\n      <td>NaN</td>\n      <td>NaN</td>\n      <td>NaN</td>\n      <td>0.909091</td>\n      <td>0.847756</td>\n      <td>1.110166</td>\n      <td>0.810359</td>\n      <td>1.014929</td>\n    </tr>\n    <tr>\n      <th>Gittin</th>\n      <td>5.77027</td>\n      <td>0.37585</td>\n      <td>2.447736</td>\n      <td>1.318182</td>\n      <td>1.604329</td>\n      <td>NaN</td>\n      <td>1.230466</td>\n      <td>0.811535</td>\n      <td>NaN</td>\n      <td>1.807959</td>\n      <td>...</td>\n      <td>1.68255</td>\n      <td>NaN</td>\n      <td>NaN</td>\n      <td>NaN</td>\n      <td>NaN</td>\n      <td>0.836898</td>\n      <td>1.488921</td>\n      <td>NaN</td>\n      <td>0.307143</td>\n      <td>NaN</td>\n    </tr>\n    <tr>\n      <th>Ketubot</th>\n      <td>0.702759</td>\n      <td>0.921776</td>\n      <td>0.922643</td>\n      <td>0.925991</td>\n      <td>1.448387</td>\n      <td>NaN</td>\n      <td>NaN</td>\n      <td>1.956522</td>\n      <td>0.375</td>\n      <td>2.115954</td>\n      <td>...</td>\n      <td>2.088372</td>\n      <td>NaN</td>\n      <td>NaN</td>\n      <td>NaN</td>\n      <td>NaN</td>\n      <td>0.555556</td>\n      <td>2.55717</td>\n      <td>1.426797</td>\n      <td>1.230731</td>\n      <td>NaN</td>\n    </tr>\n    <tr>\n      <th>Kiddushin</th>\n      <td>4.774405</td>\n      <td>2.323652</td>\n      <td>1.455086</td>\n      <td>1.4</td>\n      <td>1.310765</td>\n      <td>1.334691</td>\n      <td>2.23031</td>\n      <td>3.052632</td>\n      <td>NaN</td>\n      <td>3.7687</td>\n      <td>...</td>\n      <td>1.34567</td>\n      <td>NaN</td>\n      <td>NaN</td>\n      <td>NaN</td>\n      <td>NaN</td>\n      <td>1.057525</td>\n      <td>1.089315</td>\n      <td>1.366667</td>\n      <td>NaN</td>\n      <td>0.479592</td>\n    </tr>\n    <tr>\n      <th>Sotah</th>\n      <td>0.707143</td>\n      <td>NaN</td>\n      <td>1.148934</td>\n      <td>0.311475</td>\n      <td>1.921401</td>\n      <td>NaN</td>\n      <td>5.003125</td>\n      <td>NaN</td>\n      <td>1.491216</td>\n      <td>NaN</td>\n      <td>...</td>\n      <td>1.824904</td>\n      <td>NaN</td>\n      <td>NaN</td>\n      <td>NaN</td>\n      <td>NaN</td>\n      <td>2.0</td>\n      <td>1.125972</td>\n      <td>0.599729</td>\n      <td>0.829787</td>\n      <td>1.176471</td>\n    </tr>\n    <tr>\n      <th>Yevamot</th>\n      <td>1.125</td>\n      <td>2.044603</td>\n      <td>1.223127</td>\n      <td>0.916667</td>\n      <td>1.672096</td>\n      <td>0.506783</td>\n      <td>1.773641</td>\n      <td>1.506394</td>\n      <td>0.550067</td>\n      <td>3.718056</td>\n      <td>...</td>\n      <td>NaN</td>\n      <td>NaN</td>\n      <td>NaN</td>\n      <td>NaN</td>\n      <td>NaN</td>\n      <td>1.021361</td>\n      <td>1.361256</td>\n      <td>0.760786</td>\n      <td>1.330952</td>\n      <td>0.46875</td>\n    </tr>\n    <tr>\n      <th>Bava Batra</th>\n      <td>NaN</td>\n      <td>NaN</td>\n      <td>NaN</td>\n      <td>NaN</td>\n      <td>NaN</td>\n      <td>NaN</td>\n      <td>NaN</td>\n      <td>NaN</td>\n      <td>NaN</td>\n      <td>NaN</td>\n      <td>...</td>\n      <td>NaN</td>\n      <td>NaN</td>\n      <td>1.116987</td>\n      <td>2.523825</td>\n      <td>0.3</td>\n      <td>NaN</td>\n      <td>NaN</td>\n      <td>NaN</td>\n      <td>NaN</td>\n      <td>NaN</td>\n    </tr>\n    <tr>\n      <th>Bava Kamma</th>\n      <td>NaN</td>\n      <td>NaN</td>\n      <td>NaN</td>\n      <td>NaN</td>\n      <td>NaN</td>\n      <td>NaN</td>\n      <td>NaN</td>\n      <td>NaN</td>\n      <td>NaN</td>\n      <td>NaN</td>\n      <td>...</td>\n      <td>NaN</td>\n      <td>1.116987</td>\n      <td>NaN</td>\n      <td>1.245414</td>\n      <td>0.794662</td>\n      <td>NaN</td>\n      <td>NaN</td>\n      <td>NaN</td>\n      <td>NaN</td>\n      <td>NaN</td>\n    </tr>\n    <tr>\n      <th>Bava Metzia</th>\n      <td>NaN</td>\n      <td>NaN</td>\n      <td>NaN</td>\n      <td>NaN</td>\n      <td>NaN</td>\n      <td>NaN</td>\n      <td>NaN</td>\n      <td>NaN</td>\n      <td>NaN</td>\n      <td>NaN</td>\n      <td>...</td>\n      <td>NaN</td>\n      <td>2.523825</td>\n      <td>1.245414</td>\n      <td>NaN</td>\n      <td>3.806046</td>\n      <td>NaN</td>\n      <td>NaN</td>\n      <td>NaN</td>\n      <td>NaN</td>\n      <td>NaN</td>\n    </tr>\n    <tr>\n      <th>Avodah Zarah</th>\n      <td>NaN</td>\n      <td>NaN</td>\n      <td>NaN</td>\n      <td>NaN</td>\n      <td>NaN</td>\n      <td>NaN</td>\n      <td>NaN</td>\n      <td>NaN</td>\n      <td>NaN</td>\n      <td>NaN</td>\n      <td>...</td>\n      <td>NaN</td>\n      <td>0.3</td>\n      <td>0.794662</td>\n      <td>3.806046</td>\n      <td>NaN</td>\n      <td>NaN</td>\n      <td>NaN</td>\n      <td>NaN</td>\n      <td>NaN</td>\n      <td>NaN</td>\n    </tr>\n    <tr>\n      <th>Makkot</th>\n      <td>NaN</td>\n      <td>NaN</td>\n      <td>1.434459</td>\n      <td>0.533333</td>\n      <td>2.414279</td>\n      <td>1.344586</td>\n      <td>1.176566</td>\n      <td>NaN</td>\n      <td>0.75</td>\n      <td>7.608333</td>\n      <td>...</td>\n      <td>1.021361</td>\n      <td>NaN</td>\n      <td>NaN</td>\n      <td>NaN</td>\n      <td>NaN</td>\n      <td>NaN</td>\n      <td>1.338038</td>\n      <td>1.816114</td>\n      <td>1.396811</td>\n      <td>NaN</td>\n    </tr>\n    <tr>\n      <th>Sanhedrin</th>\n      <td>NaN</td>\n      <td>0.733959</td>\n      <td>0.769345</td>\n      <td>2.667316</td>\n      <td>1.938504</td>\n      <td>1.305195</td>\n      <td>1.692069</td>\n      <td>0.694915</td>\n      <td>3.212481</td>\n      <td>1.711994</td>\n      <td>...</td>\n      <td>1.361256</td>\n      <td>NaN</td>\n      <td>NaN</td>\n      <td>NaN</td>\n      <td>NaN</td>\n      <td>1.338038</td>\n      <td>NaN</td>\n      <td>2.257424</td>\n      <td>1.020255</td>\n      <td>0.2903</td>\n    </tr>\n    <tr>\n      <th>Shevuot</th>\n      <td>14.285714</td>\n      <td>0.8</td>\n      <td>3.192798</td>\n      <td>0.607216</td>\n      <td>1.067801</td>\n      <td>4.189524</td>\n      <td>2.579325</td>\n      <td>NaN</td>\n      <td>NaN</td>\n      <td>0.72987</td>\n      <td>...</td>\n      <td>0.760786</td>\n      <td>NaN</td>\n      <td>NaN</td>\n      <td>NaN</td>\n      <td>NaN</td>\n      <td>1.816114</td>\n      <td>2.257424</td>\n      <td>NaN</td>\n      <td>1.862484</td>\n      <td>0.728501</td>\n    </tr>\n    <tr>\n      <th>Niddah</th>\n      <td>1.105263</td>\n      <td>3.094291</td>\n      <td>1.199009</td>\n      <td>0.513889</td>\n      <td>0.875062</td>\n      <td>1.776515</td>\n      <td>0.648949</td>\n      <td>NaN</td>\n      <td>NaN</td>\n      <td>3.293873</td>\n      <td>...</td>\n      <td>1.330952</td>\n      <td>NaN</td>\n      <td>NaN</td>\n      <td>NaN</td>\n      <td>NaN</td>\n      <td>1.396811</td>\n      <td>1.020255</td>\n      <td>1.862484</td>\n      <td>NaN</td>\n      <td>NaN</td>\n    </tr>\n    <tr>\n      <th>Berakhot</th>\n      <td>NaN</td>\n      <td>NaN</td>\n      <td>0.332258</td>\n      <td>NaN</td>\n      <td>1.6</td>\n      <td>NaN</td>\n      <td>NaN</td>\n      <td>0.28</td>\n      <td>0.303571</td>\n      <td>0.375016</td>\n      <td>...</td>\n      <td>0.46875</td>\n      <td>NaN</td>\n      <td>NaN</td>\n      <td>NaN</td>\n      <td>NaN</td>\n      <td>NaN</td>\n      <td>0.2903</td>\n      <td>0.728501</td>\n      <td>NaN</td>\n      <td>NaN</td>\n    </tr>\n  </tbody>\n</table>\n<p>30 rows × 30 columns</p>\n</div>"
     },
     "execution_count": 59,
     "metadata": {},
     "output_type": "execute_result"
    }
   ],
   "source": [
    "table = pd.DataFrame(columns = rfn.rashi_masechtot, index = rfn.rashi_masechtot)\n",
    "for mas in rfn.rashi_masechtot:\n",
    "    for mas2 in rfn.rashi_masechtot:\n",
    "        if mas != mas2:\n",
    "            if (mas,mas2) in relaitve_lengths:\n",
    "                table[mas][mas2] = relaitve_lengths[(mas,mas2)]\n",
    "table"
   ],
   "metadata": {
    "collapsed": false,
    "ExecuteTime": {
     "end_time": "2024-06-11T23:47:51.900475Z",
     "start_time": "2024-06-11T23:47:51.853978Z"
    }
   },
   "id": "c709e5495d0fe820"
  },
  {
   "cell_type": "markdown",
   "source": [
    "## Checking number of parallels"
   ],
   "metadata": {
    "collapsed": false
   },
   "id": "35219085b96df7b0"
  },
  {
   "cell_type": "code",
   "execution_count": 72,
   "outputs": [
    {
     "name": "stdout",
     "output_type": "stream",
     "text": [
      "11766\n",
      "280\n",
      "0\n"
     ]
    }
   ],
   "source": [
    "import json\n",
    "rashi_masechtot = ['Shabbat','Eruvin','Pesachim',\n",
    "    'Arakhin', 'Bekhorot', 'Chullin', 'Keritot', 'Menachot', 'Temurah', 'Zevachim', 'Beitzah',\n",
    "    'Chagigah',   'Megillah', 'Rosh Hashanah',  'Sukkah', 'Yoma', 'Gittin', 'Ketubot', 'Kiddushin', 'Sotah', 'Yevamot', 'Bava Batra', 'Bava Kamma', 'Bava Metzia', 'Avodah Zarah', 'Makkot', 'Sanhedrin', 'Shevuot', 'Niddah', 'Berakhot']\n",
    "two_word_masechtot = [\" \".join(s.split(\" \")[0:2]) for s in rashi_masechtot if \" \" in s]\n",
    "first_word = [s.split(\" \")[0] for s in two_word_masechtot]\n",
    "mesorat_hashas_path2 = \"/Users/ephraimmeiri/gitEtc/Rashi Thesis work/mesorat_hashas_links.json\"\n",
    "mesorat_hashas_file = open(mesorat_hashas_path2)\n",
    "mesorat_hashas_json = json.load(mesorat_hashas_file)\n",
    "mesorat_hashas_filtered = [link for link in mesorat_hashas_json\n",
    "                           if (link['refs'][0].split(\" \")[0] in rashi_masechtot or\n",
    "                                 link['refs'][0].split(\" \")[0] in first_word)\n",
    "                           and (link['refs'][1].split(\" \")[0] in rashi_masechtot or\n",
    "                                 link['refs'][1].split(\" \")[0] in first_word)\n",
    "                           ]\n",
    "hashlamot_links = [link for link in mesorat_hashas_json\n",
    "                      if \" \".join(link['refs'][0].split(\" \")[0:2]) in two_word_masechtot\n",
    "                        and \" \".join(link['refs'][1].split(\" \")[0:2]) in two_word_masechtot]\n",
    "# print(len(hashlamot_links))\n",
    "for link in hashlamot_links:\n",
    "    mesorat_hashas_filtered.append(link)\n",
    "shas_refs = [(link['refs'][0],link['refs'][1]) for link in mesorat_hashas_filtered]\n",
    "print(len(shas_refs))\n",
    "print(len([ref for ref in shas_refs if ref[0].split(\" \")[0]==\"Rosh\" or ref[1].split(\" \")[0]==\"Rosh\"]))\n",
    "masec= \"Berakhot\"\n",
    "print(len([ref for ref in shas_refs if ref[0]==masec or ref[1]==masec]))"
   ],
   "metadata": {
    "collapsed": false,
    "ExecuteTime": {
     "end_time": "2024-06-14T12:59:47.556801Z",
     "start_time": "2024-06-14T12:59:47.201923Z"
    }
   },
   "id": "c8458f4d1d94f10f"
  },
  {
   "cell_type": "code",
   "execution_count": 74,
   "outputs": [
    {
     "data": {
      "text/plain": "[('Rosh Hashanah 30a:5', 'Shevuot 34a:1'),\n ('Megillah 17b:9', 'Rosh Hashanah 32a:6'),\n ('Arakhin 3b:4-5', 'Rosh Hashanah 29a:11-12'),\n ('Avodah Zarah 2b:3', 'Rosh Hashanah 16a:12'),\n ('Rosh Hashanah 15a:3', 'Sukkah 7a:6'),\n ('Rosh Hashanah 21a:8', 'Sanhedrin 13b:2'),\n ('Bava Kamma 90b:8-9', 'Rosh Hashanah 25b:19-26a:1'),\n ('Rosh Hashanah 27b:2', 'Rosh Hashanah 29a:2'),\n ('Gittin 90a:10', 'Rosh Hashanah 3a:2'),\n ('Rosh Hashanah 29b:10-11', 'Sukkah 42b:10-43a:1'),\n ('Rosh Hashanah 19b:2', 'Sukkah 44a:1'),\n ('Bekhorot 3a:16', 'Rosh Hashanah 28a:2'),\n ('Rosh Hashanah 22a:8', 'Sanhedrin 24b:15'),\n ('Menachot 30b:14', 'Rosh Hashanah 14b:11'),\n ('Avodah Zarah 42b:14', 'Rosh Hashanah 24b:4'),\n ('Rosh Hashanah 30a:16-23', 'Sukkah 41a:6-11'),\n ('Pesachim 120a:14', 'Rosh Hashanah 19b:2'),\n ('Pesachim 68b:11', 'Rosh Hashanah 9a:8-9b:1'),\n ('Rosh Hashanah 31a:8', 'Sanhedrin 97a:12'),\n ('Niddah 38b:3', 'Rosh Hashanah 11a:15'),\n ('Bava Batra 65a:1', 'Rosh Hashanah 22a:7'),\n ('Rosh Hashanah 20a:19', 'Shabbat 87b:7'),\n ('Rosh Hashanah 30a:5', 'Shevuot 31a:16'),\n ('Rosh Hashanah 7a:17', 'Yoma 65b:1'),\n ('Rosh Hashanah 19b:2', 'Sukkah 43a:5'),\n ('Beitzah 20b:5', 'Rosh Hashanah 4b:14'),\n ('Bava Batra 48a:1', 'Rosh Hashanah 6a:7'),\n ('Megillah 13a:20', 'Rosh Hashanah 7a:8'),\n ('Rosh Hashanah 20a:19', 'Sukkah 54b:10'),\n ('Pesachim 2b:13', 'Rosh Hashanah 22b:15'),\n ('Rosh Hashanah 16a:15', 'Rosh Hashanah 34b:7'),\n ('Rosh Hashanah 32b:25', 'Shabbat 25a:1'),\n ('Rosh Hashanah 32b:7', 'Shabbat 30a:7'),\n ('Ketubot 21b:8', 'Rosh Hashanah 25b:8'),\n ('Chagigah 13b:8', 'Rosh Hashanah 19b:2'),\n ('Rosh Hashanah 11a:12', 'Sotah 13b:16'),\n ('Rosh Hashanah 12a:4', 'Zevachim 113b:4'),\n ('Menachot 68b:1-2', 'Rosh Hashanah 30a:19-20'),\n ('Beitzah 22b:2', 'Rosh Hashanah 32a:15'),\n ('Pesachim 78b:22', 'Rosh Hashanah 30a:19-20'),\n ('Kiddushin 66b:12', 'Rosh Hashanah 25b:3'),\n ('Arakhin 5b:10', 'Rosh Hashanah 9b:4'),\n ('Makkot 8b:3-4', 'Rosh Hashanah 9a:3-4'),\n ('Berakhot 55a:1', 'Rosh Hashanah 16b:5'),\n ('Avodah Zarah 16b:17', 'Rosh Hashanah 25a:13'),\n ('Arakhin 9b:7-8', 'Rosh Hashanah 6b:11'),\n ('Rosh Hashanah 25b:3', 'Sanhedrin 28b:26'),\n ('Eruvin 27a:5', 'Rosh Hashanah 30a:7'),\n ('Rosh Hashanah 34a:12-13', 'Sukkah 43a:9'),\n ('Rosh Hashanah 5b:13-14', 'Temurah 21b:9-10'),\n ('Rosh Hashanah 7a:14-15', 'Sanhedrin 12b:13-14'),\n ('Pesachim 118b:9', 'Rosh Hashanah 17a:9'),\n ('Rosh Hashanah 24a:4', 'Shevuot 48a:1'),\n ('Rosh Hashanah 32b:25', 'Shabbat 133a:13'),\n ('Rosh Hashanah 32b:1', 'Sanhedrin 105a:5'),\n ('Rosh Hashanah 19a:7', 'Shabbat 15b:8'),\n ('Avodah Zarah 10a:5', 'Rosh Hashanah 8a:11'),\n ('Rosh Hashanah 21b:8', 'Shabbat 133b:7'),\n ('Chagigah 4a:8', 'Rosh Hashanah 33a:9-33b:1'),\n ('Rosh Hashanah 10a:6', 'Rosh Hashanah 2b:5'),\n ('Rosh Hashanah 34a:19', 'Sanhedrin 11b:9'),\n ('Rosh Hashanah 23a:6', 'Sukkah 37a:4'),\n ('Arakhin 27b:9-10', 'Rosh Hashanah 27b:15-16'),\n ('Bava Metzia 107a:10', 'Rosh Hashanah 22b:5'),\n ('Rosh Hashanah 30a:5', 'Shevuot 36b:6'),\n ('Rosh Hashanah 19b:2', 'Sukkah 46a:3'),\n ('Pesachim 8a:18-8b:1', 'Rosh Hashanah 4a:2'),\n ('Bava Metzia 107a:10', 'Rosh Hashanah 28a:8'),\n ('Bekhorot 36a:18', 'Rosh Hashanah 22b:6'),\n ('Rosh Hashanah 19b:14', 'Rosh Hashanah 6b:10'),\n ('Rosh Hashanah 6a:1-2', 'Zevachim 29a:11'),\n ('Chullin 141a:8', 'Rosh Hashanah 32b:25'),\n ('Megillah 5a:17', 'Rosh Hashanah 4b:14'),\n ('Kiddushin 38a:7', 'Rosh Hashanah 11a:12'),\n ('Chagigah 17b:7', 'Rosh Hashanah 5a:4'),\n ('Menachot 68a:13', 'Rosh Hashanah 19b:2'),\n ('Rosh Hashanah 16a:12', 'Rosh Hashanah 8b:4-5'),\n ('Megillah 21b:9-10', 'Rosh Hashanah 32a:18-19'),\n ('Rosh Hashanah 19a:3', 'Yevamot 85b:2'),\n ('Bava Kamma 76b:5-6', 'Rosh Hashanah 13a:5'),\n ('Rosh Hashanah 8a:17-8b:1', 'Sanhedrin 11b:9'),\n ('Rosh Hashanah 7a:17-18', 'Rosh Hashanah 9b:11-12'),\n ('Rosh Hashanah 11a:15', 'Yevamot 42a:17-18'),\n ('Rosh Hashanah 12a:4', 'Sanhedrin 108b:3'),\n ('Eruvin 82a:3', 'Rosh Hashanah 22a:8'),\n ('Bava Kamma 106a:11', 'Rosh Hashanah 30a:12'),\n ('Chagigah 18a:11', 'Rosh Hashanah 29b:7'),\n ('Rosh Hashanah 29b:9-10', 'Shabbat 131b:15'),\n ('Rosh Hashanah 19b:11', 'Sanhedrin 11a:13'),\n ('Rosh Hashanah 17b:18', 'Yoma 85b:7'),\n ('Berakhot 8b:18', 'Rosh Hashanah 28a:1'),\n ('Menachot 103b:11', 'Rosh Hashanah 13a:4-5'),\n ('Rosh Hashanah 12b:6-7', 'Rosh Hashanah 7b:3-4'),\n ('Rosh Hashanah 18a:6-10', 'Yevamot 105a:12-16'),\n ('Eruvin 6b:12', 'Rosh Hashanah 14b:5'),\n ('Rosh Hashanah 28b:14-15', 'Zevachim 80b:10-12'),\n ('Rosh Hashanah 33a:9-33b:1', 'Sukkah 28b:5'),\n ('Rosh Hashanah 9a:5-7', 'Yoma 81b:2-3'),\n ('Rosh Hashanah 22a:8', 'Sanhedrin 27b:7'),\n ('Rosh Hashanah 11a:8', 'Sotah 46b:1'),\n ('Rosh Hashanah 23b:12', 'Sanhedrin 40a:9'),\n ('Eruvin 96b:7', 'Rosh Hashanah 33a:5-6'),\n ('Chagigah 15a:13', 'Rosh Hashanah 18a:5'),\n ('Rosh Hashanah 14a:11-14b:1', 'Yevamot 15a:13-14'),\n ('Rosh Hashanah 19b:5', 'Rosh Hashanah 32a:15'),\n ('Beitzah 8b:7', 'Rosh Hashanah 32b:25'),\n ('Rosh Hashanah 8b:10', 'Shabbat 131b:17'),\n ('Rosh Hashanah 34a:19', 'Rosh Hashanah 8a:17-8b:1'),\n ('Menachot 30b:14', 'Rosh Hashanah 12b:1'),\n ('Arakhin 9b:12-13', 'Rosh Hashanah 6b:10'),\n ('Menachot 43a:16-17', 'Rosh Hashanah 29a:11-12'),\n ('Menachot 72a:12', 'Rosh Hashanah 9a:4'),\n ('Rosh Hashanah 6b:11', 'Sukkah 54b:10'),\n ('Chullin 85a:2-3', 'Rosh Hashanah 33a:6'),\n ('Ketubot 66b:9', 'Rosh Hashanah 31a:12'),\n ('Arakhin 31b:11', 'Rosh Hashanah 6b:8-9'),\n ('Kiddushin 29a:6', 'Rosh Hashanah 30a:7'),\n ('Berakhot 20b:2', 'Rosh Hashanah 30a:7'),\n ('Rosh Hashanah 30a:5', 'Shevuot 29b:6'),\n ('Chullin 139a:15', 'Rosh Hashanah 6a:11-12'),\n ('Menachot 65b:3', 'Rosh Hashanah 29b:7'),\n ('Beitzah 22b:2', 'Rosh Hashanah 19b:5'),\n ('Chagigah 4a:4', 'Rosh Hashanah 30a:7'),\n ('Bava Kamma 93a:3', 'Rosh Hashanah 16b:5'),\n ('Rosh Hashanah 32b:25', 'Yevamot 61a:10'),\n ('Rosh Hashanah 5b:13-16', 'Zevachim 29a:14-29b:4'),\n ('Menachot 65b:6', 'Rosh Hashanah 5a:4'),\n ('Ketubot 104a:16', 'Rosh Hashanah 13a:4-5'),\n ('Megillah 21b:1-2', 'Rosh Hashanah 27a:7-8'),\n ('Megillah 28a:14', 'Rosh Hashanah 17a:14'),\n ('Pesachim 11b:12', 'Rosh Hashanah 24a:4'),\n ('Keritot 9a:11', 'Rosh Hashanah 31b:7'),\n ('Megillah 6b:17', 'Rosh Hashanah 19b:10'),\n ('Bava Metzia 43a:8', 'Rosh Hashanah 33b:4'),\n ('Rosh Hashanah 30a:7', 'Shabbat 62a:12'),\n ('Rosh Hashanah 28b:14-16', 'Zevachim 80a:1-3'),\n ('Rosh Hashanah 19b:2', 'Yevamot 79a:13'),\n ('Rosh Hashanah 5b:14', 'Temurah 21a:17'),\n ('Rosh Hashanah 30a:12', 'Shevuot 29b:11'),\n ('Rosh Hashanah 6a:3-4', 'Zevachim 29b:5'),\n ('Rosh Hashanah 5a:7-5b:1', 'Zevachim 99b:16-18'),\n ('Rosh Hashanah 34a:12-13', 'Shabbat 131b:4-5'),\n ('Berakhot 54b:13', 'Rosh Hashanah 17b:14'),\n ('Menachot 28b:11-12', 'Rosh Hashanah 24a:20-24b:2'),\n ('Beitzah 36b:9', 'Rosh Hashanah 32b:23'),\n ('Eruvin 45a:6-7', 'Rosh Hashanah 23b:7-8'),\n ('Eruvin 39a:13', 'Rosh Hashanah 30b:7'),\n ('Chullin 52b:3', 'Rosh Hashanah 6b:6'),\n ('Rosh Hashanah 7a:13', 'Sanhedrin 87a:11'),\n ('Arakhin 28b:7', 'Rosh Hashanah 8b:8-9'),\n ('Bava Batra 80b:17', 'Rosh Hashanah 23a:6'),\n ('Rosh Hashanah 7a:20-7b:1', 'Yoma 35b:3-4'),\n ('Rosh Hashanah 13a:6', 'Shabbat 26b:3-4'),\n ('Megillah 8a:6', 'Rosh Hashanah 6a:11-12'),\n ('Menachot 51b:14', 'Rosh Hashanah 34a:3'),\n ('Eruvin 71a:3-4', 'Rosh Hashanah 9b:2'),\n ('Rosh Hashanah 30a:7', 'Sukkah 28a:12'),\n ('Megillah 29b:2-3', 'Rosh Hashanah 7a:17'),\n ('Menachot 46b:14-15', 'Rosh Hashanah 30a:19-20'),\n ('Rosh Hashanah 31b:17', 'Yoma 39b:5'),\n ('Avodah Zarah 43b:14-15', 'Rosh Hashanah 24b:12-13'),\n ('Bava Batra 10b:7-8', 'Rosh Hashanah 4a:1-3'),\n ('Kiddushin 37b:14', 'Rosh Hashanah 13a:8'),\n ('Rosh Hashanah 34a:3', 'Yevamot 71a:16'),\n ('Niddah 26a:14', 'Rosh Hashanah 27b:11'),\n ('Rosh Hashanah 6b:3', 'Temurah 18b:7'),\n ('Rosh Hashanah 6b:8-9', 'Yoma 65b:8-66a:1'),\n ('Rosh Hashanah 31b:16-17', 'Sanhedrin 41a:24-25'),\n ('Beitzah 19b:12', 'Rosh Hashanah 4b:4'),\n ('Berakhot 8b:2-3', 'Rosh Hashanah 9a:8-9b:1'),\n ('Chullin 43b:15-44a:1', 'Rosh Hashanah 14b:5'),\n ('Rosh Hashanah 18b:17', 'Yevamot 81a:7'),\n ('Rosh Hashanah 6b:6', 'Shevuot 34a:20'),\n ('Pesachim 109b:5', 'Rosh Hashanah 11b:4-5'),\n ('Chagigah 18a:3', 'Rosh Hashanah 34a:19'),\n ('Rosh Hashanah 32b:7', 'Sanhedrin 107b:3'),\n ('Beitzah 6a:2', 'Rosh Hashanah 32a:15'),\n ('Arakhin 3b:15-17', 'Rosh Hashanah 29a:12-13'),\n ('Beitzah 4b:13-5a:3', 'Rosh Hashanah 30b:5-8'),\n ('Rosh Hashanah 4b:14', 'Yoma 3a:2'),\n ('Rosh Hashanah 6b:11', 'Shabbat 87b:7'),\n ('Beitzah 5a:8-5b:1', 'Rosh Hashanah 31b:9-12'),\n ('Berakhot 24b:16', 'Rosh Hashanah 34b:4'),\n ('Rosh Hashanah 31b:6', 'Sotah 40a:15'),\n ('Menachot 68b:6', 'Rosh Hashanah 30b:3-4'),\n ('Menachot 43a:15', 'Rosh Hashanah 30a:7'),\n ('Menachot 57b:7', 'Rosh Hashanah 29b:8-9'),\n ('Rosh Hashanah 9b:13', 'Yevamot 83a:5'),\n ('Megillah 4b:21-22', 'Rosh Hashanah 29b:10-11'),\n ('Chagigah 9a:3', 'Rosh Hashanah 4b:14'),\n ('Arakhin 9b:7-8', 'Rosh Hashanah 20a:19'),\n ('Rosh Hashanah 20a:19', 'Rosh Hashanah 6b:11'),\n ('Rosh Hashanah 24a:14', 'Sanhedrin 10b:5'),\n ('Beitzah 16a:2', 'Rosh Hashanah 34a:19'),\n ('Rosh Hashanah 6a:17', 'Temurah 18a:12'),\n ('Rosh Hashanah 3a:2', 'Shevuot 49b:14'),\n ('Rosh Hashanah 24a:10', 'Sanhedrin 10b:4'),\n ('Rosh Hashanah 12b:6', 'Rosh Hashanah 2a:7'),\n ('Arakhin 21a:12', 'Rosh Hashanah 6a:7'),\n ('Avodah Zarah 18a:2', 'Rosh Hashanah 24b:13'),\n ('Berakhot 61b:14', 'Rosh Hashanah 19b:2'),\n ('Rosh Hashanah 18a:15', 'Rosh Hashanah 21b:2-3'),\n ('Beitzah 16a:2', 'Rosh Hashanah 8a:17-8b:1'),\n ('Chullin 89a:14-15', 'Rosh Hashanah 28a:13'),\n ('Eruvin 7a:10', 'Rosh Hashanah 14a:11-14b:1'),\n ('Rosh Hashanah 24a:4', 'Sanhedrin 40a:7'),\n ('Arakhin 13a:3-4', 'Rosh Hashanah 3b:9'),\n ('Rosh Hashanah 16b:8', 'Sukkah 27b:9'),\n ('Rosh Hashanah 30a:1', 'Yevamot 107b:11'),\n ('Megillah 18a:25-28', 'Rosh Hashanah 26b:2-5'),\n ('Avodah Zarah 2b:3', 'Rosh Hashanah 8b:4-5'),\n ('Rosh Hashanah 7a:12', 'Sanhedrin 12a:5'),\n ('Beitzah 4b:10', 'Rosh Hashanah 22b:11'),\n ('Bekhorot 53b:14', 'Rosh Hashanah 8a:8-9'),\n ('Rosh Hashanah 21b:8', 'Shabbat 135a:9'),\n ('Rosh Hashanah 23b:12', 'Sanhedrin 29a:15'),\n ('Pesachim 55a:9', 'Rosh Hashanah 10b:2'),\n ('Arakhin 10b:5', 'Rosh Hashanah 32b:22'),\n ('Rosh Hashanah 18a:11-12', 'Yevamot 49b:11'),\n ('Rosh Hashanah 16a:13', 'Rosh Hashanah 18a:4'),\n ('Rosh Hashanah 30a:12', 'Shevuot 36b:10'),\n ('Rosh Hashanah 31b:13-14', 'Yoma 67a:9'),\n ('Berakhot 43b:3', 'Rosh Hashanah 11a:11'),\n ('Rosh Hashanah 2a:5-7', 'Rosh Hashanah 8a:10-11'),\n ('Ketubot 54a:12', 'Rosh Hashanah 30a:4'),\n ('Arakhin 9b:13', 'Rosh Hashanah 19b:14'),\n ('Chagigah 17a:5-6', 'Rosh Hashanah 4b:11-12'),\n ('Beitzah 17b:16-18a:1', 'Rosh Hashanah 29b:10'),\n ('Rosh Hashanah 6a:7', 'Yevamot 106a:14'),\n ('Rosh Hashanah 12a:10-12b:1', 'Rosh Hashanah 14b:11'),\n ('Rosh Hashanah 14b:3-4', 'Sukkah 39b:6-40a:1'),\n ('Menachot 80b:8', 'Rosh Hashanah 5b:8-9'),\n ('Eruvin 100a:16-18', 'Rosh Hashanah 28b:14-16'),\n ('Menachot 101b:8-9', 'Rosh Hashanah 13a:5'),\n ('Bava Batra 63b:5', 'Rosh Hashanah 9b:2'),\n ('Rosh Hashanah 6a:4', 'Sanhedrin 22a:17'),\n ('Menachot 74a:20', 'Rosh Hashanah 34a:3'),\n ('Beitzah 6a:2', 'Rosh Hashanah 19b:5'),\n ('Berakhot 20b:11', 'Rosh Hashanah 29a:8'),\n ('Menachot 68a:11-12', 'Rosh Hashanah 30b:2'),\n ('Menachot 64a:7', 'Rosh Hashanah 21b:8'),\n ('Rosh Hashanah 15a:13-15b:1', 'Sukkah 40a:2-3'),\n ('Bava Metzia 111b:5', 'Rosh Hashanah 16a:9'),\n ('Menachot 30b:15', 'Rosh Hashanah 13b:6'),\n ('Rosh Hashanah 25b:17', 'Sanhedrin 4b:17-5a:1'),\n ('Avodah Zarah 2b:3', 'Rosh Hashanah 16a:12'),\n ('Bava Kamma 90b:8-9', 'Rosh Hashanah 25b:19-26a:1'),\n ('Rosh Hashanah 27b:2', 'Rosh Hashanah 29a:2'),\n ('Avodah Zarah 42b:14', 'Rosh Hashanah 24b:4'),\n ('Bava Batra 65a:1', 'Rosh Hashanah 22a:7'),\n ('Bava Batra 48a:1', 'Rosh Hashanah 6a:7'),\n ('Rosh Hashanah 16a:15', 'Rosh Hashanah 34b:7'),\n ('Avodah Zarah 16b:17', 'Rosh Hashanah 25a:13'),\n ('Avodah Zarah 10a:5', 'Rosh Hashanah 8a:11'),\n ('Rosh Hashanah 10a:6', 'Rosh Hashanah 2b:5'),\n ('Bava Metzia 107a:10', 'Rosh Hashanah 22b:5'),\n ('Bava Metzia 107a:10', 'Rosh Hashanah 28a:8'),\n ('Rosh Hashanah 19b:14', 'Rosh Hashanah 6b:10'),\n ('Rosh Hashanah 16a:12', 'Rosh Hashanah 8b:4-5'),\n ('Bava Kamma 76b:5-6', 'Rosh Hashanah 13a:5'),\n ('Rosh Hashanah 7a:17-18', 'Rosh Hashanah 9b:11-12'),\n ('Bava Kamma 106a:11', 'Rosh Hashanah 30a:12'),\n ('Rosh Hashanah 12b:6-7', 'Rosh Hashanah 7b:3-4'),\n ('Rosh Hashanah 19b:5', 'Rosh Hashanah 32a:15'),\n ('Rosh Hashanah 34a:19', 'Rosh Hashanah 8a:17-8b:1'),\n ('Bava Kamma 93a:3', 'Rosh Hashanah 16b:5'),\n ('Bava Metzia 43a:8', 'Rosh Hashanah 33b:4'),\n ('Bava Batra 80b:17', 'Rosh Hashanah 23a:6'),\n ('Avodah Zarah 43b:14-15', 'Rosh Hashanah 24b:12-13'),\n ('Bava Batra 10b:7-8', 'Rosh Hashanah 4a:1-3'),\n ('Rosh Hashanah 20a:19', 'Rosh Hashanah 6b:11'),\n ('Rosh Hashanah 12b:6', 'Rosh Hashanah 2a:7'),\n ('Avodah Zarah 18a:2', 'Rosh Hashanah 24b:13'),\n ('Rosh Hashanah 18a:15', 'Rosh Hashanah 21b:2-3'),\n ('Avodah Zarah 2b:3', 'Rosh Hashanah 8b:4-5'),\n ('Rosh Hashanah 16a:13', 'Rosh Hashanah 18a:4'),\n ('Rosh Hashanah 2a:5-7', 'Rosh Hashanah 8a:10-11'),\n ('Rosh Hashanah 12a:10-12b:1', 'Rosh Hashanah 14b:11'),\n ('Bava Batra 63b:5', 'Rosh Hashanah 9b:2'),\n ('Bava Metzia 111b:5', 'Rosh Hashanah 16a:9')]"
     },
     "execution_count": 74,
     "metadata": {},
     "output_type": "execute_result"
    }
   ],
   "source": [
    "rh_refs"
   ],
   "metadata": {
    "collapsed": false,
    "ExecuteTime": {
     "end_time": "2024-06-14T13:03:31.647846Z",
     "start_time": "2024-06-14T13:03:31.619374Z"
    }
   },
   "id": "4b67f26da89b3d36"
  },
  {
   "cell_type": "code",
   "execution_count": 77,
   "outputs": [
    {
     "data": {
      "text/plain": "['Arakhin 10b:5',\n 'Arakhin 13a:3-4',\n 'Arakhin 21a:12',\n 'Arakhin 27b:9-10',\n 'Arakhin 28b:7',\n 'Arakhin 31b:11',\n 'Arakhin 3b:15-17',\n 'Arakhin 3b:4-5',\n 'Arakhin 5b:10',\n 'Arakhin 9b:12-13',\n 'Arakhin 9b:13',\n 'Arakhin 9b:7-8',\n 'Arakhin 9b:7-8',\n 'Avodah Zarah 10a:5',\n 'Avodah Zarah 10a:5',\n 'Avodah Zarah 16b:17',\n 'Avodah Zarah 16b:17',\n 'Avodah Zarah 18a:2',\n 'Avodah Zarah 18a:2',\n 'Avodah Zarah 2b:3',\n 'Avodah Zarah 2b:3',\n 'Avodah Zarah 2b:3',\n 'Avodah Zarah 2b:3',\n 'Avodah Zarah 42b:14',\n 'Avodah Zarah 42b:14',\n 'Avodah Zarah 43b:14-15',\n 'Avodah Zarah 43b:14-15',\n 'Bava Batra 10b:7-8',\n 'Bava Batra 10b:7-8',\n 'Bava Batra 48a:1',\n 'Bava Batra 48a:1',\n 'Bava Batra 63b:5',\n 'Bava Batra 63b:5',\n 'Bava Batra 65a:1',\n 'Bava Batra 65a:1',\n 'Bava Batra 80b:17',\n 'Bava Batra 80b:17',\n 'Bava Kamma 106a:11',\n 'Bava Kamma 106a:11',\n 'Bava Kamma 76b:5-6',\n 'Bava Kamma 76b:5-6',\n 'Bava Kamma 90b:8-9',\n 'Bava Kamma 90b:8-9',\n 'Bava Kamma 93a:3',\n 'Bava Kamma 93a:3',\n 'Bava Metzia 107a:10',\n 'Bava Metzia 107a:10',\n 'Bava Metzia 107a:10',\n 'Bava Metzia 107a:10',\n 'Bava Metzia 111b:5',\n 'Bava Metzia 111b:5',\n 'Bava Metzia 43a:8',\n 'Bava Metzia 43a:8',\n 'Beitzah 16a:2',\n 'Beitzah 16a:2',\n 'Beitzah 17b:16-18a:1',\n 'Beitzah 19b:12',\n 'Beitzah 20b:5',\n 'Beitzah 22b:2',\n 'Beitzah 22b:2',\n 'Beitzah 36b:9',\n 'Beitzah 4b:10',\n 'Beitzah 4b:13-5a:3',\n 'Beitzah 5a:8-5b:1',\n 'Beitzah 6a:2',\n 'Beitzah 6a:2',\n 'Beitzah 8b:7',\n 'Bekhorot 36a:18',\n 'Bekhorot 3a:16',\n 'Bekhorot 53b:14',\n 'Berakhot 20b:11',\n 'Berakhot 20b:2',\n 'Berakhot 24b:16',\n 'Berakhot 43b:3',\n 'Berakhot 54b:13',\n 'Berakhot 55a:1',\n 'Berakhot 61b:14',\n 'Berakhot 8b:18',\n 'Berakhot 8b:2-3',\n 'Chagigah 13b:8',\n 'Chagigah 15a:13',\n 'Chagigah 17a:5-6',\n 'Chagigah 17b:7',\n 'Chagigah 18a:11',\n 'Chagigah 18a:3',\n 'Chagigah 4a:4',\n 'Chagigah 4a:8',\n 'Chagigah 9a:3',\n 'Chullin 139a:15',\n 'Chullin 141a:8',\n 'Chullin 43b:15-44a:1',\n 'Chullin 52b:3',\n 'Chullin 85a:2-3',\n 'Chullin 89a:14-15',\n 'Eruvin 100a:16-18',\n 'Eruvin 27a:5',\n 'Eruvin 39a:13',\n 'Eruvin 45a:6-7',\n 'Eruvin 6b:12',\n 'Eruvin 71a:3-4',\n 'Eruvin 7a:10',\n 'Eruvin 82a:3',\n 'Eruvin 96b:7',\n 'Gittin 90a:10',\n 'Keritot 9a:11',\n 'Ketubot 104a:16',\n 'Ketubot 21b:8',\n 'Ketubot 54a:12',\n 'Ketubot 66b:9',\n 'Kiddushin 29a:6',\n 'Kiddushin 37b:14',\n 'Kiddushin 38a:7',\n 'Kiddushin 66b:12',\n 'Makkot 8b:3-4',\n 'Megillah 13a:20',\n 'Megillah 17b:9',\n 'Megillah 18a:25-28',\n 'Megillah 21b:1-2',\n 'Megillah 21b:9-10',\n 'Megillah 28a:14',\n 'Megillah 29b:2-3',\n 'Megillah 4b:21-22',\n 'Megillah 5a:17',\n 'Megillah 6b:17',\n 'Megillah 8a:6',\n 'Menachot 101b:8-9',\n 'Menachot 103b:11',\n 'Menachot 28b:11-12',\n 'Menachot 30b:14',\n 'Menachot 30b:14',\n 'Menachot 30b:15',\n 'Menachot 43a:15',\n 'Menachot 43a:16-17',\n 'Menachot 46b:14-15',\n 'Menachot 51b:14',\n 'Menachot 57b:7',\n 'Menachot 64a:7',\n 'Menachot 65b:3',\n 'Menachot 65b:6',\n 'Menachot 68a:11-12',\n 'Menachot 68a:13',\n 'Menachot 68b:1-2',\n 'Menachot 68b:6',\n 'Menachot 72a:12',\n 'Menachot 74a:20',\n 'Menachot 80b:8',\n 'Niddah 26a:14',\n 'Niddah 38b:3',\n 'Pesachim 109b:5',\n 'Pesachim 118b:9',\n 'Pesachim 11b:12',\n 'Pesachim 120a:14',\n 'Pesachim 2b:13',\n 'Pesachim 55a:9',\n 'Pesachim 68b:11',\n 'Pesachim 78b:22',\n 'Pesachim 8a:18-8b:1',\n 'Rosh Hashanah 14b:11',\n 'Rosh Hashanah 14b:11',\n 'Rosh Hashanah 18a:4',\n 'Rosh Hashanah 18a:4',\n 'Rosh Hashanah 21b:2-3',\n 'Rosh Hashanah 21b:2-3',\n 'Rosh Hashanah 29a:2',\n 'Rosh Hashanah 29a:2',\n 'Rosh Hashanah 2a:7',\n 'Rosh Hashanah 2a:7',\n 'Rosh Hashanah 2b:5',\n 'Rosh Hashanah 2b:5',\n 'Rosh Hashanah 32a:15',\n 'Rosh Hashanah 32a:15',\n 'Rosh Hashanah 34b:7',\n 'Rosh Hashanah 34b:7',\n 'Rosh Hashanah 6b:10',\n 'Rosh Hashanah 6b:10',\n 'Rosh Hashanah 6b:11',\n 'Rosh Hashanah 6b:11',\n 'Rosh Hashanah 7b:3-4',\n 'Rosh Hashanah 7b:3-4',\n 'Rosh Hashanah 8a:10-11',\n 'Rosh Hashanah 8a:10-11',\n 'Rosh Hashanah 8a:17-8b:1',\n 'Rosh Hashanah 8a:17-8b:1',\n 'Rosh Hashanah 8b:4-5',\n 'Rosh Hashanah 8b:4-5',\n 'Rosh Hashanah 9b:11-12',\n 'Rosh Hashanah 9b:11-12',\n 'Sanhedrin 105a:5',\n 'Sanhedrin 107b:3',\n 'Sanhedrin 108b:3',\n 'Sanhedrin 10b:4',\n 'Sanhedrin 10b:5',\n 'Sanhedrin 11a:13',\n 'Sanhedrin 11b:9',\n 'Sanhedrin 11b:9',\n 'Sanhedrin 12a:5',\n 'Sanhedrin 12b:13-14',\n 'Sanhedrin 13b:2',\n 'Sanhedrin 22a:17',\n 'Sanhedrin 24b:15',\n 'Sanhedrin 27b:7',\n 'Sanhedrin 28b:26',\n 'Sanhedrin 29a:15',\n 'Sanhedrin 40a:7',\n 'Sanhedrin 40a:9',\n 'Sanhedrin 41a:24-25',\n 'Sanhedrin 4b:17-5a:1',\n 'Sanhedrin 87a:11',\n 'Sanhedrin 97a:12',\n 'Shabbat 131b:15',\n 'Shabbat 131b:17',\n 'Shabbat 131b:4-5',\n 'Shabbat 133a:13',\n 'Shabbat 133b:7',\n 'Shabbat 135a:9',\n 'Shabbat 15b:8',\n 'Shabbat 25a:1',\n 'Shabbat 26b:3-4',\n 'Shabbat 30a:7',\n 'Shabbat 62a:12',\n 'Shabbat 87b:7',\n 'Shabbat 87b:7',\n 'Shevuot 29b:11',\n 'Shevuot 29b:6',\n 'Shevuot 31a:16',\n 'Shevuot 34a:1',\n 'Shevuot 34a:20',\n 'Shevuot 36b:10',\n 'Shevuot 36b:6',\n 'Shevuot 48a:1',\n 'Shevuot 49b:14',\n 'Sotah 13b:16',\n 'Sotah 40a:15',\n 'Sotah 46b:1',\n 'Sukkah 27b:9',\n 'Sukkah 28a:12',\n 'Sukkah 28b:5',\n 'Sukkah 37a:4',\n 'Sukkah 39b:6-40a:1',\n 'Sukkah 40a:2-3',\n 'Sukkah 41a:6-11',\n 'Sukkah 42b:10-43a:1',\n 'Sukkah 43a:5',\n 'Sukkah 43a:9',\n 'Sukkah 44a:1',\n 'Sukkah 46a:3',\n 'Sukkah 54b:10',\n 'Sukkah 54b:10',\n 'Sukkah 7a:6',\n 'Temurah 18a:12',\n 'Temurah 18b:7',\n 'Temurah 21a:17',\n 'Temurah 21b:9-10',\n 'Yevamot 105a:12-16',\n 'Yevamot 106a:14',\n 'Yevamot 107b:11',\n 'Yevamot 15a:13-14',\n 'Yevamot 42a:17-18',\n 'Yevamot 49b:11',\n 'Yevamot 61a:10',\n 'Yevamot 71a:16',\n 'Yevamot 79a:13',\n 'Yevamot 81a:7',\n 'Yevamot 83a:5',\n 'Yevamot 85b:2',\n 'Yoma 35b:3-4',\n 'Yoma 39b:5',\n 'Yoma 3a:2',\n 'Yoma 65b:1',\n 'Yoma 65b:8-66a:1',\n 'Yoma 67a:9',\n 'Yoma 81b:2-3',\n 'Yoma 85b:7',\n 'Zevachim 113b:4',\n 'Zevachim 29a:11',\n 'Zevachim 29a:14-29b:4',\n 'Zevachim 29b:5',\n 'Zevachim 80a:1-3',\n 'Zevachim 80b:10-12',\n 'Zevachim 99b:16-18']"
     },
     "execution_count": 77,
     "metadata": {},
     "output_type": "execute_result"
    }
   ],
   "source": [
    "rh_refs= [ref for ref in shas_refs if ref[0].split(\" \")[0]==\"Rosh\" or ref[1].split(\" \")[0]==\"Rosh\"]\n",
    "rh_friends= []\n",
    "for ref in rh_refs:\n",
    "    if \"Rosh Hashanah\" in ref[0]:\n",
    "        rh_friends.append(ref[1])\n",
    "    else:\n",
    "        rh_friends.append(ref[0])\n",
    "sorted(rh_friends)"
   ],
   "metadata": {
    "collapsed": false,
    "ExecuteTime": {
     "end_time": "2024-06-14T13:04:39.478551Z",
     "start_time": "2024-06-14T13:04:39.448121Z"
    }
   },
   "id": "547a5b68ffff7ac3"
  },
  {
   "cell_type": "code",
   "execution_count": 84,
   "outputs": [
    {
     "data": {
      "text/plain": "'Menachot'"
     },
     "execution_count": 84,
     "metadata": {},
     "output_type": "execute_result"
    }
   ],
   "source": [],
   "metadata": {
    "collapsed": false,
    "ExecuteTime": {
     "end_time": "2024-06-14T13:08:41.829774Z",
     "start_time": "2024-06-14T13:08:41.811906Z"
    }
   },
   "id": "d9042520eaaa1d0f"
  },
  {
   "cell_type": "markdown",
   "source": [
    "## Trying this a 3rd time"
   ],
   "metadata": {
    "collapsed": false
   },
   "id": "e253730714f6d798"
  },
  {
   "cell_type": "code",
   "execution_count": 93,
   "outputs": [
    {
     "name": "stdout",
     "output_type": "stream",
     "text": [
      "2524\n",
      "3978\n"
     ]
    },
    {
     "name": "stderr",
     "output_type": "stream",
     "text": [
      "/Users/ephraimmeiri/miniconda3/envs/Rashi Thesis work/lib/python3.10/site-packages/numpy/core/fromnumeric.py:3504: RuntimeWarning: Mean of empty slice.\n",
      "  return _methods._mean(a, axis=axis, dtype=dtype,\n",
      "/Users/ephraimmeiri/miniconda3/envs/Rashi Thesis work/lib/python3.10/site-packages/numpy/core/_methods.py:129: RuntimeWarning: invalid value encountered in scalar divide\n",
      "  ret = ret.dtype.type(ret / rcount)\n"
     ]
    },
    {
     "data": {
      "text/plain": "                 Arakhin  Bekhorot    Chullin   Keritot  Menachot   Temurah  \\\nArakhin              NaN       0.5   1.713404      1.02  0.428906       1.4   \nBekhorot             2.0       NaN   2.518171  0.233307  0.834974  1.358909   \nChullin         0.921905  1.034873        NaN  0.789044   0.92753  0.674541   \nKeritot         1.073232  4.433712    1.69503       NaN       NaN  2.590909   \nMenachot         4.27381  1.913214   3.354327       NaN       NaN  0.902979   \nTemurah         0.714286  1.567981   1.995187  0.407143     1.525       NaN   \nZevachim        0.713793   1.35141   1.955821    0.1614  1.600516  1.944782   \nBeitzah              NaN   0.81217    0.85667  0.272727  0.990909      11.0   \nChagigah             NaN  0.606665   1.269574  0.078125  1.372674       1.6   \nEruvin          2.333333  0.158416   1.083298  0.316832  1.733863       NaN   \nPesachim        0.209063  0.463259   0.849704  0.152778  2.096511  2.242819   \nMegillah        0.899199       NaN    1.03125       NaN   1.89881       NaN   \nRosh Hashanah        NaN       NaN       1.75  0.386792   0.64574       NaN   \nShabbat         0.740741  1.471921    1.77832  2.638826  0.592647       NaN   \nSukkah             0.275  3.166667      2.375  1.189655  0.830321       NaN   \nYoma            1.331395    8.0125   2.505255  0.354167  1.725547  1.228791   \nGittin           5.77027   0.37585   2.447736  0.758621  0.703308       NaN   \nKetubot         0.702759  0.921776   0.922643  0.925991  5.345238       NaN   \nKiddushin       4.774405  2.323652   1.455086       1.4  1.238402  1.085996   \nSotah           0.707143       NaN   1.148934  0.311475  1.921401       NaN   \nYevamot            1.125  2.044603   1.223127  0.916667  1.672096  0.506783   \nBava Batra           NaN       NaN  11.764706       NaN       NaN       NaN   \nBava Kamma      1.377749  0.804693   4.695391       NaN  0.808783  1.285932   \nBava Metzia     1.678879  1.833438    0.89543       NaN       0.3  0.461538   \nAvodah Zarah         NaN  2.053464  15.671795       NaN  0.168691   0.90625   \nMakkot               NaN       NaN   1.434459  0.533333  0.447779  1.981579   \nSanhedrin            NaN  0.733959   0.769345  2.667316  1.938504  1.395833   \nShevuot        14.285714       0.8   3.192798  0.607216  1.067801  1.484663   \nNiddah          1.105263  3.094291   1.199009  0.513889  0.875062  0.570181   \nBerakhot             NaN       NaN   8.583333       NaN     0.625       NaN   \n\n               Zevachim   Beitzah  Chagigah    Eruvin  ...   Yevamot  \\\nArakhin          1.4375       NaN       NaN  0.428571  ...       0.9   \nBekhorot       1.242095  2.086942  1.984507    6.3125  ...    1.1989   \nChullin        1.847771  1.784443  1.615288  4.008966  ...  1.717408   \nKeritot        6.197628  3.666667      12.8   3.15625  ...  1.090909   \nMenachot       1.464247  3.027778  0.949075  1.864641  ...   1.29064   \nTemurah        1.320214  0.090909     0.625       NaN  ...  2.942631   \nZevachim            NaN      3.04   2.42316   1.79326  ...  1.773641   \nBeitzah        0.328947       NaN  1.096618  0.937239  ...  0.867024   \nChagigah       0.419288  1.051101       NaN  0.542857  ...  4.338172   \nEruvin         1.140974   1.71379  1.842105       NaN  ...  0.703706   \nPesachim       1.884797  2.591431  0.854971  2.859627  ...  0.615068   \nMegillah       9.989216       NaN       NaN  1.277778  ...  0.298851   \nRosh Hashanah       0.5  2.302657  0.566038  1.180739  ...  3.777027   \nShabbat        1.152265    2.3003  0.389583  1.715191  ...  1.271374   \nSukkah         0.194783  0.615385  0.990196  1.543215  ...  0.486661   \nYoma           2.105156       NaN   1.95102  2.230241  ...  1.233293   \nGittin         0.972031  0.811535       NaN  1.807959  ...  3.443052   \nKetubot             NaN  1.956522     0.375  2.115954  ...  1.518466   \nKiddushin      2.429011  3.052632       NaN    3.7687  ...   1.60894   \nSotah           0.94207       NaN  1.491216       NaN  ...  1.126748   \nYevamot        0.863808  1.506394  0.550067  3.718056  ...       NaN   \nBava Batra          NaN  1.318182       NaN  0.585182  ...       NaN   \nBava Kamma         1.75  0.461538       NaN  1.436852  ...  1.276249   \nBava Metzia         NaN  0.711296       1.5  0.521814  ...  1.081064   \nAvodah Zarah   1.501279  4.848741       NaN  1.436691  ...  0.754138   \nMakkot         2.448129       NaN      0.75  7.608333  ...  1.138651   \nSanhedrin      1.623905  0.694915  3.212481  1.711994  ...  1.466061   \nShevuot         0.83696       NaN       NaN   0.72987  ...  1.513103   \nNiddah         2.045163       NaN       NaN  3.293873  ...  1.947695   \nBerakhot            NaN      0.28  3.294118  3.063463  ...       5.4   \n\n              Bava Batra Bava Kamma Bava Metzia Avodah Zarah    Makkot  \\\nArakhin              NaN   0.820834    0.603876          NaN       NaN   \nBekhorot             NaN   2.351627    0.895453     1.691846       NaN   \nChullin         0.522193   0.889665    1.822436     0.199726  1.139053   \nKeritot              NaN        NaN         NaN          NaN     1.875   \nMenachot             NaN   1.854037    3.333333      8.42963  2.414279   \nTemurah              NaN   1.227509    2.166667     8.285714  1.344586   \nZevachim             NaN   0.572727         NaN     1.287192  1.176566   \nBeitzah         0.758621   2.166667    1.416005     1.104657       NaN   \nChagigah             NaN        NaN    0.666667          NaN  1.333333   \nEruvin           2.84864     0.8119    1.942308     1.159114  0.784364   \nPesachim        0.877614   0.969426    1.471842     0.824292  1.285714   \nMegillah             NaN        NaN         NaN          5.7  1.211538   \nRosh Hashanah        NaN        NaN    0.823529     0.670588       NaN   \nShabbat         2.169071   0.485739    1.453648     1.160258  1.286694   \nSukkah          0.326531   1.607143    0.152174     0.547085  1.939236   \nYoma                 NaN      1.575    0.862421     0.340533  0.909091   \nGittin          0.797916   0.632868    2.623966     2.930838  1.203846   \nKetubot         1.076923   1.084585    1.541672     0.927829       1.8   \nKiddushin       4.322581   1.062419    1.440254     3.342796  1.082119   \nSotah           0.823529   2.712319   14.166667     0.753472       2.0   \nYevamot              NaN   1.288961    2.271072     2.468599  1.021361   \nBava Batra           NaN   0.969431    2.904186          0.3       NaN   \nBava Kamma      1.116987        NaN    2.655488     0.794662       NaN   \nBava Metzia     2.523825   1.245414         NaN     3.806046       NaN   \nAvodah Zarah    3.333333   1.373333    0.692004          NaN       NaN   \nMakkot               NaN        NaN         NaN          NaN       NaN   \nSanhedrin            NaN   0.993246    1.863321     2.228779  1.338038   \nShevuot              NaN   0.806686    1.344871          NaN  1.816114   \nNiddah               NaN   1.646282         2.5     1.517154  1.396811   \nBerakhot             NaN       0.75         NaN    28.486111       NaN   \n\n              Sanhedrin   Shevuot    Niddah  Berakhot  \nArakhin             NaN      0.07  0.938824       NaN  \nBekhorot       1.469697      1.25  1.950901       NaN  \nChullin        2.099111  0.499709  1.282996  0.332258  \nKeritot        0.503014  8.171723  2.018182       NaN  \nMenachot       1.194641  1.987461  1.968709       1.6  \nTemurah        1.305195  4.189524  1.776515       NaN  \nZevachim       1.692069  2.579325  0.648949       NaN  \nBeitzah        1.439024       NaN       NaN  3.571429  \nChagigah       0.832395       NaN       NaN  0.303571  \nEruvin         1.286952  1.587093  0.431126  0.375016  \nPesachim       3.948594  1.045075  1.624433  0.411142  \nMegillah       1.281287       1.0  1.857143  0.706478  \nRosh Hashanah  1.381149       NaN    3.8125       NaN  \nShabbat        3.266571  0.805195  5.501877  0.715278  \nSukkah         1.110048       0.5   1.08447  0.670732  \nYoma           0.847756  1.110166  0.810359  1.014929  \nGittin         1.293996       NaN  3.858974       NaN  \nKetubot        1.113662   1.10697  1.838186       NaN  \nKiddushin      1.880198  0.732143       NaN  0.479592  \nSotah          1.125972  0.599729  0.829787  1.176471  \nYevamot        1.361256  0.760786  1.330952   0.46875  \nBava Batra          NaN       NaN       NaN       NaN  \nBava Kamma     2.892431  2.628597  0.863155  1.333333  \nBava Metzia    1.145377  2.062802       0.4       NaN  \nAvodah Zarah   2.122174       NaN  0.828026  0.169838  \nMakkot         0.842867  1.137847  0.896988       NaN  \nSanhedrin           NaN  1.271297  1.020255    0.2903  \nShevuot        2.257424       NaN  1.862484  0.728501  \nNiddah         2.107504  0.790512       NaN       NaN  \nBerakhot       5.965368  1.372685       NaN       NaN  \n\n[30 rows x 30 columns]",
      "text/html": "<div>\n<style scoped>\n    .dataframe tbody tr th:only-of-type {\n        vertical-align: middle;\n    }\n\n    .dataframe tbody tr th {\n        vertical-align: top;\n    }\n\n    .dataframe thead th {\n        text-align: right;\n    }\n</style>\n<table border=\"1\" class=\"dataframe\">\n  <thead>\n    <tr style=\"text-align: right;\">\n      <th></th>\n      <th>Arakhin</th>\n      <th>Bekhorot</th>\n      <th>Chullin</th>\n      <th>Keritot</th>\n      <th>Menachot</th>\n      <th>Temurah</th>\n      <th>Zevachim</th>\n      <th>Beitzah</th>\n      <th>Chagigah</th>\n      <th>Eruvin</th>\n      <th>...</th>\n      <th>Yevamot</th>\n      <th>Bava Batra</th>\n      <th>Bava Kamma</th>\n      <th>Bava Metzia</th>\n      <th>Avodah Zarah</th>\n      <th>Makkot</th>\n      <th>Sanhedrin</th>\n      <th>Shevuot</th>\n      <th>Niddah</th>\n      <th>Berakhot</th>\n    </tr>\n  </thead>\n  <tbody>\n    <tr>\n      <th>Arakhin</th>\n      <td>NaN</td>\n      <td>0.5</td>\n      <td>1.713404</td>\n      <td>1.02</td>\n      <td>0.428906</td>\n      <td>1.4</td>\n      <td>1.4375</td>\n      <td>NaN</td>\n      <td>NaN</td>\n      <td>0.428571</td>\n      <td>...</td>\n      <td>0.9</td>\n      <td>NaN</td>\n      <td>0.820834</td>\n      <td>0.603876</td>\n      <td>NaN</td>\n      <td>NaN</td>\n      <td>NaN</td>\n      <td>0.07</td>\n      <td>0.938824</td>\n      <td>NaN</td>\n    </tr>\n    <tr>\n      <th>Bekhorot</th>\n      <td>2.0</td>\n      <td>NaN</td>\n      <td>2.518171</td>\n      <td>0.233307</td>\n      <td>0.834974</td>\n      <td>1.358909</td>\n      <td>1.242095</td>\n      <td>2.086942</td>\n      <td>1.984507</td>\n      <td>6.3125</td>\n      <td>...</td>\n      <td>1.1989</td>\n      <td>NaN</td>\n      <td>2.351627</td>\n      <td>0.895453</td>\n      <td>1.691846</td>\n      <td>NaN</td>\n      <td>1.469697</td>\n      <td>1.25</td>\n      <td>1.950901</td>\n      <td>NaN</td>\n    </tr>\n    <tr>\n      <th>Chullin</th>\n      <td>0.921905</td>\n      <td>1.034873</td>\n      <td>NaN</td>\n      <td>0.789044</td>\n      <td>0.92753</td>\n      <td>0.674541</td>\n      <td>1.847771</td>\n      <td>1.784443</td>\n      <td>1.615288</td>\n      <td>4.008966</td>\n      <td>...</td>\n      <td>1.717408</td>\n      <td>0.522193</td>\n      <td>0.889665</td>\n      <td>1.822436</td>\n      <td>0.199726</td>\n      <td>1.139053</td>\n      <td>2.099111</td>\n      <td>0.499709</td>\n      <td>1.282996</td>\n      <td>0.332258</td>\n    </tr>\n    <tr>\n      <th>Keritot</th>\n      <td>1.073232</td>\n      <td>4.433712</td>\n      <td>1.69503</td>\n      <td>NaN</td>\n      <td>NaN</td>\n      <td>2.590909</td>\n      <td>6.197628</td>\n      <td>3.666667</td>\n      <td>12.8</td>\n      <td>3.15625</td>\n      <td>...</td>\n      <td>1.090909</td>\n      <td>NaN</td>\n      <td>NaN</td>\n      <td>NaN</td>\n      <td>NaN</td>\n      <td>1.875</td>\n      <td>0.503014</td>\n      <td>8.171723</td>\n      <td>2.018182</td>\n      <td>NaN</td>\n    </tr>\n    <tr>\n      <th>Menachot</th>\n      <td>4.27381</td>\n      <td>1.913214</td>\n      <td>3.354327</td>\n      <td>NaN</td>\n      <td>NaN</td>\n      <td>0.902979</td>\n      <td>1.464247</td>\n      <td>3.027778</td>\n      <td>0.949075</td>\n      <td>1.864641</td>\n      <td>...</td>\n      <td>1.29064</td>\n      <td>NaN</td>\n      <td>1.854037</td>\n      <td>3.333333</td>\n      <td>8.42963</td>\n      <td>2.414279</td>\n      <td>1.194641</td>\n      <td>1.987461</td>\n      <td>1.968709</td>\n      <td>1.6</td>\n    </tr>\n    <tr>\n      <th>Temurah</th>\n      <td>0.714286</td>\n      <td>1.567981</td>\n      <td>1.995187</td>\n      <td>0.407143</td>\n      <td>1.525</td>\n      <td>NaN</td>\n      <td>1.320214</td>\n      <td>0.090909</td>\n      <td>0.625</td>\n      <td>NaN</td>\n      <td>...</td>\n      <td>2.942631</td>\n      <td>NaN</td>\n      <td>1.227509</td>\n      <td>2.166667</td>\n      <td>8.285714</td>\n      <td>1.344586</td>\n      <td>1.305195</td>\n      <td>4.189524</td>\n      <td>1.776515</td>\n      <td>NaN</td>\n    </tr>\n    <tr>\n      <th>Zevachim</th>\n      <td>0.713793</td>\n      <td>1.35141</td>\n      <td>1.955821</td>\n      <td>0.1614</td>\n      <td>1.600516</td>\n      <td>1.944782</td>\n      <td>NaN</td>\n      <td>3.04</td>\n      <td>2.42316</td>\n      <td>1.79326</td>\n      <td>...</td>\n      <td>1.773641</td>\n      <td>NaN</td>\n      <td>0.572727</td>\n      <td>NaN</td>\n      <td>1.287192</td>\n      <td>1.176566</td>\n      <td>1.692069</td>\n      <td>2.579325</td>\n      <td>0.648949</td>\n      <td>NaN</td>\n    </tr>\n    <tr>\n      <th>Beitzah</th>\n      <td>NaN</td>\n      <td>0.81217</td>\n      <td>0.85667</td>\n      <td>0.272727</td>\n      <td>0.990909</td>\n      <td>11.0</td>\n      <td>0.328947</td>\n      <td>NaN</td>\n      <td>1.096618</td>\n      <td>0.937239</td>\n      <td>...</td>\n      <td>0.867024</td>\n      <td>0.758621</td>\n      <td>2.166667</td>\n      <td>1.416005</td>\n      <td>1.104657</td>\n      <td>NaN</td>\n      <td>1.439024</td>\n      <td>NaN</td>\n      <td>NaN</td>\n      <td>3.571429</td>\n    </tr>\n    <tr>\n      <th>Chagigah</th>\n      <td>NaN</td>\n      <td>0.606665</td>\n      <td>1.269574</td>\n      <td>0.078125</td>\n      <td>1.372674</td>\n      <td>1.6</td>\n      <td>0.419288</td>\n      <td>1.051101</td>\n      <td>NaN</td>\n      <td>0.542857</td>\n      <td>...</td>\n      <td>4.338172</td>\n      <td>NaN</td>\n      <td>NaN</td>\n      <td>0.666667</td>\n      <td>NaN</td>\n      <td>1.333333</td>\n      <td>0.832395</td>\n      <td>NaN</td>\n      <td>NaN</td>\n      <td>0.303571</td>\n    </tr>\n    <tr>\n      <th>Eruvin</th>\n      <td>2.333333</td>\n      <td>0.158416</td>\n      <td>1.083298</td>\n      <td>0.316832</td>\n      <td>1.733863</td>\n      <td>NaN</td>\n      <td>1.140974</td>\n      <td>1.71379</td>\n      <td>1.842105</td>\n      <td>NaN</td>\n      <td>...</td>\n      <td>0.703706</td>\n      <td>2.84864</td>\n      <td>0.8119</td>\n      <td>1.942308</td>\n      <td>1.159114</td>\n      <td>0.784364</td>\n      <td>1.286952</td>\n      <td>1.587093</td>\n      <td>0.431126</td>\n      <td>0.375016</td>\n    </tr>\n    <tr>\n      <th>Pesachim</th>\n      <td>0.209063</td>\n      <td>0.463259</td>\n      <td>0.849704</td>\n      <td>0.152778</td>\n      <td>2.096511</td>\n      <td>2.242819</td>\n      <td>1.884797</td>\n      <td>2.591431</td>\n      <td>0.854971</td>\n      <td>2.859627</td>\n      <td>...</td>\n      <td>0.615068</td>\n      <td>0.877614</td>\n      <td>0.969426</td>\n      <td>1.471842</td>\n      <td>0.824292</td>\n      <td>1.285714</td>\n      <td>3.948594</td>\n      <td>1.045075</td>\n      <td>1.624433</td>\n      <td>0.411142</td>\n    </tr>\n    <tr>\n      <th>Megillah</th>\n      <td>0.899199</td>\n      <td>NaN</td>\n      <td>1.03125</td>\n      <td>NaN</td>\n      <td>1.89881</td>\n      <td>NaN</td>\n      <td>9.989216</td>\n      <td>NaN</td>\n      <td>NaN</td>\n      <td>1.277778</td>\n      <td>...</td>\n      <td>0.298851</td>\n      <td>NaN</td>\n      <td>NaN</td>\n      <td>NaN</td>\n      <td>5.7</td>\n      <td>1.211538</td>\n      <td>1.281287</td>\n      <td>1.0</td>\n      <td>1.857143</td>\n      <td>0.706478</td>\n    </tr>\n    <tr>\n      <th>Rosh Hashanah</th>\n      <td>NaN</td>\n      <td>NaN</td>\n      <td>1.75</td>\n      <td>0.386792</td>\n      <td>0.64574</td>\n      <td>NaN</td>\n      <td>0.5</td>\n      <td>2.302657</td>\n      <td>0.566038</td>\n      <td>1.180739</td>\n      <td>...</td>\n      <td>3.777027</td>\n      <td>NaN</td>\n      <td>NaN</td>\n      <td>0.823529</td>\n      <td>0.670588</td>\n      <td>NaN</td>\n      <td>1.381149</td>\n      <td>NaN</td>\n      <td>3.8125</td>\n      <td>NaN</td>\n    </tr>\n    <tr>\n      <th>Shabbat</th>\n      <td>0.740741</td>\n      <td>1.471921</td>\n      <td>1.77832</td>\n      <td>2.638826</td>\n      <td>0.592647</td>\n      <td>NaN</td>\n      <td>1.152265</td>\n      <td>2.3003</td>\n      <td>0.389583</td>\n      <td>1.715191</td>\n      <td>...</td>\n      <td>1.271374</td>\n      <td>2.169071</td>\n      <td>0.485739</td>\n      <td>1.453648</td>\n      <td>1.160258</td>\n      <td>1.286694</td>\n      <td>3.266571</td>\n      <td>0.805195</td>\n      <td>5.501877</td>\n      <td>0.715278</td>\n    </tr>\n    <tr>\n      <th>Sukkah</th>\n      <td>0.275</td>\n      <td>3.166667</td>\n      <td>2.375</td>\n      <td>1.189655</td>\n      <td>0.830321</td>\n      <td>NaN</td>\n      <td>0.194783</td>\n      <td>0.615385</td>\n      <td>0.990196</td>\n      <td>1.543215</td>\n      <td>...</td>\n      <td>0.486661</td>\n      <td>0.326531</td>\n      <td>1.607143</td>\n      <td>0.152174</td>\n      <td>0.547085</td>\n      <td>1.939236</td>\n      <td>1.110048</td>\n      <td>0.5</td>\n      <td>1.08447</td>\n      <td>0.670732</td>\n    </tr>\n    <tr>\n      <th>Yoma</th>\n      <td>1.331395</td>\n      <td>8.0125</td>\n      <td>2.505255</td>\n      <td>0.354167</td>\n      <td>1.725547</td>\n      <td>1.228791</td>\n      <td>2.105156</td>\n      <td>NaN</td>\n      <td>1.95102</td>\n      <td>2.230241</td>\n      <td>...</td>\n      <td>1.233293</td>\n      <td>NaN</td>\n      <td>1.575</td>\n      <td>0.862421</td>\n      <td>0.340533</td>\n      <td>0.909091</td>\n      <td>0.847756</td>\n      <td>1.110166</td>\n      <td>0.810359</td>\n      <td>1.014929</td>\n    </tr>\n    <tr>\n      <th>Gittin</th>\n      <td>5.77027</td>\n      <td>0.37585</td>\n      <td>2.447736</td>\n      <td>0.758621</td>\n      <td>0.703308</td>\n      <td>NaN</td>\n      <td>0.972031</td>\n      <td>0.811535</td>\n      <td>NaN</td>\n      <td>1.807959</td>\n      <td>...</td>\n      <td>3.443052</td>\n      <td>0.797916</td>\n      <td>0.632868</td>\n      <td>2.623966</td>\n      <td>2.930838</td>\n      <td>1.203846</td>\n      <td>1.293996</td>\n      <td>NaN</td>\n      <td>3.858974</td>\n      <td>NaN</td>\n    </tr>\n    <tr>\n      <th>Ketubot</th>\n      <td>0.702759</td>\n      <td>0.921776</td>\n      <td>0.922643</td>\n      <td>0.925991</td>\n      <td>5.345238</td>\n      <td>NaN</td>\n      <td>NaN</td>\n      <td>1.956522</td>\n      <td>0.375</td>\n      <td>2.115954</td>\n      <td>...</td>\n      <td>1.518466</td>\n      <td>1.076923</td>\n      <td>1.084585</td>\n      <td>1.541672</td>\n      <td>0.927829</td>\n      <td>1.8</td>\n      <td>1.113662</td>\n      <td>1.10697</td>\n      <td>1.838186</td>\n      <td>NaN</td>\n    </tr>\n    <tr>\n      <th>Kiddushin</th>\n      <td>4.774405</td>\n      <td>2.323652</td>\n      <td>1.455086</td>\n      <td>1.4</td>\n      <td>1.238402</td>\n      <td>1.085996</td>\n      <td>2.429011</td>\n      <td>3.052632</td>\n      <td>NaN</td>\n      <td>3.7687</td>\n      <td>...</td>\n      <td>1.60894</td>\n      <td>4.322581</td>\n      <td>1.062419</td>\n      <td>1.440254</td>\n      <td>3.342796</td>\n      <td>1.082119</td>\n      <td>1.880198</td>\n      <td>0.732143</td>\n      <td>NaN</td>\n      <td>0.479592</td>\n    </tr>\n    <tr>\n      <th>Sotah</th>\n      <td>0.707143</td>\n      <td>NaN</td>\n      <td>1.148934</td>\n      <td>0.311475</td>\n      <td>1.921401</td>\n      <td>NaN</td>\n      <td>0.94207</td>\n      <td>NaN</td>\n      <td>1.491216</td>\n      <td>NaN</td>\n      <td>...</td>\n      <td>1.126748</td>\n      <td>0.823529</td>\n      <td>2.712319</td>\n      <td>14.166667</td>\n      <td>0.753472</td>\n      <td>2.0</td>\n      <td>1.125972</td>\n      <td>0.599729</td>\n      <td>0.829787</td>\n      <td>1.176471</td>\n    </tr>\n    <tr>\n      <th>Yevamot</th>\n      <td>1.125</td>\n      <td>2.044603</td>\n      <td>1.223127</td>\n      <td>0.916667</td>\n      <td>1.672096</td>\n      <td>0.506783</td>\n      <td>0.863808</td>\n      <td>1.506394</td>\n      <td>0.550067</td>\n      <td>3.718056</td>\n      <td>...</td>\n      <td>NaN</td>\n      <td>NaN</td>\n      <td>1.288961</td>\n      <td>2.271072</td>\n      <td>2.468599</td>\n      <td>1.021361</td>\n      <td>1.361256</td>\n      <td>0.760786</td>\n      <td>1.330952</td>\n      <td>0.46875</td>\n    </tr>\n    <tr>\n      <th>Bava Batra</th>\n      <td>NaN</td>\n      <td>NaN</td>\n      <td>11.764706</td>\n      <td>NaN</td>\n      <td>NaN</td>\n      <td>NaN</td>\n      <td>NaN</td>\n      <td>1.318182</td>\n      <td>NaN</td>\n      <td>0.585182</td>\n      <td>...</td>\n      <td>NaN</td>\n      <td>NaN</td>\n      <td>0.969431</td>\n      <td>2.904186</td>\n      <td>0.3</td>\n      <td>NaN</td>\n      <td>NaN</td>\n      <td>NaN</td>\n      <td>NaN</td>\n      <td>NaN</td>\n    </tr>\n    <tr>\n      <th>Bava Kamma</th>\n      <td>1.377749</td>\n      <td>0.804693</td>\n      <td>4.695391</td>\n      <td>NaN</td>\n      <td>0.808783</td>\n      <td>1.285932</td>\n      <td>1.75</td>\n      <td>0.461538</td>\n      <td>NaN</td>\n      <td>1.436852</td>\n      <td>...</td>\n      <td>1.276249</td>\n      <td>1.116987</td>\n      <td>NaN</td>\n      <td>2.655488</td>\n      <td>0.794662</td>\n      <td>NaN</td>\n      <td>2.892431</td>\n      <td>2.628597</td>\n      <td>0.863155</td>\n      <td>1.333333</td>\n    </tr>\n    <tr>\n      <th>Bava Metzia</th>\n      <td>1.678879</td>\n      <td>1.833438</td>\n      <td>0.89543</td>\n      <td>NaN</td>\n      <td>0.3</td>\n      <td>0.461538</td>\n      <td>NaN</td>\n      <td>0.711296</td>\n      <td>1.5</td>\n      <td>0.521814</td>\n      <td>...</td>\n      <td>1.081064</td>\n      <td>2.523825</td>\n      <td>1.245414</td>\n      <td>NaN</td>\n      <td>3.806046</td>\n      <td>NaN</td>\n      <td>1.145377</td>\n      <td>2.062802</td>\n      <td>0.4</td>\n      <td>NaN</td>\n    </tr>\n    <tr>\n      <th>Avodah Zarah</th>\n      <td>NaN</td>\n      <td>2.053464</td>\n      <td>15.671795</td>\n      <td>NaN</td>\n      <td>0.168691</td>\n      <td>0.90625</td>\n      <td>1.501279</td>\n      <td>4.848741</td>\n      <td>NaN</td>\n      <td>1.436691</td>\n      <td>...</td>\n      <td>0.754138</td>\n      <td>3.333333</td>\n      <td>1.373333</td>\n      <td>0.692004</td>\n      <td>NaN</td>\n      <td>NaN</td>\n      <td>2.122174</td>\n      <td>NaN</td>\n      <td>0.828026</td>\n      <td>0.169838</td>\n    </tr>\n    <tr>\n      <th>Makkot</th>\n      <td>NaN</td>\n      <td>NaN</td>\n      <td>1.434459</td>\n      <td>0.533333</td>\n      <td>0.447779</td>\n      <td>1.981579</td>\n      <td>2.448129</td>\n      <td>NaN</td>\n      <td>0.75</td>\n      <td>7.608333</td>\n      <td>...</td>\n      <td>1.138651</td>\n      <td>NaN</td>\n      <td>NaN</td>\n      <td>NaN</td>\n      <td>NaN</td>\n      <td>NaN</td>\n      <td>0.842867</td>\n      <td>1.137847</td>\n      <td>0.896988</td>\n      <td>NaN</td>\n    </tr>\n    <tr>\n      <th>Sanhedrin</th>\n      <td>NaN</td>\n      <td>0.733959</td>\n      <td>0.769345</td>\n      <td>2.667316</td>\n      <td>1.938504</td>\n      <td>1.395833</td>\n      <td>1.623905</td>\n      <td>0.694915</td>\n      <td>3.212481</td>\n      <td>1.711994</td>\n      <td>...</td>\n      <td>1.466061</td>\n      <td>NaN</td>\n      <td>0.993246</td>\n      <td>1.863321</td>\n      <td>2.228779</td>\n      <td>1.338038</td>\n      <td>NaN</td>\n      <td>1.271297</td>\n      <td>1.020255</td>\n      <td>0.2903</td>\n    </tr>\n    <tr>\n      <th>Shevuot</th>\n      <td>14.285714</td>\n      <td>0.8</td>\n      <td>3.192798</td>\n      <td>0.607216</td>\n      <td>1.067801</td>\n      <td>1.484663</td>\n      <td>0.83696</td>\n      <td>NaN</td>\n      <td>NaN</td>\n      <td>0.72987</td>\n      <td>...</td>\n      <td>1.513103</td>\n      <td>NaN</td>\n      <td>0.806686</td>\n      <td>1.344871</td>\n      <td>NaN</td>\n      <td>1.816114</td>\n      <td>2.257424</td>\n      <td>NaN</td>\n      <td>1.862484</td>\n      <td>0.728501</td>\n    </tr>\n    <tr>\n      <th>Niddah</th>\n      <td>1.105263</td>\n      <td>3.094291</td>\n      <td>1.199009</td>\n      <td>0.513889</td>\n      <td>0.875062</td>\n      <td>0.570181</td>\n      <td>2.045163</td>\n      <td>NaN</td>\n      <td>NaN</td>\n      <td>3.293873</td>\n      <td>...</td>\n      <td>1.947695</td>\n      <td>NaN</td>\n      <td>1.646282</td>\n      <td>2.5</td>\n      <td>1.517154</td>\n      <td>1.396811</td>\n      <td>2.107504</td>\n      <td>0.790512</td>\n      <td>NaN</td>\n      <td>NaN</td>\n    </tr>\n    <tr>\n      <th>Berakhot</th>\n      <td>NaN</td>\n      <td>NaN</td>\n      <td>8.583333</td>\n      <td>NaN</td>\n      <td>0.625</td>\n      <td>NaN</td>\n      <td>NaN</td>\n      <td>0.28</td>\n      <td>3.294118</td>\n      <td>3.063463</td>\n      <td>...</td>\n      <td>5.4</td>\n      <td>NaN</td>\n      <td>0.75</td>\n      <td>NaN</td>\n      <td>28.486111</td>\n      <td>NaN</td>\n      <td>5.965368</td>\n      <td>1.372685</td>\n      <td>NaN</td>\n      <td>NaN</td>\n    </tr>\n  </tbody>\n</table>\n<p>30 rows × 30 columns</p>\n</div>"
     },
     "execution_count": 93,
     "metadata": {},
     "output_type": "execute_result"
    }
   ],
   "source": [
    "paralells2 = pd.read_csv('/Users/ephraimmeiri/gitEtc/Rashi Thesis work/rashi_conservative_output2.csv')\n",
    "print(len(paralells2))\n",
    "parallels_by_masechet = dict()\n",
    "total_for_check=0\n",
    "for mas in rfn.rashi_masechtot:\n",
    "    for mas2 in rfn.rashi_masechtot:\n",
    "        if mas != mas2:\n",
    "            if (mas,mas2) not in parallels_by_masechet:\n",
    "                parallels_by_masechet[(mas,mas2)]= paralells2[\n",
    "                    ((paralells2['masechet1'] == mas) & (paralells2['masechet2']==mas2)) \n",
    "                  | ((paralells2['masechet2'] == mas) & (paralells2['masechet1'] == mas2))\n",
    "                ]\n",
    "                total_for_check+= len(parallels_by_masechet[(mas,mas2)])\n",
    "print(total_for_check)\n",
    "relaitve_lengths = dict()\n",
    "for k in parallels_by_masechet:\n",
    "    rel_lens=[]\n",
    "    for i,r in parallels_by_masechet[k].iterrows():\n",
    "        if r['masechet1']==k[0]:\n",
    "            rel_lens.append(len(r['txt1'].split())/len(r['txt2'].split()))\n",
    "        else:\n",
    "            rel_lens.append(len(r['txt2'].split())/len(r['txt1'].split()))\n",
    "    relaitve_lengths[k]= np.mean(rel_lens)\n",
    "# non_nans = {k: v for k,v in relaitve_lengths.items() if not np.isnan(v)}\n",
    "# #dedup\n",
    "# print(len(non_nans))\n",
    "# deduped = dict()\n",
    "# for k in non_nans:\n",
    "#     if (k[1],k[0]) not in deduped:\n",
    "#         deduped[k] = non_nans[k]\n",
    "table = pd.DataFrame(columns = rfn.rashi_masechtot, index = rfn.rashi_masechtot)\n",
    "for mas in rfn.rashi_masechtot:\n",
    "    for mas2 in rfn.rashi_masechtot:\n",
    "        if mas != mas2:\n",
    "            if (mas,mas2) in relaitve_lengths:\n",
    "                table[mas][mas2] = relaitve_lengths[(mas,mas2)]\n",
    "table"
   ],
   "metadata": {
    "collapsed": false,
    "ExecuteTime": {
     "end_time": "2024-06-14T13:45:55.087890Z",
     "start_time": "2024-06-14T13:45:53.713500Z"
    }
   },
   "id": "20cc3531a6c0b553"
  },
  {
   "cell_type": "code",
   "execution_count": 97,
   "outputs": [
    {
     "name": "stdout",
     "output_type": "stream",
     "text": [
      "870\n"
     ]
    },
    {
     "data": {
      "text/plain": "870"
     },
     "execution_count": 97,
     "metadata": {},
     "output_type": "execute_result"
    }
   ],
   "source": [
    "print(30*30 -30)\n",
    "len(parallels_by_masechet)"
   ],
   "metadata": {
    "collapsed": false,
    "ExecuteTime": {
     "end_time": "2024-06-14T14:35:23.007036Z",
     "start_time": "2024-06-14T14:35:22.986235Z"
    }
   },
   "id": "12ed4e2be1fd2e85"
  },
  {
   "cell_type": "code",
   "execution_count": 99,
   "outputs": [
    {
     "name": "stdout",
     "output_type": "stream",
     "text": [
      "('Arakhin', 'Bekhorot') 1 1\n",
      "('Arakhin', 'Chullin') 3 3\n",
      "('Arakhin', 'Keritot') 2 2\n",
      "('Arakhin', 'Menachot') 3 3\n",
      "('Arakhin', 'Temurah') 1 1\n",
      "('Arakhin', 'Zevachim') 2 2\n",
      "('Arakhin', 'Beitzah') 0 0\n",
      "('Arakhin', 'Chagigah') 0 0\n",
      "('Arakhin', 'Eruvin') 1 1\n",
      "('Arakhin', 'Pesachim') 2 2\n",
      "('Arakhin', 'Megillah') 4 4\n",
      "('Arakhin', 'Rosh Hashanah') 0 0\n",
      "('Arakhin', 'Shabbat') 1 1\n",
      "('Arakhin', 'Sukkah') 2 2\n",
      "('Arakhin', 'Yoma') 2 2\n",
      "('Arakhin', 'Gittin') 2 2\n",
      "('Arakhin', 'Ketubot') 4 4\n",
      "('Arakhin', 'Kiddushin') 4 4\n",
      "('Arakhin', 'Sotah') 2 2\n",
      "('Arakhin', 'Yevamot') 2 2\n",
      "('Arakhin', 'Bava Batra') 0 0\n",
      "('Arakhin', 'Bava Kamma') 4 4\n",
      "('Arakhin', 'Bava Metzia') 2 2\n",
      "('Arakhin', 'Avodah Zarah') 0 0\n",
      "('Arakhin', 'Makkot') 0 0\n",
      "('Arakhin', 'Sanhedrin') 0 0\n",
      "('Arakhin', 'Shevuot') 1 1\n",
      "('Arakhin', 'Niddah') 2 2\n",
      "('Arakhin', 'Berakhot') 0 0\n",
      "('Bekhorot', 'Arakhin') 1 1\n",
      "('Bekhorot', 'Chullin') 19 19\n",
      "('Bekhorot', 'Keritot') 2 2\n",
      "('Bekhorot', 'Menachot') 9 9\n",
      "('Bekhorot', 'Temurah') 12 12\n",
      "('Bekhorot', 'Zevachim') 6 6\n",
      "('Bekhorot', 'Beitzah') 4 4\n",
      "('Bekhorot', 'Chagigah') 3 3\n",
      "('Bekhorot', 'Eruvin') 1 1\n",
      "('Bekhorot', 'Pesachim') 4 4\n",
      "('Bekhorot', 'Megillah') 0 0\n",
      "('Bekhorot', 'Rosh Hashanah') 0 0\n",
      "('Bekhorot', 'Shabbat') 5 5\n",
      "('Bekhorot', 'Sukkah') 1 1\n",
      "('Bekhorot', 'Yoma') 2 2\n",
      "('Bekhorot', 'Gittin') 3 3\n",
      "('Bekhorot', 'Ketubot') 5 5\n",
      "('Bekhorot', 'Kiddushin') 8 8\n",
      "('Bekhorot', 'Sotah') 0 0\n",
      "('Bekhorot', 'Yevamot') 7 7\n",
      "('Bekhorot', 'Bava Batra') 0 0\n",
      "('Bekhorot', 'Bava Kamma') 8 8\n",
      "('Bekhorot', 'Bava Metzia') 4 4\n",
      "('Bekhorot', 'Avodah Zarah') 6 6\n",
      "('Bekhorot', 'Makkot') 0 0\n",
      "('Bekhorot', 'Sanhedrin') 2 2\n",
      "('Bekhorot', 'Shevuot') 1 1\n",
      "('Bekhorot', 'Niddah') 9 9\n",
      "('Bekhorot', 'Berakhot') 0 0\n",
      "('Chullin', 'Arakhin') 3 3\n",
      "('Chullin', 'Bekhorot') 19 19\n",
      "('Chullin', 'Keritot') 5 5\n",
      "('Chullin', 'Menachot') 16 16\n",
      "('Chullin', 'Temurah') 4 4\n",
      "('Chullin', 'Zevachim') 23 23\n",
      "('Chullin', 'Beitzah') 9 9\n",
      "('Chullin', 'Chagigah') 3 3\n",
      "('Chullin', 'Eruvin') 7 7\n",
      "('Chullin', 'Pesachim') 17 17\n",
      "('Chullin', 'Megillah') 1 1\n",
      "('Chullin', 'Rosh Hashanah') 1 1\n",
      "('Chullin', 'Shabbat') 12 12\n",
      "('Chullin', 'Sukkah') 2 2\n",
      "('Chullin', 'Yoma') 10 10\n",
      "('Chullin', 'Gittin') 9 9\n",
      "('Chullin', 'Ketubot') 11 11\n",
      "('Chullin', 'Kiddushin') 6 6\n",
      "('Chullin', 'Sotah') 5 5\n",
      "('Chullin', 'Yevamot') 7 7\n",
      "('Chullin', 'Bava Batra') 2 2\n",
      "('Chullin', 'Bava Kamma') 10 10\n",
      "('Chullin', 'Bava Metzia') 5 5\n",
      "('Chullin', 'Avodah Zarah') 2 2\n",
      "('Chullin', 'Makkot') 9 9\n",
      "('Chullin', 'Sanhedrin') 4 4\n",
      "('Chullin', 'Shevuot') 7 7\n",
      "('Chullin', 'Niddah') 9 9\n",
      "('Chullin', 'Berakhot') 2 2\n",
      "('Keritot', 'Arakhin') 2 2\n",
      "('Keritot', 'Bekhorot') 2 2\n",
      "('Keritot', 'Chullin') 5 5\n",
      "('Keritot', 'Menachot') 0 0\n",
      "('Keritot', 'Temurah') 2 2\n",
      "('Keritot', 'Zevachim') 2 2\n",
      "('Keritot', 'Beitzah') 1 1\n",
      "('Keritot', 'Chagigah') 1 1\n",
      "('Keritot', 'Eruvin') 1 1\n",
      "('Keritot', 'Pesachim') 1 1\n",
      "('Keritot', 'Megillah') 0 0\n",
      "('Keritot', 'Rosh Hashanah') 1 1\n",
      "('Keritot', 'Shabbat') 4 4\n",
      "('Keritot', 'Sukkah') 2 2\n",
      "('Keritot', 'Yoma') 1 1\n",
      "('Keritot', 'Gittin') 1 1\n",
      "('Keritot', 'Ketubot') 3 3\n",
      "('Keritot', 'Kiddushin') 1 1\n",
      "('Keritot', 'Sotah') 1 1\n",
      "('Keritot', 'Yevamot') 1 1\n",
      "('Keritot', 'Bava Batra') 0 0\n",
      "('Keritot', 'Bava Kamma') 0 0\n",
      "('Keritot', 'Bava Metzia') 0 0\n",
      "('Keritot', 'Avodah Zarah') 0 0\n",
      "('Keritot', 'Makkot') 1 1\n",
      "('Keritot', 'Sanhedrin') 3 3\n",
      "('Keritot', 'Shevuot') 9 9\n",
      "('Keritot', 'Niddah') 2 2\n",
      "('Keritot', 'Berakhot') 0 0\n",
      "('Menachot', 'Arakhin') 3 3\n",
      "('Menachot', 'Bekhorot') 9 9\n",
      "('Menachot', 'Chullin') 16 16\n",
      "('Menachot', 'Keritot') 0 0\n",
      "('Menachot', 'Temurah') 3 3\n",
      "('Menachot', 'Zevachim') 57 57\n",
      "('Menachot', 'Beitzah') 2 2\n",
      "('Menachot', 'Chagigah') 7 7\n",
      "('Menachot', 'Eruvin') 6 6\n",
      "('Menachot', 'Pesachim') 22 22\n",
      "('Menachot', 'Megillah') 2 2\n",
      "('Menachot', 'Rosh Hashanah') 5 5\n",
      "('Menachot', 'Shabbat') 13 13\n",
      "('Menachot', 'Sukkah') 4 4\n",
      "('Menachot', 'Yoma') 18 18\n",
      "('Menachot', 'Gittin') 7 7\n",
      "('Menachot', 'Ketubot') 2 2\n",
      "('Menachot', 'Kiddushin') 7 7\n",
      "('Menachot', 'Sotah') 6 6\n",
      "('Menachot', 'Yevamot') 8 8\n",
      "('Menachot', 'Bava Batra') 0 0\n",
      "('Menachot', 'Bava Kamma') 7 7\n",
      "('Menachot', 'Bava Metzia') 1 1\n",
      "('Menachot', 'Avodah Zarah') 3 3\n",
      "('Menachot', 'Makkot') 3 3\n",
      "('Menachot', 'Sanhedrin') 5 5\n",
      "('Menachot', 'Shevuot') 7 7\n",
      "('Menachot', 'Niddah') 7 7\n",
      "('Menachot', 'Berakhot') 1 1\n",
      "('Temurah', 'Arakhin') 1 1\n",
      "('Temurah', 'Bekhorot') 12 12\n",
      "('Temurah', 'Chullin') 4 4\n",
      "('Temurah', 'Keritot') 2 2\n",
      "('Temurah', 'Menachot') 3 3\n",
      "('Temurah', 'Zevachim') 10 10\n",
      "('Temurah', 'Beitzah') 1 1\n",
      "('Temurah', 'Chagigah') 1 1\n",
      "('Temurah', 'Eruvin') 0 0\n",
      "('Temurah', 'Pesachim') 4 4\n",
      "('Temurah', 'Megillah') 0 0\n",
      "('Temurah', 'Rosh Hashanah') 0 0\n",
      "('Temurah', 'Shabbat') 0 0\n",
      "('Temurah', 'Sukkah') 0 0\n",
      "('Temurah', 'Yoma') 5 5\n",
      "('Temurah', 'Gittin') 0 0\n",
      "('Temurah', 'Ketubot') 0 0\n",
      "('Temurah', 'Kiddushin') 4 4\n",
      "('Temurah', 'Sotah') 0 0\n",
      "('Temurah', 'Yevamot') 4 4\n",
      "('Temurah', 'Bava Batra') 0 0\n",
      "('Temurah', 'Bava Kamma') 8 8\n",
      "('Temurah', 'Bava Metzia') 1 1\n",
      "('Temurah', 'Avodah Zarah') 2 2\n",
      "('Temurah', 'Makkot') 4 4\n",
      "('Temurah', 'Sanhedrin') 2 2\n",
      "('Temurah', 'Shevuot') 5 5\n",
      "('Temurah', 'Niddah') 2 2\n",
      "('Temurah', 'Berakhot') 0 0\n",
      "('Zevachim', 'Arakhin') 2 2\n",
      "('Zevachim', 'Bekhorot') 6 6\n",
      "('Zevachim', 'Chullin') 23 23\n",
      "('Zevachim', 'Keritot') 2 2\n",
      "('Zevachim', 'Menachot') 57 57\n",
      "('Zevachim', 'Temurah') 10 10\n",
      "('Zevachim', 'Beitzah') 1 1\n",
      "('Zevachim', 'Chagigah') 2 2\n",
      "('Zevachim', 'Eruvin') 10 10\n",
      "('Zevachim', 'Pesachim') 21 21\n",
      "('Zevachim', 'Megillah') 4 4\n",
      "('Zevachim', 'Rosh Hashanah') 1 1\n",
      "('Zevachim', 'Shabbat') 7 7\n",
      "('Zevachim', 'Sukkah') 3 3\n",
      "('Zevachim', 'Yoma') 30 30\n",
      "('Zevachim', 'Gittin') 4 4\n",
      "('Zevachim', 'Ketubot') 0 0\n",
      "('Zevachim', 'Kiddushin') 8 8\n",
      "('Zevachim', 'Sotah') 3 3\n",
      "('Zevachim', 'Yevamot') 4 4\n",
      "('Zevachim', 'Bava Batra') 0 0\n",
      "('Zevachim', 'Bava Kamma') 2 2\n",
      "('Zevachim', 'Bava Metzia') 0 0\n",
      "('Zevachim', 'Avodah Zarah') 6 6\n",
      "('Zevachim', 'Makkot') 5 5\n",
      "('Zevachim', 'Sanhedrin') 15 15\n",
      "('Zevachim', 'Shevuot') 4 4\n",
      "('Zevachim', 'Niddah') 6 6\n",
      "('Zevachim', 'Berakhot') 0 0\n",
      "('Beitzah', 'Arakhin') 0 0\n",
      "('Beitzah', 'Bekhorot') 4 4\n",
      "('Beitzah', 'Chullin') 9 9\n",
      "('Beitzah', 'Keritot') 1 1\n",
      "('Beitzah', 'Menachot') 2 2\n",
      "('Beitzah', 'Temurah') 1 1\n",
      "('Beitzah', 'Zevachim') 1 1\n",
      "('Beitzah', 'Chagigah') 3 3\n",
      "('Beitzah', 'Eruvin') 5 5\n",
      "('Beitzah', 'Pesachim') 4 4\n",
      "('Beitzah', 'Megillah') 0 0\n",
      "('Beitzah', 'Rosh Hashanah') 3 3\n",
      "('Beitzah', 'Shabbat') 35 35\n",
      "('Beitzah', 'Sukkah') 1 1\n",
      "('Beitzah', 'Yoma') 0 0\n",
      "('Beitzah', 'Gittin') 3 3\n",
      "('Beitzah', 'Ketubot') 1 1\n",
      "('Beitzah', 'Kiddushin') 1 1\n",
      "('Beitzah', 'Sotah') 0 0\n",
      "('Beitzah', 'Yevamot') 6 6\n",
      "('Beitzah', 'Bava Batra') 1 1\n",
      "('Beitzah', 'Bava Kamma') 1 1\n",
      "('Beitzah', 'Bava Metzia') 2 2\n",
      "('Beitzah', 'Avodah Zarah') 4 4\n",
      "('Beitzah', 'Makkot') 0 0\n",
      "('Beitzah', 'Sanhedrin') 1 1\n",
      "('Beitzah', 'Shevuot') 0 0\n",
      "('Beitzah', 'Niddah') 0 0\n",
      "('Beitzah', 'Berakhot') 1 1\n",
      "('Chagigah', 'Arakhin') 0 0\n",
      "('Chagigah', 'Bekhorot') 3 3\n",
      "('Chagigah', 'Chullin') 3 3\n",
      "('Chagigah', 'Keritot') 1 1\n",
      "('Chagigah', 'Menachot') 7 7\n",
      "('Chagigah', 'Temurah') 1 1\n",
      "('Chagigah', 'Zevachim') 2 2\n",
      "('Chagigah', 'Beitzah') 3 3\n",
      "('Chagigah', 'Eruvin') 1 1\n",
      "('Chagigah', 'Pesachim') 3 3\n",
      "('Chagigah', 'Megillah') 0 0\n",
      "('Chagigah', 'Rosh Hashanah') 1 1\n",
      "('Chagigah', 'Shabbat') 2 2\n",
      "('Chagigah', 'Sukkah') 3 3\n",
      "('Chagigah', 'Yoma') 3 3\n",
      "('Chagigah', 'Gittin') 0 0\n",
      "('Chagigah', 'Ketubot') 1 1\n",
      "('Chagigah', 'Kiddushin') 0 0\n",
      "('Chagigah', 'Sotah') 4 4\n",
      "('Chagigah', 'Yevamot') 4 4\n",
      "('Chagigah', 'Bava Batra') 0 0\n",
      "('Chagigah', 'Bava Kamma') 0 0\n",
      "('Chagigah', 'Bava Metzia') 1 1\n",
      "('Chagigah', 'Avodah Zarah') 0 0\n",
      "('Chagigah', 'Makkot') 1 1\n",
      "('Chagigah', 'Sanhedrin') 5 5\n",
      "('Chagigah', 'Shevuot') 0 0\n",
      "('Chagigah', 'Niddah') 0 0\n",
      "('Chagigah', 'Berakhot') 1 1\n",
      "('Eruvin', 'Arakhin') 1 1\n",
      "('Eruvin', 'Bekhorot') 1 1\n",
      "('Eruvin', 'Chullin') 7 7\n",
      "('Eruvin', 'Keritot') 1 1\n",
      "('Eruvin', 'Menachot') 6 6\n",
      "('Eruvin', 'Temurah') 0 0\n",
      "('Eruvin', 'Zevachim') 10 10\n",
      "('Eruvin', 'Beitzah') 5 5\n",
      "('Eruvin', 'Chagigah') 1 1\n",
      "('Eruvin', 'Pesachim') 11 11\n",
      "('Eruvin', 'Megillah') 1 1\n",
      "('Eruvin', 'Rosh Hashanah') 4 4\n",
      "('Eruvin', 'Shabbat') 41 41\n",
      "('Eruvin', 'Sukkah') 18 18\n",
      "('Eruvin', 'Yoma') 4 4\n",
      "('Eruvin', 'Gittin') 10 10\n",
      "('Eruvin', 'Ketubot') 6 6\n",
      "('Eruvin', 'Kiddushin') 5 5\n",
      "('Eruvin', 'Sotah') 0 0\n",
      "('Eruvin', 'Yevamot') 6 6\n",
      "('Eruvin', 'Bava Batra') 3 3\n",
      "('Eruvin', 'Bava Kamma') 5 5\n",
      "('Eruvin', 'Bava Metzia') 2 2\n",
      "('Eruvin', 'Avodah Zarah') 8 8\n",
      "('Eruvin', 'Makkot') 2 2\n",
      "('Eruvin', 'Sanhedrin') 12 12\n",
      "('Eruvin', 'Shevuot') 3 3\n",
      "('Eruvin', 'Niddah') 3 3\n",
      "('Eruvin', 'Berakhot') 5 5\n",
      "('Pesachim', 'Arakhin') 2 2\n",
      "('Pesachim', 'Bekhorot') 4 4\n",
      "('Pesachim', 'Chullin') 17 17\n",
      "('Pesachim', 'Keritot') 1 1\n",
      "('Pesachim', 'Menachot') 22 22\n",
      "('Pesachim', 'Temurah') 4 4\n",
      "('Pesachim', 'Zevachim') 21 21\n",
      "('Pesachim', 'Beitzah') 4 4\n",
      "('Pesachim', 'Chagigah') 3 3\n",
      "('Pesachim', 'Eruvin') 11 11\n",
      "('Pesachim', 'Megillah') 1 1\n",
      "('Pesachim', 'Rosh Hashanah') 3 3\n",
      "('Pesachim', 'Shabbat') 11 11\n",
      "('Pesachim', 'Sukkah') 8 8\n",
      "('Pesachim', 'Yoma') 14 14\n",
      "('Pesachim', 'Gittin') 2 2\n",
      "('Pesachim', 'Ketubot') 8 8\n",
      "('Pesachim', 'Kiddushin') 7 7\n",
      "('Pesachim', 'Sotah') 1 1\n",
      "('Pesachim', 'Yevamot') 5 5\n",
      "('Pesachim', 'Bava Batra') 3 3\n",
      "('Pesachim', 'Bava Kamma') 6 6\n",
      "('Pesachim', 'Bava Metzia') 7 7\n",
      "('Pesachim', 'Avodah Zarah') 12 12\n",
      "('Pesachim', 'Makkot') 1 1\n",
      "('Pesachim', 'Sanhedrin') 7 7\n",
      "('Pesachim', 'Shevuot') 4 4\n",
      "('Pesachim', 'Niddah') 5 5\n",
      "('Pesachim', 'Berakhot') 7 7\n",
      "('Megillah', 'Arakhin') 4 4\n",
      "('Megillah', 'Bekhorot') 0 0\n",
      "('Megillah', 'Chullin') 1 1\n",
      "('Megillah', 'Keritot') 0 0\n",
      "('Megillah', 'Menachot') 2 2\n",
      "('Megillah', 'Temurah') 0 0\n",
      "('Megillah', 'Zevachim') 4 4\n",
      "('Megillah', 'Beitzah') 0 0\n",
      "('Megillah', 'Chagigah') 0 0\n",
      "('Megillah', 'Eruvin') 1 1\n",
      "('Megillah', 'Pesachim') 1 1\n",
      "('Megillah', 'Rosh Hashanah') 2 2\n",
      "('Megillah', 'Shabbat') 5 5\n",
      "('Megillah', 'Sukkah') 2 2\n",
      "('Megillah', 'Yoma') 5 5\n",
      "('Megillah', 'Gittin') 1 1\n",
      "('Megillah', 'Ketubot') 3 3\n",
      "('Megillah', 'Kiddushin') 0 0\n",
      "('Megillah', 'Sotah') 3 3\n",
      "('Megillah', 'Yevamot') 2 2\n",
      "('Megillah', 'Bava Batra') 0 0\n",
      "('Megillah', 'Bava Kamma') 0 0\n",
      "('Megillah', 'Bava Metzia') 0 0\n",
      "('Megillah', 'Avodah Zarah') 1 1\n",
      "('Megillah', 'Makkot') 1 1\n",
      "('Megillah', 'Sanhedrin') 3 3\n",
      "('Megillah', 'Shevuot') 1 1\n",
      "('Megillah', 'Niddah') 1 1\n",
      "('Megillah', 'Berakhot') 2 2\n",
      "('Rosh Hashanah', 'Arakhin') 0 0\n",
      "('Rosh Hashanah', 'Bekhorot') 0 0\n",
      "('Rosh Hashanah', 'Chullin') 1 1\n",
      "('Rosh Hashanah', 'Keritot') 1 1\n",
      "('Rosh Hashanah', 'Menachot') 5 5\n",
      "('Rosh Hashanah', 'Temurah') 0 0\n",
      "('Rosh Hashanah', 'Zevachim') 1 1\n",
      "('Rosh Hashanah', 'Beitzah') 3 3\n",
      "('Rosh Hashanah', 'Chagigah') 1 1\n",
      "('Rosh Hashanah', 'Eruvin') 4 4\n",
      "('Rosh Hashanah', 'Pesachim') 3 3\n",
      "('Rosh Hashanah', 'Megillah') 2 2\n",
      "('Rosh Hashanah', 'Shabbat') 1 1\n",
      "('Rosh Hashanah', 'Sukkah') 3 3\n",
      "('Rosh Hashanah', 'Yoma') 2 2\n",
      "('Rosh Hashanah', 'Gittin') 1 1\n",
      "('Rosh Hashanah', 'Ketubot') 2 2\n",
      "('Rosh Hashanah', 'Kiddushin') 0 0\n",
      "('Rosh Hashanah', 'Sotah') 1 1\n",
      "('Rosh Hashanah', 'Yevamot') 2 2\n",
      "('Rosh Hashanah', 'Bava Batra') 0 0\n",
      "('Rosh Hashanah', 'Bava Kamma') 0 0\n",
      "('Rosh Hashanah', 'Bava Metzia') 1 1\n",
      "('Rosh Hashanah', 'Avodah Zarah') 2 2\n",
      "('Rosh Hashanah', 'Makkot') 0 0\n",
      "('Rosh Hashanah', 'Sanhedrin') 9 9\n",
      "('Rosh Hashanah', 'Shevuot') 0 0\n",
      "('Rosh Hashanah', 'Niddah') 1 1\n",
      "('Rosh Hashanah', 'Berakhot') 0 0\n",
      "('Shabbat', 'Arakhin') 1 1\n",
      "('Shabbat', 'Bekhorot') 5 5\n",
      "('Shabbat', 'Chullin') 12 12\n",
      "('Shabbat', 'Keritot') 4 4\n",
      "('Shabbat', 'Menachot') 13 13\n",
      "('Shabbat', 'Temurah') 0 0\n",
      "('Shabbat', 'Zevachim') 7 7\n",
      "('Shabbat', 'Beitzah') 35 35\n",
      "('Shabbat', 'Chagigah') 2 2\n",
      "('Shabbat', 'Eruvin') 41 41\n",
      "('Shabbat', 'Pesachim') 11 11\n",
      "('Shabbat', 'Megillah') 5 5\n",
      "('Shabbat', 'Rosh Hashanah') 1 1\n",
      "('Shabbat', 'Sukkah') 11 11\n",
      "('Shabbat', 'Yoma') 5 5\n",
      "('Shabbat', 'Gittin') 8 8\n",
      "('Shabbat', 'Ketubot') 8 8\n",
      "('Shabbat', 'Kiddushin') 5 5\n",
      "('Shabbat', 'Sotah') 2 2\n",
      "('Shabbat', 'Yevamot') 17 17\n",
      "('Shabbat', 'Bava Batra') 3 3\n",
      "('Shabbat', 'Bava Kamma') 5 5\n",
      "('Shabbat', 'Bava Metzia') 9 9\n",
      "('Shabbat', 'Avodah Zarah') 7 7\n",
      "('Shabbat', 'Makkot') 2 2\n",
      "('Shabbat', 'Sanhedrin') 7 7\n",
      "('Shabbat', 'Shevuot') 5 5\n",
      "('Shabbat', 'Niddah') 5 5\n",
      "('Shabbat', 'Berakhot') 2 2\n",
      "('Sukkah', 'Arakhin') 2 2\n",
      "('Sukkah', 'Bekhorot') 1 1\n",
      "('Sukkah', 'Chullin') 2 2\n",
      "('Sukkah', 'Keritot') 2 2\n",
      "('Sukkah', 'Menachot') 4 4\n",
      "('Sukkah', 'Temurah') 0 0\n",
      "('Sukkah', 'Zevachim') 3 3\n",
      "('Sukkah', 'Beitzah') 1 1\n",
      "('Sukkah', 'Chagigah') 3 3\n",
      "('Sukkah', 'Eruvin') 18 18\n",
      "('Sukkah', 'Pesachim') 8 8\n",
      "('Sukkah', 'Megillah') 2 2\n",
      "('Sukkah', 'Rosh Hashanah') 3 3\n",
      "('Sukkah', 'Shabbat') 11 11\n",
      "('Sukkah', 'Yoma') 4 4\n",
      "('Sukkah', 'Gittin') 2 2\n",
      "('Sukkah', 'Ketubot') 3 3\n",
      "('Sukkah', 'Kiddushin') 3 3\n",
      "('Sukkah', 'Sotah') 0 0\n",
      "('Sukkah', 'Yevamot') 3 3\n",
      "('Sukkah', 'Bava Batra') 1 1\n",
      "('Sukkah', 'Bava Kamma') 2 2\n",
      "('Sukkah', 'Bava Metzia') 1 1\n",
      "('Sukkah', 'Avodah Zarah') 4 4\n",
      "('Sukkah', 'Makkot') 2 2\n",
      "('Sukkah', 'Sanhedrin') 2 2\n",
      "('Sukkah', 'Shevuot') 1 1\n",
      "('Sukkah', 'Niddah') 3 3\n",
      "('Sukkah', 'Berakhot') 2 2\n",
      "('Yoma', 'Arakhin') 2 2\n",
      "('Yoma', 'Bekhorot') 2 2\n",
      "('Yoma', 'Chullin') 10 10\n",
      "('Yoma', 'Keritot') 1 1\n",
      "('Yoma', 'Menachot') 18 18\n",
      "('Yoma', 'Temurah') 5 5\n",
      "('Yoma', 'Zevachim') 30 30\n",
      "('Yoma', 'Beitzah') 0 0\n",
      "('Yoma', 'Chagigah') 3 3\n",
      "('Yoma', 'Eruvin') 4 4\n",
      "('Yoma', 'Pesachim') 14 14\n",
      "('Yoma', 'Megillah') 5 5\n",
      "('Yoma', 'Rosh Hashanah') 2 2\n",
      "('Yoma', 'Shabbat') 5 5\n",
      "('Yoma', 'Sukkah') 4 4\n",
      "('Yoma', 'Gittin') 4 4\n",
      "('Yoma', 'Ketubot') 2 2\n",
      "('Yoma', 'Kiddushin') 2 2\n",
      "('Yoma', 'Sotah') 10 10\n",
      "('Yoma', 'Yevamot') 7 7\n",
      "('Yoma', 'Bava Batra') 0 0\n",
      "('Yoma', 'Bava Kamma') 2 2\n",
      "('Yoma', 'Bava Metzia') 2 2\n",
      "('Yoma', 'Avodah Zarah') 3 3\n",
      "('Yoma', 'Makkot') 1 1\n",
      "('Yoma', 'Sanhedrin') 8 8\n",
      "('Yoma', 'Shevuot') 5 5\n",
      "('Yoma', 'Niddah') 3 3\n",
      "('Yoma', 'Berakhot') 3 3\n",
      "('Gittin', 'Arakhin') 2 2\n",
      "('Gittin', 'Bekhorot') 3 3\n",
      "('Gittin', 'Chullin') 9 9\n",
      "('Gittin', 'Keritot') 1 1\n",
      "('Gittin', 'Menachot') 7 7\n",
      "('Gittin', 'Temurah') 0 0\n",
      "('Gittin', 'Zevachim') 4 4\n",
      "('Gittin', 'Beitzah') 3 3\n",
      "('Gittin', 'Chagigah') 0 0\n",
      "('Gittin', 'Eruvin') 10 10\n",
      "('Gittin', 'Pesachim') 2 2\n",
      "('Gittin', 'Megillah') 1 1\n",
      "('Gittin', 'Rosh Hashanah') 1 1\n",
      "('Gittin', 'Shabbat') 8 8\n",
      "('Gittin', 'Sukkah') 2 2\n",
      "('Gittin', 'Yoma') 4 4\n",
      "('Gittin', 'Ketubot') 27 27\n",
      "('Gittin', 'Kiddushin') 17 17\n",
      "('Gittin', 'Sotah') 1 1\n",
      "('Gittin', 'Yevamot') 25 25\n",
      "('Gittin', 'Bava Batra') 4 4\n",
      "('Gittin', 'Bava Kamma') 16 16\n",
      "('Gittin', 'Bava Metzia') 22 22\n",
      "('Gittin', 'Avodah Zarah') 7 7\n",
      "('Gittin', 'Makkot') 2 2\n",
      "('Gittin', 'Sanhedrin') 11 11\n",
      "('Gittin', 'Shevuot') 0 0\n",
      "('Gittin', 'Niddah') 2 2\n",
      "('Gittin', 'Berakhot') 0 0\n",
      "('Ketubot', 'Arakhin') 4 4\n",
      "('Ketubot', 'Bekhorot') 5 5\n",
      "('Ketubot', 'Chullin') 11 11\n",
      "('Ketubot', 'Keritot') 3 3\n",
      "('Ketubot', 'Menachot') 2 2\n",
      "('Ketubot', 'Temurah') 0 0\n",
      "('Ketubot', 'Zevachim') 0 0\n",
      "('Ketubot', 'Beitzah') 1 1\n",
      "('Ketubot', 'Chagigah') 1 1\n",
      "('Ketubot', 'Eruvin') 6 6\n",
      "('Ketubot', 'Pesachim') 8 8\n",
      "('Ketubot', 'Megillah') 3 3\n",
      "('Ketubot', 'Rosh Hashanah') 2 2\n",
      "('Ketubot', 'Shabbat') 8 8\n",
      "('Ketubot', 'Sukkah') 3 3\n",
      "('Ketubot', 'Yoma') 2 2\n",
      "('Ketubot', 'Gittin') 27 27\n",
      "('Ketubot', 'Kiddushin') 14 14\n",
      "('Ketubot', 'Sotah') 3 3\n",
      "('Ketubot', 'Yevamot') 23 23\n",
      "('Ketubot', 'Bava Batra') 2 2\n",
      "('Ketubot', 'Bava Kamma') 28 28\n",
      "('Ketubot', 'Bava Metzia') 14 14\n",
      "('Ketubot', 'Avodah Zarah') 6 6\n",
      "('Ketubot', 'Makkot') 1 1\n",
      "('Ketubot', 'Sanhedrin') 16 16\n",
      "('Ketubot', 'Shevuot') 3 3\n",
      "('Ketubot', 'Niddah') 8 8\n",
      "('Ketubot', 'Berakhot') 0 0\n",
      "('Kiddushin', 'Arakhin') 4 4\n",
      "('Kiddushin', 'Bekhorot') 8 8\n",
      "('Kiddushin', 'Chullin') 6 6\n",
      "('Kiddushin', 'Keritot') 1 1\n",
      "('Kiddushin', 'Menachot') 7 7\n",
      "('Kiddushin', 'Temurah') 4 4\n",
      "('Kiddushin', 'Zevachim') 8 8\n",
      "('Kiddushin', 'Beitzah') 1 1\n",
      "('Kiddushin', 'Chagigah') 0 0\n",
      "('Kiddushin', 'Eruvin') 5 5\n",
      "('Kiddushin', 'Pesachim') 7 7\n",
      "('Kiddushin', 'Megillah') 0 0\n",
      "('Kiddushin', 'Rosh Hashanah') 0 0\n",
      "('Kiddushin', 'Shabbat') 5 5\n",
      "('Kiddushin', 'Sukkah') 3 3\n",
      "('Kiddushin', 'Yoma') 2 2\n",
      "('Kiddushin', 'Gittin') 17 17\n",
      "('Kiddushin', 'Ketubot') 14 14\n",
      "('Kiddushin', 'Sotah') 6 6\n",
      "('Kiddushin', 'Yevamot') 31 31\n",
      "('Kiddushin', 'Bava Batra') 1 1\n",
      "('Kiddushin', 'Bava Kamma') 11 11\n",
      "('Kiddushin', 'Bava Metzia') 9 9\n",
      "('Kiddushin', 'Avodah Zarah') 4 4\n",
      "('Kiddushin', 'Makkot') 3 3\n",
      "('Kiddushin', 'Sanhedrin') 8 8\n",
      "('Kiddushin', 'Shevuot') 2 2\n",
      "('Kiddushin', 'Niddah') 0 0\n",
      "('Kiddushin', 'Berakhot') 1 1\n",
      "('Sotah', 'Arakhin') 2 2\n",
      "('Sotah', 'Bekhorot') 0 0\n",
      "('Sotah', 'Chullin') 5 5\n",
      "('Sotah', 'Keritot') 1 1\n",
      "('Sotah', 'Menachot') 6 6\n",
      "('Sotah', 'Temurah') 0 0\n",
      "('Sotah', 'Zevachim') 3 3\n",
      "('Sotah', 'Beitzah') 0 0\n",
      "('Sotah', 'Chagigah') 4 4\n",
      "('Sotah', 'Eruvin') 0 0\n",
      "('Sotah', 'Pesachim') 1 1\n",
      "('Sotah', 'Megillah') 3 3\n",
      "('Sotah', 'Rosh Hashanah') 1 1\n",
      "('Sotah', 'Shabbat') 2 2\n",
      "('Sotah', 'Sukkah') 0 0\n",
      "('Sotah', 'Yoma') 10 10\n",
      "('Sotah', 'Gittin') 1 1\n",
      "('Sotah', 'Ketubot') 3 3\n",
      "('Sotah', 'Kiddushin') 6 6\n",
      "('Sotah', 'Yevamot') 15 15\n",
      "('Sotah', 'Bava Batra') 1 1\n",
      "('Sotah', 'Bava Kamma') 3 3\n",
      "('Sotah', 'Bava Metzia') 1 1\n",
      "('Sotah', 'Avodah Zarah') 2 2\n",
      "('Sotah', 'Makkot') 1 1\n",
      "('Sotah', 'Sanhedrin') 10 10\n",
      "('Sotah', 'Shevuot') 5 5\n",
      "('Sotah', 'Niddah') 1 1\n",
      "('Sotah', 'Berakhot') 1 1\n",
      "('Yevamot', 'Arakhin') 2 2\n",
      "('Yevamot', 'Bekhorot') 7 7\n",
      "('Yevamot', 'Chullin') 7 7\n",
      "('Yevamot', 'Keritot') 1 1\n",
      "('Yevamot', 'Menachot') 8 8\n",
      "('Yevamot', 'Temurah') 4 4\n",
      "('Yevamot', 'Zevachim') 4 4\n",
      "('Yevamot', 'Beitzah') 6 6\n",
      "('Yevamot', 'Chagigah') 4 4\n",
      "('Yevamot', 'Eruvin') 6 6\n",
      "('Yevamot', 'Pesachim') 5 5\n",
      "('Yevamot', 'Megillah') 2 2\n",
      "('Yevamot', 'Rosh Hashanah') 2 2\n",
      "('Yevamot', 'Shabbat') 17 17\n",
      "('Yevamot', 'Sukkah') 3 3\n",
      "('Yevamot', 'Yoma') 7 7\n",
      "('Yevamot', 'Gittin') 25 25\n",
      "('Yevamot', 'Ketubot') 23 23\n",
      "('Yevamot', 'Kiddushin') 31 31\n",
      "('Yevamot', 'Sotah') 15 15\n",
      "('Yevamot', 'Bava Batra') 0 0\n",
      "('Yevamot', 'Bava Kamma') 4 4\n",
      "('Yevamot', 'Bava Metzia') 9 9\n",
      "('Yevamot', 'Avodah Zarah') 3 3\n",
      "('Yevamot', 'Makkot') 5 5\n",
      "('Yevamot', 'Sanhedrin') 15 15\n",
      "('Yevamot', 'Shevuot') 3 3\n",
      "('Yevamot', 'Niddah') 14 14\n",
      "('Yevamot', 'Berakhot') 2 2\n",
      "('Bava Batra', 'Arakhin') 0 0\n",
      "('Bava Batra', 'Bekhorot') 0 0\n",
      "('Bava Batra', 'Chullin') 2 2\n",
      "('Bava Batra', 'Keritot') 0 0\n",
      "('Bava Batra', 'Menachot') 0 0\n",
      "('Bava Batra', 'Temurah') 0 0\n",
      "('Bava Batra', 'Zevachim') 0 0\n",
      "('Bava Batra', 'Beitzah') 1 1\n",
      "('Bava Batra', 'Chagigah') 0 0\n",
      "('Bava Batra', 'Eruvin') 3 3\n",
      "('Bava Batra', 'Pesachim') 3 3\n",
      "('Bava Batra', 'Megillah') 0 0\n",
      "('Bava Batra', 'Rosh Hashanah') 0 0\n",
      "('Bava Batra', 'Shabbat') 3 3\n",
      "('Bava Batra', 'Sukkah') 1 1\n",
      "('Bava Batra', 'Yoma') 0 0\n",
      "('Bava Batra', 'Gittin') 4 4\n",
      "('Bava Batra', 'Ketubot') 2 2\n",
      "('Bava Batra', 'Kiddushin') 1 1\n",
      "('Bava Batra', 'Sotah') 1 1\n",
      "('Bava Batra', 'Yevamot') 0 0\n",
      "('Bava Batra', 'Bava Kamma') 3 3\n",
      "('Bava Batra', 'Bava Metzia') 7 7\n",
      "('Bava Batra', 'Avodah Zarah') 1 1\n",
      "('Bava Batra', 'Makkot') 0 0\n",
      "('Bava Batra', 'Sanhedrin') 0 0\n",
      "('Bava Batra', 'Shevuot') 0 0\n",
      "('Bava Batra', 'Niddah') 0 0\n",
      "('Bava Batra', 'Berakhot') 0 0\n",
      "('Bava Kamma', 'Arakhin') 4 4\n",
      "('Bava Kamma', 'Bekhorot') 8 8\n",
      "('Bava Kamma', 'Chullin') 10 10\n",
      "('Bava Kamma', 'Keritot') 0 0\n",
      "('Bava Kamma', 'Menachot') 7 7\n",
      "('Bava Kamma', 'Temurah') 8 8\n",
      "('Bava Kamma', 'Zevachim') 2 2\n",
      "('Bava Kamma', 'Beitzah') 1 1\n",
      "('Bava Kamma', 'Chagigah') 0 0\n",
      "('Bava Kamma', 'Eruvin') 5 5\n",
      "('Bava Kamma', 'Pesachim') 6 6\n",
      "('Bava Kamma', 'Megillah') 0 0\n",
      "('Bava Kamma', 'Rosh Hashanah') 0 0\n",
      "('Bava Kamma', 'Shabbat') 5 5\n",
      "('Bava Kamma', 'Sukkah') 2 2\n",
      "('Bava Kamma', 'Yoma') 2 2\n",
      "('Bava Kamma', 'Gittin') 16 16\n",
      "('Bava Kamma', 'Ketubot') 28 28\n",
      "('Bava Kamma', 'Kiddushin') 11 11\n",
      "('Bava Kamma', 'Sotah') 3 3\n",
      "('Bava Kamma', 'Yevamot') 4 4\n",
      "('Bava Kamma', 'Bava Batra') 3 3\n",
      "('Bava Kamma', 'Bava Metzia') 45 45\n",
      "('Bava Kamma', 'Avodah Zarah') 4 4\n",
      "('Bava Kamma', 'Makkot') 0 0\n",
      "('Bava Kamma', 'Sanhedrin') 12 12\n",
      "('Bava Kamma', 'Shevuot') 10 10\n",
      "('Bava Kamma', 'Niddah') 7 7\n",
      "('Bava Kamma', 'Berakhot') 1 1\n",
      "('Bava Metzia', 'Arakhin') 2 2\n",
      "('Bava Metzia', 'Bekhorot') 4 4\n",
      "('Bava Metzia', 'Chullin') 5 5\n",
      "('Bava Metzia', 'Keritot') 0 0\n",
      "('Bava Metzia', 'Menachot') 1 1\n",
      "('Bava Metzia', 'Temurah') 1 1\n",
      "('Bava Metzia', 'Zevachim') 0 0\n",
      "('Bava Metzia', 'Beitzah') 2 2\n",
      "('Bava Metzia', 'Chagigah') 1 1\n",
      "('Bava Metzia', 'Eruvin') 2 2\n",
      "('Bava Metzia', 'Pesachim') 7 7\n",
      "('Bava Metzia', 'Megillah') 0 0\n",
      "('Bava Metzia', 'Rosh Hashanah') 1 1\n",
      "('Bava Metzia', 'Shabbat') 9 9\n",
      "('Bava Metzia', 'Sukkah') 1 1\n",
      "('Bava Metzia', 'Yoma') 2 2\n",
      "('Bava Metzia', 'Gittin') 22 22\n",
      "('Bava Metzia', 'Ketubot') 14 14\n",
      "('Bava Metzia', 'Kiddushin') 9 9\n",
      "('Bava Metzia', 'Sotah') 1 1\n",
      "('Bava Metzia', 'Yevamot') 9 9\n",
      "('Bava Metzia', 'Bava Batra') 7 7\n",
      "('Bava Metzia', 'Bava Kamma') 45 45\n",
      "('Bava Metzia', 'Avodah Zarah') 5 5\n",
      "('Bava Metzia', 'Makkot') 0 0\n",
      "('Bava Metzia', 'Sanhedrin') 9 9\n",
      "('Bava Metzia', 'Shevuot') 11 11\n",
      "('Bava Metzia', 'Niddah') 1 1\n",
      "('Bava Metzia', 'Berakhot') 0 0\n",
      "('Avodah Zarah', 'Arakhin') 0 0\n",
      "('Avodah Zarah', 'Bekhorot') 6 6\n",
      "('Avodah Zarah', 'Chullin') 2 2\n",
      "('Avodah Zarah', 'Keritot') 0 0\n",
      "('Avodah Zarah', 'Menachot') 3 3\n",
      "('Avodah Zarah', 'Temurah') 2 2\n",
      "('Avodah Zarah', 'Zevachim') 6 6\n",
      "('Avodah Zarah', 'Beitzah') 4 4\n",
      "('Avodah Zarah', 'Chagigah') 0 0\n",
      "('Avodah Zarah', 'Eruvin') 8 8\n",
      "('Avodah Zarah', 'Pesachim') 12 12\n",
      "('Avodah Zarah', 'Megillah') 1 1\n",
      "('Avodah Zarah', 'Rosh Hashanah') 2 2\n",
      "('Avodah Zarah', 'Shabbat') 7 7\n",
      "('Avodah Zarah', 'Sukkah') 4 4\n",
      "('Avodah Zarah', 'Yoma') 3 3\n",
      "('Avodah Zarah', 'Gittin') 7 7\n",
      "('Avodah Zarah', 'Ketubot') 6 6\n",
      "('Avodah Zarah', 'Kiddushin') 4 4\n",
      "('Avodah Zarah', 'Sotah') 2 2\n",
      "('Avodah Zarah', 'Yevamot') 3 3\n",
      "('Avodah Zarah', 'Bava Batra') 1 1\n",
      "('Avodah Zarah', 'Bava Kamma') 4 4\n",
      "('Avodah Zarah', 'Bava Metzia') 5 5\n",
      "('Avodah Zarah', 'Makkot') 0 0\n",
      "('Avodah Zarah', 'Sanhedrin') 7 7\n",
      "('Avodah Zarah', 'Shevuot') 0 0\n",
      "('Avodah Zarah', 'Niddah') 4 4\n",
      "('Avodah Zarah', 'Berakhot') 3 3\n",
      "('Makkot', 'Arakhin') 0 0\n",
      "('Makkot', 'Bekhorot') 0 0\n",
      "('Makkot', 'Chullin') 9 9\n",
      "('Makkot', 'Keritot') 1 1\n",
      "('Makkot', 'Menachot') 3 3\n",
      "('Makkot', 'Temurah') 4 4\n",
      "('Makkot', 'Zevachim') 5 5\n",
      "('Makkot', 'Beitzah') 0 0\n",
      "('Makkot', 'Chagigah') 1 1\n",
      "('Makkot', 'Eruvin') 2 2\n",
      "('Makkot', 'Pesachim') 1 1\n",
      "('Makkot', 'Megillah') 1 1\n",
      "('Makkot', 'Rosh Hashanah') 0 0\n",
      "('Makkot', 'Shabbat') 2 2\n",
      "('Makkot', 'Sukkah') 2 2\n",
      "('Makkot', 'Yoma') 1 1\n",
      "('Makkot', 'Gittin') 2 2\n",
      "('Makkot', 'Ketubot') 1 1\n",
      "('Makkot', 'Kiddushin') 3 3\n",
      "('Makkot', 'Sotah') 1 1\n",
      "('Makkot', 'Yevamot') 5 5\n",
      "('Makkot', 'Bava Batra') 0 0\n",
      "('Makkot', 'Bava Kamma') 0 0\n",
      "('Makkot', 'Bava Metzia') 0 0\n",
      "('Makkot', 'Avodah Zarah') 0 0\n",
      "('Makkot', 'Sanhedrin') 4 4\n",
      "('Makkot', 'Shevuot') 3 3\n",
      "('Makkot', 'Niddah') 2 2\n",
      "('Makkot', 'Berakhot') 0 0\n",
      "('Sanhedrin', 'Arakhin') 0 0\n",
      "('Sanhedrin', 'Bekhorot') 2 2\n",
      "('Sanhedrin', 'Chullin') 4 4\n",
      "('Sanhedrin', 'Keritot') 3 3\n",
      "('Sanhedrin', 'Menachot') 5 5\n",
      "('Sanhedrin', 'Temurah') 2 2\n",
      "('Sanhedrin', 'Zevachim') 15 15\n",
      "('Sanhedrin', 'Beitzah') 1 1\n",
      "('Sanhedrin', 'Chagigah') 5 5\n",
      "('Sanhedrin', 'Eruvin') 12 12\n",
      "('Sanhedrin', 'Pesachim') 7 7\n",
      "('Sanhedrin', 'Megillah') 3 3\n",
      "('Sanhedrin', 'Rosh Hashanah') 9 9\n",
      "('Sanhedrin', 'Shabbat') 7 7\n",
      "('Sanhedrin', 'Sukkah') 2 2\n",
      "('Sanhedrin', 'Yoma') 8 8\n",
      "('Sanhedrin', 'Gittin') 11 11\n",
      "('Sanhedrin', 'Ketubot') 16 16\n",
      "('Sanhedrin', 'Kiddushin') 8 8\n",
      "('Sanhedrin', 'Sotah') 10 10\n",
      "('Sanhedrin', 'Yevamot') 15 15\n",
      "('Sanhedrin', 'Bava Batra') 0 0\n",
      "('Sanhedrin', 'Bava Kamma') 12 12\n",
      "('Sanhedrin', 'Bava Metzia') 9 9\n",
      "('Sanhedrin', 'Avodah Zarah') 7 7\n",
      "('Sanhedrin', 'Makkot') 4 4\n",
      "('Sanhedrin', 'Shevuot') 11 11\n",
      "('Sanhedrin', 'Niddah') 4 4\n",
      "('Sanhedrin', 'Berakhot') 5 5\n",
      "('Shevuot', 'Arakhin') 1 1\n",
      "('Shevuot', 'Bekhorot') 1 1\n",
      "('Shevuot', 'Chullin') 7 7\n",
      "('Shevuot', 'Keritot') 9 9\n",
      "('Shevuot', 'Menachot') 7 7\n",
      "('Shevuot', 'Temurah') 5 5\n",
      "('Shevuot', 'Zevachim') 4 4\n",
      "('Shevuot', 'Beitzah') 0 0\n",
      "('Shevuot', 'Chagigah') 0 0\n",
      "('Shevuot', 'Eruvin') 3 3\n",
      "('Shevuot', 'Pesachim') 4 4\n",
      "('Shevuot', 'Megillah') 1 1\n",
      "('Shevuot', 'Rosh Hashanah') 0 0\n",
      "('Shevuot', 'Shabbat') 5 5\n",
      "('Shevuot', 'Sukkah') 1 1\n",
      "('Shevuot', 'Yoma') 5 5\n",
      "('Shevuot', 'Gittin') 0 0\n",
      "('Shevuot', 'Ketubot') 3 3\n",
      "('Shevuot', 'Kiddushin') 2 2\n",
      "('Shevuot', 'Sotah') 5 5\n",
      "('Shevuot', 'Yevamot') 3 3\n",
      "('Shevuot', 'Bava Batra') 0 0\n",
      "('Shevuot', 'Bava Kamma') 10 10\n",
      "('Shevuot', 'Bava Metzia') 11 11\n",
      "('Shevuot', 'Avodah Zarah') 0 0\n",
      "('Shevuot', 'Makkot') 3 3\n",
      "('Shevuot', 'Sanhedrin') 11 11\n",
      "('Shevuot', 'Niddah') 3 3\n",
      "('Shevuot', 'Berakhot') 2 2\n",
      "('Niddah', 'Arakhin') 2 2\n",
      "('Niddah', 'Bekhorot') 9 9\n",
      "('Niddah', 'Chullin') 9 9\n",
      "('Niddah', 'Keritot') 2 2\n",
      "('Niddah', 'Menachot') 7 7\n",
      "('Niddah', 'Temurah') 2 2\n",
      "('Niddah', 'Zevachim') 6 6\n",
      "('Niddah', 'Beitzah') 0 0\n",
      "('Niddah', 'Chagigah') 0 0\n",
      "('Niddah', 'Eruvin') 3 3\n",
      "('Niddah', 'Pesachim') 5 5\n",
      "('Niddah', 'Megillah') 1 1\n",
      "('Niddah', 'Rosh Hashanah') 1 1\n",
      "('Niddah', 'Shabbat') 5 5\n",
      "('Niddah', 'Sukkah') 3 3\n",
      "('Niddah', 'Yoma') 3 3\n",
      "('Niddah', 'Gittin') 2 2\n",
      "('Niddah', 'Ketubot') 8 8\n",
      "('Niddah', 'Kiddushin') 0 0\n",
      "('Niddah', 'Sotah') 1 1\n",
      "('Niddah', 'Yevamot') 14 14\n",
      "('Niddah', 'Bava Batra') 0 0\n",
      "('Niddah', 'Bava Kamma') 7 7\n",
      "('Niddah', 'Bava Metzia') 1 1\n",
      "('Niddah', 'Avodah Zarah') 4 4\n",
      "('Niddah', 'Makkot') 2 2\n",
      "('Niddah', 'Sanhedrin') 4 4\n",
      "('Niddah', 'Shevuot') 3 3\n",
      "('Niddah', 'Berakhot') 0 0\n",
      "('Berakhot', 'Arakhin') 0 0\n",
      "('Berakhot', 'Bekhorot') 0 0\n",
      "('Berakhot', 'Chullin') 2 2\n",
      "('Berakhot', 'Keritot') 0 0\n",
      "('Berakhot', 'Menachot') 1 1\n",
      "('Berakhot', 'Temurah') 0 0\n",
      "('Berakhot', 'Zevachim') 0 0\n",
      "('Berakhot', 'Beitzah') 1 1\n",
      "('Berakhot', 'Chagigah') 1 1\n",
      "('Berakhot', 'Eruvin') 5 5\n",
      "('Berakhot', 'Pesachim') 7 7\n",
      "('Berakhot', 'Megillah') 2 2\n",
      "('Berakhot', 'Rosh Hashanah') 0 0\n",
      "('Berakhot', 'Shabbat') 2 2\n",
      "('Berakhot', 'Sukkah') 2 2\n",
      "('Berakhot', 'Yoma') 3 3\n",
      "('Berakhot', 'Gittin') 0 0\n",
      "('Berakhot', 'Ketubot') 0 0\n",
      "('Berakhot', 'Kiddushin') 1 1\n",
      "('Berakhot', 'Sotah') 1 1\n",
      "('Berakhot', 'Yevamot') 2 2\n",
      "('Berakhot', 'Bava Batra') 0 0\n",
      "('Berakhot', 'Bava Kamma') 1 1\n",
      "('Berakhot', 'Bava Metzia') 0 0\n",
      "('Berakhot', 'Avodah Zarah') 3 3\n",
      "('Berakhot', 'Makkot') 0 0\n",
      "('Berakhot', 'Sanhedrin') 5 5\n",
      "('Berakhot', 'Shevuot') 2 2\n",
      "('Berakhot', 'Niddah') 0 0\n"
     ]
    }
   ],
   "source": [
    "for k in parallels_by_masechet:\n",
    "    parA= parallels_by_masechet[k]\n",
    "    parB= parallels_by_masechet[(k[1],k[0])]\n",
    "    print(k,len(parA),len(parB))"
   ],
   "metadata": {
    "collapsed": false,
    "ExecuteTime": {
     "end_time": "2024-06-14T15:47:59.173229Z",
     "start_time": "2024-06-14T15:47:59.132554Z"
    }
   },
   "id": "64af3c3da4544b81"
  },
  {
   "cell_type": "code",
   "execution_count": 108,
   "outputs": [
    {
     "name": "stdout",
     "output_type": "stream",
     "text": [
      "0.375 2.6666666666666665\n",
      "2.6666666666666665 0.375\n",
      "0.6111111111111112 1.6363636363636362\n",
      "1.6363636363636365 0.611111111111111\n",
      "0.06976744186046512 14.333333333333334\n",
      "14.333333333333334 0.06976744186046512\n",
      "0.13636363636363635 7.333333333333334\n",
      "7.333333333333333 0.13636363636363638\n",
      "0.25925925925925924 3.857142857142857\n",
      "3.857142857142857 0.25925925925925924\n",
      "1.451501448594472 0.6889417857407769\n",
      "29.826839826839826 0.033526850507982583\n"
     ]
    }
   ],
   "source": [
    "sample_k= ('Berakhot', 'Sanhedrin')\n",
    "rlA= 0\n",
    "rlB =0\n",
    "for i,r in parallels_by_masechet[sample_k].iterrows():\n",
    "    if r['masechet1']==sample_k[0]:\n",
    "        a= len(r['txt1'].split())/len(r['txt2'].split())\n",
    "        b= len(r['txt2'].split())/len(r['txt1'].split())\n",
    "        print(a,1/a)\n",
    "        print(b,1/b)\n",
    "        rlA += len(r['txt1'].split())/len(r['txt2'].split())\n",
    "        rlB += len(r['txt2'].split())/len(r['txt1'].split())\n",
    "    else:\n",
    "        # a= len(r['txt2'].split())/len(r['txt1'].split())\n",
    "        # b= len(r['txt1'].split())/len(r['txt2'].split())\n",
    "        # print(a,1/a)\n",
    "        # print(b,1/b)\n",
    "        rlA += len(r['txt2'].split())/len(r['txt1'].split())\n",
    "        rlB += len(r['txt1'].split())/len(r['txt2'].split())\n",
    "print(rlA,1/rlA)\n",
    "print(rlB,1/rlB)\n",
    "rlA= rlA/len(parallels_by_masechet[sample_k])\n",
    "rlB= rlB/len(parallels_by_masechet[sample_k])\n"
   ],
   "metadata": {
    "collapsed": false,
    "ExecuteTime": {
     "end_time": "2024-06-14T16:05:49.683242Z",
     "start_time": "2024-06-14T16:05:49.635658Z"
    }
   },
   "id": "78bbb35f097c97e6"
  },
  {
   "cell_type": "code",
   "execution_count": 110,
   "outputs": [
    {
     "name": "stdout",
     "output_type": "stream",
     "text": [
      "1.451501448594472 0.6889417857407769\n",
      "29.826839826839826 0.033526850507982583\n",
      "0.2903002897188944 3.444708928703885\n",
      "5.965367965367966 0.1676342525399129\n"
     ]
    }
   ],
   "source": [
    "sample_k= ('Berakhot', 'Sanhedrin')\n",
    "rlA= 0\n",
    "rlB =0\n",
    "for i,r in parallels_by_masechet[sample_k].iterrows():\n",
    "    if r['masechet1']==sample_k[0]:\n",
    "        a= len(r['txt1'].split())/len(r['txt2'].split())\n",
    "        b= len(r['txt2'].split())/len(r['txt1'].split())\n",
    "        rlA += a\n",
    "        rlB += b\n",
    "    else:\n",
    "        a= len(r['txt2'].split())/len(r['txt1'].split())\n",
    "        b= len(r['txt1'].split())/len(r['txt2'].split())\n",
    "        rlA += a\n",
    "        rlB += b\n",
    "print(rlA,1/rlA)\n",
    "print(rlB,1/rlB)\n",
    "rlA= rlA/len(parallels_by_masechet[sample_k])\n",
    "rlB= rlB/len(parallels_by_masechet[sample_k])\n",
    "print(rlA,1/rlA)\n",
    "print(rlB,1/rlB)"
   ],
   "metadata": {
    "collapsed": false,
    "ExecuteTime": {
     "end_time": "2024-06-14T16:10:10.301148Z",
     "start_time": "2024-06-14T16:10:10.228422Z"
    }
   },
   "id": "ca608482a158fd73"
  },
  {
   "cell_type": "code",
   "execution_count": 140,
   "outputs": [
    {
     "name": "stdout",
     "output_type": "stream",
     "text": [
      "('Arakhin', 'Beitzah') 0 0\n",
      "('Arakhin', 'Chagigah') 0 0\n",
      "('Arakhin', 'Rosh Hashanah') 0 0\n",
      "('Arakhin', 'Bava Batra') 0 0\n",
      "('Arakhin', 'Avodah Zarah') 0 0\n",
      "('Arakhin', 'Makkot') 0 0\n",
      "('Arakhin', 'Sanhedrin') 0 0\n",
      "('Arakhin', 'Berakhot') 0 0\n",
      "('Bekhorot', 'Megillah') 0 0\n",
      "('Bekhorot', 'Rosh Hashanah') 0 0\n",
      "('Bekhorot', 'Sotah') 0 0\n",
      "('Bekhorot', 'Bava Batra') 0 0\n",
      "('Bekhorot', 'Makkot') 0 0\n",
      "('Bekhorot', 'Berakhot') 0 0\n",
      "('Keritot', 'Menachot') 0 0\n",
      "('Keritot', 'Megillah') 0 0\n",
      "('Keritot', 'Bava Batra') 0 0\n",
      "('Keritot', 'Bava Kamma') 0 0\n",
      "('Keritot', 'Bava Metzia') 0 0\n",
      "('Keritot', 'Avodah Zarah') 0 0\n",
      "('Keritot', 'Berakhot') 0 0\n",
      "('Menachot', 'Keritot') 0 0\n",
      "('Menachot', 'Bava Batra') 0 0\n",
      "('Temurah', 'Eruvin') 0 0\n",
      "('Temurah', 'Megillah') 0 0\n",
      "('Temurah', 'Rosh Hashanah') 0 0\n",
      "('Temurah', 'Shabbat') 0 0\n",
      "('Temurah', 'Sukkah') 0 0\n",
      "('Temurah', 'Gittin') 0 0\n",
      "('Temurah', 'Ketubot') 0 0\n",
      "('Temurah', 'Sotah') 0 0\n",
      "('Temurah', 'Bava Batra') 0 0\n",
      "('Temurah', 'Berakhot') 0 0\n",
      "('Zevachim', 'Ketubot') 0 0\n",
      "('Zevachim', 'Bava Batra') 0 0\n",
      "('Zevachim', 'Bava Metzia') 0 0\n",
      "('Zevachim', 'Berakhot') 0 0\n",
      "('Beitzah', 'Arakhin') 0 0\n",
      "('Beitzah', 'Megillah') 0 0\n",
      "('Beitzah', 'Yoma') 0 0\n",
      "('Beitzah', 'Sotah') 0 0\n",
      "('Beitzah', 'Makkot') 0 0\n",
      "('Beitzah', 'Shevuot') 0 0\n",
      "('Beitzah', 'Niddah') 0 0\n",
      "('Chagigah', 'Arakhin') 0 0\n",
      "('Chagigah', 'Megillah') 0 0\n",
      "('Chagigah', 'Gittin') 0 0\n",
      "('Chagigah', 'Kiddushin') 0 0\n",
      "('Chagigah', 'Bava Batra') 0 0\n",
      "('Chagigah', 'Bava Kamma') 0 0\n",
      "('Chagigah', 'Avodah Zarah') 0 0\n",
      "('Chagigah', 'Shevuot') 0 0\n",
      "('Chagigah', 'Niddah') 0 0\n",
      "('Eruvin', 'Temurah') 0 0\n",
      "('Eruvin', 'Sotah') 0 0\n",
      "('Megillah', 'Bekhorot') 0 0\n",
      "('Megillah', 'Keritot') 0 0\n",
      "('Megillah', 'Temurah') 0 0\n",
      "('Megillah', 'Beitzah') 0 0\n",
      "('Megillah', 'Chagigah') 0 0\n",
      "('Megillah', 'Kiddushin') 0 0\n",
      "('Megillah', 'Bava Batra') 0 0\n",
      "('Megillah', 'Bava Kamma') 0 0\n",
      "('Megillah', 'Bava Metzia') 0 0\n",
      "('Rosh Hashanah', 'Arakhin') 0 0\n",
      "('Rosh Hashanah', 'Bekhorot') 0 0\n",
      "('Rosh Hashanah', 'Temurah') 0 0\n",
      "('Rosh Hashanah', 'Kiddushin') 0 0\n",
      "('Rosh Hashanah', 'Bava Batra') 0 0\n",
      "('Rosh Hashanah', 'Bava Kamma') 0 0\n",
      "('Rosh Hashanah', 'Makkot') 0 0\n",
      "('Rosh Hashanah', 'Shevuot') 0 0\n",
      "('Rosh Hashanah', 'Berakhot') 0 0\n",
      "('Shabbat', 'Temurah') 0 0\n",
      "('Sukkah', 'Temurah') 0 0\n",
      "('Sukkah', 'Sotah') 0 0\n",
      "('Yoma', 'Beitzah') 0 0\n",
      "('Yoma', 'Bava Batra') 0 0\n",
      "('Gittin', 'Temurah') 0 0\n",
      "('Gittin', 'Chagigah') 0 0\n",
      "('Gittin', 'Shevuot') 0 0\n",
      "('Gittin', 'Berakhot') 0 0\n",
      "('Ketubot', 'Temurah') 0 0\n",
      "('Ketubot', 'Zevachim') 0 0\n",
      "('Ketubot', 'Berakhot') 0 0\n",
      "('Kiddushin', 'Chagigah') 0 0\n",
      "('Kiddushin', 'Megillah') 0 0\n",
      "('Kiddushin', 'Rosh Hashanah') 0 0\n",
      "('Kiddushin', 'Niddah') 0 0\n",
      "('Sotah', 'Bekhorot') 0 0\n",
      "('Sotah', 'Temurah') 0 0\n",
      "('Sotah', 'Beitzah') 0 0\n",
      "('Sotah', 'Eruvin') 0 0\n",
      "('Sotah', 'Sukkah') 0 0\n",
      "('Yevamot', 'Bava Batra') 0 0\n",
      "('Bava Batra', 'Arakhin') 0 0\n",
      "('Bava Batra', 'Bekhorot') 0 0\n",
      "('Bava Batra', 'Keritot') 0 0\n",
      "('Bava Batra', 'Menachot') 0 0\n",
      "('Bava Batra', 'Temurah') 0 0\n",
      "('Bava Batra', 'Zevachim') 0 0\n",
      "('Bava Batra', 'Chagigah') 0 0\n",
      "('Bava Batra', 'Megillah') 0 0\n",
      "('Bava Batra', 'Rosh Hashanah') 0 0\n",
      "('Bava Batra', 'Yoma') 0 0\n",
      "('Bava Batra', 'Yevamot') 0 0\n",
      "('Bava Batra', 'Makkot') 0 0\n",
      "('Bava Batra', 'Sanhedrin') 0 0\n",
      "('Bava Batra', 'Shevuot') 0 0\n",
      "('Bava Batra', 'Niddah') 0 0\n",
      "('Bava Batra', 'Berakhot') 0 0\n",
      "('Bava Kamma', 'Keritot') 0 0\n",
      "('Bava Kamma', 'Chagigah') 0 0\n",
      "('Bava Kamma', 'Megillah') 0 0\n",
      "('Bava Kamma', 'Rosh Hashanah') 0 0\n",
      "('Bava Kamma', 'Makkot') 0 0\n",
      "('Bava Metzia', 'Keritot') 0 0\n",
      "('Bava Metzia', 'Zevachim') 0 0\n",
      "('Bava Metzia', 'Megillah') 0 0\n",
      "('Bava Metzia', 'Makkot') 0 0\n",
      "('Bava Metzia', 'Berakhot') 0 0\n",
      "('Avodah Zarah', 'Arakhin') 0 0\n",
      "('Avodah Zarah', 'Keritot') 0 0\n",
      "('Avodah Zarah', 'Chagigah') 0 0\n",
      "('Avodah Zarah', 'Makkot') 0 0\n",
      "('Avodah Zarah', 'Shevuot') 0 0\n",
      "('Makkot', 'Arakhin') 0 0\n",
      "('Makkot', 'Bekhorot') 0 0\n",
      "('Makkot', 'Beitzah') 0 0\n",
      "('Makkot', 'Rosh Hashanah') 0 0\n",
      "('Makkot', 'Bava Batra') 0 0\n",
      "('Makkot', 'Bava Kamma') 0 0\n",
      "('Makkot', 'Bava Metzia') 0 0\n",
      "('Makkot', 'Avodah Zarah') 0 0\n",
      "('Makkot', 'Berakhot') 0 0\n",
      "('Sanhedrin', 'Arakhin') 0 0\n",
      "('Sanhedrin', 'Bava Batra') 0 0\n",
      "('Shevuot', 'Beitzah') 0 0\n",
      "('Shevuot', 'Chagigah') 0 0\n",
      "('Shevuot', 'Rosh Hashanah') 0 0\n",
      "('Shevuot', 'Gittin') 0 0\n",
      "('Shevuot', 'Bava Batra') 0 0\n",
      "('Shevuot', 'Avodah Zarah') 0 0\n",
      "('Niddah', 'Beitzah') 0 0\n",
      "('Niddah', 'Chagigah') 0 0\n",
      "('Niddah', 'Kiddushin') 0 0\n",
      "('Niddah', 'Bava Batra') 0 0\n",
      "('Niddah', 'Berakhot') 0 0\n",
      "('Berakhot', 'Arakhin') 0 0\n",
      "('Berakhot', 'Bekhorot') 0 0\n",
      "('Berakhot', 'Keritot') 0 0\n",
      "('Berakhot', 'Temurah') 0 0\n",
      "('Berakhot', 'Zevachim') 0 0\n",
      "('Berakhot', 'Rosh Hashanah') 0 0\n",
      "('Berakhot', 'Gittin') 0 0\n",
      "('Berakhot', 'Ketubot') 0 0\n",
      "('Berakhot', 'Bava Batra') 0 0\n",
      "('Berakhot', 'Bava Metzia') 0 0\n",
      "('Berakhot', 'Makkot') 0 0\n",
      "('Berakhot', 'Niddah') 0 0\n"
     ]
    },
    {
     "data": {
      "text/plain": "                 Arakhin  Bekhorot    Chullin   Keritot  Menachot   Temurah  \\\nArakhin              NaN       0.5   1.435484      1.02  0.368852       1.4   \nBekhorot             2.0       NaN   1.491883   0.20297  0.606061  1.159151   \nChullin         0.696629  0.670294        NaN  0.697802  0.390097  0.644531   \nKeritot         0.980392  4.926829   1.433071       NaN       NaN  2.702703   \nMenachot        2.711111      1.65   2.563467       NaN       NaN  0.931507   \nTemurah         0.714286    0.8627   1.551515      0.37  1.073529       NaN   \nZevachim        0.769231  1.367347   1.034757  0.160377  1.113508  1.665984   \nBeitzah              NaN  0.925926   0.659193  0.272727  0.280488      11.0   \nChagigah             NaN  0.544944   0.719512  0.078125  1.289855       1.6   \nEruvin          2.333333  0.158416   0.758389  0.316832  0.562162       NaN   \nPesachim        0.148438  0.437722   0.689744  0.152778  1.021407  0.868571   \nMegillah        0.918605       NaN    1.03125       NaN  1.145161       NaN   \nRosh Hashanah        NaN       NaN       1.75  0.386792   0.61157       NaN   \nShabbat         0.740741   1.21256   1.791469  2.013333  0.523614       NaN   \nSukkah          0.232143  3.166667       1.88  0.637681  0.669725       NaN   \nYoma            0.361702  2.090909   2.165605  0.354167  1.129456  1.297872   \nGittin          3.102041  0.358696   2.807799  0.758621  0.626556       NaN   \nKetubot         0.680412  0.893855   0.680734  0.797468      3.35       NaN   \nKiddushin          4.125  0.947692   1.708861       1.4  0.842342  0.900433   \nSotah           0.522727       NaN   0.770642  0.311475  1.158879       NaN   \nYevamot             1.16  1.632653   0.687243  0.916667  1.223404  0.349265   \nBava Batra           NaN       NaN  12.806452       NaN       NaN       NaN   \nBava Kamma      1.368932  0.754808   1.593838       NaN  0.734568  0.817391   \nBava Metzia     1.688525   1.07109       0.67       NaN       0.3  0.461538   \nAvodah Zarah         NaN  0.850694   5.681818       NaN  0.119438       0.4   \nMakkot               NaN       NaN   1.241758  0.533333  0.481283  1.142857   \nSanhedrin            NaN  0.804598   0.678899  2.630769  1.674419  0.969697   \nShevuot        14.285714       0.8   2.945274  0.274194  0.508523  0.472973   \nNiddah               1.0  1.063084   1.081921  0.575758  0.724638  0.553957   \nBerakhot             NaN       NaN      5.125       NaN     0.625       NaN   \n\n               Zevachim   Beitzah  Chagigah    Eruvin  ...   Yevamot  \\\nArakhin             1.3       NaN       NaN  0.428571  ...  0.862069   \nBekhorot       0.731343      1.08  1.835052    6.3125  ...    0.6125   \nChullin        0.966411  1.517007  1.389831  1.318584  ...   1.45509   \nKeritot        6.235294  3.666667      12.8   3.15625  ...  1.090909   \nMenachot       0.898063  3.565217  0.775281  1.778846  ...  0.817391   \nTemurah        0.600246  0.090909     0.625       NaN  ...  2.863158   \nZevachim            NaN      3.04  2.245283       1.0  ...  1.091603   \nBeitzah        0.328947       NaN  0.937888  1.025735  ...  0.666667   \nChagigah       0.445378  1.066225       NaN  0.542857  ...  3.127907   \nEruvin              1.0   0.97491  1.842105       NaN  ...  0.228571   \nPesachim       0.741477  1.618421  0.637584   0.74569  ...  0.406114   \nMegillah       2.966942       NaN       NaN  1.277778  ...  0.298851   \nRosh Hashanah       0.5  1.284404  0.566038  0.665354  ...  2.534884   \nShabbat        0.876471  1.342926  0.349206  0.863891  ...  0.756844   \nSukkah         0.189041  0.615385  0.540541   1.00436  ...  0.485915   \nYoma           0.883655       NaN  2.358974  2.572917  ...  0.883978   \nGittin         0.888889  0.873418       NaN  1.081633  ...  1.530471   \nKetubot             NaN  1.956522     0.375  1.347222  ...  0.998718   \nKiddushin      0.666667  3.052632       NaN  2.592593  ...  1.061381   \nSotah          0.935323       NaN  1.509804       NaN  ...  0.925439   \nYevamot        0.916084       1.5  0.319703     4.375  ...       NaN   \nBava Batra          NaN  1.318182       NaN  0.460317  ...       NaN   \nBava Kamma     1.727273  0.461538       NaN   1.52459  ...   0.68932   \nBava Metzia         NaN  0.705128       1.5    0.5625  ...  0.876686   \nAvodah Zarah   1.017045   2.43038       NaN  0.880478  ...  0.475309   \nMakkot         1.257009       NaN      0.75  7.973684  ...  1.083333   \nSanhedrin      0.942639  0.694915  1.349462  0.937282  ...  1.386364   \nShevuot        0.916168       NaN       NaN  0.663934  ...  1.709677   \nNiddah         1.744828       NaN       NaN  3.302326  ...    1.4375   \nBerakhot            NaN      0.28  3.294118  2.770833  ...       4.0   \n\n              Bava Batra Bava Kamma Bava Metzia Avodah Zarah    Makkot  \\\nArakhin              NaN   0.730496    0.592233          NaN       NaN   \nBekhorot             NaN   1.324841    0.933628      1.17551       NaN   \nChullin         0.078086   0.627417    1.492537        0.176   0.80531   \nKeritot              NaN        NaN         NaN          NaN     1.875   \nMenachot             NaN   1.361345    3.333333     8.372549  2.077778   \nTemurah              NaN   1.223404    2.166667          2.5     0.875   \nZevachim             NaN   0.578947         NaN      0.98324  0.795539   \nBeitzah         0.758621   2.166667    1.418182     0.411458       NaN   \nChagigah             NaN        NaN    0.666667          NaN  1.333333   \nEruvin          2.172414   0.655914    1.777778     1.135747  0.125413   \nPesachim             0.6   0.560897     0.80663     0.615625  1.285714   \nMegillah             NaN        NaN         NaN          5.7  1.211538   \nRosh Hashanah        NaN        NaN    0.823529       0.6875       NaN   \nShabbat         2.061538   0.527778    0.836957     1.117647  1.343137   \nSukkah          0.326531   1.428571    0.152174     0.494737      1.58   \nYoma                 NaN   1.018182     0.75641      0.33945  0.909091   \nGittin          0.635359   0.459854    1.427492     2.196429  1.217391   \nKetubot         1.076923   0.696505    0.785567     0.710692       1.8   \nKiddushin       4.322581   0.687861       1.178     1.947368  0.908571   \nSotah           0.823529     1.6875   14.166667     0.681034       2.0   \nYevamot              NaN   1.450704    1.140659     2.103896  0.923077   \nBava Batra           NaN   0.828767    1.727811          0.3       NaN   \nBava Kamma      1.206612        NaN    1.603135     0.717742       NaN   \nBava Metzia     0.578767   0.623778         NaN     2.597222       NaN   \nAvodah Zarah    3.333333   1.393258    0.385027          NaN       NaN   \nMakkot               NaN        NaN         NaN          NaN       NaN   \nSanhedrin            NaN   0.471014    1.305785     0.522293  1.287671   \nShevuot              NaN   0.552632    0.953659          NaN  1.121827   \nNiddah               NaN   1.330025         2.5     1.323232  1.537313   \nBerakhot             NaN       0.75         NaN         17.0       NaN   \n\n              Sanhedrin   Shevuot    Niddah  Berakhot  \nArakhin             NaN      0.07       1.0       NaN  \nBekhorot       1.242857      1.25  0.940659       NaN  \nChullin        1.472973  0.339527  0.924282  0.195122  \nKeritot        0.380117  3.647059  1.736842       NaN  \nMenachot       0.597222   1.96648      1.38       1.6  \nTemurah         1.03125  2.114286  1.805195       NaN  \nZevachim       1.060852  1.091503  0.573123       NaN  \nBeitzah        1.439024       NaN       NaN  3.571429  \nChagigah       0.741036       NaN       NaN  0.303571  \nEruvin         1.066914  1.506173  0.302817  0.360902  \nPesachim       0.632275  0.828571  0.760274  0.263736  \nMegillah       1.204545       1.0  1.857143   0.78125  \nRosh Hashanah   1.30303       NaN    3.8125       NaN  \nShabbat        1.923077  0.428241  5.352941       0.8  \nSukkah         1.066667       0.5  0.287671  0.480769  \nYoma           0.596413  1.134503  0.886364       1.0  \nGittin         0.863158       NaN  3.612903       NaN  \nKetubot        0.762808  0.710227  1.292793       NaN  \nKiddushin      1.369318  0.723404       NaN  0.479592  \nSotah          0.923423   0.34902  0.829787  1.176471  \nYevamot        0.721311  0.584906  0.695652      0.25  \nBava Batra          NaN       NaN       NaN       NaN  \nBava Kamma     2.123077  1.809524  0.751866  1.333333  \nBava Metzia    0.765823  1.048593       0.4       NaN  \nAvodah Zarah   1.914634       NaN  0.755725  0.058824  \nMakkot         0.776596  0.891403  0.650485       NaN  \nSanhedrin           NaN  0.898438  0.439516  0.244186  \nShevuot        1.113043       NaN  1.649123  0.728814  \nNiddah         2.275229  0.606383       NaN       NaN  \nBerakhot       4.095238  1.372093       NaN       NaN  \n\n[30 rows x 30 columns]",
      "text/html": "<div>\n<style scoped>\n    .dataframe tbody tr th:only-of-type {\n        vertical-align: middle;\n    }\n\n    .dataframe tbody tr th {\n        vertical-align: top;\n    }\n\n    .dataframe thead th {\n        text-align: right;\n    }\n</style>\n<table border=\"1\" class=\"dataframe\">\n  <thead>\n    <tr style=\"text-align: right;\">\n      <th></th>\n      <th>Arakhin</th>\n      <th>Bekhorot</th>\n      <th>Chullin</th>\n      <th>Keritot</th>\n      <th>Menachot</th>\n      <th>Temurah</th>\n      <th>Zevachim</th>\n      <th>Beitzah</th>\n      <th>Chagigah</th>\n      <th>Eruvin</th>\n      <th>...</th>\n      <th>Yevamot</th>\n      <th>Bava Batra</th>\n      <th>Bava Kamma</th>\n      <th>Bava Metzia</th>\n      <th>Avodah Zarah</th>\n      <th>Makkot</th>\n      <th>Sanhedrin</th>\n      <th>Shevuot</th>\n      <th>Niddah</th>\n      <th>Berakhot</th>\n    </tr>\n  </thead>\n  <tbody>\n    <tr>\n      <th>Arakhin</th>\n      <td>NaN</td>\n      <td>0.5</td>\n      <td>1.435484</td>\n      <td>1.02</td>\n      <td>0.368852</td>\n      <td>1.4</td>\n      <td>1.3</td>\n      <td>NaN</td>\n      <td>NaN</td>\n      <td>0.428571</td>\n      <td>...</td>\n      <td>0.862069</td>\n      <td>NaN</td>\n      <td>0.730496</td>\n      <td>0.592233</td>\n      <td>NaN</td>\n      <td>NaN</td>\n      <td>NaN</td>\n      <td>0.07</td>\n      <td>1.0</td>\n      <td>NaN</td>\n    </tr>\n    <tr>\n      <th>Bekhorot</th>\n      <td>2.0</td>\n      <td>NaN</td>\n      <td>1.491883</td>\n      <td>0.20297</td>\n      <td>0.606061</td>\n      <td>1.159151</td>\n      <td>0.731343</td>\n      <td>1.08</td>\n      <td>1.835052</td>\n      <td>6.3125</td>\n      <td>...</td>\n      <td>0.6125</td>\n      <td>NaN</td>\n      <td>1.324841</td>\n      <td>0.933628</td>\n      <td>1.17551</td>\n      <td>NaN</td>\n      <td>1.242857</td>\n      <td>1.25</td>\n      <td>0.940659</td>\n      <td>NaN</td>\n    </tr>\n    <tr>\n      <th>Chullin</th>\n      <td>0.696629</td>\n      <td>0.670294</td>\n      <td>NaN</td>\n      <td>0.697802</td>\n      <td>0.390097</td>\n      <td>0.644531</td>\n      <td>0.966411</td>\n      <td>1.517007</td>\n      <td>1.389831</td>\n      <td>1.318584</td>\n      <td>...</td>\n      <td>1.45509</td>\n      <td>0.078086</td>\n      <td>0.627417</td>\n      <td>1.492537</td>\n      <td>0.176</td>\n      <td>0.80531</td>\n      <td>1.472973</td>\n      <td>0.339527</td>\n      <td>0.924282</td>\n      <td>0.195122</td>\n    </tr>\n    <tr>\n      <th>Keritot</th>\n      <td>0.980392</td>\n      <td>4.926829</td>\n      <td>1.433071</td>\n      <td>NaN</td>\n      <td>NaN</td>\n      <td>2.702703</td>\n      <td>6.235294</td>\n      <td>3.666667</td>\n      <td>12.8</td>\n      <td>3.15625</td>\n      <td>...</td>\n      <td>1.090909</td>\n      <td>NaN</td>\n      <td>NaN</td>\n      <td>NaN</td>\n      <td>NaN</td>\n      <td>1.875</td>\n      <td>0.380117</td>\n      <td>3.647059</td>\n      <td>1.736842</td>\n      <td>NaN</td>\n    </tr>\n    <tr>\n      <th>Menachot</th>\n      <td>2.711111</td>\n      <td>1.65</td>\n      <td>2.563467</td>\n      <td>NaN</td>\n      <td>NaN</td>\n      <td>0.931507</td>\n      <td>0.898063</td>\n      <td>3.565217</td>\n      <td>0.775281</td>\n      <td>1.778846</td>\n      <td>...</td>\n      <td>0.817391</td>\n      <td>NaN</td>\n      <td>1.361345</td>\n      <td>3.333333</td>\n      <td>8.372549</td>\n      <td>2.077778</td>\n      <td>0.597222</td>\n      <td>1.96648</td>\n      <td>1.38</td>\n      <td>1.6</td>\n    </tr>\n    <tr>\n      <th>Temurah</th>\n      <td>0.714286</td>\n      <td>0.8627</td>\n      <td>1.551515</td>\n      <td>0.37</td>\n      <td>1.073529</td>\n      <td>NaN</td>\n      <td>0.600246</td>\n      <td>0.090909</td>\n      <td>0.625</td>\n      <td>NaN</td>\n      <td>...</td>\n      <td>2.863158</td>\n      <td>NaN</td>\n      <td>1.223404</td>\n      <td>2.166667</td>\n      <td>2.5</td>\n      <td>0.875</td>\n      <td>1.03125</td>\n      <td>2.114286</td>\n      <td>1.805195</td>\n      <td>NaN</td>\n    </tr>\n    <tr>\n      <th>Zevachim</th>\n      <td>0.769231</td>\n      <td>1.367347</td>\n      <td>1.034757</td>\n      <td>0.160377</td>\n      <td>1.113508</td>\n      <td>1.665984</td>\n      <td>NaN</td>\n      <td>3.04</td>\n      <td>2.245283</td>\n      <td>1.0</td>\n      <td>...</td>\n      <td>1.091603</td>\n      <td>NaN</td>\n      <td>0.578947</td>\n      <td>NaN</td>\n      <td>0.98324</td>\n      <td>0.795539</td>\n      <td>1.060852</td>\n      <td>1.091503</td>\n      <td>0.573123</td>\n      <td>NaN</td>\n    </tr>\n    <tr>\n      <th>Beitzah</th>\n      <td>NaN</td>\n      <td>0.925926</td>\n      <td>0.659193</td>\n      <td>0.272727</td>\n      <td>0.280488</td>\n      <td>11.0</td>\n      <td>0.328947</td>\n      <td>NaN</td>\n      <td>0.937888</td>\n      <td>1.025735</td>\n      <td>...</td>\n      <td>0.666667</td>\n      <td>0.758621</td>\n      <td>2.166667</td>\n      <td>1.418182</td>\n      <td>0.411458</td>\n      <td>NaN</td>\n      <td>1.439024</td>\n      <td>NaN</td>\n      <td>NaN</td>\n      <td>3.571429</td>\n    </tr>\n    <tr>\n      <th>Chagigah</th>\n      <td>NaN</td>\n      <td>0.544944</td>\n      <td>0.719512</td>\n      <td>0.078125</td>\n      <td>1.289855</td>\n      <td>1.6</td>\n      <td>0.445378</td>\n      <td>1.066225</td>\n      <td>NaN</td>\n      <td>0.542857</td>\n      <td>...</td>\n      <td>3.127907</td>\n      <td>NaN</td>\n      <td>NaN</td>\n      <td>0.666667</td>\n      <td>NaN</td>\n      <td>1.333333</td>\n      <td>0.741036</td>\n      <td>NaN</td>\n      <td>NaN</td>\n      <td>0.303571</td>\n    </tr>\n    <tr>\n      <th>Eruvin</th>\n      <td>2.333333</td>\n      <td>0.158416</td>\n      <td>0.758389</td>\n      <td>0.316832</td>\n      <td>0.562162</td>\n      <td>NaN</td>\n      <td>1.0</td>\n      <td>0.97491</td>\n      <td>1.842105</td>\n      <td>NaN</td>\n      <td>...</td>\n      <td>0.228571</td>\n      <td>2.172414</td>\n      <td>0.655914</td>\n      <td>1.777778</td>\n      <td>1.135747</td>\n      <td>0.125413</td>\n      <td>1.066914</td>\n      <td>1.506173</td>\n      <td>0.302817</td>\n      <td>0.360902</td>\n    </tr>\n    <tr>\n      <th>Pesachim</th>\n      <td>0.148438</td>\n      <td>0.437722</td>\n      <td>0.689744</td>\n      <td>0.152778</td>\n      <td>1.021407</td>\n      <td>0.868571</td>\n      <td>0.741477</td>\n      <td>1.618421</td>\n      <td>0.637584</td>\n      <td>0.74569</td>\n      <td>...</td>\n      <td>0.406114</td>\n      <td>0.6</td>\n      <td>0.560897</td>\n      <td>0.80663</td>\n      <td>0.615625</td>\n      <td>1.285714</td>\n      <td>0.632275</td>\n      <td>0.828571</td>\n      <td>0.760274</td>\n      <td>0.263736</td>\n    </tr>\n    <tr>\n      <th>Megillah</th>\n      <td>0.918605</td>\n      <td>NaN</td>\n      <td>1.03125</td>\n      <td>NaN</td>\n      <td>1.145161</td>\n      <td>NaN</td>\n      <td>2.966942</td>\n      <td>NaN</td>\n      <td>NaN</td>\n      <td>1.277778</td>\n      <td>...</td>\n      <td>0.298851</td>\n      <td>NaN</td>\n      <td>NaN</td>\n      <td>NaN</td>\n      <td>5.7</td>\n      <td>1.211538</td>\n      <td>1.204545</td>\n      <td>1.0</td>\n      <td>1.857143</td>\n      <td>0.78125</td>\n    </tr>\n    <tr>\n      <th>Rosh Hashanah</th>\n      <td>NaN</td>\n      <td>NaN</td>\n      <td>1.75</td>\n      <td>0.386792</td>\n      <td>0.61157</td>\n      <td>NaN</td>\n      <td>0.5</td>\n      <td>1.284404</td>\n      <td>0.566038</td>\n      <td>0.665354</td>\n      <td>...</td>\n      <td>2.534884</td>\n      <td>NaN</td>\n      <td>NaN</td>\n      <td>0.823529</td>\n      <td>0.6875</td>\n      <td>NaN</td>\n      <td>1.30303</td>\n      <td>NaN</td>\n      <td>3.8125</td>\n      <td>NaN</td>\n    </tr>\n    <tr>\n      <th>Shabbat</th>\n      <td>0.740741</td>\n      <td>1.21256</td>\n      <td>1.791469</td>\n      <td>2.013333</td>\n      <td>0.523614</td>\n      <td>NaN</td>\n      <td>0.876471</td>\n      <td>1.342926</td>\n      <td>0.349206</td>\n      <td>0.863891</td>\n      <td>...</td>\n      <td>0.756844</td>\n      <td>2.061538</td>\n      <td>0.527778</td>\n      <td>0.836957</td>\n      <td>1.117647</td>\n      <td>1.343137</td>\n      <td>1.923077</td>\n      <td>0.428241</td>\n      <td>5.352941</td>\n      <td>0.8</td>\n    </tr>\n    <tr>\n      <th>Sukkah</th>\n      <td>0.232143</td>\n      <td>3.166667</td>\n      <td>1.88</td>\n      <td>0.637681</td>\n      <td>0.669725</td>\n      <td>NaN</td>\n      <td>0.189041</td>\n      <td>0.615385</td>\n      <td>0.540541</td>\n      <td>1.00436</td>\n      <td>...</td>\n      <td>0.485915</td>\n      <td>0.326531</td>\n      <td>1.428571</td>\n      <td>0.152174</td>\n      <td>0.494737</td>\n      <td>1.58</td>\n      <td>1.066667</td>\n      <td>0.5</td>\n      <td>0.287671</td>\n      <td>0.480769</td>\n    </tr>\n    <tr>\n      <th>Yoma</th>\n      <td>0.361702</td>\n      <td>2.090909</td>\n      <td>2.165605</td>\n      <td>0.354167</td>\n      <td>1.129456</td>\n      <td>1.297872</td>\n      <td>0.883655</td>\n      <td>NaN</td>\n      <td>2.358974</td>\n      <td>2.572917</td>\n      <td>...</td>\n      <td>0.883978</td>\n      <td>NaN</td>\n      <td>1.018182</td>\n      <td>0.75641</td>\n      <td>0.33945</td>\n      <td>0.909091</td>\n      <td>0.596413</td>\n      <td>1.134503</td>\n      <td>0.886364</td>\n      <td>1.0</td>\n    </tr>\n    <tr>\n      <th>Gittin</th>\n      <td>3.102041</td>\n      <td>0.358696</td>\n      <td>2.807799</td>\n      <td>0.758621</td>\n      <td>0.626556</td>\n      <td>NaN</td>\n      <td>0.888889</td>\n      <td>0.873418</td>\n      <td>NaN</td>\n      <td>1.081633</td>\n      <td>...</td>\n      <td>1.530471</td>\n      <td>0.635359</td>\n      <td>0.459854</td>\n      <td>1.427492</td>\n      <td>2.196429</td>\n      <td>1.217391</td>\n      <td>0.863158</td>\n      <td>NaN</td>\n      <td>3.612903</td>\n      <td>NaN</td>\n    </tr>\n    <tr>\n      <th>Ketubot</th>\n      <td>0.680412</td>\n      <td>0.893855</td>\n      <td>0.680734</td>\n      <td>0.797468</td>\n      <td>3.35</td>\n      <td>NaN</td>\n      <td>NaN</td>\n      <td>1.956522</td>\n      <td>0.375</td>\n      <td>1.347222</td>\n      <td>...</td>\n      <td>0.998718</td>\n      <td>1.076923</td>\n      <td>0.696505</td>\n      <td>0.785567</td>\n      <td>0.710692</td>\n      <td>1.8</td>\n      <td>0.762808</td>\n      <td>0.710227</td>\n      <td>1.292793</td>\n      <td>NaN</td>\n    </tr>\n    <tr>\n      <th>Kiddushin</th>\n      <td>4.125</td>\n      <td>0.947692</td>\n      <td>1.708861</td>\n      <td>1.4</td>\n      <td>0.842342</td>\n      <td>0.900433</td>\n      <td>0.666667</td>\n      <td>3.052632</td>\n      <td>NaN</td>\n      <td>2.592593</td>\n      <td>...</td>\n      <td>1.061381</td>\n      <td>4.322581</td>\n      <td>0.687861</td>\n      <td>1.178</td>\n      <td>1.947368</td>\n      <td>0.908571</td>\n      <td>1.369318</td>\n      <td>0.723404</td>\n      <td>NaN</td>\n      <td>0.479592</td>\n    </tr>\n    <tr>\n      <th>Sotah</th>\n      <td>0.522727</td>\n      <td>NaN</td>\n      <td>0.770642</td>\n      <td>0.311475</td>\n      <td>1.158879</td>\n      <td>NaN</td>\n      <td>0.935323</td>\n      <td>NaN</td>\n      <td>1.509804</td>\n      <td>NaN</td>\n      <td>...</td>\n      <td>0.925439</td>\n      <td>0.823529</td>\n      <td>1.6875</td>\n      <td>14.166667</td>\n      <td>0.681034</td>\n      <td>2.0</td>\n      <td>0.923423</td>\n      <td>0.34902</td>\n      <td>0.829787</td>\n      <td>1.176471</td>\n    </tr>\n    <tr>\n      <th>Yevamot</th>\n      <td>1.16</td>\n      <td>1.632653</td>\n      <td>0.687243</td>\n      <td>0.916667</td>\n      <td>1.223404</td>\n      <td>0.349265</td>\n      <td>0.916084</td>\n      <td>1.5</td>\n      <td>0.319703</td>\n      <td>4.375</td>\n      <td>...</td>\n      <td>NaN</td>\n      <td>NaN</td>\n      <td>1.450704</td>\n      <td>1.140659</td>\n      <td>2.103896</td>\n      <td>0.923077</td>\n      <td>0.721311</td>\n      <td>0.584906</td>\n      <td>0.695652</td>\n      <td>0.25</td>\n    </tr>\n    <tr>\n      <th>Bava Batra</th>\n      <td>NaN</td>\n      <td>NaN</td>\n      <td>12.806452</td>\n      <td>NaN</td>\n      <td>NaN</td>\n      <td>NaN</td>\n      <td>NaN</td>\n      <td>1.318182</td>\n      <td>NaN</td>\n      <td>0.460317</td>\n      <td>...</td>\n      <td>NaN</td>\n      <td>NaN</td>\n      <td>0.828767</td>\n      <td>1.727811</td>\n      <td>0.3</td>\n      <td>NaN</td>\n      <td>NaN</td>\n      <td>NaN</td>\n      <td>NaN</td>\n      <td>NaN</td>\n    </tr>\n    <tr>\n      <th>Bava Kamma</th>\n      <td>1.368932</td>\n      <td>0.754808</td>\n      <td>1.593838</td>\n      <td>NaN</td>\n      <td>0.734568</td>\n      <td>0.817391</td>\n      <td>1.727273</td>\n      <td>0.461538</td>\n      <td>NaN</td>\n      <td>1.52459</td>\n      <td>...</td>\n      <td>0.68932</td>\n      <td>1.206612</td>\n      <td>NaN</td>\n      <td>1.603135</td>\n      <td>0.717742</td>\n      <td>NaN</td>\n      <td>2.123077</td>\n      <td>1.809524</td>\n      <td>0.751866</td>\n      <td>1.333333</td>\n    </tr>\n    <tr>\n      <th>Bava Metzia</th>\n      <td>1.688525</td>\n      <td>1.07109</td>\n      <td>0.67</td>\n      <td>NaN</td>\n      <td>0.3</td>\n      <td>0.461538</td>\n      <td>NaN</td>\n      <td>0.705128</td>\n      <td>1.5</td>\n      <td>0.5625</td>\n      <td>...</td>\n      <td>0.876686</td>\n      <td>0.578767</td>\n      <td>0.623778</td>\n      <td>NaN</td>\n      <td>2.597222</td>\n      <td>NaN</td>\n      <td>0.765823</td>\n      <td>1.048593</td>\n      <td>0.4</td>\n      <td>NaN</td>\n    </tr>\n    <tr>\n      <th>Avodah Zarah</th>\n      <td>NaN</td>\n      <td>0.850694</td>\n      <td>5.681818</td>\n      <td>NaN</td>\n      <td>0.119438</td>\n      <td>0.4</td>\n      <td>1.017045</td>\n      <td>2.43038</td>\n      <td>NaN</td>\n      <td>0.880478</td>\n      <td>...</td>\n      <td>0.475309</td>\n      <td>3.333333</td>\n      <td>1.393258</td>\n      <td>0.385027</td>\n      <td>NaN</td>\n      <td>NaN</td>\n      <td>1.914634</td>\n      <td>NaN</td>\n      <td>0.755725</td>\n      <td>0.058824</td>\n    </tr>\n    <tr>\n      <th>Makkot</th>\n      <td>NaN</td>\n      <td>NaN</td>\n      <td>1.241758</td>\n      <td>0.533333</td>\n      <td>0.481283</td>\n      <td>1.142857</td>\n      <td>1.257009</td>\n      <td>NaN</td>\n      <td>0.75</td>\n      <td>7.973684</td>\n      <td>...</td>\n      <td>1.083333</td>\n      <td>NaN</td>\n      <td>NaN</td>\n      <td>NaN</td>\n      <td>NaN</td>\n      <td>NaN</td>\n      <td>0.776596</td>\n      <td>0.891403</td>\n      <td>0.650485</td>\n      <td>NaN</td>\n    </tr>\n    <tr>\n      <th>Sanhedrin</th>\n      <td>NaN</td>\n      <td>0.804598</td>\n      <td>0.678899</td>\n      <td>2.630769</td>\n      <td>1.674419</td>\n      <td>0.969697</td>\n      <td>0.942639</td>\n      <td>0.694915</td>\n      <td>1.349462</td>\n      <td>0.937282</td>\n      <td>...</td>\n      <td>1.386364</td>\n      <td>NaN</td>\n      <td>0.471014</td>\n      <td>1.305785</td>\n      <td>0.522293</td>\n      <td>1.287671</td>\n      <td>NaN</td>\n      <td>0.898438</td>\n      <td>0.439516</td>\n      <td>0.244186</td>\n    </tr>\n    <tr>\n      <th>Shevuot</th>\n      <td>14.285714</td>\n      <td>0.8</td>\n      <td>2.945274</td>\n      <td>0.274194</td>\n      <td>0.508523</td>\n      <td>0.472973</td>\n      <td>0.916168</td>\n      <td>NaN</td>\n      <td>NaN</td>\n      <td>0.663934</td>\n      <td>...</td>\n      <td>1.709677</td>\n      <td>NaN</td>\n      <td>0.552632</td>\n      <td>0.953659</td>\n      <td>NaN</td>\n      <td>1.121827</td>\n      <td>1.113043</td>\n      <td>NaN</td>\n      <td>1.649123</td>\n      <td>0.728814</td>\n    </tr>\n    <tr>\n      <th>Niddah</th>\n      <td>1.0</td>\n      <td>1.063084</td>\n      <td>1.081921</td>\n      <td>0.575758</td>\n      <td>0.724638</td>\n      <td>0.553957</td>\n      <td>1.744828</td>\n      <td>NaN</td>\n      <td>NaN</td>\n      <td>3.302326</td>\n      <td>...</td>\n      <td>1.4375</td>\n      <td>NaN</td>\n      <td>1.330025</td>\n      <td>2.5</td>\n      <td>1.323232</td>\n      <td>1.537313</td>\n      <td>2.275229</td>\n      <td>0.606383</td>\n      <td>NaN</td>\n      <td>NaN</td>\n    </tr>\n    <tr>\n      <th>Berakhot</th>\n      <td>NaN</td>\n      <td>NaN</td>\n      <td>5.125</td>\n      <td>NaN</td>\n      <td>0.625</td>\n      <td>NaN</td>\n      <td>NaN</td>\n      <td>0.28</td>\n      <td>3.294118</td>\n      <td>2.770833</td>\n      <td>...</td>\n      <td>4.0</td>\n      <td>NaN</td>\n      <td>0.75</td>\n      <td>NaN</td>\n      <td>17.0</td>\n      <td>NaN</td>\n      <td>4.095238</td>\n      <td>1.372093</td>\n      <td>NaN</td>\n      <td>NaN</td>\n    </tr>\n  </tbody>\n</table>\n<p>30 rows × 30 columns</p>\n</div>"
     },
     "execution_count": 140,
     "metadata": {},
     "output_type": "execute_result"
    }
   ],
   "source": [
    "relaitve_lengths2 = dict()\n",
    "for k in parallels_by_masechet:\n",
    "    lA= 0\n",
    "    lB =0\n",
    "    for i,r in parallels_by_masechet[k].iterrows():\n",
    "        if r['masechet1']==k[0]:\n",
    "            lA+= len(r['txt1'].split(\" \"))\n",
    "            lB+= len(r['txt2'].split(\" \"))\n",
    "        else:\n",
    "            lA+= len(r['txt2'].split(\" \"))\n",
    "            lB+= len(r['txt1'].split(\" \"))\n",
    "    if lB != 0:\n",
    "        relaitve_lengths2[k]= lA/lB\n",
    "    else:\n",
    "        print(k,lA,lB)\n",
    "# non_nans = {k: v for k,v in relaitve_lengths.items() if not np.isnan(v)}\n",
    "# #dedup\n",
    "# print(len(non_nans))\n",
    "# deduped = dict()\n",
    "# for k in non_nans:\n",
    "#     if (k[1],k[0]) not in deduped:\n",
    "#         deduped[k] = non_nans[k]\n",
    "table2 = pd.DataFrame(columns = rfn.rashi_masechtot, index = rfn.rashi_masechtot)\n",
    "for mas in rfn.rashi_masechtot:\n",
    "    for mas2 in rfn.rashi_masechtot:\n",
    "        if mas != mas2:\n",
    "            if (mas,mas2) in relaitve_lengths2:\n",
    "                table2[mas][mas2] = relaitve_lengths2[(mas,mas2)]\n",
    "table2"
   ],
   "metadata": {
    "collapsed": false,
    "ExecuteTime": {
     "end_time": "2024-06-24T01:49:25.424795Z",
     "start_time": "2024-06-24T01:49:24.551400Z"
    }
   },
   "id": "19e44b84f0ce7a90"
  },
  {
   "cell_type": "markdown",
   "source": [
    "## Which masechet has the smallest ratio relative to all others "
   ],
   "metadata": {
    "collapsed": false
   },
   "id": "8650a2e7769a2af6"
  },
  {
   "cell_type": "markdown",
   "source": [
    "# More searches"
   ],
   "metadata": {
    "collapsed": false
   },
   "id": "609da1ac1dcea647"
  },
  {
   "cell_type": "markdown",
   "source": [
    "## Adding לוי\"ה numbers"
   ],
   "metadata": {
    "collapsed": false
   },
   "id": "85c1fd7167c7f925"
  },
  {
   "cell_type": "code",
   "execution_count": 2,
   "outputs": [
    {
     "data": {
      "text/plain": "  Masechet   Daf   Loc                                               Text\n0  Shabbat   40a   6,1  רוחץ בו מיד - ואין צריך להמתין בכדי שיעשה ל\"א ...\n1  Shabbat   59b  14,0  מנקטא פארי - מושטניצ\"א והוא בגד שיש לו שנצים כ...\n2  Shabbat   60b  15,1  שנעקרו - לגמרי שאין ניכר שהיה בו יותר ד' או ה'...\n3  Shabbat   65a  11,2  הבנות קטנות - שמנקבות אזניהם ואין עושין נזמים ...\n4  Shabbat  107a   4,2  והחובל בהן חייב - דיש להן עור כדמפרש בגמרא והו...\n5  Shabbat  128a  13,3                  צתרי - שדריא\"ה לוי\"ה ל\"א פוליאול:",
      "text/html": "<div>\n<style scoped>\n    .dataframe tbody tr th:only-of-type {\n        vertical-align: middle;\n    }\n\n    .dataframe tbody tr th {\n        vertical-align: top;\n    }\n\n    .dataframe thead th {\n        text-align: right;\n    }\n</style>\n<table border=\"1\" class=\"dataframe\">\n  <thead>\n    <tr style=\"text-align: right;\">\n      <th></th>\n      <th>Masechet</th>\n      <th>Daf</th>\n      <th>Loc</th>\n      <th>Text</th>\n    </tr>\n  </thead>\n  <tbody>\n    <tr>\n      <th>0</th>\n      <td>Shabbat</td>\n      <td>40a</td>\n      <td>6,1</td>\n      <td>רוחץ בו מיד - ואין צריך להמתין בכדי שיעשה ל\"א ...</td>\n    </tr>\n    <tr>\n      <th>1</th>\n      <td>Shabbat</td>\n      <td>59b</td>\n      <td>14,0</td>\n      <td>מנקטא פארי - מושטניצ\"א והוא בגד שיש לו שנצים כ...</td>\n    </tr>\n    <tr>\n      <th>2</th>\n      <td>Shabbat</td>\n      <td>60b</td>\n      <td>15,1</td>\n      <td>שנעקרו - לגמרי שאין ניכר שהיה בו יותר ד' או ה'...</td>\n    </tr>\n    <tr>\n      <th>3</th>\n      <td>Shabbat</td>\n      <td>65a</td>\n      <td>11,2</td>\n      <td>הבנות קטנות - שמנקבות אזניהם ואין עושין נזמים ...</td>\n    </tr>\n    <tr>\n      <th>4</th>\n      <td>Shabbat</td>\n      <td>107a</td>\n      <td>4,2</td>\n      <td>והחובל בהן חייב - דיש להן עור כדמפרש בגמרא והו...</td>\n    </tr>\n    <tr>\n      <th>5</th>\n      <td>Shabbat</td>\n      <td>128a</td>\n      <td>13,3</td>\n      <td>צתרי - שדריא\"ה לוי\"ה ל\"א פוליאול:</td>\n    </tr>\n  </tbody>\n</table>\n</div>"
     },
     "execution_count": 2,
     "metadata": {},
     "output_type": "execute_result"
    }
   ],
   "source": [
    "rfn.generate_search('לוי\"ה')"
   ],
   "metadata": {
    "collapsed": false,
    "ExecuteTime": {
     "end_time": "2024-06-11T03:18:51.960455Z",
     "start_time": "2024-06-11T03:18:51.761105Z"
    }
   },
   "id": "b11e85da3f677c56"
  },
  {
   "cell_type": "code",
   "execution_count": 125,
   "outputs": [
    {
     "data": {
      "text/plain": "  Masechet  Daf   Loc                                               Text\n0  Chullin  46a  3,12  תידון כבשר - אם נפסק החוט כנגדו ולהאי לישנא גר...",
      "text/html": "<div>\n<style scoped>\n    .dataframe tbody tr th:only-of-type {\n        vertical-align: middle;\n    }\n\n    .dataframe tbody tr th {\n        vertical-align: top;\n    }\n\n    .dataframe thead th {\n        text-align: right;\n    }\n</style>\n<table border=\"1\" class=\"dataframe\">\n  <thead>\n    <tr style=\"text-align: right;\">\n      <th></th>\n      <th>Masechet</th>\n      <th>Daf</th>\n      <th>Loc</th>\n      <th>Text</th>\n    </tr>\n  </thead>\n  <tbody>\n    <tr>\n      <th>0</th>\n      <td>Chullin</td>\n      <td>46a</td>\n      <td>3,12</td>\n      <td>תידון כבשר - אם נפסק החוט כנגדו ולהאי לישנא גר...</td>\n    </tr>\n  </tbody>\n</table>\n</div>"
     },
     "execution_count": 125,
     "metadata": {},
     "output_type": "execute_result"
    }
   ],
   "source": [
    "rfn.generate_search(\"מורי הראשון\")"
   ],
   "metadata": {
    "collapsed": false,
    "ExecuteTime": {
     "end_time": "2024-06-20T00:10:49.806304Z",
     "start_time": "2024-06-20T00:10:49.523464Z"
    }
   },
   "id": "9f3d28ef1386da23"
  },
  {
   "cell_type": "code",
   "execution_count": 126,
   "outputs": [
    {
     "data": {
      "text/plain": "   Unnamed: 0    masechet1 masechet2        loc1          loc2  \\\n0           0  Bava Metzia    Eruvin       39b:2  29a:19-29b:1   \n1           1      Ketubot   Shabbat  6b:13-7a:1        107a:3   \n2           2       Niddah   Yevamot       67b:2        78a:20   \n3           3         Yoma  Zevachim       49a:1  14a:21-14b:2   \n4           4     Menachot    Niddah       76a:2        63a:11   \n\n                                                txt1  \\\n0  ['אבל בבתי לית לן בה - שהשכנים מעידין עליהם שב...   \n1  ['אם לעשות לה פה - שמתכוין ליפותה ולהיות לה פת...   \n2  ['דבר תורה - הלכה למשה מסיני דאמר מר (סוכה דף ...   \n3  ['זר ואונן שיכור ובעל מום - כולהו נפקי לן מקרא...   \n4  ['בעי רבי ירמיה - הא דקתני שף אחת היינו אמטויי...   \n\n                                                txt2  \n0                   ['עלין - לא חשיבי ורעים לאכול:']  \n1  ['המפיס - מבקע מורסא קויטור\"א:', 'אם לעשות לה ...  \n2  ['משום דר\\' יצחק דאמר דבר תורה רובו ומקפיד עלי...  \n3                        ['שיכור - היינו שתוי יין:']  \n4  ['בעי רבי ירמיה האי שלש פעמים דקתני אמטויי ואת...  ",
      "text/html": "<div>\n<style scoped>\n    .dataframe tbody tr th:only-of-type {\n        vertical-align: middle;\n    }\n\n    .dataframe tbody tr th {\n        vertical-align: top;\n    }\n\n    .dataframe thead th {\n        text-align: right;\n    }\n</style>\n<table border=\"1\" class=\"dataframe\">\n  <thead>\n    <tr style=\"text-align: right;\">\n      <th></th>\n      <th>Unnamed: 0</th>\n      <th>masechet1</th>\n      <th>masechet2</th>\n      <th>loc1</th>\n      <th>loc2</th>\n      <th>txt1</th>\n      <th>txt2</th>\n    </tr>\n  </thead>\n  <tbody>\n    <tr>\n      <th>0</th>\n      <td>0</td>\n      <td>Bava Metzia</td>\n      <td>Eruvin</td>\n      <td>39b:2</td>\n      <td>29a:19-29b:1</td>\n      <td>['אבל בבתי לית לן בה - שהשכנים מעידין עליהם שב...</td>\n      <td>['עלין - לא חשיבי ורעים לאכול:']</td>\n    </tr>\n    <tr>\n      <th>1</th>\n      <td>1</td>\n      <td>Ketubot</td>\n      <td>Shabbat</td>\n      <td>6b:13-7a:1</td>\n      <td>107a:3</td>\n      <td>['אם לעשות לה פה - שמתכוין ליפותה ולהיות לה פת...</td>\n      <td>['המפיס - מבקע מורסא קויטור\"א:', 'אם לעשות לה ...</td>\n    </tr>\n    <tr>\n      <th>2</th>\n      <td>2</td>\n      <td>Niddah</td>\n      <td>Yevamot</td>\n      <td>67b:2</td>\n      <td>78a:20</td>\n      <td>['דבר תורה - הלכה למשה מסיני דאמר מר (סוכה דף ...</td>\n      <td>['משום דר\\' יצחק דאמר דבר תורה רובו ומקפיד עלי...</td>\n    </tr>\n    <tr>\n      <th>3</th>\n      <td>3</td>\n      <td>Yoma</td>\n      <td>Zevachim</td>\n      <td>49a:1</td>\n      <td>14a:21-14b:2</td>\n      <td>['זר ואונן שיכור ובעל מום - כולהו נפקי לן מקרא...</td>\n      <td>['שיכור - היינו שתוי יין:']</td>\n    </tr>\n    <tr>\n      <th>4</th>\n      <td>4</td>\n      <td>Menachot</td>\n      <td>Niddah</td>\n      <td>76a:2</td>\n      <td>63a:11</td>\n      <td>['בעי רבי ירמיה - הא דקתני שף אחת היינו אמטויי...</td>\n      <td>['בעי רבי ירמיה האי שלש פעמים דקתני אמטויי ואת...</td>\n    </tr>\n  </tbody>\n</table>\n</div>"
     },
     "execution_count": 126,
     "metadata": {},
     "output_type": "execute_result"
    }
   ],
   "source": [
    "paralells2.head()"
   ],
   "metadata": {
    "collapsed": false,
    "ExecuteTime": {
     "end_time": "2024-06-20T12:41:32.526010Z",
     "start_time": "2024-06-20T12:41:32.467479Z"
    }
   },
   "id": "784668563947ff8a"
  },
  {
   "cell_type": "code",
   "execution_count": 128,
   "outputs": [
    {
     "data": {
      "text/plain": "      Unnamed: 0    masechet1 masechet2        loc1       loc2  \\\n1              1      Ketubot   Shabbat  6b:13-7a:1     107a:3   \n32            32      Shabbat   Shabbat       75b:6      97b:7   \n33            33      Shabbat   Yevamot      130a:3      14a:9   \n46            46   Bava Kamma   Shabbat     62b:1-3  21b:11-12   \n53            53  Bava Metzia   Shabbat     105b:16      85b:3   \n...          ...          ...       ...         ...        ...   \n2482        2482      Shabbat   Yevamot     137a:28     47b:12   \n2493        2493      Beitzah   Shabbat       26a:1      46b:2   \n2501        2501      Beitzah   Shabbat        4b:3      29a:7   \n2502        2502    Sanhedrin   Shabbat     62b:1-2    72b:2-3   \n2517        2517       Eruvin   Shabbat       14b:9      35a:3   \n\n                                                   txt1  \\\n1     ['אם לעשות לה פה - שמתכוין ליפותה ולהיות לה פת...   \n32    ['שובט - משוה השתי בכרכר שקורין ריו\"ל:', 'מדקד...   \n33    ['כלל אמר ר\"ע - נחלק על ר\"א במכשירי מצוה שאין ...   \n46                           ['מתני\\' גץ - אשטנציי\"ל:']   \n53    ['נשדף תלם אחד - ולא יותר משדות שהן סביבותיה ו...   \n...                                                 ...   \n2482  [\"מתני' ציצין - רצועות של בשר שנשארו מן הערלה:...   \n2493  ['אין זה מן המוכן - לאו משום מוקצה אסר ליה דהא...   \n2501  ['והא קא מהפך באיסורא - כשמוליכן בתנור מזוית ל...   \n2502  ['שגג בלא מתכוין - לא נתכוין למלאכה זו אלא לדב...   \n2517  ['ובור ספינה אלכסנדרית - עושה בה כעין בור ונות...   \n\n                                                   txt2  \n1     ['המפיס - מבקע מורסא קויטור\"א:', 'אם לעשות לה ...  \n32                              ['שובט - מכרכר בכרכר:']  \n33              ['כלל אמר ר\"ע - לגבי מילה באיסור שבת:']  \n46    ['גץ - ניצוץ אישטינציל\"ש:', 'פטיש - קורנס גדול...  \n53    ['תלם - מענה שורה:', 'על פני כולה - שהעביר מזר...  \n...                                                 ...  \n2482  ['עטרה - שורה גבוהה שסביב הגיד וממנה הולך ומשפ...  \n2493                      ['מומו ניכר - גבי בכור קאי:']  \n2501                      ['מרבה - עליהן ומבטלן ברוב:']  \n2502                 ['שגג בלא מתכוין - לקמן מפרש לה:']  \n2517  ['בשעת מעשה - שהייתי צריך לדבר:', 'קש - זנבות ...  \n\n[277 rows x 7 columns]",
      "text/html": "<div>\n<style scoped>\n    .dataframe tbody tr th:only-of-type {\n        vertical-align: middle;\n    }\n\n    .dataframe tbody tr th {\n        vertical-align: top;\n    }\n\n    .dataframe thead th {\n        text-align: right;\n    }\n</style>\n<table border=\"1\" class=\"dataframe\">\n  <thead>\n    <tr style=\"text-align: right;\">\n      <th></th>\n      <th>Unnamed: 0</th>\n      <th>masechet1</th>\n      <th>masechet2</th>\n      <th>loc1</th>\n      <th>loc2</th>\n      <th>txt1</th>\n      <th>txt2</th>\n    </tr>\n  </thead>\n  <tbody>\n    <tr>\n      <th>1</th>\n      <td>1</td>\n      <td>Ketubot</td>\n      <td>Shabbat</td>\n      <td>6b:13-7a:1</td>\n      <td>107a:3</td>\n      <td>['אם לעשות לה פה - שמתכוין ליפותה ולהיות לה פת...</td>\n      <td>['המפיס - מבקע מורסא קויטור\"א:', 'אם לעשות לה ...</td>\n    </tr>\n    <tr>\n      <th>32</th>\n      <td>32</td>\n      <td>Shabbat</td>\n      <td>Shabbat</td>\n      <td>75b:6</td>\n      <td>97b:7</td>\n      <td>['שובט - משוה השתי בכרכר שקורין ריו\"ל:', 'מדקד...</td>\n      <td>['שובט - מכרכר בכרכר:']</td>\n    </tr>\n    <tr>\n      <th>33</th>\n      <td>33</td>\n      <td>Shabbat</td>\n      <td>Yevamot</td>\n      <td>130a:3</td>\n      <td>14a:9</td>\n      <td>['כלל אמר ר\"ע - נחלק על ר\"א במכשירי מצוה שאין ...</td>\n      <td>['כלל אמר ר\"ע - לגבי מילה באיסור שבת:']</td>\n    </tr>\n    <tr>\n      <th>46</th>\n      <td>46</td>\n      <td>Bava Kamma</td>\n      <td>Shabbat</td>\n      <td>62b:1-3</td>\n      <td>21b:11-12</td>\n      <td>['מתני\\' גץ - אשטנציי\"ל:']</td>\n      <td>['גץ - ניצוץ אישטינציל\"ש:', 'פטיש - קורנס גדול...</td>\n    </tr>\n    <tr>\n      <th>53</th>\n      <td>53</td>\n      <td>Bava Metzia</td>\n      <td>Shabbat</td>\n      <td>105b:16</td>\n      <td>85b:3</td>\n      <td>['נשדף תלם אחד - ולא יותר משדות שהן סביבותיה ו...</td>\n      <td>['תלם - מענה שורה:', 'על פני כולה - שהעביר מזר...</td>\n    </tr>\n    <tr>\n      <th>...</th>\n      <td>...</td>\n      <td>...</td>\n      <td>...</td>\n      <td>...</td>\n      <td>...</td>\n      <td>...</td>\n      <td>...</td>\n    </tr>\n    <tr>\n      <th>2482</th>\n      <td>2482</td>\n      <td>Shabbat</td>\n      <td>Yevamot</td>\n      <td>137a:28</td>\n      <td>47b:12</td>\n      <td>[\"מתני' ציצין - רצועות של בשר שנשארו מן הערלה:...</td>\n      <td>['עטרה - שורה גבוהה שסביב הגיד וממנה הולך ומשפ...</td>\n    </tr>\n    <tr>\n      <th>2493</th>\n      <td>2493</td>\n      <td>Beitzah</td>\n      <td>Shabbat</td>\n      <td>26a:1</td>\n      <td>46b:2</td>\n      <td>['אין זה מן המוכן - לאו משום מוקצה אסר ליה דהא...</td>\n      <td>['מומו ניכר - גבי בכור קאי:']</td>\n    </tr>\n    <tr>\n      <th>2501</th>\n      <td>2501</td>\n      <td>Beitzah</td>\n      <td>Shabbat</td>\n      <td>4b:3</td>\n      <td>29a:7</td>\n      <td>['והא קא מהפך באיסורא - כשמוליכן בתנור מזוית ל...</td>\n      <td>['מרבה - עליהן ומבטלן ברוב:']</td>\n    </tr>\n    <tr>\n      <th>2502</th>\n      <td>2502</td>\n      <td>Sanhedrin</td>\n      <td>Shabbat</td>\n      <td>62b:1-2</td>\n      <td>72b:2-3</td>\n      <td>['שגג בלא מתכוין - לא נתכוין למלאכה זו אלא לדב...</td>\n      <td>['שגג בלא מתכוין - לקמן מפרש לה:']</td>\n    </tr>\n    <tr>\n      <th>2517</th>\n      <td>2517</td>\n      <td>Eruvin</td>\n      <td>Shabbat</td>\n      <td>14b:9</td>\n      <td>35a:3</td>\n      <td>['ובור ספינה אלכסנדרית - עושה בה כעין בור ונות...</td>\n      <td>['בשעת מעשה - שהייתי צריך לדבר:', 'קש - זנבות ...</td>\n    </tr>\n  </tbody>\n</table>\n<p>277 rows × 7 columns</p>\n</div>"
     },
     "execution_count": 128,
     "metadata": {},
     "output_type": "execute_result"
    }
   ],
   "source": [
    "# Lets just try looking at more parallels\n",
    "shabbat_parallels = []\n",
    "masechet = \"Shabbat\"\n",
    "for i,row in paralells2.iterrows():\n",
    "    if row[\"masechet1\"]==masechet or row[\"masechet2\"]==masechet:\n",
    "        shabbat_parallels.append(row)\n",
    "pd.DataFrame(shabbat_parallels)"
   ],
   "metadata": {
    "collapsed": false,
    "ExecuteTime": {
     "end_time": "2024-06-20T12:43:45.192827Z",
     "start_time": "2024-06-20T12:43:45.127938Z"
    }
   },
   "id": "12cc6de9927e77bd"
  },
  {
   "cell_type": "code",
   "execution_count": 129,
   "outputs": [],
   "source": [
    "shabbat_parallels= pd.DataFrame(shabbat_parallels)\n",
    "shabbat_parallels.to_csv('/Users/ephraimmeiri/gitEtc/Rashi Thesis work/shabbat_parallels.csv')"
   ],
   "metadata": {
    "collapsed": false,
    "ExecuteTime": {
     "end_time": "2024-06-21T22:29:29.044877Z",
     "start_time": "2024-06-21T22:29:28.963571Z"
    }
   },
   "id": "253d11d02d125560"
  },
  {
   "cell_type": "code",
   "execution_count": null,
   "outputs": [],
   "source": [],
   "metadata": {
    "collapsed": false
   },
   "id": "7f70e0cc42696294"
  },
  {
   "cell_type": "code",
   "execution_count": 133,
   "outputs": [
    {
     "data": {
      "text/plain": "42"
     },
     "execution_count": 133,
     "metadata": {},
     "output_type": "execute_result"
    }
   ],
   "source": [
    "sample_txt= 'שאין בפחות משלשה סמוך לגג טפח - שנתונה באלכסון קצר שכשאתה מודד רחבה למטה משלשה לגגה אין בו רוחב טפח דהוי כוליה דופן ואין כאן אהל כלל אבל הרחיבה עד טפח בתוך שלשה לגגה כאילו גגה טפח דמי ואסור לנטותה: <img src=\"data:image/png;base64,iVBORw0KGgoAAAANSUhEUgAAAGYAAAB3CAIAAAB+N6ILAAAACXBIWXMAAA50AAAOdAFrJLPWAAAACXZwQWcAAABmAAAAdwCrAb5/AAATYklEQVR42u1de3gURbbvSRD2alRe3qDGXXBlXZFdYb+7LllBZTGI8oiokQ8EDBEEXXzAEvzcu7II+MhiVPgQv6u89AbF3SDh8kYIBPh8LISHIa+PjYSEhBCSMJOZTObV3ff0nJlK9XO6Z3pmEtj6Y77qnurqql+dOufUOaeqGb4TJI7jNC6j8S7yijDexfCdMkUVNfKK8ICLO2SspPWdf3jiDFnB1vyS0yf4LpXiCZnV1sT4EyE02YCz/4asYw7ib97GDQQyNVEQ32kbB8jo3tJ4kTxCRt+kiknFHI1svHBkYkNZiqAQyOhLmK0XL14gz378yWqO9yjKOBMh64wS8+SpY2mjR1ZUltRfOCvpM0DmcjtIu5G74R3gZUww9ep9vcttp+mUZdkrmZcldmPoNG78GIAjiFEC3Kmp/RFHGguMnzCG/pek2Khs8edlkLIXvsKI096vd+Jf/quEuwYNxPJDfzOYoIMT87af3nztdd0J9V0VkGGmpraqqbmhquoMoECD4vY4nsmcMm36ZHpuvpOzjHo2MAEnT8lobbVe+ZDJKM7nz/gori/cuWy9RIolJDI+1oVci5YVdsflq2JiYho58gGBWliW8O877xxIK2j793+tqJHQZWbOzIoXy48DZEBTa9euDWj0LAvT86mnniL/njlTuWzZEm3Bj3O5M+i0MYKsb9/e2OfGxga4nDgx/ezZKsjY7bYeP0mE+xs2rFOEA4UDPvvdd98oruqvTPZvs12mFYUdO7bRtENEgURHraqqIgUeeeSRWJqGOoXELCgokKADKTU1dciQIRpTEsp369atvr6+MzD+mE5M0tvz52t0dj6WptrOC1lQw+DCg7uTANdJDdkaVqO4w9dlILuK7GUxsMZcFZCFMcWuOvYfEoWamur6hjr5fZb3NV6+FFhs/RsykoqKDoD+dbqsRAoKx1+0XoS/CnZspaHkrmbIEAWLxUKruEBWxT8c99OY/1+/Avzt0X92KCsUpl0bMrujKYynnn12BiBSWloC+fLKsuz/fhUXCbmrclGx+M1996qaZOMxWc2EzNHWbJBhs2g4YywMIZk2j/O5P86+oc/1+QVbTpSegkqa7YH16er1awIKWlylARPHKQkp6foegEVFZQk9z5Ys+yvSlN3VivefmTFd7iTmrgbIJP7dmtoqeqFutQXm9ZMZjwmmMQFBVmwFYnJycuLuCY4nZIhCWfkPkM99L4fAcNeggQyTEIQmgNqWLVv8M5iJ+9xk4jElfdBbQIo2tPrddIFJN3lKBj0H0fhBfJrbtm2LL6ExYTCgSJgJ7fEluDjarFTlvoKt+dkL5/HBAIP6+vP47KxZs+SiM/bYhQ8Z+j4MzUQkMXiwovI0TL2iQ/sFhFjXh6tXEH8S/Ju3cW3B1n/QcRiHDxfRHG3VqlWS8I7ODZlfrvl5jAGKU+Ri6DBPS0urqjpDDwDwMgCRfurAgf2Y6dOnj4TQOjuV8UG85JApEZSyaXDFylzo85QpUyC/a9eOMWNGS8rAv68veo2uk2W9bne7oLW1tSFkS5cu7XoSkzgl9bM2CRfjqUgpCWRb/2+z5MGdO7fTj0t8CF1JYhLg2GBSQxBvDB48CHq7Zs3HUGDI0ME5f3tTETKQALw4rAyYns1mg8vDhw8jZIsXL+4a7N+o8kXJDZ/X65WTmLxOuA+TV86tiouLoQbIvPvuu5LFwJWmlxG6C0TvuFxAnTfeeOPBgwcVBwPKzMiapjgST0+bChmPx4NVzX3pxdgvn5iY4UVzMbfbrahe4W9ioiUtbZRibUOHDqW1DQmhxQa42EG2du1a6CHyo/T09Lq6Ol4lkrb/gFsHDPiZIgRNTU0wPYVJ7vMhZM3NzXLIIsSOI4Y4LhRk0aBwrBOQgu4lJyfDHafTefvtt2ssDB6bOLZ7jwS1nk+dOhX/WrBggURHMzcuSA2NWEBG5pHdbod8UlLSkiVLePXQqNUfrUzu14dXDmj39erVa9KkSZCrra3tgIzUEGPIopQaGxtocsBYMw18YYmeOWOqxqr+gQdG0Bxt2rRpUVpvcvGSmNgxYEOQ79fvP1tbrdrlMzKeWLx4kUaBoqID5+uqIeP1BswbDQ0NMZObUYds0aK/WCyWIUN+jZd9+/YOSf/z5r185Mgh2YCzFCmxidck0OORmJjYJSHjOn5ZInRo3TUzc7qeerKyMqurf9QuA6sIj9cJmfXr/jfGam20qIz1I7Zr326qP76ePW/Qw3GgWGVleaglBztzZhZNaCBJ6VjcLgYZJxaUTqcD83PnvqCT95WUnAoJ7rhxjyJG+/bti+VGCpMh61ApOf79VR9gpCvZJ+J2t+vpkuBzqigL2X+Xywmik4wNcEwiSaOKHWM6cUmWR1ZrC1wC1wemrlPbhKdOnjyu5425ucsxk52dTRFa14FMbUVJGy10UhmSj7gwq0LUXvp1w1L/K9pLzqhARjqwd+9uuAQ9S0M1VYSsd+/exrW/BHlwdzTmKWM+F/MrEzQ/9nvefPobrcjLNR4/eeoY/eDmzZuj6kxhIgFIrovSJFZcfBTxysjIMDTOhvQsKDDn+ZlkbNSe7YxURtKK5cuJT9fjcYVhpDekMUCZdlfr5198Cvl16z/GZ2+99WYJobGsaagxUeJi9TXncNg3bdqkf5Cx2Jw5zyUmWgy9fUbWVK+vnd4lzFMLLHPnJhMh85IIyv17dhMSQ8j0zwtSSWlpyf33DzfSEl+b0/rgyFTIny49iQ1AHdBcphagCVNqkXCx1hYh0OxvOW9PnJiu31hKetjU3IAPGmoArdBAumNgf9NNgeZAJjLaPPkYYUMwTSxKXCwkavC79+ud6A/W30mBb3rbho8YRqP2+RefEcU5UtM2hbiZkGFDZ/vll2D5y5wcXj0NDfWEygx1FW25vJIzJWzI5FOEiRx7rGvui3NQmRRWf247ZDwCPw6nTmBD8qgD7UdwHbZ9R0Hexg1wufmrTQhZeUUJVUM4ngH5Cs8cyFrtLYFdpt8fwUFesnRR2NU2NjakpKQYVaExA3qGyPTYjemQABFLuUggI8AH7FMwIyQrSpZzGZ0OHe6S1asM6WXUr+9iY92mL/P44GlChNiDTWHjBZn03di4isrTvBDqdEfKbf34sDYR4iNZWZlGrax0SUoIJETDjhbRggnN8C/8cZaExEBchtFEMs1zc5cbXTPQgbVl5T/4WBdkvgxytJKyEyaixoTNwiQk9vgTE3j/6R8wtrzsVBBDNcPiNLxYKNwiCwkPKuFV9q7HEzJB3S/ssO5faqpHEouwZaBkhDEx6ct3cpaBIIJb52qqcCtGwdZ8s4xoYUMmUvfRq3jXoIGoGekJo9XoeUVFWXgMiJR3uR2jHnoA74DmQRNaeBzDBImJtWC0eVAXc/gFpTvskSQ0dfBgYRiQyQntw9UfwM3GS/XYSIfTFkfIhFRy+njADd4snBby4IP3//qeQRFqeUieqz9aaUoAce57OfB75l/l5p7lxYQ9fSScFTKgE0W4NKGNumoKjR6Zq3j4jeC7abVFvj6PFDI8UAxV2cgNBvjs2LGPiFkPGwbudLpQX4Ot7XZNj8h38jDh9eqa7hZyyhgfPBzQLGNedvafLBZLhLgTAeX2tMFv1Y8VgV2MXDAOP9ymhhNeDEjRrKH/gBS0vqst/Y2+orBwX9++fdVWxUYZNjkZDdv8yfp1Ec4GxugKi3glRv5hhOIpp5Gb8RwOR3p6euT1SC6PHz8WMNh6PVwwaoQP+vbNpzLCVoHH0yT2+qKFoGoEj7o2YE3USFarVb8apWdvsd1uownt7l8N5qM9MeU+cLIpMGw+rdF/DKzlKedQhLaD8rLTmLlvxHCM3ohkTuiFDHkKCbinB41otpEnrKe9vU0sfyMfCR91JquQ9h/YFy3IJAY8fF/KbclwVXRoP7rBebMT7u3izfRxsA5HK0K/5+vdEe61Y/QPfmlpCR1fR/aAmOslhNoqKysTExMjZIjy7UDHjv2Tnhwbv8gLz19nADJ808lTx8glrChNP6saOMArr7z08MNpJkrMwO7/mmq8/MUvB0biTNGCDPkuVldcXExzse49Ekzx3yjKmaSka3XGOxpF8Ny5s36hENiZ8viTE8MgNMYQieXlfQZUgEYLPKMhGqE1o0c/FKXtlm1tdozsjsRrx+gZdmAuUHtqaiqtyvJRi3lLTf0dmnZNTz5f4Bz8Z2dl+ZdPCbjhxRzIaGlCT0kksepzZyL0D2q8dPiIYSYOiaSST9YGvXaWDkIzZBNl9M9KIm5gUclHJ9GWSz54ooa5tHzoSJHEIsQb3J7IhCQxn8+XkpKya9cu8iaW9Ub1mApY9qeNHhm9+ktKf4BFZW1dNUL23JxZhl4Ugspg7TJ27NjKyjN4OXNm1oIF8yNfRWqnvI0bFv31z3zUjnU4dvyoBqGF7BqjPf+xRgCOxO6TlUf0diKuW/8/b739RpSGBOusb6iF35bgMV/TM5/W3yNdkBFBs2rVSlOMYtr9Wf7u268vWijug8nHh0+ajOfAsxbjbgEtifnh6hVQ18xZmUHN1muKbUfhXeLL1157dUL6o7zB+DL9xiI8emnzFuFciQ0b1qHoLCwsNIHKAjuQ2m3o2rK1NvPKx/hwejqjwC9kv5juvHNgz549eZXY0siD6zBDNrDQIfd6tA1GgwfTKnib02Y+W6GQou3x8+fPz83NjZ54wbfa7TbcXEaI45tvvtHzrSJlyJztrfSSqP5CjdrhuaJuqwgdo76JFSveLy4+qkjILKuwviEnwJFjy4UbrCo9kvupv/8tZu6551e4C0jP+kkZsnHjH6ZJTL6dhoAhBpKmGlZtPoZMEyemFxR8JTcxknpEhMApfAXMR+1BI4Up3NmgreGox+OCbGNjIx7UqueseGXIaCFy5l/lhQf28iquE9EsCwYLSoYJux3SxEoe6tHjGuDK5E57ext0EvqmJnk0QhS5jmA8BS0dEjl0CLssCSEPDRn6/s771WKYjHjzpZdfkE80Sc/pwBYf5+WUiIuMbUh6g7fj11/o73+R5HC0Qj01NdXkzobP1pPmfbDy/eqas/AO0Lm27d7uZT3+prJqkO3es93lcgZtAR3bE/VOTPmK8lxNFSiWks4DKFjmp/1vu+/B4bV1NeSvCY+Nx7/eX/EeXXOL4EwU2n38ZHGLtTkkZHj0lCJk6Oyorv4R83jz7/lfCjdrzgbcbpzHon5mlwQ1kAN0x5/JfDokL2PpLyv6WGHXEQlpUzGcesWdYOoaz0v8T5BGpf0BH0lOvgn61mRrJgW+P/odzY8k+y7r6mpRB8Sm5+f/XQxagtXaIqzeJ0+Cdt5+xwACzcVgkA9HtWT9p+t48YE0EqmyZ88uzAMD1RNWJQ3vuy6ph3zNJedZAMctKcknTh1f9tZSYWRmTMejl198+YX8rZubWi7N+9P8Pjf1Rcp66503/SEkl+FheFDti0rkjUVFB8rLS4nkqqgoIwjiOvfw4SKWc9tsl8nNV19biGUeGj0qcBayP41KE1srRe8ktOJb/MZfkM/6KTcR2IKG3BQ1HUls7LiH1RRrUovX2xFH5mizEgUHJ1SQdwT8wZzfOEW2ZF5srMvbuF4+RzpYcs7baMgmgUCwYqMUWc+mTZ+/Mm+uaGg5j9fnpF2rku9vqlEN3oQK8TIj44mQ6ycREY4bP4beYyYZfBr1NWvWKGrnIOzIAKp8atWn5s4gIhXKkA/poBEYllB0A1ouN9aeF9jW0WPfCowiQDwBqiF+L7xMSblFzyrF/0a2pSXw+WEgAjWgGTXGr6EB5uXlya3mpAan0yHXgBZkv6hYXgyZ5KZCq4S9Jx4HfjLs+++/7bB9B5VS3r/PhUxBt9fZs1cSpyPu//nnn+dEFqEEnjrhlJdsyMGLe4bcDQXJ7gwN4EaNGikm3Y5vjwOjWbEyF7hMm9NKa2RvLHkddzAoDbXqMZjo5ZYM5LBh92IGOE7a6JF4CjRd4OZbboJL+Os/ru2GGT1rryNHDuFhMSiLNXzPjOJxwtq1T5gwjo7/2rlzO0FT/sVUTD17XUfuF2z9hx5zCKFQeOTnPx+AN7/6Kh/YjcRAKCwPvz0gMViRBDyOUqS11p1kCuMZm/cO+63i+okhW3+EHbpf5umJgdi7d3dWVsAiBNMQhD3pPPAybOiFCxdoKqP7wPFuuSwGmdB/QAqs9caMGQ1lTp06Qf4iB9UIzhqXSzI8U6ZOEq09xO96w7+VitO3aPvoow9RfIES0xHtIt9zqoeLheHIoTkU+qVmz54NYi7I/qVKWWHhPom+6va00aaYkMYf8lf2nxdq2+O0tWhO5H9KkAtAsqM5QU9Il5bxS+lrXIqdVLwENYL+EnJyv95qElZ6WLLIksFJcBIVDoGcMIp33f3LvM8/9Vu6A2F08jMjGaIrtdpbNMKe5GJOYo2TfZLcJ9/aLQNLCmLjpfqQKqF42EVxRz4FxYjXb0WBggcPCd/qaXXY5M4UZVU2wlPp5eRmaJ+b/Jh3U8J+jD5FuJia/4nRnlyxT4oqri5zdqiIVy7U1MQ6M554KumG63h//Gn37t0VqIzvTEmP11p7XDkzRot+BR4xbcD1G5uJqQ1EzAhfQ0x1XioLnw3FsD1XCGRR/VKaaTvlrtr0/10iV89Ogj4NAAAAGnpUWHRqcGVnOmNvbG9yc3BhY2UAAHjaMwIAADMAM4k4IzUAAAAkelRYdGpwZWc6c2FtcGxpbmctZmFjdG9yAAB42jOsMNQxhGAAEW8C553+HpkAAAAASUVORK5CYII=\">'\n",
    "len(sample_txt.split(\" \"))"
   ],
   "metadata": {
    "collapsed": false,
    "ExecuteTime": {
     "end_time": "2024-06-23T15:00:26.804025Z",
     "start_time": "2024-06-23T15:00:26.773225Z"
    }
   },
   "id": "3cb6ecc5b7493da"
  },
  {
   "cell_type": "code",
   "execution_count": null,
   "outputs": [],
   "source": [],
   "metadata": {
    "collapsed": false
   },
   "id": "7891d8a75399343d"
  }
 ],
 "metadata": {
  "kernelspec": {
   "display_name": "Python 3",
   "language": "python",
   "name": "python3"
  },
  "language_info": {
   "codemirror_mode": {
    "name": "ipython",
    "version": 2
   },
   "file_extension": ".py",
   "mimetype": "text/x-python",
   "name": "python",
   "nbconvert_exporter": "python",
   "pygments_lexer": "ipython2",
   "version": "2.7.6"
  }
 },
 "nbformat": 4,
 "nbformat_minor": 5
}
