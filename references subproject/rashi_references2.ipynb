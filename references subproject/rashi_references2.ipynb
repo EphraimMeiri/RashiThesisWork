{
 "cells": [
  {
   "cell_type": "markdown",
   "source": [
    "# Setup"
   ],
   "metadata": {
    "collapsed": false
   },
   "id": "be7df31a6b890127"
  },
  {
   "cell_type": "code",
   "execution_count": null,
   "outputs": [],
   "source": [
    "import pandas as pd\n",
    "import numpy as np\n",
    "import matplotlib.pyplot as plt\n",
    "import json\n",
    "import os"
   ],
   "metadata": {
    "collapsed": false
   },
   "id": "5ad543ff537dc7f4"
  },
  {
   "cell_type": "code",
   "execution_count": null,
   "id": "initial_id",
   "metadata": {
    "collapsed": true
   },
   "outputs": [],
   "source": [
    "masechtot=[]\n",
    "with open('/Users/ephraimmeiri/gitEtc/Rashi Thesis work/references subproject/input/שמות מסכתות.txt') as f:\n",
    "    data = f.read()\n",
    "    masechtot = data.split(', ')\n",
    "    \n",
    "masechtot_bavli =[]\n",
    "with open('/Users/ephraimmeiri/gitEtc/Rashi Thesis work/references subproject/input/שמות מסכתות בבלי.txt') as f:\n",
    "    data = f.read()\n",
    "    masechtot_bavli = data.split(', ')\n",
    "\n",
    "perek_names = []\n",
    "with open('/Users/ephraimmeiri/gitEtc/Rashi Thesis work/references subproject/input/perakim_names1.txt') as f:\n",
    "    data = f.read()\n",
    "    perek_names = data.split(', ')\n",
    "perek_names2= []\n",
    "for name in perek_names:\n",
    "    if len(name.split())>1:     \n",
    "        if name.split()[0] == \"רבי\":\n",
    "            perek_names.append(\"ר' \".join(name.split()[1:]))\n",
    "    if \"\\\"\" in name:\n",
    "        perek_names2.append(name.replace(\"\\\"\",\"\\\\\\\"\"))\n",
    "for name in perek_names2:\n",
    "    perek_names.append(name)\n",
    "perek_names_bavli = []\n",
    "with open('/Users/ephraimmeiri/gitEtc/Rashi Thesis work/references subproject/input/perakim_names_Bavli.txt') as f:\n",
    "    data = f.read()\n",
    "    perek_names_bavli = data.split(', ')\n",
    "    \n",
    "pirkei_mishna=[]\n",
    "with open(\"/Users/ephraimmeiri/gitEtc/Rashi Thesis work/references subproject/input/perakim_names_MishnaOnly.txt\",'r') as f:\n",
    "    data = f.read()\n",
    "    pirkei_mishna = data.split(', ')\n",
    "    \n",
    "numbers = [\"קמא\",\"אחרון\",\"בתרא\",\"עשירי\",\"תשיעי\",\"שמיני\",\"שביעי\",\"ששי\",\"חמישי\",\"דביעי\",\"שלישי\",\"שני\",\"ראשון\"]\n",
    "for letter in [\"י\",\"ט\",\"ח\",\"ז\",\"ו\",\"ה\",\"ד\",\"ג\",\"ב\",\"א\"]:\n",
    "        numbers.append(letter+\"'\")\n",
    "        numbers.append(\"י\\\"\"+letter)\n",
    "        numbers.append(\"כ\\\"\"+letter)\n",
    "rashi_dir= '/Users/ephraimmeiri/gitEtc/Rashi Thesis work/Rashi plaintext/json filtered'"
   ]
  },
  {
   "cell_type": "code",
   "execution_count": null,
   "outputs": [],
   "source": [
    "filtered_masechtot = masechtot.copy() # Names that are likely to be false positives\n",
    "filtered_masechtot.remove(\"כלים\")\n",
    "filtered_masechtot.remove(\"ידים\")"
   ],
   "metadata": {
    "collapsed": false
   },
   "id": "deb49f4a3765314"
  },
  {
   "cell_type": "code",
   "execution_count": null,
   "outputs": [],
   "source": [
    "def get_rashi_file(masechet):\n",
    "    masechet = masechet.replace(\"%20\",\" \")\n",
    "    file = rashi_dir+\"/Rashi on \"+masechet+\".json\"\n",
    "    if os.path.exists(file):\n",
    "        with open(file) as f:\n",
    "            data = json.load(f)\n",
    "            return data\n",
    "    else:\n",
    "        return None"
   ],
   "metadata": {
    "collapsed": false
   },
   "id": "5a5833f6bd8c5a4a"
  },
  {
   "cell_type": "code",
   "execution_count": null,
   "outputs": [],
   "source": [
    "rashi_masechtot = ['Arakhin', 'Bekhorot', 'Chullin', 'Keritot', 'Menachot', 'Temurah', 'Zevachim', 'Beitzah', 'Chagigah', 'Eruvin', 'Pesachim', 'Megillah', 'Rosh Hashanah', 'Shabbat', 'Sukkah', 'Yoma', 'Gittin', 'Ketubot', 'Kiddushin', 'Sotah', 'Yevamot', 'Bava Batra', 'Bava Kamma', 'Bava Metzia', 'Avodah Zarah', 'Makkot', 'Sanhedrin', 'Shevuot', 'Niddah', 'Berakhot']"
   ],
   "metadata": {
    "collapsed": false
   },
   "id": "e14c7024cdc211c6"
  },
  {
   "cell_type": "markdown",
   "source": [
    "# Asking the questions"
   ],
   "metadata": {
    "collapsed": false
   },
   "id": "c0cd0521648482f"
  },
  {
   "cell_type": "code",
   "execution_count": null,
   "outputs": [],
   "source": [
    "def get_results(query):\n",
    "    results = []\n",
    "    for file in os.listdir(rashi_dir):\n",
    "        if file == '.DS_Store.json':\n",
    "            continue\n",
    "        name = file.split(' - ')[0][9:-5]\n",
    "        print(name,end='\\t')\n",
    "        with open(rashi_dir+\"/\"+file) as f:\n",
    "            data = json.load(f)\n",
    "            for daf,d in zip(data['text'],range(len(data['text']))):\n",
    "                for line,l in zip(daf,range(len(daf))):\n",
    "                    for comment,c in zip(line,range(len(line))):\n",
    "                        cont = query(comment)\n",
    "                        if cont:\n",
    "                            results.append([name,d,c,cont,comment])\n",
    "    return results"
   ],
   "metadata": {
    "collapsed": false
   },
   "id": "65a6db55d361c130"
  },
  {
   "cell_type": "code",
   "execution_count": null,
   "outputs": [],
   "source": [
    "def contains_masechet(text):\n",
    "    results= None\n",
    "    for masechet in masechtot_bavli:\n",
    "        if \"ב\"+masechet in text:\n",
    "            if results:\n",
    "                results+=\", \"\n",
    "                # print(\"Multi\")\n",
    "            else:\n",
    "                results=\"\"\n",
    "            results+=masechet\n",
    "    return results"
   ],
   "metadata": {
    "collapsed": false
   },
   "id": "8af027ac53e2e5fc"
  },
  {
   "cell_type": "markdown",
   "source": [
    "# Right neighbors, for filtering"
   ],
   "metadata": {
    "collapsed": false
   },
   "id": "ae8bef2e37d0f4ef"
  },
  {
   "cell_type": "code",
   "execution_count": null,
   "outputs": [],
   "source": [
    "def get_right_neighbors(query,dist):\n",
    "    results = []\n",
    "    for name in rashi_masechtot:\n",
    "        file = get_rashi_file(name)\n",
    "        if file:\n",
    "            for d in range(len(file['text'])):\n",
    "                for l in range(len(file['text'][d])):\n",
    "                    for c in range(len(file['text'][d][l])):\n",
    "                        cont = query(file['text'][d][l][c])\n",
    "                        if cont:\n",
    "                            for mas in cont.split(', '):\n",
    "                                strs= file['text'][d][l][c].split(mas) \n",
    "                                words = file['text'][d][l][c].split()\n",
    "                                words1= [strs[0].split(),strs[1].split()]\n",
    "                                if len(words1[1])>1 and len(words1[0])>1 and (words[len(words)-1] != words1[1][0]) :\n",
    "                                    if words1[1]:  # Check if words1[1] is not empty\n",
    "                                        words1[1][0] = words1[0][-1].join(strs[1][0]) if words1[0] else \"\"  # Check if words1[0] is not empty before accessing its last element\n",
    "                                    if words1[0]:  # Check if words1[0] is not empty\n",
    "                                        words1[0] = words1[0][:-1]\n",
    "                                if len(words1[0])>dist:\n",
    "                                    results.append(\"\".join(words1[0][-dist:]))\n",
    "    # map to frequency\n",
    "    res_set = set(results)\n",
    "    freq = {}\n",
    "    for res in res_set:\n",
    "        freq[res] = results.count(res)\n",
    "    freq = sorted(freq.items(), key=lambda x: x[1], reverse=True)\n",
    "    return  freq"
   ],
   "metadata": {
    "collapsed": false
   },
   "id": "6339c8b93f34ffa2"
  },
  {
   "cell_type": "code",
   "execution_count": null,
   "outputs": [],
   "source": [
    "mas_right_results = get_right_neighbors(contains_masechet,1)\n",
    "print(len(mas_right_results))\n",
    "mas_right_results"
   ],
   "metadata": {
    "collapsed": false
   },
   "id": "d7c32ba9da69baad"
  },
  {
   "cell_type": "markdown",
   "source": [
    "Ok not actually that useful, too many words and not enough context. We'll have to settle for this level of messiness"
   ],
   "metadata": {
    "collapsed": false
   },
   "id": "b4eea5a41f3752bf"
  },
  {
   "cell_type": "code",
   "execution_count": null,
   "outputs": [],
   "source": [
    "mas_right_results = get_right_neighbors(contains_masechet,2)\n",
    "print(len(mas_right_results))\n",
    "mas_right_results"
   ],
   "metadata": {
    "collapsed": false
   },
   "id": "1e6323dd154841df"
  },
  {
   "cell_type": "markdown",
   "source": [
    "# Left neighbors -- do we have all the perek names?"
   ],
   "metadata": {
    "collapsed": false
   },
   "id": "fface8fd1c8025bd"
  },
  {
   "cell_type": "code",
   "execution_count": null,
   "outputs": [],
   "source": [
    "perek_names_one = []\n",
    "for name in perek_names:\n",
    "    if len(name.split())>1:     \n",
    "        perek_names_one.append(name.split()[0])\n",
    "        print(name.split()[0])\n",
    "    else:\n",
    "        perek_names_one.append(name)\n",
    "        print(\"\\t|\"+name)"
   ],
   "metadata": {
    "collapsed": false
   },
   "id": "c8f909b75b918ea2"
  },
  {
   "cell_type": "code",
   "execution_count": null,
   "outputs": [],
   "source": [
    "def get_left_perek_neighbors(dist):\n",
    "    results = []\n",
    "    for name in rashi_masechtot:\n",
    "        file = get_rashi_file(name)\n",
    "        if file:\n",
    "            for d in range(len(file['text'])):\n",
    "                for l in range(len(file['text'][d])):\n",
    "                    for c in range(len(file['text'][d][l])):\n",
    "                        # cont = query(file['text'][d][l][c])\n",
    "                        if \"בפרק \" in  file['text'][d][l][c]:\n",
    "                            strs= file['text'][d][l][c].split(\"בפרק\") \n",
    "                            words = file['text'][d][l][c].split()\n",
    "                            words1= [strs[0].split(),strs[1].split()]\n",
    "                            # if len(words1[1])>1 and len(words1[0])>1 and (words[len(words)-1] != words1[1][0]) :\n",
    "                            #     if words1[1]:  # Check if words1[1] is not empty\n",
    "                            #         words1[1][0] = words1[0][-1].join(strs[1][0]) if words1[0] else \"\"  # Check if words1[0] is not empty before accessing its last element\n",
    "                            #     if words1[0]:  # Check if words1[0] is not empty\n",
    "                            #         words1[0] = words1[0][:-1]\n",
    "                            if len(words1[1])>dist:\n",
    "                                neighbor = \"\".join(words1[1][:dist])\n",
    "                                if neighbor not in perek_names_one and neighbor not in numbers:\n",
    "                                    results.append(\"\".join(words1[1][:dist]))\n",
    "    # map to frequency\n",
    "    res_set = set(results)\n",
    "    freq = {}\n",
    "    for res in res_set:\n",
    "        freq[res] = results.count(res)\n",
    "    freq = sorted(freq.items(), key=lambda x: x[1], reverse=True)\n",
    "    return  freq"
   ],
   "metadata": {
    "collapsed": false
   },
   "id": "3801d2b19219ec0e"
  },
  {
   "cell_type": "code",
   "execution_count": null,
   "outputs": [],
   "source": [
    "perek_left_results = get_left_perek_neighbors(1)"
   ],
   "metadata": {
    "collapsed": false
   },
   "id": "925b23865d257eca"
  },
  {
   "cell_type": "code",
   "execution_count": null,
   "outputs": [],
   "source": [
    "for name in perek_names:\n",
    "    if \"\\\"\" in name:\n",
    "        print(name)\n",
    "print(\"----------------\")\n",
    "for name in perek_names_one:\n",
    "    if \"\\\"\" in name:\n",
    "        print(name)"
   ],
   "metadata": {
    "collapsed": false
   },
   "id": "66f6156c245b1382"
  },
  {
   "cell_type": "code",
   "execution_count": null,
   "outputs": [],
   "source": [
    "for name in perek_names:\n",
    "    if \"בנות\" in name:\n",
    "        print(name)\n",
    "print(\"----------------\")\n",
    "for name in perek_names_one:\n",
    "    if \"בנות\" in name:\n",
    "        print(name)"
   ],
   "metadata": {
    "collapsed": false
   },
   "id": "6c50f2cdc585b373"
  },
  {
   "cell_type": "code",
   "execution_count": null,
   "outputs": [],
   "source": [
    "perek_left_results"
   ],
   "metadata": {
    "collapsed": false
   },
   "id": "c29a38dfc7894c34"
  },
  {
   "cell_type": "markdown",
   "source": [
    "Odd that some are showing up here, like ב\"ש, אע\"פ, and בנות כותים."
   ],
   "metadata": {
    "collapsed": false
   },
   "id": "14882d72fd9700f8"
  },
  {
   "cell_type": "code",
   "execution_count": null,
   "outputs": [],
   "source": [
    "def get_results(query):\n",
    "    results = []\n",
    "    for file in os.listdir(rashi_dir):\n",
    "        if file == '.DS_Store.json':\n",
    "            continue\n",
    "        name = file.split(' - ')[0][9:-5]\n",
    "        print(name,end='\\t')\n",
    "        with open(rashi_dir+\"/\"+file) as f:\n",
    "            data = json.load(f)\n",
    "            for daf,d in zip(data['text'],range(len(data['text']))):\n",
    "                for line,l in zip(daf,range(len(daf))):\n",
    "                    for comment,c in zip(line,range(len(line))):\n",
    "                        cont = query(comment)\n",
    "                        if cont:\n",
    "                            results.append([name,d,c,cont,comment])\n",
    "    return results\n",
    "def contains_perek(text):\n",
    "    for name in perek_names:\n",
    "        if \"בפרק \"+name in text:\n",
    "            return name"
   ],
   "metadata": {
    "collapsed": false
   },
   "id": "7f288c473834f23e"
  },
  {
   "cell_type": "code",
   "execution_count": null,
   "outputs": [],
   "source": [
    "perek_results = get_results(contains_perek)\n",
    "perek_results_df = pd.DataFrame(perek_results,columns=[\"Masechet\",\"Daf\",\"Line\",\"Perek\",\"Comment\"])"
   ],
   "metadata": {
    "collapsed": false
   },
   "id": "f03a835e6e5c174d"
  },
  {
   "cell_type": "code",
   "execution_count": null,
   "outputs": [],
   "source": [
    "perek_results_df.to_csv(\"perek_results1.csv\")"
   ],
   "metadata": {
    "collapsed": false
   },
   "id": "dd65fd3938eba800"
  },
  {
   "cell_type": "markdown",
   "source": [
    "# Defining the queries\n",
    "Queries:\n",
    "דמסכת\n",
    "במסכת <שם\n",
    "בפרק <שם\n",
    "בפרק N\n",
    "בפרק <?> דמסכת\n",
    "במסכת <?> בפרק\t"
   ],
   "metadata": {
    "collapsed": false
   },
   "id": "4fc183b06aaebce"
  },
  {
   "cell_type": "code",
   "execution_count": null,
   "outputs": [],
   "source": [
    "def get_results(query):\n",
    "    results = []\n",
    "    for file in os.listdir(rashi_dir):\n",
    "        if file == '.DS_Store.json':\n",
    "            continue\n",
    "        name = file.split(' - ')[0][9:-5]\n",
    "        print(name,end='\\t')\n",
    "        with open(rashi_dir+\"/\"+file) as f:\n",
    "            data = json.load(f)\n",
    "            for daf,d in zip(data['text'],range(len(data['text']))):\n",
    "                for line,l in zip(daf,range(len(daf))):\n",
    "                    for comment,c in zip(line,range(len(line))):\n",
    "                        cont = query(comment)\n",
    "                        if cont:\n",
    "                            results.append([name,d,c,cont,comment])\n",
    "    return results\n",
    "\n",
    "\n",
    "def contains_masechet(text):\n",
    "    results= None\n",
    "    for masechet in masechtot_bavli:\n",
    "        if \"ב\"+masechet in text or \"במסכת \"+masechet in text or \"ד\"+masechet in text:\n",
    "            if results:\n",
    "                results+=\", \"\n",
    "                # print(\"Multi\")\n",
    "            else:\n",
    "                results=\"\"\n",
    "            results+=masechet\n",
    "    return results\n",
    "\n",
    "def contains_number(text):\n",
    "    for num in numbers:\n",
    "        if \"בפרק \"+num in text:\n",
    "            return \"בפרק \"+num\n",
    "    return None\n",
    "\n",
    "def contains_perek(text):\n",
    "    for name in perek_names:\n",
    "        if \"ב\"+name in text or \"בפרק \"+name in text:\n",
    "            return name\n",
    "\n",
    "def contains_masechet_bPerek(text):\n",
    "    results= None\n",
    "    for masechet in masechtot_bavli:\n",
    "        if masechet+\" בפרק\" in text:\n",
    "            if results:\n",
    "                results+=\", \"\n",
    "            else:\n",
    "                results=\"\"    \n",
    "            results+=masechet\n",
    "        else:\n",
    "            for name in perek_names:\n",
    "                if masechet+\"ב\"+name in text:\n",
    "                    if results:\n",
    "                        results+=\", \"\n",
    "                        # print(\"Multi\")\n",
    "                    else:\n",
    "                        results=\"\"\n",
    "                    results+=  masechet+\"ב\"+name\n",
    "    return results\n",
    "\n",
    "def contains_perek_Dmasechet(text):\n",
    "    results= None\n",
    "    for masechet in masechtot_bavli:\n",
    "        if \"ד\"+masechet in text and \"פרק\" in text:\n",
    "            if results:\n",
    "                results+=\", \"\n",
    "                # print(\"Multi\")\n",
    "            else:\n",
    "                results=\"\"\n",
    "            results+=masechet\n",
    "    return results"
   ],
   "metadata": {
    "collapsed": false
   },
   "id": "7007889419075cd7"
  },
  {
   "cell_type": "code",
   "execution_count": 56,
   "outputs": [
    {
     "name": "stdout",
     "output_type": "stream",
     "text": [
      "Bava Kamma\tSanhedrin\tBava Batra\tAvodah Zarah\tMakkot\tYevamot\tKiddushin\tNiddah\tPesachim\tMenachot\tSukkah\tYoma\tSotah\tShevuot\tTemurah\tGittin\tBekhorot\tBerakhot\tArakhin\tChullin\tRosh Hashanah\tKetubot\tZevachim\tMegillah\tBeitzah\tShabbat\tEruvin\tBava Metzia\tChagigah\tKeritot\tBava Kamma\tSanhedrin\tBava Batra\tAvodah Zarah\tMakkot\tYevamot\tKiddushin\tNiddah\tPesachim\tMenachot\tSukkah\tYoma\tSotah\tShevuot\tTemurah\tGittin\tBekhorot\tBerakhot\tArakhin\tChullin\tRosh Hashanah\tKetubot\tZevachim\tMegillah\tBeitzah\tShabbat\tEruvin\tBava Metzia\tChagigah\tKeritot\tBava Kamma\tSanhedrin\tBava Batra\tAvodah Zarah\tMakkot\tYevamot\tKiddushin\tNiddah\tPesachim\tMenachot\tSukkah\tYoma\tSotah\tShevuot\tTemurah\tGittin\tBekhorot\tBerakhot\tArakhin\tChullin\tRosh Hashanah\tKetubot\tZevachim\tMegillah\tBeitzah\tShabbat\tEruvin\tBava Metzia\tChagigah\tKeritot\t"
     ]
    }
   ],
   "source": [
    "masechet_results = get_results(contains_masechet)\n",
    "masechet_bPerek_results = get_results(contains_masechet_bPerek)\n",
    "masechet_Dperek_results = get_results(contains_perek_Dmasechet)\n",
    "\n",
    "masechet_results_df = pd.DataFrame(masechet_results,columns=[\"Masechet\",\"Daf\",\"Line\",\"References\",\"Comment\"])\n",
    "masechet_bPerek_results_df = pd.DataFrame(masechet_bPerek_results,columns=[\"Masechet\",\"Daf\",\"Line\",\"References\",\"Comment\"])\n",
    "masechet_Dperek_results_df = pd.DataFrame(masechet_Dperek_results,columns=[\"Masechet\",\"Daf\",\"Line\",\"References\",\"Comment\"])"
   ],
   "metadata": {
    "collapsed": false,
    "ExecuteTime": {
     "end_time": "2024-04-22T18:34:19.624097Z",
     "start_time": "2024-04-22T18:25:00.502093Z"
    }
   },
   "id": "2127d3db3a446f7b"
  },
  {
   "cell_type": "code",
   "execution_count": 49,
   "outputs": [
    {
     "name": "stdout",
     "output_type": "stream",
     "text": [
      "5292\n",
      "4842\n"
     ]
    }
   ],
   "source": [
    "print(len(masechet_results))\n",
    "# filter out double results (in perek/masechet but also in bperek_bmasechet or bperek_dmasechet))\n",
    "text_set = set(masechet_bPerek_results_df['Comment'].unique())\n",
    "text_set.update(masechet_Dperek_results_df['Comment'].unique())\n",
    "masechet_results_df = masechet_results_df[~masechet_results_df.Comment.isin(text_set)]\n",
    "print(len(masechet_results_df))"
   ],
   "metadata": {
    "collapsed": false,
    "ExecuteTime": {
     "end_time": "2024-04-22T18:23:12.381532Z",
     "start_time": "2024-04-22T18:23:12.376554Z"
    }
   },
   "id": "965ce122761910db"
  },
  {
   "cell_type": "code",
   "execution_count": 57,
   "outputs": [
    {
     "name": "stdout",
     "output_type": "stream",
     "text": [
      "Bava Kamma\tSanhedrin\tBava Batra\tAvodah Zarah\tMakkot\tYevamot\tKiddushin\tNiddah\tPesachim\tMenachot\tSukkah\tYoma\tSotah\tShevuot\tTemurah\tGittin\tBekhorot\tBerakhot\tArakhin\tChullin\tRosh Hashanah\tKetubot\tZevachim\tMegillah\tBeitzah\tShabbat\tEruvin\tBava Metzia\tChagigah\tKeritot\tBava Kamma\tSanhedrin\tBava Batra\tAvodah Zarah\tMakkot\tYevamot\tKiddushin\tNiddah\tPesachim\tMenachot\tSukkah\tYoma\tSotah\tShevuot\tTemurah\tGittin\tBekhorot\tBerakhot\tArakhin\tChullin\tRosh Hashanah\tKetubot\tZevachim\tMegillah\tBeitzah\tShabbat\tEruvin\tBava Metzia\tChagigah\tKeritot\t"
     ]
    }
   ],
   "source": [
    "perek_results = get_results(contains_perek)\n",
    "number_results = get_results(contains_number)\n",
    "number_results_df = pd.DataFrame(number_results,columns=[\"Masechet\",\"Daf\",\"Line\",\"References\",\"Comment\"])\n",
    "perek_results_df = pd.DataFrame(perek_results,columns=[\"Masechet\",\"Daf\",\"Line\",\"References\",\"Comment\"])"
   ],
   "metadata": {
    "collapsed": false,
    "ExecuteTime": {
     "end_time": "2024-04-22T18:34:39.462678Z",
     "start_time": "2024-04-22T18:34:19.623069Z"
    }
   },
   "id": "e0807c45cf71dd01"
  },
  {
   "cell_type": "code",
   "execution_count": null,
   "outputs": [],
   "source": [
    "print(len(perek_results))\n",
    "perek_results_df = perek_results_df[~perek_results_df.Comment.isin(text_set)]\n",
    "print(len(perek_results_df))"
   ],
   "metadata": {
    "collapsed": false
   },
   "id": "2f33f6b1f0b1c512"
  },
  {
   "cell_type": "code",
   "execution_count": 46,
   "outputs": [
    {
     "name": "stdout",
     "output_type": "stream",
     "text": [
      "345 179\n",
      "Index(['Masechet', 'Daf', 'Line', 'Number', 'Comment'], dtype='object')\n",
      "179\n",
      "Masechet\n",
      "Zevachim         18\n",
      "Pesachim         15\n",
      "Eruvin           14\n",
      "Yevamot          12\n",
      "Keritot          10\n",
      "Ketubot           9\n",
      "Gittin            9\n",
      "Sanhedrin         9\n",
      "Chullin           8\n",
      "Yoma              7\n",
      "Berakhot          7\n",
      "Temurah           6\n",
      "Menachot          5\n",
      "Bekhorot          5\n",
      "Kiddushin         5\n",
      "Shevuot           5\n",
      "Sotah             4\n",
      "Bava Metzia       4\n",
      "Avodah Zarah      4\n",
      "Shabbat           3\n",
      "Sukkah            3\n",
      "Niddah            3\n",
      "Arakhin           3\n",
      "Bava Batra        2\n",
      "Rosh Hashanah     2\n",
      "Beitzah           2\n",
      "Makkot            2\n",
      "Bava Kamma        2\n",
      "Megillah          1\n",
      "Name: count, dtype: int64\n"
     ]
    }
   ],
   "source": [
    "print(len(number_results),len(number_results_df))\n",
    "number_results_df = number_results_df[~number_results_df.Comment.isin(text_set)]\n",
    "print(len(number_results_df))"
   ],
   "metadata": {
    "collapsed": false,
    "ExecuteTime": {
     "end_time": "2024-04-22T18:21:44.926414Z",
     "start_time": "2024-04-22T18:21:44.904656Z"
    }
   },
   "id": "fb19b386465c555c"
  },
  {
   "cell_type": "markdown",
   "source": [
    "# Results"
   ],
   "metadata": {
    "collapsed": false
   },
   "id": "815758f293e42ae0"
  },
  {
   "cell_type": "code",
   "execution_count": null,
   "outputs": [],
   "source": [
    "# Save output\n",
    "masechet_results_df.to_csv(\"/Users/ephraimmeiri/gitEtc/Rashi Thesis work/references subproject/results/masechet_results.csv\")\n",
    "number_results_df.to_csv(\"/Users/ephraimmeiri/gitEtc/Rashi Thesis work/references subproject/results/number_results.csv\")\n",
    "perek_results_df.to_csv(\"/Users/ephraimmeiri/gitEtc/Rashi Thesis work/references subproject/results/perek_results.csv\")\n",
    "masechet_bPerek_results_df.to_csv(\"/Users/ephraimmeiri/gitEtc/Rashi Thesis work/references subproject/results/masechet_bPerek_results.csv\")\n",
    "masechet_Dperek_results_df.to_csv(\"/Users/ephraimmeiri/gitEtc/Rashi Thesis work/references subproject/results/masechet_Dperek_results.csv\")"
   ],
   "metadata": {
    "collapsed": false
   },
   "id": "d89a3ec1c6a59bf2"
  },
  {
   "cell_type": "code",
   "execution_count": 58,
   "outputs": [],
   "source": [
    "comparison_df = pd.concat([masechet_results_df['Masechet'].value_counts(),\n",
    "                           perek_results_df['Masechet'].value_counts(),\n",
    "                           number_results_df['Masechet'].value_counts(),\n",
    "                           masechet_Dperek_results_df['Masechet'].value_counts(),\n",
    "                           masechet_bPerek_results_df['Masechet'].value_counts()],\n",
    "                           axis=1,sort=False,\n",
    "                           keys=['Masechet','Perek','Number','Perek_Dmasechet','Masechet_bPerek'])\n",
    "comparison_df['masechet/perek']= ((comparison_df['Masechet'])/\n",
    "                                  (comparison_df['Perek']+comparison_df['Number']))"
   ],
   "metadata": {
    "collapsed": false,
    "ExecuteTime": {
     "end_time": "2024-04-22T18:34:39.464557Z",
     "start_time": "2024-04-22T18:34:39.454895Z"
    }
   },
   "id": "6988cb100d1e4fb0"
  },
  {
   "cell_type": "code",
   "execution_count": 60,
   "outputs": [
    {
     "data": {
      "text/plain": "               Masechet  Perek  Number  Perek_Dmasechet  Masechet_bPerek  \\\nMasechet                                                                   \nShabbat             554    233      15              9.0               14   \nPesachim            383    234      31             18.0               29   \nChullin             337    236      26             15.0               26   \nZevachim            300    254      28              8.0               20   \nEruvin              264    152      25             11.0               15   \nSukkah              230    155       7              4.0                1   \nKetubot             229    115      12              2.0               15   \nKiddushin           215     79       7              3.0                7   \nMenachot            207    132      10              7.0               24   \nYoma                202    131      12              4.0               11   \nSanhedrin           196    166      12              5.0                6   \nYevamot             195    144      15              4.0                9   \nGittin              180    123      13              3.0                8   \nBeitzah             151    100       5              2.0                3   \nBava Kamma          141    182      12              8.0               12   \nBava Metzia         140    154       8              2.0                9   \nSotah               137     61       7              3.0                6   \nBerakhot            133     73       9              3.0                8   \nNiddah              120     93       5              2.0                6   \nTemurah             117     55      13              9.0               13   \nAvodah Zarah        116     88       5              2.0                4   \nBekhorot            111     82      10              5.0               24   \nKeritot             108     60      19              6.0               24   \nShevuot             107     52      11              4.0               16   \nRosh Hashanah       101     32       6              3.0                2   \nMegillah             97     37       5              2.0                4   \nArakhin              94     44      10              7.0                4   \nChagigah             56     26       1              NaN                4   \nMakkot               39     22       3              1.0                2   \nBava Batra           32     29       3              1.0                1   \n\n               masechet/perek  \nMasechet                       \nShabbat              2.233871  \nPesachim             1.445283  \nChullin              1.286260  \nZevachim             1.063830  \nEruvin               1.491525  \nSukkah               1.419753  \nKetubot              1.803150  \nKiddushin            2.500000  \nMenachot             1.457746  \nYoma                 1.412587  \nSanhedrin            1.101124  \nYevamot              1.226415  \nGittin               1.323529  \nBeitzah              1.438095  \nBava Kamma           0.726804  \nBava Metzia          0.864198  \nSotah                2.014706  \nBerakhot             1.621951  \nNiddah               1.224490  \nTemurah              1.720588  \nAvodah Zarah         1.247312  \nBekhorot             1.206522  \nKeritot              1.367089  \nShevuot              1.698413  \nRosh Hashanah        2.657895  \nMegillah             2.309524  \nArakhin              1.740741  \nChagigah             2.074074  \nMakkot               1.560000  \nBava Batra           1.000000  ",
      "text/html": "<div>\n<style scoped>\n    .dataframe tbody tr th:only-of-type {\n        vertical-align: middle;\n    }\n\n    .dataframe tbody tr th {\n        vertical-align: top;\n    }\n\n    .dataframe thead th {\n        text-align: right;\n    }\n</style>\n<table border=\"1\" class=\"dataframe\">\n  <thead>\n    <tr style=\"text-align: right;\">\n      <th></th>\n      <th>Masechet</th>\n      <th>Perek</th>\n      <th>Number</th>\n      <th>Perek_Dmasechet</th>\n      <th>Masechet_bPerek</th>\n      <th>masechet/perek</th>\n    </tr>\n    <tr>\n      <th>Masechet</th>\n      <th></th>\n      <th></th>\n      <th></th>\n      <th></th>\n      <th></th>\n      <th></th>\n    </tr>\n  </thead>\n  <tbody>\n    <tr>\n      <th>Shabbat</th>\n      <td>554</td>\n      <td>233</td>\n      <td>15</td>\n      <td>9.0</td>\n      <td>14</td>\n      <td>2.233871</td>\n    </tr>\n    <tr>\n      <th>Pesachim</th>\n      <td>383</td>\n      <td>234</td>\n      <td>31</td>\n      <td>18.0</td>\n      <td>29</td>\n      <td>1.445283</td>\n    </tr>\n    <tr>\n      <th>Chullin</th>\n      <td>337</td>\n      <td>236</td>\n      <td>26</td>\n      <td>15.0</td>\n      <td>26</td>\n      <td>1.286260</td>\n    </tr>\n    <tr>\n      <th>Zevachim</th>\n      <td>300</td>\n      <td>254</td>\n      <td>28</td>\n      <td>8.0</td>\n      <td>20</td>\n      <td>1.063830</td>\n    </tr>\n    <tr>\n      <th>Eruvin</th>\n      <td>264</td>\n      <td>152</td>\n      <td>25</td>\n      <td>11.0</td>\n      <td>15</td>\n      <td>1.491525</td>\n    </tr>\n    <tr>\n      <th>Sukkah</th>\n      <td>230</td>\n      <td>155</td>\n      <td>7</td>\n      <td>4.0</td>\n      <td>1</td>\n      <td>1.419753</td>\n    </tr>\n    <tr>\n      <th>Ketubot</th>\n      <td>229</td>\n      <td>115</td>\n      <td>12</td>\n      <td>2.0</td>\n      <td>15</td>\n      <td>1.803150</td>\n    </tr>\n    <tr>\n      <th>Kiddushin</th>\n      <td>215</td>\n      <td>79</td>\n      <td>7</td>\n      <td>3.0</td>\n      <td>7</td>\n      <td>2.500000</td>\n    </tr>\n    <tr>\n      <th>Menachot</th>\n      <td>207</td>\n      <td>132</td>\n      <td>10</td>\n      <td>7.0</td>\n      <td>24</td>\n      <td>1.457746</td>\n    </tr>\n    <tr>\n      <th>Yoma</th>\n      <td>202</td>\n      <td>131</td>\n      <td>12</td>\n      <td>4.0</td>\n      <td>11</td>\n      <td>1.412587</td>\n    </tr>\n    <tr>\n      <th>Sanhedrin</th>\n      <td>196</td>\n      <td>166</td>\n      <td>12</td>\n      <td>5.0</td>\n      <td>6</td>\n      <td>1.101124</td>\n    </tr>\n    <tr>\n      <th>Yevamot</th>\n      <td>195</td>\n      <td>144</td>\n      <td>15</td>\n      <td>4.0</td>\n      <td>9</td>\n      <td>1.226415</td>\n    </tr>\n    <tr>\n      <th>Gittin</th>\n      <td>180</td>\n      <td>123</td>\n      <td>13</td>\n      <td>3.0</td>\n      <td>8</td>\n      <td>1.323529</td>\n    </tr>\n    <tr>\n      <th>Beitzah</th>\n      <td>151</td>\n      <td>100</td>\n      <td>5</td>\n      <td>2.0</td>\n      <td>3</td>\n      <td>1.438095</td>\n    </tr>\n    <tr>\n      <th>Bava Kamma</th>\n      <td>141</td>\n      <td>182</td>\n      <td>12</td>\n      <td>8.0</td>\n      <td>12</td>\n      <td>0.726804</td>\n    </tr>\n    <tr>\n      <th>Bava Metzia</th>\n      <td>140</td>\n      <td>154</td>\n      <td>8</td>\n      <td>2.0</td>\n      <td>9</td>\n      <td>0.864198</td>\n    </tr>\n    <tr>\n      <th>Sotah</th>\n      <td>137</td>\n      <td>61</td>\n      <td>7</td>\n      <td>3.0</td>\n      <td>6</td>\n      <td>2.014706</td>\n    </tr>\n    <tr>\n      <th>Berakhot</th>\n      <td>133</td>\n      <td>73</td>\n      <td>9</td>\n      <td>3.0</td>\n      <td>8</td>\n      <td>1.621951</td>\n    </tr>\n    <tr>\n      <th>Niddah</th>\n      <td>120</td>\n      <td>93</td>\n      <td>5</td>\n      <td>2.0</td>\n      <td>6</td>\n      <td>1.224490</td>\n    </tr>\n    <tr>\n      <th>Temurah</th>\n      <td>117</td>\n      <td>55</td>\n      <td>13</td>\n      <td>9.0</td>\n      <td>13</td>\n      <td>1.720588</td>\n    </tr>\n    <tr>\n      <th>Avodah Zarah</th>\n      <td>116</td>\n      <td>88</td>\n      <td>5</td>\n      <td>2.0</td>\n      <td>4</td>\n      <td>1.247312</td>\n    </tr>\n    <tr>\n      <th>Bekhorot</th>\n      <td>111</td>\n      <td>82</td>\n      <td>10</td>\n      <td>5.0</td>\n      <td>24</td>\n      <td>1.206522</td>\n    </tr>\n    <tr>\n      <th>Keritot</th>\n      <td>108</td>\n      <td>60</td>\n      <td>19</td>\n      <td>6.0</td>\n      <td>24</td>\n      <td>1.367089</td>\n    </tr>\n    <tr>\n      <th>Shevuot</th>\n      <td>107</td>\n      <td>52</td>\n      <td>11</td>\n      <td>4.0</td>\n      <td>16</td>\n      <td>1.698413</td>\n    </tr>\n    <tr>\n      <th>Rosh Hashanah</th>\n      <td>101</td>\n      <td>32</td>\n      <td>6</td>\n      <td>3.0</td>\n      <td>2</td>\n      <td>2.657895</td>\n    </tr>\n    <tr>\n      <th>Megillah</th>\n      <td>97</td>\n      <td>37</td>\n      <td>5</td>\n      <td>2.0</td>\n      <td>4</td>\n      <td>2.309524</td>\n    </tr>\n    <tr>\n      <th>Arakhin</th>\n      <td>94</td>\n      <td>44</td>\n      <td>10</td>\n      <td>7.0</td>\n      <td>4</td>\n      <td>1.740741</td>\n    </tr>\n    <tr>\n      <th>Chagigah</th>\n      <td>56</td>\n      <td>26</td>\n      <td>1</td>\n      <td>NaN</td>\n      <td>4</td>\n      <td>2.074074</td>\n    </tr>\n    <tr>\n      <th>Makkot</th>\n      <td>39</td>\n      <td>22</td>\n      <td>3</td>\n      <td>1.0</td>\n      <td>2</td>\n      <td>1.560000</td>\n    </tr>\n    <tr>\n      <th>Bava Batra</th>\n      <td>32</td>\n      <td>29</td>\n      <td>3</td>\n      <td>1.0</td>\n      <td>1</td>\n      <td>1.000000</td>\n    </tr>\n  </tbody>\n</table>\n</div>"
     },
     "execution_count": 60,
     "metadata": {},
     "output_type": "execute_result"
    }
   ],
   "source": [
    "comparison_df"
   ],
   "metadata": {
    "collapsed": false,
    "ExecuteTime": {
     "end_time": "2024-04-22T18:35:32.583035Z",
     "start_time": "2024-04-22T18:35:32.565024Z"
    }
   },
   "id": "6b3207b3127ecb07"
  },
  {
   "cell_type": "code",
   "execution_count": null,
   "outputs": [],
   "source": [],
   "metadata": {
    "collapsed": false
   },
   "id": "93a8553a620d85ea"
  }
 ],
 "metadata": {
  "kernelspec": {
   "display_name": "Python 3",
   "language": "python",
   "name": "python3"
  },
  "language_info": {
   "codemirror_mode": {
    "name": "ipython",
    "version": 2
   },
   "file_extension": ".py",
   "mimetype": "text/x-python",
   "name": "python",
   "nbconvert_exporter": "python",
   "pygments_lexer": "ipython2",
   "version": "2.7.6"
  }
 },
 "nbformat": 4,
 "nbformat_minor": 5
}
