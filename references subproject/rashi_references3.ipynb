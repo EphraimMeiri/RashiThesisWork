{
 "cells": [
  {
   "cell_type": "code",
   "execution_count": 38,
   "id": "initial_id",
   "metadata": {
    "collapsed": true,
    "ExecuteTime": {
     "end_time": "2024-05-27T15:14:11.626245Z",
     "start_time": "2024-05-27T15:14:11.597291Z"
    }
   },
   "outputs": [],
   "source": [
    "import re\n",
    "\n",
    "import pandas as pd\n",
    "import numpy as np\n",
    "import matplotlib.pyplot as plt\n",
    "import json\n",
    "import os"
   ]
  },
  {
   "cell_type": "code",
   "execution_count": 3,
   "outputs": [],
   "source": [
    "masechtot=[]\n",
    "with open('/Users/ephraimmeiri/gitEtc/Rashi Thesis work/references subproject/input/שמות מסכתות.txt') as f:\n",
    "    data = f.read()\n",
    "    masechtot = data.split(', ')\n",
    "    \n",
    "masechtot_bavli =[]\n",
    "with open('/Users/ephraimmeiri/gitEtc/Rashi Thesis work/references subproject/input/שמות מסכתות בבלי.txt') as f:\n",
    "    data = f.read()\n",
    "    masechtot_bavli = data.split(', ')\n",
    "\n",
    "perek_names = []\n",
    "with open('/Users/ephraimmeiri/gitEtc/Rashi Thesis work/references subproject/input/perakim_names1.txt') as f:\n",
    "    data = f.read()\n",
    "    perek_names = data.split(', ')\n",
    "perek_names2= []\n",
    "for name in perek_names:\n",
    "    if len(name.split())>1:     \n",
    "        if name.split()[0] == \"רבי\":\n",
    "            perek_names.append(\"ר' \".join(name.split()[1:]))\n",
    "    if \"\\\"\" in name:\n",
    "        perek_names2.append(name.replace(\"\\\"\",\"\\\\\\\"\"))\n",
    "for name in perek_names2:\n",
    "    perek_names.append(name)\n",
    "\n",
    "perek_names_bavli = []\n",
    "with open('/Users/ephraimmeiri/gitEtc/Rashi Thesis work/references subproject/input/perakim_names_Bavli.txt') as f:\n",
    "    data = f.read()\n",
    "    perek_names_bavli = data.split(', ')\n",
    "    \n",
    "pirkei_mishna=[]\n",
    "with open(\"/Users/ephraimmeiri/gitEtc/Rashi Thesis work/references subproject/input/perakim_names_MishnaOnly.txt\",'r') as f:\n",
    "    data = f.read()\n",
    "    pirkei_mishna = data.split(', ')\n",
    "    \n",
    "numbers = [\"קמא\",\"אחרון\",\"בתרא\",\"עשירי\",\"תשיעי\",\"שמיני\",\"שביעי\",\"ששי\",\"חמישי\",\"דביעי\",\"שלישי\",\"שני\",\"ראשון\"]\n",
    "for letter in [\"י\",\"ט\",\"ח\",\"ז\",\"ו\",\"ה\",\"ד\",\"ג\",\"ב\",\"א\"]:\n",
    "        numbers.append(letter+\"'\")\n",
    "        numbers.append(\"י\\\"\"+letter)\n",
    "        numbers.append(\"כ\\\"\"+letter)\n",
    "rashi_dir= '/Users/ephraimmeiri/gitEtc/Rashi Thesis work/Rashi plaintext/json filtered'\n",
    "\n",
    "rashi_masechtot = ['Arakhin', 'Bekhorot', 'Chullin', 'Keritot', 'Menachot', 'Temurah', 'Zevachim', 'Beitzah', 'Chagigah', 'Eruvin', 'Pesachim', 'Megillah', 'Rosh Hashanah', 'Shabbat', 'Sukkah', 'Yoma', 'Gittin', 'Ketubot', 'Kiddushin', 'Sotah', 'Yevamot', 'Bava Batra', 'Bava Kamma', 'Bava Metzia', 'Avodah Zarah', 'Makkot', 'Sanhedrin', 'Shevuot', 'Niddah', 'Berakhot']"
   ],
   "metadata": {
    "collapsed": false,
    "ExecuteTime": {
     "end_time": "2024-05-23T20:10:35.279436Z",
     "start_time": "2024-05-23T20:10:35.271564Z"
    }
   },
   "id": "31484471b13cc4f8"
  },
  {
   "cell_type": "code",
   "execution_count": 28,
   "outputs": [],
   "source": [
    "def get_rashi_file(masechet):\n",
    "    masechet = masechet.replace(\"%20\",\" \")\n",
    "    file = rashi_dir+\"/Rashi on \"+masechet+\".json\"\n",
    "    if os.path.exists(file):\n",
    "        with open(file) as f:\n",
    "            data = json.load(f)\n",
    "            return data\n",
    "    else:\n",
    "        return None\n",
    "\n",
    "def get_results(query):\n",
    "    results = []\n",
    "    for file in os.listdir(rashi_dir):\n",
    "        if file == '.DS_Store.json':\n",
    "            continue\n",
    "        name = file.split(' - ')[0][9:-5]\n",
    "        print(name,end='\\t')\n",
    "        with open(rashi_dir+\"/\"+file) as f:\n",
    "            data = json.load(f)\n",
    "            for daf,d in zip(data['text'],range(len(data['text']))):\n",
    "                for line,l in zip(daf,range(len(daf))):\n",
    "                    for comment,c in zip(line,range(len(line))):\n",
    "                        cont = query(comment)\n",
    "                        if cont:\n",
    "                            results.append([name,d,c,cont,comment])\n",
    "    return results\n",
    "\n",
    "def get_right_neighbors(query,dist):\n",
    "    results = []\n",
    "    for name in rashi_masechtot:\n",
    "        file = get_rashi_file(name)\n",
    "        if file:\n",
    "            for d in range(len(file['text'])):\n",
    "                for l in range(len(file['text'][d])):\n",
    "                    for c in range(len(file['text'][d][l])):\n",
    "                        cont = query(file['text'][d][l][c],name)\n",
    "                        if cont:\n",
    "                            for mas in cont.split(', '):\n",
    "                                strs= file['text'][d][l][c].split(mas) \n",
    "                                words = file['text'][d][l][c].split()\n",
    "                                words1= [strs[0].split(),strs[1].split()]\n",
    "                                if len(words1[1])>1 and len(words1[0])>1 and (words[len(words)-1] != words1[1][0]) :\n",
    "                                    if words1[1]:  # Check if words1[1] is not empty\n",
    "                                        words1[1][0] = words1[0][-1].join(strs[1][0]) if words1[0] else \"\"  # Check if words1[0] is not empty before accessing its last element\n",
    "                                    if words1[0]:  # Check if words1[0] is not empty\n",
    "                                        words1[0] = words1[0][:-1]\n",
    "                                if len(words1[0])>dist:\n",
    "                                    results.append(\"\".join(words1[0][-dist:]))\n",
    "    # map to frequency\n",
    "    res_set = set(results)\n",
    "    freq = {}\n",
    "    for res in res_set:\n",
    "        freq[res] = results.count(res)\n",
    "    freq = sorted(freq.items(), key=lambda x: x[1], reverse=True)\n",
    "    return  freq"
   ],
   "metadata": {
    "collapsed": false,
    "ExecuteTime": {
     "end_time": "2024-05-23T20:25:24.121222Z",
     "start_time": "2024-05-23T20:25:24.088612Z"
    }
   },
   "id": "cd639a44942da4c9"
  },
  {
   "cell_type": "markdown",
   "source": [
    "# Perakim 2, only external"
   ],
   "metadata": {
    "collapsed": false
   },
   "id": "40fc7ff2067c7cc8"
  },
  {
   "cell_type": "code",
   "execution_count": 22,
   "outputs": [],
   "source": [
    "new_name_df= pd.read_csv(\"/Users/ephraimmeiri/gitEtc/Rashi Thesis work/references subproject/input/PerakimByMaschetBavli.csv\",names=[\"English\",\"Masechet\",\"Perakim\"],index_col=False)"
   ],
   "metadata": {
    "collapsed": false,
    "ExecuteTime": {
     "end_time": "2024-05-23T20:22:05.013021Z",
     "start_time": "2024-05-23T20:22:04.990947Z"
    }
   },
   "id": "a5f2a6aee328adf2"
  },
  {
   "cell_type": "code",
   "execution_count": 5,
   "outputs": [
    {
     "data": {
      "text/plain": "           English             Masechet  \\\n0         Berakhot                ברכות   \n1         Shabbat                   שבת   \n2          Eruvin               עירובין   \n3        Pesachim                 פסחים   \n4   Rosh Hashanah          ראש השנה, רה   \n5            Yoma        יומא, סדר יומא   \n6          Sukkah                  סוכה   \n7         Beitzah                  ביצה   \n8          Taanit         תענית, תעניות   \n9        Megillah                 מגילה   \n10     Moed Katan       מועד קטן, משקין   \n11       Chagigah                 חגיגה   \n12        Yevamot                 יבמות   \n13        Ketubot                כתובות   \n14        Nedarim                 נדרים   \n15          Nazir                  נזיר   \n16          Sotah                  סוטה   \n17         Gittin                 גיטין   \n18      Kiddushin       קידושין, קדושין   \n19     Bava Kamma           בבא קמא, בק   \n20    Bava Metzia         בבא מציעא, במ   \n21     Bava Batra          בבא בתרא, בב   \n22      Sanhedrin               סנהדרין   \n23         Makkot                  מכות   \n24        Shevuot                שבועות   \n25   Avodah Zarah     עבודה זרה, עז, עא   \n26        Horayot                הוריות   \n27       Zevachim    זבחים, שחיטת קדשים   \n28       Menachot                 מנחות   \n29        Chullin    חולין, שחיטת חולין   \n30       Bekhorot                בכורות   \n31        Arakhin                 ערכין   \n32        Temurah                 תמורה   \n33        Keritot                כריתות   \n34         Meilah                 מעילה   \n35          Tamid                  תמיד   \n36          Niddah                  נדה   \n\n                                              Perakim  \n0   מאימתי, היה קורא, מי שמתו, תפילת השחר, אין עומ...  \n1   יציאות השבת, במה מדליקין, כירה, במה טומנין, במ...  \n2   מבוי שהוא גבוה, עושין פסין, בכל מערבין, מי שהו...  \n3   אור לארבעה עשר, כל שעה, אלו עוברין, ואלו עוברי...  \n4   ארבעה ראשי שנים, אם אינן מכירין, ראוהו בית דין...  \n5   שבעת ימים, בראשונה, אמר להם הממונה, טרף בקלפי,...  \n6   סוכה, הישן תחת המטה, לולב הגזול, לולב וערבה, ה...  \n7              ביצה, יום טוב, אין צדין, המביא, משילין  \n8   מאימתי, סדר תעניות כיצד, סדר תעניות אלו, פירקא...  \n9      מגילה נקראת, הקורא למפרע, הקורא עומד, בני העיר  \n10             משקין בית השלחין, מי שהפך, ואלו מגלחין  \n11                 הכל חייבין, אין דורשין, חומר בקודש  \n12  חמש עשרה נשים, כיצד, ארבעה אחין, החולץ ליבמתו,...  \n13  בתולה נשאת, האשה שנתארמלה, אלו נערות, נערה שנת...  \n14  כל כנויי, ואלו מותרין, ארבעה נדרים, אין בין המ...  \n15  כל כנויי נזירות, הריני נזיר, מי שאמר, מי שאמר,...  \n16  המקנא, היה מביא, היה נוטל, ארוסה, כשם שהמים, מ...  \n17  המביא גט, המביא גט, כל הגט, השולח, הניזקין, הא...  \n18          האשה נקנית, האיש מקדש, האומר, עשרה יוחסין  \n19  ארבעה אבות, כיצד הרגל, המניח, שור שנגח, שור שנ...  \n20  שנים אוחזין, אלו מציאות, המפקיד, הזהב, איזהו נ...  \n21  השותפין, לא יחפור, חזקת הבתים, המוכר את הבית, ...  \n22  דיני ממונות בשלשה, כהן גדול, זה בורר, דיני ממו...  \n23          כיצד העדים, אלו הן הגולין, ואלו הן הלוקין  \n24  שבועות שתים, ידיעות הטומאה, שבועות שתים, שבועת...  \n25  לפני אידיהן, אין מעמידין, כל הצלמים, רבי ישמעא...  \n26              הורו בית דין, הורה כהן משיח, כהן משיח  \n27  כל הזבחים, כל הזבחים שקבלו דמן, כל הפסולין, בי...  \n28  כל המנחות, הקומץ את המנחה, הקומץ רבה, התכלת, כ...  \n29  הכל שוחטין, השוחט, אלו טרפות, בהמה המקשה, אותו...  \n30  הלוקח עובר חמורו, הלוקח עובר פרתו, הלוקח בהמה,...  \n31  הכל מעריכין, אין נערכין, יש בערכין, השג יד, הא...  \n32  הכל ממירין, יש בקרבנות, אלו קדשים, ולד חטאת, כ...  \n33  שלשים ושש, ארבעה מחוסרי כפרה, אמרו לו, ספק אכל...  \n34  קדשי קדשים, חטאת העוף, ולד חטאת, קדשי מזבח, הנ...  \n35  בשלשה מקומות, ראוהו אחיו, אמר להם הממונה, לא ה...  \n36  שמאי, כל היד, המפלת חתיכה, בנות כותים, יוצא דו...  ",
      "text/html": "<div>\n<style scoped>\n    .dataframe tbody tr th:only-of-type {\n        vertical-align: middle;\n    }\n\n    .dataframe tbody tr th {\n        vertical-align: top;\n    }\n\n    .dataframe thead th {\n        text-align: right;\n    }\n</style>\n<table border=\"1\" class=\"dataframe\">\n  <thead>\n    <tr style=\"text-align: right;\">\n      <th></th>\n      <th>English</th>\n      <th>Masechet</th>\n      <th>Perakim</th>\n    </tr>\n  </thead>\n  <tbody>\n    <tr>\n      <th>0</th>\n      <td>Berakhot</td>\n      <td>ברכות</td>\n      <td>מאימתי, היה קורא, מי שמתו, תפילת השחר, אין עומ...</td>\n    </tr>\n    <tr>\n      <th>1</th>\n      <td>Shabbat</td>\n      <td>שבת</td>\n      <td>יציאות השבת, במה מדליקין, כירה, במה טומנין, במ...</td>\n    </tr>\n    <tr>\n      <th>2</th>\n      <td>Eruvin</td>\n      <td>עירובין</td>\n      <td>מבוי שהוא גבוה, עושין פסין, בכל מערבין, מי שהו...</td>\n    </tr>\n    <tr>\n      <th>3</th>\n      <td>Pesachim</td>\n      <td>פסחים</td>\n      <td>אור לארבעה עשר, כל שעה, אלו עוברין, ואלו עוברי...</td>\n    </tr>\n    <tr>\n      <th>4</th>\n      <td>Rosh Hashanah</td>\n      <td>ראש השנה, רה</td>\n      <td>ארבעה ראשי שנים, אם אינן מכירין, ראוהו בית דין...</td>\n    </tr>\n    <tr>\n      <th>5</th>\n      <td>Yoma</td>\n      <td>יומא, סדר יומא</td>\n      <td>שבעת ימים, בראשונה, אמר להם הממונה, טרף בקלפי,...</td>\n    </tr>\n    <tr>\n      <th>6</th>\n      <td>Sukkah</td>\n      <td>סוכה</td>\n      <td>סוכה, הישן תחת המטה, לולב הגזול, לולב וערבה, ה...</td>\n    </tr>\n    <tr>\n      <th>7</th>\n      <td>Beitzah</td>\n      <td>ביצה</td>\n      <td>ביצה, יום טוב, אין צדין, המביא, משילין</td>\n    </tr>\n    <tr>\n      <th>8</th>\n      <td>Taanit</td>\n      <td>תענית, תעניות</td>\n      <td>מאימתי, סדר תעניות כיצד, סדר תעניות אלו, פירקא...</td>\n    </tr>\n    <tr>\n      <th>9</th>\n      <td>Megillah</td>\n      <td>מגילה</td>\n      <td>מגילה נקראת, הקורא למפרע, הקורא עומד, בני העיר</td>\n    </tr>\n    <tr>\n      <th>10</th>\n      <td>Moed Katan</td>\n      <td>מועד קטן, משקין</td>\n      <td>משקין בית השלחין, מי שהפך, ואלו מגלחין</td>\n    </tr>\n    <tr>\n      <th>11</th>\n      <td>Chagigah</td>\n      <td>חגיגה</td>\n      <td>הכל חייבין, אין דורשין, חומר בקודש</td>\n    </tr>\n    <tr>\n      <th>12</th>\n      <td>Yevamot</td>\n      <td>יבמות</td>\n      <td>חמש עשרה נשים, כיצד, ארבעה אחין, החולץ ליבמתו,...</td>\n    </tr>\n    <tr>\n      <th>13</th>\n      <td>Ketubot</td>\n      <td>כתובות</td>\n      <td>בתולה נשאת, האשה שנתארמלה, אלו נערות, נערה שנת...</td>\n    </tr>\n    <tr>\n      <th>14</th>\n      <td>Nedarim</td>\n      <td>נדרים</td>\n      <td>כל כנויי, ואלו מותרין, ארבעה נדרים, אין בין המ...</td>\n    </tr>\n    <tr>\n      <th>15</th>\n      <td>Nazir</td>\n      <td>נזיר</td>\n      <td>כל כנויי נזירות, הריני נזיר, מי שאמר, מי שאמר,...</td>\n    </tr>\n    <tr>\n      <th>16</th>\n      <td>Sotah</td>\n      <td>סוטה</td>\n      <td>המקנא, היה מביא, היה נוטל, ארוסה, כשם שהמים, מ...</td>\n    </tr>\n    <tr>\n      <th>17</th>\n      <td>Gittin</td>\n      <td>גיטין</td>\n      <td>המביא גט, המביא גט, כל הגט, השולח, הניזקין, הא...</td>\n    </tr>\n    <tr>\n      <th>18</th>\n      <td>Kiddushin</td>\n      <td>קידושין, קדושין</td>\n      <td>האשה נקנית, האיש מקדש, האומר, עשרה יוחסין</td>\n    </tr>\n    <tr>\n      <th>19</th>\n      <td>Bava Kamma</td>\n      <td>בבא קמא, בק</td>\n      <td>ארבעה אבות, כיצד הרגל, המניח, שור שנגח, שור שנ...</td>\n    </tr>\n    <tr>\n      <th>20</th>\n      <td>Bava Metzia</td>\n      <td>בבא מציעא, במ</td>\n      <td>שנים אוחזין, אלו מציאות, המפקיד, הזהב, איזהו נ...</td>\n    </tr>\n    <tr>\n      <th>21</th>\n      <td>Bava Batra</td>\n      <td>בבא בתרא, בב</td>\n      <td>השותפין, לא יחפור, חזקת הבתים, המוכר את הבית, ...</td>\n    </tr>\n    <tr>\n      <th>22</th>\n      <td>Sanhedrin</td>\n      <td>סנהדרין</td>\n      <td>דיני ממונות בשלשה, כהן גדול, זה בורר, דיני ממו...</td>\n    </tr>\n    <tr>\n      <th>23</th>\n      <td>Makkot</td>\n      <td>מכות</td>\n      <td>כיצד העדים, אלו הן הגולין, ואלו הן הלוקין</td>\n    </tr>\n    <tr>\n      <th>24</th>\n      <td>Shevuot</td>\n      <td>שבועות</td>\n      <td>שבועות שתים, ידיעות הטומאה, שבועות שתים, שבועת...</td>\n    </tr>\n    <tr>\n      <th>25</th>\n      <td>Avodah Zarah</td>\n      <td>עבודה זרה, עז, עא</td>\n      <td>לפני אידיהן, אין מעמידין, כל הצלמים, רבי ישמעא...</td>\n    </tr>\n    <tr>\n      <th>26</th>\n      <td>Horayot</td>\n      <td>הוריות</td>\n      <td>הורו בית דין, הורה כהן משיח, כהן משיח</td>\n    </tr>\n    <tr>\n      <th>27</th>\n      <td>Zevachim</td>\n      <td>זבחים, שחיטת קדשים</td>\n      <td>כל הזבחים, כל הזבחים שקבלו דמן, כל הפסולין, בי...</td>\n    </tr>\n    <tr>\n      <th>28</th>\n      <td>Menachot</td>\n      <td>מנחות</td>\n      <td>כל המנחות, הקומץ את המנחה, הקומץ רבה, התכלת, כ...</td>\n    </tr>\n    <tr>\n      <th>29</th>\n      <td>Chullin</td>\n      <td>חולין, שחיטת חולין</td>\n      <td>הכל שוחטין, השוחט, אלו טרפות, בהמה המקשה, אותו...</td>\n    </tr>\n    <tr>\n      <th>30</th>\n      <td>Bekhorot</td>\n      <td>בכורות</td>\n      <td>הלוקח עובר חמורו, הלוקח עובר פרתו, הלוקח בהמה,...</td>\n    </tr>\n    <tr>\n      <th>31</th>\n      <td>Arakhin</td>\n      <td>ערכין</td>\n      <td>הכל מעריכין, אין נערכין, יש בערכין, השג יד, הא...</td>\n    </tr>\n    <tr>\n      <th>32</th>\n      <td>Temurah</td>\n      <td>תמורה</td>\n      <td>הכל ממירין, יש בקרבנות, אלו קדשים, ולד חטאת, כ...</td>\n    </tr>\n    <tr>\n      <th>33</th>\n      <td>Keritot</td>\n      <td>כריתות</td>\n      <td>שלשים ושש, ארבעה מחוסרי כפרה, אמרו לו, ספק אכל...</td>\n    </tr>\n    <tr>\n      <th>34</th>\n      <td>Meilah</td>\n      <td>מעילה</td>\n      <td>קדשי קדשים, חטאת העוף, ולד חטאת, קדשי מזבח, הנ...</td>\n    </tr>\n    <tr>\n      <th>35</th>\n      <td>Tamid</td>\n      <td>תמיד</td>\n      <td>בשלשה מקומות, ראוהו אחיו, אמר להם הממונה, לא ה...</td>\n    </tr>\n    <tr>\n      <th>36</th>\n      <td>Niddah</td>\n      <td>נדה</td>\n      <td>שמאי, כל היד, המפלת חתיכה, בנות כותים, יוצא דו...</td>\n    </tr>\n  </tbody>\n</table>\n</div>"
     },
     "execution_count": 5,
     "metadata": {},
     "output_type": "execute_result"
    }
   ],
   "source": [
    "new_name_df"
   ],
   "metadata": {
    "collapsed": false,
    "ExecuteTime": {
     "end_time": "2024-05-23T20:10:47.811045Z",
     "start_time": "2024-05-23T20:10:47.783949Z"
    }
   },
   "id": "b42c6e947fb3ba66"
  },
  {
   "cell_type": "code",
   "execution_count": 6,
   "outputs": [
    {
     "data": {
      "text/plain": "    English Masechet                                            Perakim\n0  Berakhot    ברכות  מאימתי, היה קורא, מי שמתו, תפילת השחר, אין עומ...",
      "text/html": "<div>\n<style scoped>\n    .dataframe tbody tr th:only-of-type {\n        vertical-align: middle;\n    }\n\n    .dataframe tbody tr th {\n        vertical-align: top;\n    }\n\n    .dataframe thead th {\n        text-align: right;\n    }\n</style>\n<table border=\"1\" class=\"dataframe\">\n  <thead>\n    <tr style=\"text-align: right;\">\n      <th></th>\n      <th>English</th>\n      <th>Masechet</th>\n      <th>Perakim</th>\n    </tr>\n  </thead>\n  <tbody>\n    <tr>\n      <th>0</th>\n      <td>Berakhot</td>\n      <td>ברכות</td>\n      <td>מאימתי, היה קורא, מי שמתו, תפילת השחר, אין עומ...</td>\n    </tr>\n  </tbody>\n</table>\n</div>"
     },
     "execution_count": 6,
     "metadata": {},
     "output_type": "execute_result"
    }
   ],
   "source": [
    "new_name_df[new_name_df[\"English\"]==\"Berakhot\"]"
   ],
   "metadata": {
    "collapsed": false,
    "ExecuteTime": {
     "end_time": "2024-05-23T20:11:03.395219Z",
     "start_time": "2024-05-23T20:11:03.367381Z"
    }
   },
   "id": "4a0d9445827a410e"
  },
  {
   "cell_type": "code",
   "execution_count": 8,
   "outputs": [
    {
     "data": {
      "text/plain": "['מאימתי',\n 'היה קורא',\n 'מי שמתו',\n 'תפילת השחר',\n 'אין עומדין',\n 'כיצד מברכין',\n 'שלשה שאכלו',\n 'אלו דברים',\n 'הרואה']"
     },
     "execution_count": 8,
     "metadata": {},
     "output_type": "execute_result"
    }
   ],
   "source": [
    "new_name_df[new_name_df[\"English\"]==\"Berakhot\"]['Perakim'].values[0].split(\", \")"
   ],
   "metadata": {
    "collapsed": false,
    "ExecuteTime": {
     "end_time": "2024-05-23T20:12:20.189958Z",
     "start_time": "2024-05-23T20:12:20.160427Z"
    }
   },
   "id": "7f33f0d9e81b091d"
  },
  {
   "cell_type": "code",
   "execution_count": 23,
   "outputs": [
    {
     "name": "stdout",
     "output_type": "stream",
     "text": [
      "Bava Kamma\tSanhedrin\tBava Batra\tAvodah Zarah\tMakkot\tYevamot\tKiddushin\tNiddah\tPesachim\tMenachot\tSukkah\tYoma\tSotah\tShevuot\tTemurah\tGittin\tBekhorot\tBerakhot\tArakhin\tChullin\tRosh Hashanah\tKetubot\tZevachim\tMegillah\tBeitzah\tShabbat\tEruvin\tBava Metzia\tChagigah\tKeritot\t"
     ]
    }
   ],
   "source": [
    "def contains_perek2(text,current_masechet):\n",
    "    masechet_perakim= new_name_df[new_name_df[\"English\"]==current_masechet]['Perakim'].values[0].split(\", \")\n",
    "    filtered_perakim = [name for name in perek_names if name not in masechet_perakim]\n",
    "    for name in filtered_perakim:\n",
    "        if \"ב\"+name in text or \"בפרק \"+name in text:\n",
    "            return name\n",
    "def get_results2(query):\n",
    "    results = []\n",
    "    for file in os.listdir(rashi_dir):\n",
    "        if file == '.DS_Store.json':\n",
    "            continue\n",
    "        name = file.split(' - ')[0][9:-5]\n",
    "        print(name,end='\\t')\n",
    "        with open(rashi_dir+\"/\"+file) as f:\n",
    "            data = json.load(f)\n",
    "            for daf,d in zip(data['text'],range(len(data['text']))):\n",
    "                for line,l in zip(daf,range(len(daf))):\n",
    "                    for comment,c in zip(line,range(len(line))):\n",
    "                        cont = query(comment,name)\n",
    "                        if cont:\n",
    "                            results.append([name,d,c,cont,comment])\n",
    "    return results\n",
    "bPerek_results = get_results2(contains_perek2)"
   ],
   "metadata": {
    "collapsed": false,
    "ExecuteTime": {
     "end_time": "2024-05-23T20:22:48.206957Z",
     "start_time": "2024-05-23T20:22:08.885280Z"
    }
   },
   "id": "9ee8f329f0198eab"
  },
  {
   "cell_type": "code",
   "execution_count": 24,
   "outputs": [
    {
     "data": {
      "text/plain": "        Masechet  Daf  Line     Perakim  \\\n0     Bava Kamma    3     0        גופה   \n1     Bava Kamma    7     1        שואל   \n2     Bava Kamma    8     0        שואל   \n3     Bava Kamma    9     0        גדיש   \n4     Bava Kamma   12     0      הנזקין   \n...          ...  ...   ...         ...   \n2577     Keritot   50     0  הריני נזיר   \n2578     Keritot   50     1  שני נזירים   \n2579     Keritot   50     0     כל הבשר   \n2580     Keritot   51     0          שק   \n2581     Keritot   53     0     מי שאמר   \n\n                                                Comment  \n0                    נגיפה - שדחפה בגופה והזיקה בכוונה:  \n1     שומר חנם - חייב בפשיעה והשואל חייב אפילו באונס...  \n2     תחת נתינה כו' - דבכולהו כתיב או תחת וגמרינן תח...  \n3     לפטור בו את הטמון - שאם היו בגדים טמונים בגדיש...  \n4     ובעל חוב דינו בבינונית - במס' גיטין בפרק הנזקי...  \n...                                                 ...  \n2577  ספק נזיר - נזיר ספק נטמא ספק לא נטמא דאילו ספק...  \n2578  לא נייתי - חטאת העוף הבא על הספק דאמרינן במסכת...  \n2579  מה להנך שכן אין עשויין להשתנות - ואף על גב דהך...  \n2580  מתני' שתי סלעים - זהו דין אשם דכתיב בערכך כסף ...  \n2581  בזמן שהן סתומין - שלא פירש אלו לקנות חטאת ואלו...  \n\n[2582 rows x 5 columns]",
      "text/html": "<div>\n<style scoped>\n    .dataframe tbody tr th:only-of-type {\n        vertical-align: middle;\n    }\n\n    .dataframe tbody tr th {\n        vertical-align: top;\n    }\n\n    .dataframe thead th {\n        text-align: right;\n    }\n</style>\n<table border=\"1\" class=\"dataframe\">\n  <thead>\n    <tr style=\"text-align: right;\">\n      <th></th>\n      <th>Masechet</th>\n      <th>Daf</th>\n      <th>Line</th>\n      <th>Perakim</th>\n      <th>Comment</th>\n    </tr>\n  </thead>\n  <tbody>\n    <tr>\n      <th>0</th>\n      <td>Bava Kamma</td>\n      <td>3</td>\n      <td>0</td>\n      <td>גופה</td>\n      <td>נגיפה - שדחפה בגופה והזיקה בכוונה:</td>\n    </tr>\n    <tr>\n      <th>1</th>\n      <td>Bava Kamma</td>\n      <td>7</td>\n      <td>1</td>\n      <td>שואל</td>\n      <td>שומר חנם - חייב בפשיעה והשואל חייב אפילו באונס...</td>\n    </tr>\n    <tr>\n      <th>2</th>\n      <td>Bava Kamma</td>\n      <td>8</td>\n      <td>0</td>\n      <td>שואל</td>\n      <td>תחת נתינה כו' - דבכולהו כתיב או תחת וגמרינן תח...</td>\n    </tr>\n    <tr>\n      <th>3</th>\n      <td>Bava Kamma</td>\n      <td>9</td>\n      <td>0</td>\n      <td>גדיש</td>\n      <td>לפטור בו את הטמון - שאם היו בגדים טמונים בגדיש...</td>\n    </tr>\n    <tr>\n      <th>4</th>\n      <td>Bava Kamma</td>\n      <td>12</td>\n      <td>0</td>\n      <td>הנזקין</td>\n      <td>ובעל חוב דינו בבינונית - במס' גיטין בפרק הנזקי...</td>\n    </tr>\n    <tr>\n      <th>...</th>\n      <td>...</td>\n      <td>...</td>\n      <td>...</td>\n      <td>...</td>\n      <td>...</td>\n    </tr>\n    <tr>\n      <th>2577</th>\n      <td>Keritot</td>\n      <td>50</td>\n      <td>0</td>\n      <td>הריני נזיר</td>\n      <td>ספק נזיר - נזיר ספק נטמא ספק לא נטמא דאילו ספק...</td>\n    </tr>\n    <tr>\n      <th>2578</th>\n      <td>Keritot</td>\n      <td>50</td>\n      <td>1</td>\n      <td>שני נזירים</td>\n      <td>לא נייתי - חטאת העוף הבא על הספק דאמרינן במסכת...</td>\n    </tr>\n    <tr>\n      <th>2579</th>\n      <td>Keritot</td>\n      <td>50</td>\n      <td>0</td>\n      <td>כל הבשר</td>\n      <td>מה להנך שכן אין עשויין להשתנות - ואף על גב דהך...</td>\n    </tr>\n    <tr>\n      <th>2580</th>\n      <td>Keritot</td>\n      <td>51</td>\n      <td>0</td>\n      <td>שק</td>\n      <td>מתני' שתי סלעים - זהו דין אשם דכתיב בערכך כסף ...</td>\n    </tr>\n    <tr>\n      <th>2581</th>\n      <td>Keritot</td>\n      <td>53</td>\n      <td>0</td>\n      <td>מי שאמר</td>\n      <td>בזמן שהן סתומין - שלא פירש אלו לקנות חטאת ואלו...</td>\n    </tr>\n  </tbody>\n</table>\n<p>2582 rows × 5 columns</p>\n</div>"
     },
     "execution_count": 24,
     "metadata": {},
     "output_type": "execute_result"
    }
   ],
   "source": [
    "bPerek_results_df = pd.DataFrame(bPerek_results,columns=[\"Masechet\",\"Daf\",\"Line\",\"Perakim\",\"Comment\"])\n",
    "bPerek_results_df"
   ],
   "metadata": {
    "collapsed": false,
    "ExecuteTime": {
     "end_time": "2024-05-23T20:23:51.010083Z",
     "start_time": "2024-05-23T20:23:50.977503Z"
    }
   },
   "id": "a87b8fe92428decc"
  },
  {
   "cell_type": "code",
   "execution_count": 26,
   "outputs": [
    {
     "data": {
      "text/plain": "             Perakim  Count\n0       אבות הטומאות      1\n1             אוכלין     26\n2     אור לארבעה עשר      1\n3       אותו ואת בנו      6\n4    אחד דיני ממונות      6\n..               ...    ...\n252            תולין      6\n253           תינוקת      4\n254        תמיד נשחט     10\n255             תנור     92\n256        תפלת השחר      3\n\n[257 rows x 2 columns]",
      "text/html": "<div>\n<style scoped>\n    .dataframe tbody tr th:only-of-type {\n        vertical-align: middle;\n    }\n\n    .dataframe tbody tr th {\n        vertical-align: top;\n    }\n\n    .dataframe thead th {\n        text-align: right;\n    }\n</style>\n<table border=\"1\" class=\"dataframe\">\n  <thead>\n    <tr style=\"text-align: right;\">\n      <th></th>\n      <th>Perakim</th>\n      <th>Count</th>\n    </tr>\n  </thead>\n  <tbody>\n    <tr>\n      <th>0</th>\n      <td>אבות הטומאות</td>\n      <td>1</td>\n    </tr>\n    <tr>\n      <th>1</th>\n      <td>אוכלין</td>\n      <td>26</td>\n    </tr>\n    <tr>\n      <th>2</th>\n      <td>אור לארבעה עשר</td>\n      <td>1</td>\n    </tr>\n    <tr>\n      <th>3</th>\n      <td>אותו ואת בנו</td>\n      <td>6</td>\n    </tr>\n    <tr>\n      <th>4</th>\n      <td>אחד דיני ממונות</td>\n      <td>6</td>\n    </tr>\n    <tr>\n      <th>...</th>\n      <td>...</td>\n      <td>...</td>\n    </tr>\n    <tr>\n      <th>252</th>\n      <td>תולין</td>\n      <td>6</td>\n    </tr>\n    <tr>\n      <th>253</th>\n      <td>תינוקת</td>\n      <td>4</td>\n    </tr>\n    <tr>\n      <th>254</th>\n      <td>תמיד נשחט</td>\n      <td>10</td>\n    </tr>\n    <tr>\n      <th>255</th>\n      <td>תנור</td>\n      <td>92</td>\n    </tr>\n    <tr>\n      <th>256</th>\n      <td>תפלת השחר</td>\n      <td>3</td>\n    </tr>\n  </tbody>\n</table>\n<p>257 rows × 2 columns</p>\n</div>"
     },
     "execution_count": 26,
     "metadata": {},
     "output_type": "execute_result"
    }
   ],
   "source": [
    "bPerek_sums = bPerek_results_df.groupby(\"Perakim\").size().reset_index(name=\"Count\")\n",
    "bPerek_sums"
   ],
   "metadata": {
    "collapsed": false,
    "ExecuteTime": {
     "end_time": "2024-05-23T20:24:32.160292Z",
     "start_time": "2024-05-23T20:24:32.132141Z"
    }
   },
   "id": "3176f2c49ad5b6a7"
  },
  {
   "cell_type": "code",
   "execution_count": 29,
   "outputs": [],
   "source": [
    "bperek_right_neighbors = get_right_neighbors(contains_perek2,2)"
   ],
   "metadata": {
    "collapsed": false,
    "ExecuteTime": {
     "end_time": "2024-05-23T20:26:08.536075Z",
     "start_time": "2024-05-23T20:25:29.531548Z"
    }
   },
   "id": "5004c4424446f1bf"
  },
  {
   "cell_type": "code",
   "execution_count": 30,
   "outputs": [
    {
     "data": {
      "text/plain": "[('-ב', 32),\n ('במסכתשבת', 11),\n ('במסכתנדה', 10),\n ('בבבאקמא', 9),\n ('אלאב', 9),\n ('-דאמר', 8),\n ('כדאמרינןביבמות', 8),\n ('רבייוסי', 8),\n ('דרבייוסי', 8),\n ('בשחיטתחולין', 7),\n ('במסכתגיטין', 7),\n ('במסכתיומא', 6),\n ('דאמר-', 6),\n ('משנההיא', 5),\n ('כדאמרינןבפסחים', 5),\n ('יוסיב', 5),\n ('-ביבמות', 5),\n ('-בב\"ק', 5),\n ('במסכתזבחים', 5),\n ('והכיאמרינן', 5),\n ('בבבאמציעא', 5),\n ('-מפרש', 5),\n ('והכימפרש', 4),\n ('פלוגתאהיא', 4),\n ('דבריםהנעשים', 4),\n ('ופלוגתאהיא', 4),\n ('כדאמרינןב', 4),\n ('בבבאבתרא', 4),\n ('-לקמן', 4),\n ('דקיימאלן', 4),\n ('-דקי\"ל', 4),\n ('במסכתמנחות', 4),\n ('בשחיטתקדשים', 4),\n ('ממדינהלמדינה', 3),\n ('-כדאמרינן', 3),\n ('-דכתיב', 3),\n ('יליףלה', 3),\n ('להביבמות', 3),\n ('וקיימאלן', 3),\n (\"במס'נדה\", 3),\n (\"במס'יומא\", 3),\n ('נפקאלן', 3),\n (\"ר'יוסי\", 3),\n (\"במס'גיטין\", 3),\n ('מפרשלה', 3),\n ('נמיאמרינן', 3),\n ('הוהכדאמרינן', 3),\n ('במסכתתמורה', 3),\n ('לרבייוסי', 3),\n (\"-כדאמרי'\", 3),\n ('לעובדכוכבים', 3),\n ('בכלעת', 3),\n ('היהכדאמרינן', 3),\n ('-במנחות', 3),\n ('קיימאלן', 3),\n (\"לר'יוסי\", 2),\n ('-דתנן', 2),\n ('במסכתביצה', 2),\n ('-בפרק', 2),\n ('-בב\"ב', 2),\n ('גניבהואבידה', 2),\n ('דבריםהנעשין', 2),\n ('התרומה-', 2),\n (\"במס'שבת\", 2),\n ('וטעמאמפרש', 2),\n ('ודרשינןליה', 2),\n ('מפרשטעמא', 2),\n ('ודומהלו', 2),\n ('-כדתניא', 2),\n ('ילפינןלה', 2),\n ('-הבעלים', 2),\n ('-שארגו', 2),\n ('היאבב\"ב', 2),\n ('שלאיגע', 2),\n ('כדאמרביבמות', 2),\n ('כדילפינןבפסחים', 2),\n ('בעירוביןבפרק', 2),\n ('נושאונותן', 2),\n ('עוליןלה', 2),\n ('במנחותבפרק', 2),\n ('ראשתור', 2),\n ('דפלוגתאהיא', 2),\n ('ליהב', 2),\n ('מר-', 2),\n ('בשעתאפייתה', 2),\n ('כדאמרבפסחים', 2),\n ('הכימפרש', 2),\n ('ברכוהוכדאמרינן', 2),\n ('אוב', 2),\n ('מצהכדאמרינן', 2),\n ('במסכתפסחים', 2),\n ('-יש', 2),\n ('מוקמינןלה', 2),\n ('פסולכדאמרינן', 2),\n ('אתאשתו', 2),\n ('בסדריומא', 2),\n ('שורפיןקדשים', 2),\n ('דאמרינןבמנחות', 2),\n ('מפרשבגיטין', 2),\n ('-ותניא', 2),\n ('לןבמנחות', 2),\n (\"במס'תמורה\", 2),\n ('-נשיא', 2),\n ('נשיאהכדאמרינן', 2),\n (\"כו'-\", 2),\n ('כתיבאיד', 2),\n ('ליהבפסחים', 2),\n ('שמעמינה', 2),\n ('בתראב', 2),\n (\"במס'כתובות\", 2),\n ('וה\"נאמרינן', 2),\n ('היאבמנחות', 2),\n ('להמקראי', 2),\n ('יוחנן-', 2),\n ('כרבייוסי', 2),\n ('אחדאבל', 2),\n ('בתרומהביבמות', 2),\n ('כדאמרבמנחות', 2),\n ('חייבב', 2),\n ('פסולהלכהונה', 2),\n ('אולמכור', 2),\n ('כדאמרינןבגיטין', 2),\n ('טבילהב', 2),\n ('לטעמיהדאמר', 2),\n ('דאמרינןבסנהדרין', 2),\n ('במסכתע\"ז', 2),\n ('וכלשכן', 2),\n ('האאמרינן', 2),\n ('ליהבזבחים', 2),\n (\"היהכדאמרי'\", 2),\n ('-דהא', 2),\n ('כשירהאלא', 2),\n ('קאמרולא', 2),\n ('נינהוכדאמרינן', 2),\n ('להטמיןב', 2),\n ('היאדאמר', 2),\n ('מפורשבמנחות', 2),\n ('הואכדאמר', 2),\n ('היהלה', 2),\n ('במסכתנזיר', 2),\n ('היאב', 2),\n ('-דאמרינן', 2),\n ('-בזבחים', 2),\n ('כדאמרןב', 2),\n ('זהבא', 2),\n ('דאמרבכתובות', 2),\n ('בזבחיםבפרק', 2),\n ('דאיןמסככין', 2),\n ('ניחאליה', 2),\n ('דקרא-', 2),\n ('-בכריתות', 2),\n ('במסכתיבמות', 2),\n ('לטעמיהדמכשיר', 1),\n ('לןבסנהדרין', 1),\n ('ליבשהב', 1),\n ('ציפויאלא', 1),\n ('איןלוין', 1),\n ('דאמרינןבחגיגה', 1),\n ('סוטהמפרשה', 1),\n ('ראייהקריבה', 1),\n ('היאאבל', 1),\n ('נפסליןב', 1),\n ('זביניאתו', 1),\n ('לעילמניחן', 1),\n ('שארהיין', 1),\n ('ובשחיטתקדשים', 1),\n ('ושהושלמה', 1),\n ('לתבליןבעלמא', 1),\n ('בולאותשב', 1),\n ('להובמסכך', 1),\n ('אפילובש\"ש', 1),\n ('שמן-', 1),\n ('דופןאו', 1),\n ('חוטהצמר', 1),\n ('כסףכדאמר', 1),\n ('שמחה-', 1),\n ('נינהובקדושין', 1),\n ('חייבבפשיעה', 1),\n ('בטענתגניבה', 1),\n ('אףהיא', 1),\n ('הירדן-', 1),\n ('בהןואמר', 1),\n ('אמרהבזבחים', 1),\n ('האיבעיא', 1),\n ('עמה-', 1),\n ('לאשמועינן-', 1),\n ('חשובהעבודה', 1),\n ('הואבסנהדרין', 1),\n ('צורתצפור', 1),\n ('-אלא', 1),\n ('להומקבלין', 1),\n ('כמוכן', 1),\n ('–דתנן', 1),\n ('דאמרהתם', 1),\n ('מעטממנו', 1),\n ('הכיאיתא', 1),\n ('וחייביןבמעשר', 1),\n ('בדידיה-', 1),\n ('מכלאדם', 1),\n ('בולאמדו', 1),\n ('כדילפינןבמנחות', 1),\n ('האאוקימנא', 1),\n ('לאדתנן', 1),\n ('הרעכדאמרינן', 1),\n ('לזרע-', 1),\n ('הנשרפיןכדאמרינן', 1),\n ('אלאבמקדש', 1),\n ('טובאוהוא', 1),\n ('טובליןכדרכן', 1),\n ('בותמרה', 1),\n ('האיוכולם', 1),\n ('עולתחודש', 1),\n ('לןבכתובות', 1),\n ('דצריכהלהן', 1),\n ('יחשבלקמן', 1),\n ('מתיקה-', 1),\n ('נאהמארמי', 1),\n ('בחייואבל', 1),\n ('ישראלואוקימנא', 1),\n ('ליתומיםכדאמרינן', 1),\n ('לודלירושלים', 1),\n ('אוכללטמא', 1),\n ('האומרביומא', 1),\n ('ונדבותכישראל', 1),\n ('דמודהר\"א', 1),\n ('דוגמתובב\"ק', 1),\n ('צבעיםהאמורים', 1),\n ('בדינראו', 1),\n ('לומרלא', 1),\n ('אחתעשרה', 1),\n ('מזבחהזהב', 1),\n ('מלהלוותמפני', 1),\n ('מכותלזה', 1),\n ('פסולותכדאמרינן', 1),\n ('אפרהקלוי', 1),\n ('הואכדאמרינן', 1),\n ('שיביישנוב', 1),\n ('לתולעתהגדלה', 1),\n ('שריכדתנן', 1),\n ('ביציםנכנסין', 1),\n ('בצבורבמנחות', 1),\n ('כרבנןדאמרי', 1),\n ('הדםב', 1),\n ('אופיןאותו', 1),\n ('וכיוןדלאו', 1),\n ('אושעיא-', 1),\n ('הונא-', 1),\n ('כהלואה-', 1),\n ('(דףקב:)', 1),\n ('מייתינןליה', 1),\n ('וכתובההיא', 1),\n ('חלודהניכר', 1),\n ('עליוכדאמר', 1),\n ('אב\"הדהא', 1),\n ('כאוצרותיין', 1),\n (\"החטאתוגו'\", 1),\n ('דףפה.)', 1),\n ('כדאמרינןבקידושין', 1),\n ('שנוטלפי', 1),\n (\"ואפי'ב\", 1),\n ('דינריםכסף', 1),\n ('הקטנה-', 1),\n ('אסורהביבמות', 1),\n ('ארעאלמיכלא', 1),\n ('דקי\"לבמנחות', 1),\n ('במופלגיןמזה', 1),\n ('במסכתסוטה', 1),\n ('ישנהאלא', 1),\n ('הונאדהכא', 1),\n ('להכדתנן', 1),\n ('והםבאלכסון', 1),\n ('למימרופלוגתייהו', 1),\n ('יוסי-', 1),\n ('במשאדאמרינן', 1),\n ('שלברזל', 1),\n ('רבימנחם', 1),\n ('חוקה-', 1),\n ('ממעטב', 1),\n ('כולםב', 1),\n ('לשארכל', 1),\n ('איןבו', 1),\n ('-אחת', 1),\n ('בשארעבירות', 1),\n ('אירעפסול', 1),\n ('היהכדאמר', 1),\n ('ריבויבכספו', 1),\n ('רקיקשנותנין', 1),\n ('למזידכדאמרינן', 1),\n ('בדבריםהנעשין', 1),\n ('במיםדכתיב', 1),\n ('וגמעוטמא', 1),\n ('-מלאכה', 1),\n ('הנךדאמרינן', 1),\n ('דתנאי-', 1),\n ('בנקיבתברזא', 1),\n ('לןבב\"מ', 1),\n ('-דחשיב', 1),\n ('בבינונית-', 1),\n ('כיעייל', 1),\n (\"וגו'ביבמות\", 1),\n ('וי\"אמשפשפה', 1),\n ('מיטמאכדאמר', 1),\n ('והכימפרשא', 1),\n ('ממעטיןב', 1),\n ('כגוןהמוסק', 1),\n ('מ:)לקח', 1),\n ('לעשותכדאמרינן', 1),\n ('רגליו–', 1),\n ('יומאב', 1),\n ('רבינויצחק', 1),\n ('היקשהוא', 1),\n ('בתנוראשגירא', 1),\n ('כתובתהכדאיתא', 1),\n (\"במקדשכדילפי'\", 1),\n ('סתםכדאמר', 1),\n ('כימגבו', 1),\n ('וחילוקכדכתיב', 1),\n ('רבייוחנן', 1),\n ('שהיתהפת', 1),\n ('שנאסרוכדאמרן', 1),\n ('איןמערבין', 1),\n ('ואפילולאחר', 1),\n ('כדאמרינןבב\"מ', 1),\n ('ויבןערים', 1),\n ('מיאוןב', 1),\n ('ומייתילה', 1),\n (\"ההיאדאמרי'\", 1),\n ('מפרשבברכות', 1),\n ('ותנןמסככין', 1),\n ('איןמקריבין', 1),\n ('ובמסכתיומא', 1),\n ('לפישכשנתלה', 1),\n ('כךכדאמר', 1),\n ('היהסיקריקון', 1),\n ('דאשתרימליקה', 1),\n ('פרההחורשת', 1),\n ('האמיתה', 1),\n ('פיושנאמר', 1),\n ('בתראיכדאמרינן', 1),\n ('קלישנתייבש', 1),\n ('מבעודיום', 1),\n ('אלווגבי', 1),\n ('סודניכדאמרינן', 1),\n ('שהדםשנשאר', 1),\n ('יוצאבפסחים', 1),\n ('בלחמיתודה', 1),\n ('לןבבכורות', 1),\n ('דעתבגיטין', 1),\n ('אמאימכשרת', 1),\n (\"ר'אליעזר\", 1),\n ('עליוכדאמרינן', 1),\n ('היאבפסחים', 1),\n ('דכתיבבערכך', 1),\n ('שנולדהב', 1),\n ('יהודה-', 1),\n ('יתןכדאמרינן', 1),\n ('ועומדיםב', 1),\n ('הן-', 1),\n ('שכרדמי', 1),\n ('מתרץלה', 1),\n ('לפיכךהן', 1),\n ('באונסכדאמרינן', 1),\n ('מטמיאכדאמר', 1),\n ('יהושע-', 1),\n ('קונהחמור', 1),\n ('נצרכאאלא', 1),\n ('דאורחייהולהוציא', 1),\n ('מטלטלין-', 1),\n ('לןבפסחים', 1),\n ('ינאיבב\"ב', 1),\n ('במסכתברכות', 1),\n ('ישחילוק', 1),\n ('שביעיתירושלמי', 1),\n ('במסכתערכין', 1),\n ('דאשמעינןדזכתה', 1),\n ('קנהדתניא', 1),\n ('בתורהולא', 1),\n ('ד\\'קי\"ל', 1),\n (\"הביתכדאמרי'\", 1),\n ('שנכנסשד', 1),\n ('-חייבות', 1),\n ('חכמה(לקטן', 1),\n ('בןגרון', 1),\n ('מתבערב', 1),\n (\"טמאכדאמרי'\", 1),\n (\"דפ'דלעיל\", 1),\n (\"שנינובגמ'\", 1),\n ('חוזקוחבירו', 1),\n ('שנתייבשהב', 1),\n ('כלצורכה', 1),\n ('דנאמרכאן', 1),\n ('תפי-', 1),\n ('אוירב', 1),\n ('גדיטמון', 1),\n ('הואדאמר', 1),\n ('טורחושמחים', 1),\n ('לןלאוקמה', 1),\n ('אפשרדניקדשה', 1),\n ('דתניאבתמורה', 1),\n ('רשותאכדאמרינן', 1),\n ('מהו-', 1),\n ('להקרבהכדתניא', 1),\n ('הטומאהכדתניא', 1),\n ('צבורכדמפרש', 1),\n ('בעולתהעוף', 1),\n ('הקרקעות-', 1),\n ('ותניאבהדיא', 1),\n ('ובבבאקמא', 1),\n ('בבעליםאלא', 1),\n ('שנתייבשב', 1),\n ('שכןב', 1),\n ('דלאמשיך', 1),\n ('-פלוגתייהו', 1),\n ('כדאיתאלקמן', 1),\n ('חייביםב', 1),\n ('בהמותדתניא', 1),\n ('טהורוכן', 1),\n ('מונחב', 1),\n ('חיובימחייבי', 1),\n ('ידוב', 1),\n ('כוכביםובין', 1),\n ('הואשחורש', 1),\n ('חוליןדתניא', 1),\n ('מסכתאמרינן', 1),\n ('בעברהירדן', 1),\n ('להבליעו-', 1),\n ('לקורהב', 1),\n ('קי\"לבקדושין', 1),\n ('לאודתחובה', 1),\n ('ואוקמהלה', 1),\n ('יוסיבעירובין', 1),\n ('בהןחבורה', 1),\n ('ממנווכדתניא', 1),\n ('דקראב', 1),\n ('דרבנןכדר\"ל', 1),\n ('ישמעאלדאמר', 1),\n (\"ד'סט.)\", 1),\n ('שזמנוב', 1),\n ('החמץקאי', 1),\n ('באש-', 1),\n ('איןזריעה', 1),\n ('קטןדאמר', 1),\n ('האידאמרינן', 1),\n ('לדםשנפסל', 1),\n ('מחצהב', 1),\n ('נאכלדקי\"ל', 1),\n ('הסיקב', 1),\n ('-שהפרישה', 1),\n ('היאכדתנן', 1),\n ('אלמהתנן', 1),\n ('עראיכדאמרינן', 1),\n ('ולהביאהמחט', 1),\n ('יהוידעהכהן', 1),\n ('תנן-', 1),\n ('שבתשתיהן', 1),\n ('מטמאכמת', 1),\n ('מדינהב', 1),\n ('כנגדחלקם', 1),\n ('להיותקדש', 1),\n ('תיבהומגדל', 1),\n ('ישנהאבל', 1),\n ('שריליששכר', 1),\n ('דתנןבבכורות', 1),\n ('עבדינןכדמפרש', 1),\n ('עציםדקתני', 1),\n ('אמוראיביבמות', 1),\n ('מודההוא', 1),\n ('סימניםכדאמרינן', 1),\n ('מצוההתלויה', 1),\n ('הלוקחטפי', 1),\n ('למונעןמלתקוע', 1),\n ('ועודכדאמרינן', 1),\n ('להכאכדאמרינן', 1),\n ('כרמליתכדאמרינן', 1),\n ('השניםאלא', 1),\n ('הורגודתנן', 1),\n ('וטהרה-', 1),\n ('דחומשבהקדש', 1),\n ('מוקילה', 1),\n ('מןהבית', 1),\n ('בבורדאמרינן', 1),\n ('שצלאו-', 1),\n ('אמרהב', 1),\n ('אדעתהדהא', 1),\n ('מעיןשבת', 1),\n ('חולקב', 1),\n ('קאיבפרק', 1),\n ('החצרבב\"מ', 1),\n ('ספריםדאמר', 1),\n ('בגדיםואפילו', 1),\n ('שניקחהב', 1),\n ('שהכסיפופניו', 1),\n ('ביבמותב', 1),\n ('דהקפידההתורה', 1),\n ('ולאפתוי', 1),\n ('התחתונותוהעליונות', 1),\n ('להולרבנן', 1),\n ('דמיםוקנה', 1),\n ('ביןשנשבע', 1),\n ('ארצות-', 1),\n ('ביאהלקמן', 1),\n ('אותן-', 1),\n ('כדתניאבזבחים', 1),\n ('שאינוב', 1),\n ('ר\"שדפטר', 1),\n (\"ציפאכדאמרי'\", 1),\n ('-שנצלו', 1),\n ('העשויליקבע', 1),\n ('הסעודהב', 1),\n ('פליגיאלא', 1),\n (\"קישוריהןכדאמרי'\", 1),\n ('ונגעטמא', 1),\n ('כתיבעכן', 1),\n ('נב:)המקדש', 1),\n ('מעושרוב', 1),\n ('כנגדחבירו', 1),\n ('מעילה-', 1),\n ('בחמשעבודות', 1),\n ('שבת-', 1),\n ('אצטבאבפסחים', 1),\n ('לי-', 1),\n ('מייתילה', 1),\n ('שממעטב', 1),\n ('ודרשינןבבכורות', 1),\n ('כשהןקליות', 1),\n ('שמנוחכמים', 1),\n ('במעילהבגמרא', 1),\n ('כדמפורשבכתובות', 1),\n ('דאיקדישמאתמול', 1),\n ('קרבןציבור', 1),\n ('קרעועל', 1),\n ('מיפסלאכדאמרן', 1),\n ('בקלבוןפטורין', 1),\n ('ומקריבחמש', 1),\n ('חובוב', 1),\n ('ירדובפרק', 1),\n ('עשןב', 1),\n ('ובקצירתשבות', 1),\n ('ברובוומקשה', 1),\n ('למקרא-', 1),\n ('אינמי', 1),\n ('דקתנירובו', 1),\n (\"במס'ערכין\", 1),\n (\"העזרהכדאמרי'\", 1),\n ('והניחהב', 1),\n ('העיןושילה', 1),\n ('דטעמייהודרבנן', 1),\n ('ספקנגעו', 1),\n ('להאמתניתא', 1),\n ('קראביבמות', 1),\n ('ושמא-', 1),\n ('עדיםכדאמרינן', 1),\n ('הואב', 1),\n ('ביןשנולד', 1),\n (\"במס'סוטה\", 1),\n ('ועוףכדאוקימנא', 1),\n ('אינואדוק', 1),\n ('אדם-', 1),\n ('הכותלנבנה', 1),\n ('כלכך', 1),\n ('עבודותנאמרו', 1),\n ('בואפילו', 1),\n ('דכתיבב', 1),\n ('ליהולמחר', 1),\n ('לחםב', 1),\n ('עלהגזילה', 1),\n ('העבודותשנעשות', 1),\n ('נשיםב', 1),\n ('ולקדושולהבדלה', 1),\n ('למתלייהלדינר', 1),\n ('מקראבקדושין', 1),\n ('מהםדהיינו', 1),\n ('ועודאילנות', 1),\n ('קמיהבב\"מ', 1),\n ('מעשרעני', 1),\n ('מקראיבפרק', 1),\n ('אומנותכדאמר', 1),\n ('דפרסאלמכפריה', 1),\n ('בסמ\"ךכדפירש', 1),\n ('ארבלאוקמרבל', 1),\n ('הלכךרישא', 1),\n ('אלאחתכו', 1),\n ('טעוניןנסכים', 1),\n ('ומתקפלתשאין', 1),\n ('מפרשהתם', 1),\n (\"וגו'ואמרי'\", 1),\n (\"כו'בפרק\", 1),\n ('ומלחנוהגים', 1),\n ('לקטןפגעה', 1),\n ('לכסותפיה', 1),\n ('הואאדמיפלגי', 1),\n ('עבודתכוכבים', 1),\n ('-הבשר', 1),\n ('יוסיבפרק', 1),\n ('שקלטהב', 1),\n ('ידעינן-', 1),\n ('מהןמעכבת', 1),\n ('מציעאבפרק', 1),\n ('המוקצהלכתחלה', 1),\n ('אישואשתו', 1),\n ('וחבירובברכות', 1),\n ('היאשנויה', 1),\n ('וחמימותודוגמתו', 1),\n ('-שיהו', 1),\n ('שיכלהאחרון', 1),\n ('שסופולהדרש', 1),\n ('במסכתעירובין', 1),\n ('כשתוליןאותו', 1),\n ('לוואמרינן', 1),\n ('אותןכולן', 1),\n ('כךמפרש', 1),\n ('הוסקשרי', 1),\n ('אחראביהם', 1),\n ('לחםלמעדנים', 1),\n ('כדאיתליה', 1),\n (\"כו'–\", 1),\n ('דאמרלקמן', 1),\n ('(שם).והאוכל', 1),\n ('מטמאכדתניא', 1),\n (\"כסףכדאמרי'\", 1),\n ('דףלו.)', 1),\n ('ומרובהמצותו', 1),\n ('השולחגט', 1),\n ('ומושבכדאמרינן', 1),\n ('ארובהבראש', 1),\n ('יקנח-', 1),\n ('(דאין)חילוק', 1),\n ('זורעיםבהן', 1),\n ('מןהים', 1),\n ('כד:)תנן', 1),\n ('שנתייבשוהחטים', 1),\n ('דהשתא-', 1),\n ('בסנהדריןהוא', 1),\n ('יבמותב', 1),\n ('ונתנוב', 1),\n ('אבדהכדאמרינן', 1),\n ('מיניירק', 1),\n ('שנפגמהב', 1),\n ('וחבירובב\"מ', 1),\n ('הכרמיםב', 1),\n ('לפניולפנים', 1),\n ('נעשיןלצבור', 1),\n ('בדםב', 1),\n ('קניבתירק', 1),\n ('-פסולו', 1),\n ('שהכהןעושה', 1),\n ('וראהוחייב', 1),\n ('במיתתמרובה', 1),\n ('דאמרביבמות', 1),\n ('עליהםב', 1),\n ('קליותשייבשן', 1),\n ('ומתחייבב', 1),\n ('רה\"רכדאמרינן', 1),\n ('שמותאבל', 1),\n ('שביתתבהמתו', 1),\n ('-שדחפה', 1),\n (\"גרסי'ב\", 1),\n ('לנקבנקב', 1),\n ('האדקתני', 1),\n ('ותלוייןלראשיהן', 1),\n ('יוםביעורו', 1),\n ('פפאאמר', 1),\n ('בשמעתאדלעיל', 1),\n ('היהדאמרינן', 1),\n ('וסומכיןב', 1),\n ('רוקמהב', 1),\n ('לא\"יכדאמר', 1),\n ('דרוםויוצאה', 1),\n ('רביםותניא', 1),\n ('בכבודוב', 1),\n (\"הגורןכדאמרי'\", 1),\n ('בתיםלנכרים', 1),\n ('נכנסשם', 1),\n ('ומונחב', 1),\n ('דקאקלטה', 1),\n ('טבילה-', 1),\n (\"כר'יוסי\", 1),\n ('ואכול-', 1),\n ('תעקר-', 1),\n ('מידיבפרק', 1),\n (\"ר'טרפון\", 1),\n ('וצריכהטבילה', 1),\n ('אלאהאפוי', 1),\n ('בעופות-', 1),\n ('מיושבתב', 1),\n ('כ״ב:י״ח)ודרשינן', 1),\n ('בידב', 1),\n ('ליהכנוגע', 1),\n ('סלעיםשתי', 1),\n ('שלםאו', 1),\n ('אמרבהדיא', 1),\n ('וטריפותולא', 1),\n ('שלשיןפת', 1),\n ('קמייריאלא', 1),\n ('מדרבנןוהיא', 1),\n (\"משלםד'\", 1),\n ('שחיטלה', 1),\n ('בטהרה-', 1),\n ('כברשנוייה', 1),\n ('לשלשה-', 1),\n ('נינהווכן', 1),\n ('החללארבעה', 1),\n ('אוסריןכדאמרינן', 1),\n ('כתםלקמן', 1),\n ('מכללדקרא', 1),\n (\"וגו'שאוחזה\", 1),\n ('בארבעהדנקי', 1),\n ('דר\"נמפורש', 1),\n ('למימרב', 1),\n ('בהםחבורה', 1),\n ('למתבסנהדרין', 1),\n ('והאדאמר', 1),\n ('-ממש', 1),\n ('בשקיעתהחמה', 1),\n ('דורשיןב', 1),\n ('ביאהמאכילין', 1),\n ('הוהכדתניא', 1),\n ('מןהמת', 1),\n ('במלוכהכדאמר', 1),\n ('וכןב', 1),\n ('שמכרלו', 1),\n ('גזורנמי', 1),\n ('יתיריםופלוגתא', 1),\n ('-מקום', 1),\n ('שאינהכשירה', 1),\n ('בי\"טכדתניא', 1),\n (\"חלקוכדאמרי'\", 1),\n ('כדילפינןבב\"ק', 1),\n ('מפרש[לעיל]', 1),\n ('-דזכיא', 1),\n ('-של', 1),\n ('לאבכדתניא', 1),\n (\"לטמאדאמרי'\", 1),\n ('אימכשרת', 1),\n ('אביבשהתבואה', 1),\n ('כלדרום', 1),\n ('חתימהכדאמר', 1),\n ('המנכשב', 1),\n ('הזאהכדכתיב', 1),\n ('מןהקב\"ה', 1),\n ('זהב', 1),\n ('ולתפורב', 1),\n ('הנצהדעלה', 1),\n ('צריכיכדאמר', 1),\n ('ההיכלוכהנים', 1),\n ('לאוביבמות', 1),\n ('נפסלתכדילפינן', 1),\n ('אינהאלא', 1),\n ('ולאיזרעו', 1),\n ('פירכאבב\"ק', 1),\n ('מתחתיווב', 1),\n ('החלוןותנן', 1),\n ('התחילולהתבשל', 1),\n ('עלייהואלא', 1),\n ('דטבוליום', 1),\n ('מברך-', 1),\n ('שכןמצויה', 1),\n ('עדשנבלע', 1),\n ('עמולערב', 1),\n ('הביתפלגא', 1),\n ('כדאמרינן[ביבמות', 1),\n ('בברורכדתנן', 1),\n ('להדאנטיפרס', 1),\n ('שיכלההאחרון', 1),\n ('דבראחר', 1),\n ('שלשטר', 1),\n ('למימרביה', 1),\n (\"כדאמרי'בסנהדרין\", 1),\n ('ואינודם', 1),\n ('שנויהבקדושין', 1),\n ('צדדים–', 1),\n ('בתורתכהנים', 1),\n (\"וחשובהכדאמרי'\", 1),\n ('לאנסקל', 1),\n ('שכןחייב', 1),\n ('שלמים-', 1),\n ('דתניבזול', 1),\n ('אימאלא', 1),\n ('ותניאבעירובין', 1),\n ('ולמזבחנוקמיה', 1),\n ('אתהמשמרת', 1),\n ('ולאקדש', 1),\n ('קליותב', 1),\n ('נזירבפרק', 1),\n ('חוטא-', 1),\n (\"מכ'ב\", 1),\n ('בסמיכתשלמים', 1),\n (\"דר'יהודה\", 1),\n ('דהאיעד', 1),\n ('אינואלא', 1),\n ('יארעפסול', 1),\n ('היוכדאמרינן', 1),\n ('(ויקראה׳:ח׳)', 1),\n ('דבשוסיים', 1),\n ('ישמעאלב', 1),\n ('עליהןכדגרסינן', 1),\n ('דףה:)', 1),\n ('כדאמרינןהתם', 1),\n ('היאשלי', 1),\n ('לולב-', 1),\n ('להב', 1),\n ('שמןכדאמרינן', 1),\n ('עלייהו-', 1),\n ('דשריארחיצה', 1),\n ('העולםב', 1),\n ('פנחס-', 1),\n ('דרבידאמר', 1),\n ('למקומוקורא', 1),\n ('(דףנח:)', 1),\n ('דגביאב', 1),\n ('פיגלבין', 1),\n ('לומרשממעט', 1),\n ('אפילוב', 1),\n ('אמאיקאסרת', 1),\n ('ור\"נב', 1),\n ('דנשיאההוה', 1),\n ('בישלהתבואה', 1),\n ('ושיעוריהתנן', 1),\n ('עבהוחזק', 1),\n ('מיקרודאמרינן', 1),\n ('כלידו', 1),\n ('כבדכדאמר', 1),\n ('עצמודתנן', 1),\n ('לזריםכדאמרינן', 1),\n ('שמעוןביבמות', 1),\n ('המתכדאמרינן', 1),\n ('ביורהאחת', 1),\n ('ששמעומפי', 1),\n ('מחזקינןלה', 1),\n ('ליכאלמימר', 1),\n ('(בשחיטתחולין', 1),\n ('להכחישאלא', 1),\n ('הדרבפונדקי', 1),\n ('היא[בב\"ב', 1),\n ('פרסהכדאמר', 1),\n ('רצהלקרות', 1),\n ('אשירהנמי', 1),\n ('עםזו', 1),\n ('-שנחלק', 1),\n ('לחייבשבועה', 1),\n ('בלאהגבהה', 1),\n ('למיכתבאלא', 1),\n ('לעדותשתתקיים', 1),\n ('וצריכהלהיות', 1),\n ('כדתניאבגמרא', 1),\n ('בסקילה-', 1),\n ('שלאיתנם', 1),\n ('לרבנןב', 1),\n ('שולדוראכמו', 1),\n ('כדאמרינןבכתובות', 1),\n ('חזקהכדתנן', 1),\n (\"ור'יוסי\", 1),\n ('-בנדה', 1),\n ('מעםהארץ', 1),\n ('בבהמהתאכלו', 1),\n ('מקראיב', 1),\n ('דדםנפסל', 1),\n ('המרדעב', 1),\n ('כדיליףליה', 1),\n ('והחציו-', 1),\n ('כוכבים-', 1),\n ('הואלנעול', 1),\n ('טהורכדאמר', 1),\n ('אחרתדלאו', 1),\n ('כשהואמחובר', 1),\n ('קדושהליפסל', 1),\n ('מאכולת-', 1),\n ('איןנזרעים', 1),\n ('עלכורחין', 1),\n ('כולןנזרעין', 1),\n ('כיוןדלא', 1),\n ('בנשואהאו', 1),\n ('שרוכביםמעוטפין', 1),\n ('בשעתשחיטה', 1),\n (\"לב'ודוגמתו\", 1),\n ('נחשדוישראל', 1),\n ('קידושאלא', 1),\n ('למזבחכדכתיב', 1),\n ('חמשהמינין', 1),\n ('צפיחיתמניחין', 1),\n ('תמלחואומר', 1),\n ('כנדהוטובל', 1),\n ('קרוייןב', 1),\n ('בעצרתכדאמרינן', 1),\n ('חומרבתרומה', 1),\n ('דמפצעודאי', 1),\n ('אחדאמר', 1),\n ('האדב', 1),\n ('ליהושע-', 1),\n ('יוםהראשון', 1),\n (\"הבאהכו'\", 1),\n ('וישיבהכדאמרן', 1),\n ('מפרשבנזיר', 1),\n ('עושיןסחורה', 1),\n ('פלגא-', 1),\n ('בנויכדאמרינן', 1),\n ('הרבותלמידו', 1),\n (\"כההיאדאמרי'\", 1),\n ('מיחייבוכדתניא', 1),\n ('הוהכדאמר', 1),\n ('בראובגיטין', 1),\n ('מעולםכדאמר', 1),\n ('לאיטמא', 1),\n ('הריתרומתן', 1),\n ('ששתור\"נ', 1),\n ('שלחנותכדתנן', 1),\n ('הקבועב', 1),\n ('אסופידאמר', 1),\n ('האריסחלקו', 1),\n ('שהמשקהמחברן', 1),\n ('ולזרועשם', 1),\n ('באדםבין', 1),\n ('-נפיק', 1),\n ('נדחהמקרבן', 1),\n ('דכריןתנן', 1),\n ('מודה.לקמן', 1),\n ('התםב', 1),\n (\"בפרקונהכדאמרי'\", 1),\n ('שישלו', 1),\n ('י\"בחדש', 1),\n ('(שםכא)', 1),\n ('ואינהנפסלת', 1),\n ('כתיבכדאמרינן', 1),\n ('כתכדאמר', 1),\n ('ובמסכתמנחות', 1),\n ('סימניןכדיליף', 1),\n ('שמעוןאומר', 1),\n ('שהיתהבירושלים', 1),\n ('עלשתיהן', 1),\n ('חייבלאכול', 1),\n ('מייריבפרק', 1),\n ('כלאלה', 1),\n ('קדישב', 1),\n ('עשולהם', 1),\n ('לעילב', 1),\n ('יהודהבזבחים', 1),\n ('יגעב', 1),\n ('שאיןכן', 1),\n ('נקטספיחי', 1),\n ('זכיןלקטן', 1),\n ('דממדינהלמדינה', 1),\n ('כליין', 1),\n ('ופשוטיהןטמאין', 1),\n ('-שנולדה', 1),\n ('ייןמ', 1),\n ('לויה-', 1),\n ('כדתניאביבמות', 1),\n ('כיוצאב', 1),\n ('צועקיןב', 1),\n ('אלאהיא', 1),\n ('בעזרהפעמים', 1),\n ('ת\"כשנים', 1),\n ('היאדתניא', 1),\n (\"אפי'מונח\", 1),\n ('הםבפרק', 1),\n ('בחשאיכדתניא', 1),\n ('-עבודה', 1),\n ('חייבדתנן', 1),\n ('וכןבשניה', 1),\n ('אמרינןטעמא', 1),\n ('לאסגי', 1),\n ('עבודהכדאמר', 1),\n ('איןנדחין', 1),\n ('אבלב', 1),\n ('והואב', 1),\n ('לאפוקהב', 1),\n ('נביאבמנחה', 1),\n (\"מכןכדאמרי'\", 1),\n ('נדהב', 1),\n ('ביןגליל', 1),\n ('בגמראדפסחים', 1),\n ('ונכנסתלתשע', 1),\n ('נותניןאותן', 1),\n ('תנאיהיא', 1),\n ('שהברייתאנשנית', 1),\n (\"ב'משום\", 1),\n ('גיטהכדאמר', 1),\n ('בדרביהודה', 1),\n ('כוכביםהיינו', 1),\n ('ורוצהלשוחטה', 1),\n ('ראשון-', 1),\n ('האםבב\"ב', 1),\n ('אסורלשוחטן', 1),\n ('חילוקמלאכות', 1),\n ('כגוןכה\"ג', 1),\n ('שםהעיר', 1),\n ('דעלכרחך', 1),\n ('חמורכמאכל', 1),\n ('דקראדאוקימנא', 1),\n ('מפרשבב\"ק', 1),\n ('מארבעהכדאמר', 1),\n ('ליהלאוקמי', 1),\n ('ס\"ל-', 1),\n ('אותוכדאמרינן', 1),\n ('וילפינןבסנהדרין', 1),\n ('כבמוחזקכדאמרינן', 1),\n ('דמילתיהב', 1),\n ('ארצותהן', 1),\n ('אדרבנןדאמרי', 1),\n ('דלאנהגא', 1),\n ...]"
     },
     "execution_count": 30,
     "metadata": {},
     "output_type": "execute_result"
    }
   ],
   "source": [
    "bperek_right_neighbors "
   ],
   "metadata": {
    "collapsed": false,
    "ExecuteTime": {
     "end_time": "2024-05-23T20:26:27.670092Z",
     "start_time": "2024-05-23T20:26:27.649168Z"
    }
   },
   "id": "e2b84876ed6f0e0a"
  },
  {
   "cell_type": "code",
   "execution_count": 41,
   "outputs": [
    {
     "ename": "KeyboardInterrupt",
     "evalue": "",
     "output_type": "error",
     "traceback": [
      "\u001B[0;31m---------------------------------------------------------------------------\u001B[0m",
      "\u001B[0;31mKeyboardInterrupt\u001B[0m                         Traceback (most recent call last)",
      "Cell \u001B[0;32mIn[41], line 14\u001B[0m\n\u001B[1;32m     10\u001B[0m \u001B[38;5;28;01mfor\u001B[39;00m c \u001B[38;5;129;01min\u001B[39;00m \u001B[38;5;28mrange\u001B[39m(\u001B[38;5;28mlen\u001B[39m(file[\u001B[38;5;124m'\u001B[39m\u001B[38;5;124mtext\u001B[39m\u001B[38;5;124m'\u001B[39m][d][l])):\n\u001B[1;32m     11\u001B[0m     \u001B[38;5;66;03m# cont = query(file['text'][d][l][c])\u001B[39;00m\n\u001B[1;32m     12\u001B[0m     \u001B[38;5;28;01mfor\u001B[39;00m perek \u001B[38;5;129;01min\u001B[39;00m filtered_perakim:\n\u001B[1;32m     13\u001B[0m         \u001B[38;5;66;03m# if \"במסכת \"+masechet+\" \" in file['text'][d][l][c]:\u001B[39;00m\n\u001B[0;32m---> 14\u001B[0m         cont \u001B[38;5;241m=\u001B[39m \u001B[43mcontains_perek2\u001B[49m\u001B[43m(\u001B[49m\u001B[43mfile\u001B[49m\u001B[43m[\u001B[49m\u001B[38;5;124;43m'\u001B[39;49m\u001B[38;5;124;43mtext\u001B[39;49m\u001B[38;5;124;43m'\u001B[39;49m\u001B[43m]\u001B[49m\u001B[43m[\u001B[49m\u001B[43md\u001B[49m\u001B[43m]\u001B[49m\u001B[43m[\u001B[49m\u001B[43ml\u001B[49m\u001B[43m]\u001B[49m\u001B[43m[\u001B[49m\u001B[43mc\u001B[49m\u001B[43m]\u001B[49m\u001B[43m,\u001B[49m\u001B[43mname\u001B[49m\u001B[43m)\u001B[49m\n\u001B[1;32m     15\u001B[0m         \u001B[38;5;28;01mif\u001B[39;00m cont:\n\u001B[1;32m     16\u001B[0m             strs \u001B[38;5;241m=\u001B[39m file[\u001B[38;5;124m'\u001B[39m\u001B[38;5;124mtext\u001B[39m\u001B[38;5;124m'\u001B[39m][d][l][c]\u001B[38;5;241m.\u001B[39msplit()\n",
      "Cell \u001B[0;32mIn[23], line 2\u001B[0m, in \u001B[0;36mcontains_perek2\u001B[0;34m(text, current_masechet)\u001B[0m\n\u001B[1;32m      1\u001B[0m \u001B[38;5;28;01mdef\u001B[39;00m \u001B[38;5;21mcontains_perek2\u001B[39m(text,current_masechet):\n\u001B[0;32m----> 2\u001B[0m     masechet_perakim\u001B[38;5;241m=\u001B[39m \u001B[43mnew_name_df\u001B[49m\u001B[43m[\u001B[49m\u001B[43mnew_name_df\u001B[49m\u001B[43m[\u001B[49m\u001B[38;5;124;43m\"\u001B[39;49m\u001B[38;5;124;43mEnglish\u001B[39;49m\u001B[38;5;124;43m\"\u001B[39;49m\u001B[43m]\u001B[49m\u001B[38;5;241;43m==\u001B[39;49m\u001B[43mcurrent_masechet\u001B[49m\u001B[43m]\u001B[49m[\u001B[38;5;124m'\u001B[39m\u001B[38;5;124mPerakim\u001B[39m\u001B[38;5;124m'\u001B[39m]\u001B[38;5;241m.\u001B[39mvalues[\u001B[38;5;241m0\u001B[39m]\u001B[38;5;241m.\u001B[39msplit(\u001B[38;5;124m\"\u001B[39m\u001B[38;5;124m, \u001B[39m\u001B[38;5;124m\"\u001B[39m)\n\u001B[1;32m      3\u001B[0m     filtered_perakim \u001B[38;5;241m=\u001B[39m [name \u001B[38;5;28;01mfor\u001B[39;00m name \u001B[38;5;129;01min\u001B[39;00m perek_names \u001B[38;5;28;01mif\u001B[39;00m name \u001B[38;5;129;01mnot\u001B[39;00m \u001B[38;5;129;01min\u001B[39;00m masechet_perakim]\n\u001B[1;32m      4\u001B[0m     \u001B[38;5;28;01mfor\u001B[39;00m name \u001B[38;5;129;01min\u001B[39;00m filtered_perakim:\n",
      "File \u001B[0;32m~/miniconda3/envs/Rashi Thesis work/lib/python3.10/site-packages/pandas/core/frame.py:3752\u001B[0m, in \u001B[0;36mDataFrame.__getitem__\u001B[0;34m(self, key)\u001B[0m\n\u001B[1;32m   3750\u001B[0m \u001B[38;5;66;03m# Do we have a (boolean) 1d indexer?\u001B[39;00m\n\u001B[1;32m   3751\u001B[0m \u001B[38;5;28;01mif\u001B[39;00m com\u001B[38;5;241m.\u001B[39mis_bool_indexer(key):\n\u001B[0;32m-> 3752\u001B[0m     \u001B[38;5;28;01mreturn\u001B[39;00m \u001B[38;5;28;43mself\u001B[39;49m\u001B[38;5;241;43m.\u001B[39;49m\u001B[43m_getitem_bool_array\u001B[49m\u001B[43m(\u001B[49m\u001B[43mkey\u001B[49m\u001B[43m)\u001B[49m\n\u001B[1;32m   3754\u001B[0m \u001B[38;5;66;03m# We are left with two options: a single key, and a collection of keys,\u001B[39;00m\n\u001B[1;32m   3755\u001B[0m \u001B[38;5;66;03m# We interpret tuples as collections only for non-MultiIndex\u001B[39;00m\n\u001B[1;32m   3756\u001B[0m is_single_key \u001B[38;5;241m=\u001B[39m \u001B[38;5;28misinstance\u001B[39m(key, \u001B[38;5;28mtuple\u001B[39m) \u001B[38;5;129;01mor\u001B[39;00m \u001B[38;5;129;01mnot\u001B[39;00m is_list_like(key)\n",
      "File \u001B[0;32m~/miniconda3/envs/Rashi Thesis work/lib/python3.10/site-packages/pandas/core/frame.py:3811\u001B[0m, in \u001B[0;36mDataFrame._getitem_bool_array\u001B[0;34m(self, key)\u001B[0m\n\u001B[1;32m   3808\u001B[0m     \u001B[38;5;28;01mreturn\u001B[39;00m \u001B[38;5;28mself\u001B[39m\u001B[38;5;241m.\u001B[39mcopy(deep\u001B[38;5;241m=\u001B[39m\u001B[38;5;28;01mNone\u001B[39;00m)\n\u001B[1;32m   3810\u001B[0m indexer \u001B[38;5;241m=\u001B[39m key\u001B[38;5;241m.\u001B[39mnonzero()[\u001B[38;5;241m0\u001B[39m]\n\u001B[0;32m-> 3811\u001B[0m \u001B[38;5;28;01mreturn\u001B[39;00m \u001B[38;5;28;43mself\u001B[39;49m\u001B[38;5;241;43m.\u001B[39;49m\u001B[43m_take_with_is_copy\u001B[49m\u001B[43m(\u001B[49m\u001B[43mindexer\u001B[49m\u001B[43m,\u001B[49m\u001B[43m \u001B[49m\u001B[43maxis\u001B[49m\u001B[38;5;241;43m=\u001B[39;49m\u001B[38;5;241;43m0\u001B[39;49m\u001B[43m)\u001B[49m\n",
      "File \u001B[0;32m~/miniconda3/envs/Rashi Thesis work/lib/python3.10/site-packages/pandas/core/generic.py:3950\u001B[0m, in \u001B[0;36mNDFrame._take_with_is_copy\u001B[0;34m(self, indices, axis)\u001B[0m\n\u001B[1;32m   3948\u001B[0m result \u001B[38;5;241m=\u001B[39m \u001B[38;5;28mself\u001B[39m\u001B[38;5;241m.\u001B[39m_take(indices\u001B[38;5;241m=\u001B[39mindices, axis\u001B[38;5;241m=\u001B[39maxis)\n\u001B[1;32m   3949\u001B[0m \u001B[38;5;66;03m# Maybe set copy if we didn't actually change the index.\u001B[39;00m\n\u001B[0;32m-> 3950\u001B[0m \u001B[38;5;28;01mif\u001B[39;00m \u001B[38;5;129;01mnot\u001B[39;00m \u001B[43mresult\u001B[49m\u001B[38;5;241;43m.\u001B[39;49m\u001B[43m_get_axis\u001B[49m\u001B[43m(\u001B[49m\u001B[43maxis\u001B[49m\u001B[43m)\u001B[49m\u001B[38;5;241;43m.\u001B[39;49m\u001B[43mequals\u001B[49m\u001B[43m(\u001B[49m\u001B[38;5;28;43mself\u001B[39;49m\u001B[38;5;241;43m.\u001B[39;49m\u001B[43m_get_axis\u001B[49m\u001B[43m(\u001B[49m\u001B[43maxis\u001B[49m\u001B[43m)\u001B[49m\u001B[43m)\u001B[49m:\n\u001B[1;32m   3951\u001B[0m     result\u001B[38;5;241m.\u001B[39m_set_is_copy(\u001B[38;5;28mself\u001B[39m)\n\u001B[1;32m   3952\u001B[0m \u001B[38;5;28;01mreturn\u001B[39;00m result\n",
      "File \u001B[0;32m~/miniconda3/envs/Rashi Thesis work/lib/python3.10/site-packages/pandas/core/indexes/base.py:5399\u001B[0m, in \u001B[0;36mIndex.equals\u001B[0;34m(self, other)\u001B[0m\n\u001B[1;32m   5395\u001B[0m \u001B[38;5;28;01mif\u001B[39;00m is_extension_array_dtype(other\u001B[38;5;241m.\u001B[39mdtype):\n\u001B[1;32m   5396\u001B[0m     \u001B[38;5;66;03m# All EA-backed Index subclasses override equals\u001B[39;00m\n\u001B[1;32m   5397\u001B[0m     \u001B[38;5;28;01mreturn\u001B[39;00m other\u001B[38;5;241m.\u001B[39mequals(\u001B[38;5;28mself\u001B[39m)\n\u001B[0;32m-> 5399\u001B[0m \u001B[38;5;28;01mreturn\u001B[39;00m \u001B[43marray_equivalent\u001B[49m\u001B[43m(\u001B[49m\u001B[38;5;28;43mself\u001B[39;49m\u001B[38;5;241;43m.\u001B[39;49m\u001B[43m_values\u001B[49m\u001B[43m,\u001B[49m\u001B[43m \u001B[49m\u001B[43mother\u001B[49m\u001B[38;5;241;43m.\u001B[39;49m\u001B[43m_values\u001B[49m\u001B[43m)\u001B[49m\n",
      "\u001B[0;31mKeyboardInterrupt\u001B[0m: "
     ]
    }
   ],
   "source": [
    "dist=1\n",
    "results = []\n",
    "for name in rashi_masechtot:\n",
    "    file = get_rashi_file(name)\n",
    "    if file:\n",
    "        masechet_perakim= new_name_df[new_name_df[\"English\"]==name]['Perakim'].values[0].split(\", \")\n",
    "        filtered_perakim = [name for name in perek_names if name not in masechet_perakim]\n",
    "        for d in range(len(file['text'])):\n",
    "            for l in range(len(file['text'][d])):\n",
    "                for c in range(len(file['text'][d][l])):\n",
    "                    # cont = query(file['text'][d][l][c])\n",
    "                    for perek in filtered_perakim:\n",
    "                        # if \"במסכת \"+masechet+\" \" in file['text'][d][l][c]:\n",
    "                        cont = contains_perek2(file['text'][d][l][c],name)\n",
    "                        if cont:\n",
    "                            strs = file['text'][d][l][c].split()\n",
    "                            words = file['text'][d][l][c].split()\n",
    "                            words1 = [strs[0].split(), strs[1].split()]\n",
    "                            if len(words1[1]) > dist:\n",
    "                                neighbor = \"\".join(words1[1][:dist])\n",
    "                                results.append(\"\".join(words1[1][:dist]))\n",
    "# map to frequency\n",
    "res_set = set(results)\n",
    "freq = {}\n",
    "for res in res_set:\n",
    "    freq[res] = results.count(res)\n",
    "freq = sorted(freq.items(), key=lambda x: x[1], reverse=True)"
   ],
   "metadata": {
    "collapsed": false,
    "ExecuteTime": {
     "end_time": "2024-05-27T16:01:11.568212Z",
     "start_time": "2024-05-27T16:00:51.942745Z"
    }
   },
   "id": "42d316f63130ccac"
  },
  {
   "cell_type": "code",
   "execution_count": 40,
   "outputs": [
    {
     "data": {
      "text/plain": "[]"
     },
     "execution_count": 40,
     "metadata": {},
     "output_type": "execute_result"
    }
   ],
   "source": [
    "results"
   ],
   "metadata": {
    "collapsed": false,
    "ExecuteTime": {
     "end_time": "2024-05-27T15:41:35.461008Z",
     "start_time": "2024-05-27T15:41:35.222383Z"
    }
   },
   "id": "edc8d40009734bd5"
  },
  {
   "cell_type": "code",
   "execution_count": null,
   "outputs": [],
   "source": [],
   "metadata": {
    "collapsed": false
   },
   "id": "ec76eb443d41b70e"
  }
 ],
 "metadata": {
  "kernelspec": {
   "display_name": "Python 3",
   "language": "python",
   "name": "python3"
  },
  "language_info": {
   "codemirror_mode": {
    "name": "ipython",
    "version": 2
   },
   "file_extension": ".py",
   "mimetype": "text/x-python",
   "name": "python",
   "nbconvert_exporter": "python",
   "pygments_lexer": "ipython2",
   "version": "2.7.6"
  }
 },
 "nbformat": 4,
 "nbformat_minor": 5
}
